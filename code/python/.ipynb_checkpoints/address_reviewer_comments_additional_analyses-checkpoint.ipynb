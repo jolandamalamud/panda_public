{
 "cells": [
  {
   "cell_type": "code",
   "execution_count": 1,
   "metadata": {},
   "outputs": [],
   "source": [
    "import numpy as np\n",
    "import pandas as pd\n",
    "from plotting import Plotting\n",
    "from loading_preparing_data import PrepData\n",
    "from gng_statistics import GNGstats\n",
    "import statsmodels.formula.api as smf\n",
    "import scipy"
   ]
  },
  {
   "cell_type": "code",
   "execution_count": 2,
   "metadata": {},
   "outputs": [],
   "source": [
    "# Set the file path\n",
    "filepath = '../../'\n",
    "\n",
    "# Create an instance of the PrepData class\n",
    "prepdata = PrepData('panda', filepath, ['gad', 'phq', 'bdi'])\n",
    "# Create an instance of the GNGstats class\n",
    "gngstats = GNGstats()\n",
    "# Create an instance of the Plotting class\n",
    "plotting = Plotting('panda')\n",
    "\n",
    "# Load raw task data\n",
    "D = prepdata.load_data()\n",
    "# Prepare action choices for plotting\n",
    "data = prepdata.extract_data(D)\n",
    "# Load model fits\n",
    "modelling = prepdata.load_modelfits()\n",
    "\n",
    "# Load rct data\n",
    "dfRCT = prepdata.load_rctdata(filepath + 'data/trial_data/gng_panda_data_extended.csv')\n",
    "\n",
    "# Set the file path for saving figures related to the paper\n",
    "figpath = filepath + 'results/paper_figures/'"
   ]
  },
  {
   "cell_type": "code",
   "execution_count": 3,
   "metadata": {},
   "outputs": [],
   "source": [
    "# Define all variables of interest from RCT\n",
    "baseline_vars = ['site', 'cis', 'dep', 'age', 'education', 'AD_past', 'sex', 'ethnic', \\\n",
    "                 'fin', 'empstat', 'marstat', 'cisscore', 'medication', 'antidepressant', 'therapy']\n",
    "\n",
    "# Questionnaire variables which need to be log-transformed\n",
    "log_transfer = [i + '0' for i in prepdata.psychiatric_questionnaire] + [i for i in dfRCT.columns if 'anh' in i]\n",
    "\n",
    "# Create DataFrame\n",
    "df_panda = prepdata.create_df(data, modelling, dfRCT, log_transfer)\n",
    "df_panda = df_panda.astype(float)"
   ]
  },
  {
   "cell_type": "code",
   "execution_count": 4,
   "metadata": {},
   "outputs": [],
   "source": [
    "# Define covariates for further analyses\n",
    "stratification_covariates = '+ site + dep + cis'\n",
    "exclusion_covariates = '+ age + education + AD_past + empstat'"
   ]
  },
  {
   "cell_type": "code",
   "execution_count": 5,
   "metadata": {},
   "outputs": [],
   "source": [
    "# Compute change in parameter estimates\n",
    "df_change_list = []\n",
    "x = np.arange(3)\n",
    "for i in prepdata.parameter_labels:\n",
    "    # between baseline and week 2\n",
    "    df_change_list.append(pd.DataFrame({i + '_slope01': df_panda[i + '1'] - df_panda[i + '0']}))\n",
    "    # between week 2 and week 6\n",
    "    df_change_list.append(pd.DataFrame({i + '_slope12': df_panda[i + '2'] - df_panda[i + '1']}))\n",
    "    # Compute slope over time points for each subject\n",
    "    slope_list=[]\n",
    "    for sj in range(len(df_panda)):\n",
    "        y = df_panda[[i + str(0), i + str(1), i + str(2)]].iloc[sj]\n",
    "        idx = ~y.isna()\n",
    "        if sum(idx) > 1:\n",
    "            slope_list.append(np.polyfit(x[idx],y[idx],1)[0])\n",
    "        else:\n",
    "            slope_list.append(np.nan)\n",
    "    slope_column = pd.DataFrame({i + '_slope': slope_list})\n",
    "    df_change_list.append(slope_column)\n",
    "\n",
    "# # Concatenate all DataFrames in the list\n",
    "df_panda = pd.concat([df_panda] + df_change_list, axis=1)\n",
    "df_panda = df_panda.astype(float)"
   ]
  },
  {
   "cell_type": "markdown",
   "metadata": {},
   "source": [
    "---------------------------------------------------------------------------------------------------------------\n",
    "MIXED EFFECTS MODELLING\n",
    "--------------------------------------------------------------------------------------------------------"
   ]
  },
  {
   "cell_type": "code",
   "execution_count": 6,
   "metadata": {},
   "outputs": [],
   "source": [
    "import warnings\n",
    "from statsmodels.tools.sm_exceptions import ConvergenceWarning\n",
    "warnings.simplefilter('ignore', ConvergenceWarning)\n",
    "warnings.simplefilter(action='ignore', category=pd.errors.PerformanceWarning)"
   ]
  },
  {
   "cell_type": "code",
   "execution_count": 7,
   "metadata": {},
   "outputs": [],
   "source": [
    "# create dataframe for mixed-effects modelling\n",
    "mle_df = prepdata.create_mle_df(df_panda, prepdata.gng_variables + prepdata.parameter_labels, baseline_vars + ['phq0', 'gad0'])\n",
    "for i in prepdata.psychiatric_questionnaire + ['anh']:\n",
    "    mle_df[i + 'log'] = np.hstack((df_panda[i + '0log'],df_panda[i + '1log'],df_panda[i + '2log']))\n",
    "mle_df['tablet'] = np.hstack((np.zeros(len(df_panda)), df_panda['tablet1'],df_panda['tablet2']))\n",
    "mle_df['morisky'] = np.hstack((np.zeros(len(df_panda)), df_panda['adaptmorisky1'],df_panda['adaptmorisky2']))\n",
    "for i in mle_df.columns:\n",
    "    mle_df[i + '_zscore'] = gngstats.normalize(mle_df[i])"
   ]
  },
  {
   "cell_type": "code",
   "execution_count": 45,
   "metadata": {},
   "outputs": [],
   "source": [
    "def calculate_preregistered_hypothesis(mle_df: pd.DataFrame(), df: pd.DataFrame(), subsample: pd.DataFrame(), covariates: list):\n",
    "    \n",
    "    included_subjects = mle_df['exclusion']==0\n",
    "    timing = [mle_df['time']<2, (mle_df['time']==0)|(mle_df['time']==2), mle_df['time']<3]\n",
    "    timing_label = ['2','6','over time', 'time x group']\n",
    "    \n",
    "    print('\\nH1: aversive Pav related to sertraline?')\n",
    "    p = 'av_Pav'\n",
    "    tmp = (df['exclusion0']==0)&subsample[:len(df)]\n",
    "    print('T = 0, placebo: ' + str(np.round(df[p + '0'][tmp&(df['group']==0)].mean(),2)) + '(' \\\n",
    "          + str(np.round(scipy.stats.sem(df[p + '0'][tmp&(df['group']==0)]),2)) + ') sertraline: ' \\\n",
    "          + str(np.round(df[p + '0'][tmp&(df['group']==1)].mean(),2)) + '(' \\\n",
    "          + str(np.round(scipy.stats.sem(df[p + '0'][tmp&(df['group']==1)]),2)) +')')\n",
    "    for i in range(2):\n",
    "        tmp = (df['exclusion'+str(i+1)]==0)&subsample[:len(df)]\n",
    "        print('T = '+timing_label[i]+', placebo: ' + str(np.round(df[p + str(i+1)][tmp&(df['group']==0)].mean(),2)) + '(' \\\n",
    "          + str(np.round(scipy.stats.sem(df[p + str(i+1)][tmp&(df['group']==0)]),2)) + ') sertraline: ' \\\n",
    "          + str(np.round(df[p + str(i+1)][tmp&(df['group']==1)].mean(),2)) + '(' \\\n",
    "          + str(np.round(scipy.stats.sem(df[p + str(i+1)][tmp&(df['group']==1)]),2)) +')', end='\\t')\n",
    "        gngstats.mle(p + ' ~ group + time' + covariates, mle_df[timing[i]&included_subjects&subsample], \\\n",
    "                     ['group'],[])\n",
    "\n",
    "    print('over time', end='\\t\\t\\t\\t\\t')\n",
    "    gngstats.mle(p + ' ~ group + time' + covariates, \\\n",
    "               mle_df[included_subjects&subsample], ['group'],[])\n",
    "\n",
    "    print('time group interaction', end='\\t\\t\\t\\t')\n",
    "    gngstats.mle(p + ' ~ group * time' + covariates, \\\n",
    "               mle_df[included_subjects&subsample], ['group:time'],[]);\n",
    "    \n",
    "    print('\\nH2: aversive Pav related to anxiety?')\n",
    "    for i in range(3):\n",
    "        tmp = mle_df[timing[i]&included_subjects&subsample]\n",
    "        print(timing_label[i] + ':', end='\\t')\n",
    "        gngstats.mle('gadlog ~ ' + p + ' + group + time' + covariates, \\\n",
    "                   tmp, [p], p) \n",
    "        \n",
    "    print('\\nH4: can baseline aversive Pav predict anxiety at week 12?')\n",
    "    p = 'av_Pav0'\n",
    "    covariates_reduced = covariates.replace(\"+ morisky + tablet\",\"\")\n",
    "    gngstats.glm('gad3log ~ ' + p + ' + gad0log + group ' + covariates_reduced, \\\n",
    "               df[(df['exclusion0']==0)&subsample[:len(df)]].astype(float), [p]);\n",
    "    \n",
    "    print('\\nH5: appetitive Pav related to anxiety?')\n",
    "    p = 'app_Pav'\n",
    "    for i in range(3):\n",
    "        tmp = mle_df[timing[i]&included_subjects&subsample]\n",
    "        print(timing_label[i] + ':', end='\\t')\n",
    "        gngstats.mle('phqlog ~ ' + p + ' + group + time' + covariates, \\\n",
    "                   tmp, [p], p)\n",
    "\n",
    "    print('\\nH6: reward sensitivity related to anhedonia?')\n",
    "    p = 'rew_se'\n",
    "    for i in range(3):\n",
    "        tmp = mle_df[timing[i]&included_subjects&subsample]\n",
    "        print(timing_label[i] + ':', end='\\t')\n",
    "        gngstats.mle('anhlog ~ ' + p + ' + group + time' + covariates, \\\n",
    "            tmp, [p], p)"
   ]
  },
  {
   "cell_type": "code",
   "execution_count": 46,
   "metadata": {},
   "outputs": [],
   "source": [
    "def calculate_exploratory_stats(mle_df: pd.DataFrame(), df_panda, subsample: pd.DataFrame(), covariates: list):\n",
    "    \n",
    "    included_subjects = mle_df['exclusion']==0\n",
    "    \n",
    "    print('\\n1: drug effect on loss learning rate at week 2')\n",
    "    gngstats.mle('loss_LR ~ group + time' + covariates, \\\n",
    "               mle_df[(mle_df['time']<2)&included_subjects&np.tile(subsample,3)], ['group'],[])\n",
    "    \n",
    "    print('\\n2: drug effect on change in loss learning rate between baseline and week 2')\n",
    "    covariates_adjust = covariates.replace(\"+ morisky + tablet\",\"+ adaptmorisky1 + tablet1\")\n",
    "    gngstats.glm('loss_LR_slope01 ~ group' + covariates_adjust, \\\n",
    "                            df_panda[(df_panda[['exclusion0',\\\n",
    "                                                'exclusion1']] == 0).all(axis=1)&subsample], ['group'])\n",
    "    \n",
    "    print('\\n3: loss learing rate related to anxiety over time')\n",
    "    gngstats.mle('gadlog ~ loss_LR + group + time' + covariates, \\\n",
    "               mle_df[included_subjects&np.tile(subsample,3)], ['loss_LR'],[])\n",
    "    \n",
    "    print('\\n4: change in aversive Pavlovian bias predicting treatment outcome')\n",
    "    p = 'av_Pav'\n",
    "    j = 'bdi'\n",
    "    gngstats.glm(j + '3log ~' + p + '_slope01 + ' + j + '0log + group' + covariates_adjust, \\\n",
    "                 df_panda[(df_panda[['exclusion0', 'exclusion1']] == 0).all(axis=1)&subsample], \\\n",
    "               [p + '_slope01'])\n",
    "    gngstats.glm(j + '3log ~' + p + '_slope01 * group +' +  j + '0log' + covariates_adjust, \\\n",
    "                 df_panda[(df_panda[['exclusion0', 'exclusion1']] == 0).all(axis=1)&subsample], \\\n",
    "               [p + '_slope01:group'])\n",
    "    print('-' * 100)\n",
    "    for i in range(2):\n",
    "        print(['placebo','sertraline'][i], end=': ')\n",
    "        gngstats.glm(j + '3log ~' + p + '_slope01 +' +  j + '0log' + covariates_adjust, \\\n",
    "                     df_panda[(df_panda['group'] == i) & \\\n",
    "                              (df_panda[['exclusion0', 'exclusion1']] == 0).all(axis=1)&subsample], \\\n",
    "                   [p + '_slope01'])"
   ]
  },
  {
   "cell_type": "markdown",
   "metadata": {},
   "source": [
    "Analyses on subsamples\n",
    "----"
   ]
  },
  {
   "cell_type": "markdown",
   "metadata": {},
   "source": [
    "1) Subsample with mild symptoms (baseline PHQ-9 < 10)\n",
    "--"
   ]
  },
  {
   "cell_type": "code",
   "execution_count": 47,
   "metadata": {},
   "outputs": [
    {
     "name": "stdout",
     "output_type": "stream",
     "text": [
      "number of patients with mild depression: 161 (37.0%)\n"
     ]
    }
   ],
   "source": [
    "mild_depression = mle_df['phq0']<10\n",
    "included_subjects = mle_df['exclusion']==0\n",
    "number_mild_depression_incl = len(mle_df['subject'][included_subjects&mild_depression].unique())\n",
    "print('number of patients with mild depression: ' + \\\n",
    "      str(number_mild_depression_incl) + ' (' +  \\\n",
    "      str(np.round((number_mild_depression_incl/len(mle_df['subject'][included_subjects].unique())*100))) + '%)')\n",
    "\n",
    "covariates = stratification_covariates + exclusion_covariates"
   ]
  },
  {
   "cell_type": "code",
   "execution_count": 48,
   "metadata": {},
   "outputs": [
    {
     "name": "stdout",
     "output_type": "stream",
     "text": [
      "\n",
      "H1: aversive Pav related to sertraline?\n",
      "T = 0, placebo: -0.53(0.13) sertraline: -0.6(0.1)\n",
      "T = 2, placebo: -0.49(0.11) sertraline: -0.77(0.09)\tgroup: \tbeta: -0.23,\tCI: [-0.51,0.05],\tpvalue: 0.1033\n",
      "T = 6, placebo: -0.83(0.12) sertraline: -0.86(0.11)\tgroup: \tbeta: -0.02,\tCI: [-0.33,0.3],\tpvalue: 0.9113\n",
      "over time\t\t\t\t\tgroup: \tbeta: -0.09,\tCI: [-0.3,0.12],\tpvalue: 0.4071\n",
      "time group interaction\t\t\t\tgroup:time: \tbeta: -0.0,\tCI: [-0.28,0.28],\tpvalue: 0.995\n",
      "\n",
      "H2: aversive Pav related to anxiety?\n",
      "2:\tav_Pav: \tbeta: -0.02,\tCI: [-0.07,0.03],\tpvalue: 0.4231\n",
      "6:\tmodel not converged -> random effects removed:\n",
      "av_Pav: \tbeta: -0.03,\tCI: [-0.07,0.02],\tpvalue: 0.2802\n",
      "over time:\tav_Pav: \tbeta: -0.03,\tCI: [-0.07,0.02],\tpvalue: 0.2188\n",
      "\n",
      "H4: can baseline aversive Pav predict anxiety at week 12?\n",
      "av_Pav0: \tbeta: -0.05,\tCI: [-0.13,0.03],\tpvalue: 0.2467\n",
      "\n",
      "H5: appetitive Pav related to anxiety?\n",
      "2:\tmodel not converged -> random effects removed:\n",
      "app_Pav: \tbeta: -0.04,\tCI: [-0.1,0.01],\tpvalue: 0.127\n",
      "6:\tapp_Pav: \tbeta: -0.06,\tCI: [-0.12,0.01],\tpvalue: 0.0772\n",
      "over time:\tapp_Pav: \tbeta: -0.04,\tCI: [-0.09,0.01],\tpvalue: 0.1284\n",
      "\n",
      "H6: reward sensitivity related to anhedonia?\n",
      "2:\tmodel not converged -> random effects removed:\n",
      "rew_se: \tbeta: 0.02,\tCI: [-0.05,0.09],\tpvalue: 0.6171\n",
      "6:\trew_se: \tbeta: 0.02,\tCI: [-0.05,0.09],\tpvalue: 0.6215\n",
      "over time:\trew_se: \tbeta: 0.03,\tCI: [-0.03,0.1],\tpvalue: 0.3069\n"
     ]
    }
   ],
   "source": [
    "calculate_preregistered_hypothesis(mle_df, df_panda, mild_depression, covariates)"
   ]
  },
  {
   "cell_type": "code",
   "execution_count": 12,
   "metadata": {},
   "outputs": [
    {
     "name": "stdout",
     "output_type": "stream",
     "text": [
      "\n",
      "1: drug effect on loss learning rate at week 2\n",
      "group: \tbeta: 0.86,\tCI: [0.31,1.42],\tpvalue: 0.0024\n",
      "\n",
      "2: drug effect on change in loss learning rate between baseline and week 2\n",
      "group: \tbeta: 0.62,\tCI: [-0.33,1.56],\tpvalue: 0.2002\n",
      "\n",
      "3: loss learing rate related to anxiety over time\n",
      "loss_LR: \tbeta: 0.02,\tCI: [-0.0,0.03],\tpvalue: 0.1122\n",
      "\n",
      "4: change in aversive Pavlovian bias predicting treatment outcome\n",
      "av_Pav_slope01: \tbeta: 0.02,\tCI: [-0.08,0.11],\tpvalue: 0.7034\n",
      "av_Pav_slope01:group: \tbeta: 0.23,\tCI: [0.04,0.42],\tpvalue: 0.0172\n",
      "----------------------------------------------------------------------------------------------------\n",
      "placebo: av_Pav_slope01: \tbeta: -0.12,\tCI: [-0.26,0.02],\tpvalue: 0.0966\n",
      "sertraline: av_Pav_slope01: \tbeta: 0.12,\tCI: [-0.02,0.25],\tpvalue: 0.0849\n"
     ]
    }
   ],
   "source": [
    "calculate_exploratory_stats(mle_df, df_panda, df_panda['phq0']<10, covariates)"
   ]
  },
  {
   "cell_type": "markdown",
   "metadata": {},
   "source": [
    "2. Subsample with absolute parameter change in Pavlovian bias < 0.5\n",
    "--"
   ]
  },
  {
   "cell_type": "code",
   "execution_count": 49,
   "metadata": {},
   "outputs": [
    {
     "data": {
      "text/plain": [
       "<Axes: >"
      ]
     },
     "execution_count": 49,
     "metadata": {},
     "output_type": "execute_result"
    },
    {
     "data": {
      "image/png": "[encoded data removed]",
      "text/plain": [
       "<Figure size 640x480 with 1 Axes>"
      ]
     },
     "metadata": {},
     "output_type": "display_data"
    }
   ],
   "source": [
    "df_panda['av_Pav_slope'].hist()"
   ]
  },
  {
   "cell_type": "code",
   "execution_count": 50,
   "metadata": {},
   "outputs": [
    {
     "name": "stdout",
     "output_type": "stream",
     "text": [
      "number of patients with small parameter change: 127 (29.0%)\n"
     ]
    }
   ],
   "source": [
    "# small_parameter_change = (np.abs(df_panda[['av_Pav_slope01', 'av_Pav_slope12']]) < 1).all(axis=1)\n",
    "included_subjects = mle_df['exclusion']==0\n",
    "small_parameter_change = np.abs(df_panda['av_Pav_slope']) < 0.2\n",
    "small_parameter_change_incl = len(mle_df['subject'][included_subjects&np.tile(small_parameter_change,3)].unique())\n",
    "print('number of patients with small parameter change: ' + \\\n",
    "      str(small_parameter_change_incl) + ' (' +  \\\n",
    "      str(np.round((small_parameter_change_incl/len(mle_df['subject'][included_subjects].unique())*100))) + '%)')\n",
    "\n",
    "covariates = stratification_covariates + exclusion_covariates"
   ]
  },
  {
   "cell_type": "code",
   "execution_count": 52,
   "metadata": {},
   "outputs": [
    {
     "name": "stdout",
     "output_type": "stream",
     "text": [
      "\n",
      "H1: aversive Pav related to sertraline?\n",
      "T = 0, placebo: -0.61(0.12) sertraline: -0.7(0.11)\n",
      "T = 2, placebo: -0.6(0.1) sertraline: -0.76(0.12)\tgroup: \tbeta: -0.15,\tCI: [-0.4,0.09],\tpvalue: 0.2184\n",
      "T = 6, placebo: -0.66(0.12) sertraline: -0.68(0.1)\tgroup: \tbeta: -0.03,\tCI: [-0.14,0.09],\tpvalue: 0.6231\n",
      "over time\t\t\t\t\tgroup: \tbeta: -0.09,\tCI: [-0.26,0.08],\tpvalue: 0.2869\n",
      "time group interaction\t\t\t\tgroup:time: \tbeta: 0.03,\tCI: [-0.16,0.22],\tpvalue: 0.7549\n",
      "\n",
      "H2: aversive Pav related to anxiety?\n",
      "2:\tav_Pav: \tbeta: 0.02,\tCI: [-0.04,0.07],\tpvalue: 0.5393\n",
      "6:\tmodel not converged -> random effects removed:\n",
      "av_Pav: \tbeta: -0.03,\tCI: [-0.09,0.03],\tpvalue: 0.3766\n",
      "over time:\tav_Pav: \tbeta: -0.01,\tCI: [-0.06,0.04],\tpvalue: 0.7462\n",
      "\n",
      "H4: can baseline aversive Pav predict anxiety at week 12?\n",
      "av_Pav0: \tbeta: -0.01,\tCI: [-0.12,0.1],\tpvalue: 0.8809\n",
      "\n",
      "H5: appetitive Pav related to anxiety?\n",
      "2:\tapp_Pav: \tbeta: 0.01,\tCI: [-0.04,0.07],\tpvalue: 0.6349\n",
      "6:\tmodel not converged -> random effects removed:\n",
      "app_Pav: \tbeta: 0.0,\tCI: [-0.07,0.07],\tpvalue: 0.9894\n",
      "over time:\tapp_Pav: \tbeta: 0.01,\tCI: [-0.04,0.06],\tpvalue: 0.6301\n",
      "\n",
      "H6: reward sensitivity related to anhedonia?\n",
      "2:\trew_se: \tbeta: -0.01,\tCI: [-0.11,0.08],\tpvalue: 0.7655\n",
      "6:\trew_se: \tbeta: -0.01,\tCI: [-0.11,0.09],\tpvalue: 0.8506\n",
      "over time:\tmodel not converged -> random effects removed:\n",
      "rew_se: \tbeta: -0.02,\tCI: [-0.11,0.07],\tpvalue: 0.6652\n"
     ]
    }
   ],
   "source": [
    "calculate_preregistered_hypothesis(mle_df, df_panda, np.tile(small_parameter_change,3), covariates)"
   ]
  },
  {
   "cell_type": "code",
   "execution_count": 53,
   "metadata": {},
   "outputs": [
    {
     "name": "stdout",
     "output_type": "stream",
     "text": [
      "\n",
      "1: drug effect on loss learning rate at week 2\n",
      "group: \tbeta: 0.3,\tCI: [-0.32,0.91],\tpvalue: 0.3438\n",
      "\n",
      "2: drug effect on change in loss learning rate between baseline and week 2\n",
      "group: \tbeta: 0.64,\tCI: [-0.24,1.53],\tpvalue: 0.1532\n",
      "\n",
      "3: loss learing rate related to anxiety over time\n",
      "loss_LR: \tbeta: 0.01,\tCI: [-0.01,0.03],\tpvalue: 0.1803\n",
      "\n",
      "4: change in aversive Pavlovian bias predicting treatment outcome\n",
      "av_Pav_slope01: \tbeta: 0.13,\tCI: [0.0,0.25],\tpvalue: 0.0485\n",
      "av_Pav_slope01:group: \tbeta: 0.25,\tCI: [0.01,0.48],\tpvalue: 0.0388\n",
      "----------------------------------------------------------------------------------------------------\n",
      "placebo: av_Pav_slope01: \tbeta: -0.02,\tCI: [-0.2,0.15],\tpvalue: 0.7846\n",
      "sertraline: av_Pav_slope01: \tbeta: 0.23,\tCI: [0.01,0.45],\tpvalue: 0.045\n"
     ]
    }
   ],
   "source": [
    "calculate_exploratory_stats(mle_df, df_panda, small_parameter_change, covariates)"
   ]
  },
  {
   "cell_type": "markdown",
   "metadata": {},
   "source": [
    "3. Subsample with severe symptoms (baseline PHQ-9 > 15)\n",
    "--"
   ]
  },
  {
   "cell_type": "code",
   "execution_count": 54,
   "metadata": {},
   "outputs": [
    {
     "name": "stdout",
     "output_type": "stream",
     "text": [
      "number of patients with severe depression: 125 (29.0%)\n"
     ]
    }
   ],
   "source": [
    "severe_depression = mle_df['phq0']>15\n",
    "number_mild_depression_incl = len(mle_df['subject'][included_subjects&severe_depression].unique())\n",
    "print('number of patients with severe depression: ' + \\\n",
    "      str(number_mild_depression_incl) + ' (' +  \\\n",
    "      str(np.round((number_mild_depression_incl/len(mle_df['subject'][included_subjects].unique())*100))) + '%)')\n",
    "\n",
    "covariates = stratification_covariates + exclusion_covariates"
   ]
  },
  {
   "cell_type": "code",
   "execution_count": 56,
   "metadata": {},
   "outputs": [
    {
     "name": "stdout",
     "output_type": "stream",
     "text": [
      "\n",
      "H1: aversive Pav related to sertraline?\n",
      "T = 0, placebo: -0.45(0.14) sertraline: -0.59(0.1)\n",
      "T = 2, placebo: -0.48(0.13) sertraline: -0.73(0.13)\tgroup: \tbeta: -0.13,\tCI: [-0.48,0.23],\tpvalue: 0.4911\n",
      "T = 6, placebo: -0.52(0.15) sertraline: -0.7(0.14)\tgroup: \tbeta: -0.12,\tCI: [-0.47,0.24],\tpvalue: 0.5171\n",
      "over time\t\t\t\t\tgroup: \tbeta: -0.13,\tCI: [-0.39,0.14],\tpvalue: 0.3375\n",
      "time group interaction\t\t\t\tgroup:time: \tbeta: 0.0,\tCI: [-0.35,0.35],\tpvalue: 0.9937\n",
      "\n",
      "H2: aversive Pav related to anxiety?\n",
      "2:\tav_Pav: \tbeta: -0.01,\tCI: [-0.05,0.02],\tpvalue: 0.4094\n",
      "6:\tav_Pav: \tbeta: -0.04,\tCI: [-0.08,0.01],\tpvalue: 0.1071\n",
      "over time:\tav_Pav: \tbeta: -0.03,\tCI: [-0.07,0.0],\tpvalue: 0.0674\n",
      "\n",
      "H4: can baseline aversive Pav predict anxiety at week 12?\n",
      "av_Pav0: \tbeta: 0.07,\tCI: [-0.04,0.18],\tpvalue: 0.234\n",
      "\n",
      "H5: appetitive Pav related to anxiety?\n",
      "2:\tapp_Pav: \tbeta: 0.01,\tCI: [-0.03,0.05],\tpvalue: 0.6409\n",
      "6:\tapp_Pav: \tbeta: -0.05,\tCI: [-0.11,0.01],\tpvalue: 0.0898\n",
      "over time:\tapp_Pav: \tbeta: -0.03,\tCI: [-0.07,0.02],\tpvalue: 0.2582\n",
      "\n",
      "H6: reward sensitivity related to anhedonia?\n",
      "2:\tmodel not converged -> random effects removed:\n",
      "rew_se: \tbeta: 0.01,\tCI: [-0.09,0.12],\tpvalue: 0.8163\n",
      "6:\tmodel not converged -> random effects removed:\n",
      "rew_se: \tbeta: -0.04,\tCI: [-0.14,0.06],\tpvalue: 0.4445\n",
      "over time:\tmodel not converged -> random effects removed:\n",
      "rew_se: \tbeta: -0.09,\tCI: [-0.19,0.0],\tpvalue: 0.0595\n"
     ]
    }
   ],
   "source": [
    "calculate_preregistered_hypothesis(mle_df, df_panda, severe_depression, covariates)"
   ]
  },
  {
   "cell_type": "code",
   "execution_count": 57,
   "metadata": {},
   "outputs": [
    {
     "name": "stdout",
     "output_type": "stream",
     "text": [
      "\n",
      "1: drug effect on loss learning rate at week 2\n",
      "group: \tbeta: 0.51,\tCI: [-0.27,1.3],\tpvalue: 0.2006\n",
      "\n",
      "2: drug effect on change in loss learning rate between baseline and week 2\n",
      "group: \tbeta: 0.5,\tCI: [-0.85,1.84],\tpvalue: 0.4695\n",
      "\n",
      "3: loss learing rate related to anxiety over time\n",
      "loss_LR: \tbeta: 0.02,\tCI: [0.0,0.04],\tpvalue: 0.0228\n",
      "\n",
      "4: change in aversive Pavlovian bias predicting treatment outcome\n",
      "av_Pav_slope01: \tbeta: 0.01,\tCI: [-0.15,0.16],\tpvalue: 0.9405\n",
      "av_Pav_slope01:group: \tbeta: 0.05,\tCI: [-0.26,0.37],\tpvalue: 0.7415\n",
      "----------------------------------------------------------------------------------------------------\n",
      "placebo: av_Pav_slope01: \tbeta: -0.13,\tCI: [-0.47,0.2],\tpvalue: 0.4291\n",
      "sertraline: av_Pav_slope01: \tbeta: 0.04,\tCI: [-0.15,0.22],\tpvalue: 0.7106\n"
     ]
    }
   ],
   "source": [
    "calculate_exploratory_stats(mle_df, df_panda, df_panda['phq0']>15, covariates)"
   ]
  },
  {
   "cell_type": "markdown",
   "metadata": {},
   "source": [
    "Number of tablets\n",
    "--"
   ]
  },
  {
   "cell_type": "code",
   "execution_count": 58,
   "metadata": {},
   "outputs": [
    {
     "name": "stdout",
     "output_type": "stream",
     "text": [
      "number of tablets in week 6\n",
      "tablet2\n",
      "2.0    436\n",
      "1.0     47\n",
      "3.0     18\n",
      "Name: count, dtype: int64\n",
      "\n"
     ]
    },
    {
     "data": {
      "text/plain": [
       " 1.0    244\n",
       " 0.0    196\n",
       " 2.0      6\n",
       "-1.0      6\n",
       "Name: count, dtype: int64"
      ]
     },
     "execution_count": 58,
     "metadata": {},
     "output_type": "execute_result"
    }
   ],
   "source": [
    "# Number of tablets at 6-week and 12-week follow-up \n",
    "for i in range(2,3):\n",
    "    print('number of tablets in week ' + str(prepdata.fu_weeks[i]))\n",
    "    print(df_panda['tablet' + str(i)].value_counts(), end='\\n\\n')\n",
    "\n",
    "# Changes in tablets\n",
    "(df_panda['tablet2'] - df_panda['tablet1']).value_counts()"
   ]
  },
  {
   "cell_type": "markdown",
   "metadata": {},
   "source": [
    "Re-do analyses with additional covariates\n",
    "--\n",
    "- Change in medication/different medication\n",
    "- Patients receiving couselling, face-to-face CBT, or computer-based CBT\n",
    "- Adherence score & number of tablets"
   ]
  },
  {
   "cell_type": "code",
   "execution_count": 60,
   "metadata": {},
   "outputs": [
    {
     "name": "stdout",
     "output_type": "stream",
     "text": [
      "\n",
      "H1: aversive Pav related to sertraline?\n",
      "T = 0, placebo: -0.5(0.07) sertraline: -0.55(0.07)\n",
      "T = 2, placebo: -0.55(0.06) sertraline: -0.71(0.07)\tgroup: \tbeta: -0.09,\tCI: [-0.27,0.1],\tpvalue: 0.3473\n",
      "T = 6, placebo: -0.77(0.07) sertraline: -0.7(0.07)\tgroup: \tbeta: 0.13,\tCI: [-0.06,0.32],\tpvalue: 0.1905\n",
      "over time\t\t\t\t\tgroup: \tbeta: 0.02,\tCI: [-0.12,0.16],\tpvalue: 0.8173\n",
      "time group interaction\t\t\t\tgroup:time: \tbeta: 0.12,\tCI: [-0.08,0.32],\tpvalue: 0.2391\n",
      "\n",
      "H2: aversive Pav related to anxiety?\n",
      "2:\tav_Pav: \tbeta: -0.01,\tCI: [-0.04,0.01],\tpvalue: 0.3532\n",
      "6:\tmodel not converged -> random effects removed:\n",
      "av_Pav: \tbeta: -0.02,\tCI: [-0.05,0.01],\tpvalue: 0.172\n",
      "over time:\tmodel not converged -> random effects removed:\n",
      "av_Pav: \tbeta: -0.02,\tCI: [-0.04,0.0],\tpvalue: 0.0582\n",
      "\n",
      "H4: can baseline aversive Pav predict anxiety at week 12?\n",
      "av_Pav0: \tbeta: -0.02,\tCI: [-0.07,0.03],\tpvalue: 0.4432\n",
      "\n",
      "H5: appetitive Pav related to anxiety?\n",
      "2:\tapp_Pav: \tbeta: -0.01,\tCI: [-0.04,0.02],\tpvalue: 0.542\n",
      "6:\tapp_Pav: \tbeta: -0.03,\tCI: [-0.06,0.01],\tpvalue: 0.0956\n",
      "over time:\tmodel not converged -> random effects removed:\n",
      "app_Pav: \tbeta: -0.02,\tCI: [-0.05,0.01],\tpvalue: 0.133\n",
      "\n",
      "H6: reward sensitivity related to anhedonia?\n",
      "2:\tmodel not converged -> random effects removed:\n",
      "rew_se: \tbeta: -0.01,\tCI: [-0.06,0.03],\tpvalue: 0.5676\n",
      "6:\trew_se: \tbeta: 0.04,\tCI: [-0.01,0.09],\tpvalue: 0.1523\n",
      "over time:\tmodel not converged -> random effects removed:\n",
      "rew_se: \tbeta: 0.01,\tCI: [-0.04,0.05],\tpvalue: 0.8101\n",
      "\n",
      "1: drug effect on loss learning rate at week 2\n",
      "group: \tbeta: 0.48,\tCI: [0.09,0.87],\tpvalue: 0.0164\n",
      "\n",
      "2: drug effect on change in loss learning rate between baseline and week 2\n",
      "group: \tbeta: 0.6,\tCI: [-0.01,1.21],\tpvalue: 0.0552\n",
      "\n",
      "3: loss learing rate related to anxiety over time\n",
      "loss_LR: \tbeta: 0.02,\tCI: [0.01,0.03],\tpvalue: 0.0036\n",
      "\n",
      "4: change in aversive Pavlovian bias predicting treatment outcome\n",
      "av_Pav_slope01: \tbeta: 0.08,\tCI: [0.02,0.14],\tpvalue: 0.0115\n",
      "av_Pav_slope01:group: \tbeta: 0.11,\tCI: [-0.02,0.23],\tpvalue: 0.0852\n",
      "----------------------------------------------------------------------------------------------------\n",
      "placebo: av_Pav_slope01: \tbeta: 0.02,\tCI: [-0.07,0.1],\tpvalue: 0.6609\n",
      "sertraline: av_Pav_slope01: \tbeta: 0.12,\tCI: [0.03,0.21],\tpvalue: 0.0119\n"
     ]
    }
   ],
   "source": [
    "covariates = stratification_covariates + exclusion_covariates + ' + antidepressant + therapy + morisky + tablet'\n",
    "calculate_preregistered_hypothesis(mle_df, df_panda, np.full(len(mle_df),True), covariates)\n",
    "calculate_exploratory_stats(mle_df, df_panda, np.full(len(df_panda),True), covariates)"
   ]
  },
  {
   "cell_type": "markdown",
   "metadata": {},
   "source": [
    "# Age related to anxiety and depression"
   ]
  },
  {
   "cell_type": "code",
   "execution_count": 23,
   "metadata": {},
   "outputs": [
    {
     "name": "stdout",
     "output_type": "stream",
     "text": [
      "age_zscore: \tbeta: -0.08,\tCI: [-0.11,-0.05],\tpvalue: 0.0\n",
      "age_zscore: \tbeta: -0.06,\tCI: [-0.09,-0.04],\tpvalue: 0.0\n",
      "group:age_zscore: \tbeta: -0.04,\tCI: [-0.09,0.01],\tpvalue: 0.0887\n",
      "group:age_zscore: \tbeta: -0.03,\tCI: [-0.07,0.01],\tpvalue: 0.1864\n"
     ]
    },
    {
     "data": {
      "text/plain": [
       "<statsmodels.regression.mixed_linear_model.MixedLMResultsWrapper at 0x7f9179acb2e0>"
      ]
     },
     "execution_count": 23,
     "metadata": {},
     "output_type": "execute_result"
    }
   ],
   "source": [
    "# Relation between age and anxiety/depression symptoms\n",
    "included_subjects = mle_df['exclusion']==0\n",
    "gngstats.mle('gadlog ~ group + time + age_zscore', \\\n",
    "                 mle_df[included_subjects], ['age_zscore'], [])\n",
    "gngstats.mle('phqlog ~ group + time + age_zscore', \\\n",
    "                 mle_df[included_subjects], ['age_zscore'], [])\n",
    "\n",
    "gngstats.mle('gadlog ~ group * age_zscore + time', \\\n",
    "                 mle_df[included_subjects], ['group:age_zscore'], [])\n",
    "gngstats.mle('phqlog ~ group * age_zscore + time', \\\n",
    "                 mle_df[included_subjects], ['group:age_zscore'], [])"
   ]
  }
 ],
 "metadata": {
  "kernelspec": {
   "display_name": "Python 3 (ipykernel)",
   "language": "python",
   "name": "python3"
  },
  "language_info": {
   "codemirror_mode": {
    "name": "ipython",
    "version": 3
   },
   "file_extension": ".py",
   "mimetype": "text/x-python",
   "name": "python",
   "nbconvert_exporter": "python",
   "pygments_lexer": "ipython3",
   "version": "3.9.16"
  }
 },
 "nbformat": 4,
 "nbformat_minor": 4
}
