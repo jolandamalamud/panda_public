{
 "cells": [
  {
   "cell_type": "code",
   "execution_count": 1,
   "metadata": {},
   "outputs": [
    {
     "name": "stderr",
     "output_type": "stream",
     "text": [
      "/Users/jolandamalamud/opt/miniconda3/envs/pandaenv/lib/python3.9/site-packages/outdated/utils.py:14: OutdatedPackageWarning: The package pingouin is out of date. Your version is 0.5.3, the latest is 0.5.4.\n",
      "Set the environment variable OUTDATED_IGNORE=1 to disable these warnings.\n",
      "  return warn(\n"
     ]
    }
   ],
   "source": [
    "import numpy as np\n",
    "import pandas as pd\n",
    "from plotting import Plotting\n",
    "from loading_preparing_data import PrepData\n",
    "from gng_statistics import GNGstats\n",
    "import statsmodels.formula.api as smf\n",
    "import scipy"
   ]
  },
  {
   "cell_type": "code",
   "execution_count": 2,
   "metadata": {},
   "outputs": [],
   "source": [
    "# Set the file path\n",
    "filepath = '../../'\n",
    "\n",
    "# Create an instance of the PrepData class\n",
    "prepdata = PrepData('panda', filepath, ['gad', 'phq', 'bdi'])\n",
    "# Create an instance of the GNGstats class\n",
    "gngstats = GNGstats()\n",
    "# Create an instance of the Plotting class\n",
    "plotting = Plotting('panda')\n",
    "\n",
    "# Load raw task data\n",
    "D = prepdata.load_data()\n",
    "# Prepare action choices for plotting\n",
    "data = prepdata.extract_data(D)\n",
    "# load model fits\n",
    "modelling = prepdata.load_modelfits()\n",
    "\n",
    "# load rct data\n",
    "dfRCT = prepdata.load_rctdata()\n",
    "\n",
    "# Set the file path for saving figures related to the paper\n",
    "figpath = filepath + 'results/paper_figures/'"
   ]
  },
  {
   "cell_type": "code",
   "execution_count": 3,
   "metadata": {},
   "outputs": [],
   "source": [
    "# Define all variables of interest from RCT\n",
    "baseline_vars = ['site', 'cis', 'dep', 'age', 'education', 'AD_past', \\\n",
    "               'sex', 'ethnic', 'fin', 'empstat', 'marstat', 'cisscore']\n",
    "\n",
    "# Questionnaire variables which need to be log-transformed\n",
    "log_transfer = [i + '0' for i in prepdata.psychiatric_questionnaire] + [i for i in dfRCT.columns if 'anh' in i]\n",
    "\n",
    "# Create DataFrame\n",
    "df_panda = prepdata.create_df(data, modelling, dfRCT, log_transfer)\n",
    "df_panda = df_panda.astype(float)"
   ]
  },
  {
   "cell_type": "code",
   "execution_count": 4,
   "metadata": {},
   "outputs": [
    {
     "name": "stdout",
     "output_type": "stream",
     "text": [
      "890 included, 751 excluded\n"
     ]
    }
   ],
   "source": [
    "# exclusion due to modelling\n",
    "print(str(sum(modelling['most_parsimonious']['excluding'] == 0)) + ' included, ' + \\\n",
    "      str(sum(modelling['most_parsimonious']['excluding'] == 1)) + ' excluded')"
   ]
  },
  {
   "cell_type": "code",
   "execution_count": 5,
   "metadata": {},
   "outputs": [
    {
     "name": "stdout",
     "output_type": "stream",
     "text": [
      "10025.0 [1.] [False]\n",
      "20001.0 [1.] [False]\n",
      "20227.0 [1.] [ True]\n",
      "20256.0 [1.] [False]\n",
      "30022.0 [1.] [ True]\n",
      "40139.0 [1.] [False]\n"
     ]
    }
   ],
   "source": [
    "# ids in modelling but not in RCT bc never randomized or excluded due to not completing enough baseline measures\n",
    "for i in data['subids']:\n",
    "    if i not in np.array(dfRCT['ID']):\n",
    "        print(i, data['sess'][data['subids']==i],modelling['most_parsimonious']['excluding'][data['subids']==i])"
   ]
  },
  {
   "cell_type": "code",
   "execution_count": 6,
   "metadata": {},
   "outputs": [],
   "source": [
    "# Zscore all variables\n",
    "df_zscored = pd.DataFrame()\n",
    "zscored_columns = [col for col in df_panda.columns if col not in ['ID', 'subids', 'group']]\n",
    "df_zscored = pd.concat([(df_panda[col] - df_panda[col].mean()) / df_panda[col].std(ddof=0) \\\n",
    "                    for col in zscored_columns], axis=1)\n",
    "df_zscored.columns = [i + '_zscore' for i in df_zscored.columns]\n",
    "df_panda = pd.concat([df_panda, df_zscored], axis=1)"
   ]
  },
  {
   "cell_type": "code",
   "execution_count": 7,
   "metadata": {},
   "outputs": [
    {
     "name": "stdout",
     "output_type": "stream",
     "text": [
      "['#GNG: 635', '#RCT 653']\n",
      "25 patients participated in the RCT but there is no task data\n",
      "6 patients provided task data but not in randomized\n",
      "629 total number of patients with at least one task run\n"
     ]
    }
   ],
   "source": [
    "# Number for patients\n",
    "n_gng = len(np.unique(data['subids']))\n",
    "n_rct = len(dfRCT['ID'])\n",
    "overlap = np.intersect1d(np.unique(data['subids']), np.array(dfRCT['ID']))\n",
    "print(['#GNG: ' + str(len(np.unique(data['subids']))), '#RCT ' + str(len(df_panda))])\n",
    "print(str(n_rct - len(overlap)) + ' patients participated in the RCT but there is no task data')\n",
    "print(str(n_gng - len(overlap)) + ' patients provided task data but not in randomized')\n",
    "print(str(len(overlap)) + ' total number of patients with at least one task run')"
   ]
  },
  {
   "cell_type": "markdown",
   "metadata": {},
   "source": [
    "---------------------------------------------------------------------------------------------------------------\n",
    "Exclusion\n",
    "--"
   ]
  },
  {
   "cell_type": "code",
   "execution_count": 8,
   "metadata": {},
   "outputs": [
    {
     "name": "stdout",
     "output_type": "stream",
     "text": [
      "# of excluded subjects at week 0:\t316.0 (0.51%), included: 305.0\n",
      "# of excluded subjects at week 2:\t230.0 (0.43%), included: 299.0\n",
      "# of excluded subjects at week 6:\t201.0 (0.42%), included: 282.0\n",
      "total # of excluded subjects:\t\t747.0 (46%)\n"
     ]
    }
   ],
   "source": [
    "# number of excluded subjects due to not performing the task properly\n",
    "for t in range(3):\n",
    "    no_data = df_panda['exclusion' + str(t)].isna()\n",
    "    ex = df_panda['exclusion' + str(t)] == 1\n",
    "    df_panda.loc[~no_data, 'exclusion' + str(t)] = (ex[~no_data]).astype(int)\n",
    "\n",
    "n_subject = []\n",
    "exclusion = []\n",
    "for t in range(3):\n",
    "    exclusion.append(np.nansum(df_panda['exclusion' + str(t)]))\n",
    "    n_subject.append(sum(~df_panda['exclusion' + str(t)].isna()))\n",
    "    print('# of excluded subjects at week ' + str(prepdata.fu_weeks[t]) + ':\\t' + str(exclusion[t]) + \\\n",
    "      ' (' + str(round(exclusion[t]/n_subject[t],2)) +'%)' + \\\n",
    "         ', included: ' + str(round(n_subject[t]-exclusion[t],2)))\n",
    "print('total # of excluded subjects:\\t\\t' + str(sum(exclusion)) + \\\n",
    "      ' (' + str(round(sum(exclusion)/(sum(n_subject))*100)) +'%)')"
   ]
  },
  {
   "cell_type": "code",
   "execution_count": 9,
   "metadata": {},
   "outputs": [
    {
     "name": "stdout",
     "output_type": "stream",
     "text": [
      "T = 0 group 0: tot=310 in=158 ex=152.0\n",
      "T = 0 group 1: tot=311 in=147 ex=164.0\n",
      "T = 1 group 0: tot=266 in=166 ex=100.0\n",
      "T = 1 group 1: tot=263 in=133 ex=130.0\n",
      "T = 2 group 0: tot=247 in=144 ex=103.0\n",
      "T = 2 group 1: tot=236 in=138 ex=98.0\n"
     ]
    }
   ],
   "source": [
    "for t in range(3):\n",
    "    for i in range(2):\n",
    "        print('T = ' + str(t) + ' group ' + str(i) + ': tot=' + \\\n",
    "              str(sum(~df_panda['exclusion' + str(t)][df_panda['group']==i].isna())) + \\\n",
    "              ' in=' + str((df_panda['exclusion' + str(t)][df_panda['group']==i]==0).sum()) + \\\n",
    "              ' ex=' + str(df_panda['exclusion' + str(t)][df_panda['group']==i].sum()))"
   ]
  },
  {
   "cell_type": "code",
   "execution_count": 10,
   "metadata": {},
   "outputs": [
    {
     "name": "stdout",
     "output_type": "stream",
     "text": [
      "included task runs: 886\n",
      "435 (66% of those randomised)\n"
     ]
    }
   ],
   "source": [
    "included = df_panda[['exclusion0', 'exclusion1', 'exclusion2']] == 0\n",
    "print('included task runs: ' + str(included.values.sum()))\n",
    "print(str((included.sum(axis=1) > 0).sum()) + ' ('+ str(round((included.sum(axis=1) > 0).sum()/ 655 * 100)) +  '% of those randomised)')"
   ]
  },
  {
   "cell_type": "code",
   "execution_count": 11,
   "metadata": {},
   "outputs": [
    {
     "data": {
      "text/html": [
       "<div>\n",
       "<style scoped>\n",
       "    .dataframe tbody tr th:only-of-type {\n",
       "        vertical-align: middle;\n",
       "    }\n",
       "\n",
       "    .dataframe tbody tr th {\n",
       "        vertical-align: top;\n",
       "    }\n",
       "\n",
       "    .dataframe thead th {\n",
       "        text-align: right;\n",
       "    }\n",
       "</style>\n",
       "<table border=\"1\" class=\"dataframe\">\n",
       "  <thead>\n",
       "    <tr style=\"text-align: right;\">\n",
       "      <th></th>\n",
       "      <th>variable</th>\n",
       "      <th>sertraline</th>\n",
       "      <th>placebo</th>\n",
       "      <th>X2</th>\n",
       "      <th>p</th>\n",
       "    </tr>\n",
       "    <tr>\n",
       "      <th>exclusion1</th>\n",
       "      <th></th>\n",
       "      <th></th>\n",
       "      <th></th>\n",
       "      <th></th>\n",
       "      <th></th>\n",
       "    </tr>\n",
       "  </thead>\n",
       "  <tbody>\n",
       "    <tr>\n",
       "      <th>0.0</th>\n",
       "      <td>exclusion</td>\n",
       "      <td>133</td>\n",
       "      <td>166</td>\n",
       "      <td>7.064</td>\n",
       "      <td>0.008</td>\n",
       "    </tr>\n",
       "    <tr>\n",
       "      <th>1.0</th>\n",
       "      <td>exclusion</td>\n",
       "      <td>130</td>\n",
       "      <td>100</td>\n",
       "      <td>7.064</td>\n",
       "      <td>0.008</td>\n",
       "    </tr>\n",
       "  </tbody>\n",
       "</table>\n",
       "</div>"
      ],
      "text/plain": [
       "             variable  sertraline  placebo     X2      p\n",
       "exclusion1                                              \n",
       "0.0         exclusion         133      166  7.064  0.008\n",
       "1.0         exclusion         130      100  7.064  0.008"
      ]
     },
     "metadata": {},
     "output_type": "display_data"
    },
    {
     "name": "stdout",
     "output_type": "stream",
     "text": [
      "excluded at T = 1 (N = 529): 57.0% sertraline, 43.0% placebo\n"
     ]
    },
    {
     "data": {
      "text/html": [
       "<div>\n",
       "<style scoped>\n",
       "    .dataframe tbody tr th:only-of-type {\n",
       "        vertical-align: middle;\n",
       "    }\n",
       "\n",
       "    .dataframe tbody tr th {\n",
       "        vertical-align: top;\n",
       "    }\n",
       "\n",
       "    .dataframe thead th {\n",
       "        text-align: right;\n",
       "    }\n",
       "</style>\n",
       "<table border=\"1\" class=\"dataframe\">\n",
       "  <thead>\n",
       "    <tr style=\"text-align: right;\">\n",
       "      <th></th>\n",
       "      <th>variable</th>\n",
       "      <th>sertraline</th>\n",
       "      <th>placebo</th>\n",
       "      <th>X2</th>\n",
       "      <th>p</th>\n",
       "    </tr>\n",
       "    <tr>\n",
       "      <th>exclusion2</th>\n",
       "      <th></th>\n",
       "      <th></th>\n",
       "      <th></th>\n",
       "      <th></th>\n",
       "      <th></th>\n",
       "    </tr>\n",
       "  </thead>\n",
       "  <tbody>\n",
       "    <tr>\n",
       "      <th>0.0</th>\n",
       "      <td>exclusion</td>\n",
       "      <td>138</td>\n",
       "      <td>144</td>\n",
       "      <td>0.0</td>\n",
       "      <td>1.0</td>\n",
       "    </tr>\n",
       "    <tr>\n",
       "      <th>1.0</th>\n",
       "      <td>exclusion</td>\n",
       "      <td>98</td>\n",
       "      <td>103</td>\n",
       "      <td>0.0</td>\n",
       "      <td>1.0</td>\n",
       "    </tr>\n",
       "  </tbody>\n",
       "</table>\n",
       "</div>"
      ],
      "text/plain": [
       "             variable  sertraline  placebo   X2    p\n",
       "exclusion2                                          \n",
       "0.0         exclusion         138      144  0.0  1.0\n",
       "1.0         exclusion          98      103  0.0  1.0"
      ]
     },
     "metadata": {},
     "output_type": "display_data"
    },
    {
     "name": "stdout",
     "output_type": "stream",
     "text": [
      "excluded at T = 2 (N = 483): 49.0% sertraline, 51.0% placebo\n"
     ]
    }
   ],
   "source": [
    "# chi2 pearson test to compare included vs excluded in sertraline vs placebo\n",
    "for t in range(1,3):\n",
    "    tmp = gngstats.chi2_test(df_panda['exclusion' + str(t)], df_panda['group'], ['sertraline', 'placebo'])\n",
    "    tmp.insert(0, 'variable', 'exclusion')\n",
    "    display(tmp)\n",
    "    print('excluded at T = ' + str(t) + ' (N = ' + str(sum(~df_panda['exclusion' + str(t)].isna() & ~df_panda['group'].isna())) + \\\n",
    "          '): ' + str(np.round((df_panda['group'][df_panda['exclusion' + str(t)]==1] == 1).mean()*100)) \\\n",
    "          + '% sertraline, ' + str(np.round((df_panda['group'][df_panda['exclusion' + str(t)]==1] == 0).mean()*100)) \\\n",
    "          + '% placebo')"
   ]
  },
  {
   "cell_type": "code",
   "execution_count": 12,
   "metadata": {},
   "outputs": [
    {
     "name": "stdout",
     "output_type": "stream",
     "text": [
      "group: \tbeta: 1.93,\tCI: [-0.18,4.04],\tpvalue: 0.0736\n",
      "group: \tbeta: -0.13,\tCI: [-2.51,2.25],\tpvalue: 0.914\n",
      "group: \tbeta: -0.09,\tCI: [-2.79,2.6],\tpvalue: 0.9459\n"
     ]
    }
   ],
   "source": [
    "for t in range(3):\n",
    "    gngstats.glm('iL' + str(t) + ' ~ group', df_panda, ['group'])"
   ]
  },
  {
   "cell_type": "code",
   "execution_count": 13,
   "metadata": {},
   "outputs": [
    {
     "name": "stdout",
     "output_type": "stream",
     "text": [
      "baseline variables related to non-informative task runs?\n"
     ]
    },
    {
     "data": {
      "text/html": [
       "<th style=\"text-align:center\"><td style=\"vertical-align:top\"><h2></h2><table style=\"display:inline\" border=\"1\" class=\"dataframe\">\n",
       "  <thead>\n",
       "    <tr style=\"text-align: right;\">\n",
       "      <th></th>\n",
       "      <th>baseline variable</th>\n",
       "      <th>estimate</th>\n",
       "      <th>pvalue</th>\n",
       "    </tr>\n",
       "  </thead>\n",
       "  <tbody>\n",
       "    <tr>\n",
       "      <th>0</th>\n",
       "      <td>age_zscore</td>\n",
       "      <td>0.67</td>\n",
       "      <td>0.000</td>\n",
       "    </tr>\n",
       "    <tr>\n",
       "      <th>7</th>\n",
       "      <td>education</td>\n",
       "      <td>0.71</td>\n",
       "      <td>0.000</td>\n",
       "    </tr>\n",
       "    <tr>\n",
       "      <th>8</th>\n",
       "      <td>AD_past</td>\n",
       "      <td>0.55</td>\n",
       "      <td>0.001</td>\n",
       "    </tr>\n",
       "  </tbody>\n",
       "</table style=\"display:inline\"></td></th><th style=\"text-align:center\"><td style=\"vertical-align:top\"><h2></h2><table style=\"display:inline\" border=\"1\" class=\"dataframe\">\n",
       "  <thead>\n",
       "    <tr style=\"text-align: right;\">\n",
       "      <th></th>\n",
       "      <th>baseline variable</th>\n",
       "      <th>estimate</th>\n",
       "      <th>pvalue</th>\n",
       "    </tr>\n",
       "  </thead>\n",
       "  <tbody>\n",
       "    <tr>\n",
       "      <th>0</th>\n",
       "      <td>age_zscore</td>\n",
       "      <td>0.87</td>\n",
       "      <td>0.000</td>\n",
       "    </tr>\n",
       "    <tr>\n",
       "      <th>7</th>\n",
       "      <td>education</td>\n",
       "      <td>0.92</td>\n",
       "      <td>0.000</td>\n",
       "    </tr>\n",
       "    <tr>\n",
       "      <th>8</th>\n",
       "      <td>AD_past</td>\n",
       "      <td>0.61</td>\n",
       "      <td>0.001</td>\n",
       "    </tr>\n",
       "    <tr>\n",
       "      <th>14</th>\n",
       "      <td>group</td>\n",
       "      <td>0.48</td>\n",
       "      <td>0.006</td>\n",
       "    </tr>\n",
       "  </tbody>\n",
       "</table style=\"display:inline\"></td></th><th style=\"text-align:center\"><td style=\"vertical-align:top\"><h2></h2><table style=\"display:inline\" border=\"1\" class=\"dataframe\">\n",
       "  <thead>\n",
       "    <tr style=\"text-align: right;\">\n",
       "      <th></th>\n",
       "      <th>baseline variable</th>\n",
       "      <th>estimate</th>\n",
       "      <th>pvalue</th>\n",
       "    </tr>\n",
       "  </thead>\n",
       "  <tbody>\n",
       "    <tr>\n",
       "      <th>0</th>\n",
       "      <td>age_zscore</td>\n",
       "      <td>0.85</td>\n",
       "      <td>0.000</td>\n",
       "    </tr>\n",
       "    <tr>\n",
       "      <th>1</th>\n",
       "      <td>gad0log_zscore</td>\n",
       "      <td>-0.26</td>\n",
       "      <td>0.005</td>\n",
       "    </tr>\n",
       "    <tr>\n",
       "      <th>5</th>\n",
       "      <td>cis</td>\n",
       "      <td>-0.32</td>\n",
       "      <td>0.006</td>\n",
       "    </tr>\n",
       "    <tr>\n",
       "      <th>7</th>\n",
       "      <td>education</td>\n",
       "      <td>1.15</td>\n",
       "      <td>0.000</td>\n",
       "    </tr>\n",
       "    <tr>\n",
       "      <th>8</th>\n",
       "      <td>AD_past</td>\n",
       "      <td>0.76</td>\n",
       "      <td>0.000</td>\n",
       "    </tr>\n",
       "    <tr>\n",
       "      <th>12</th>\n",
       "      <td>empstat</td>\n",
       "      <td>0.52</td>\n",
       "      <td>0.008</td>\n",
       "    </tr>\n",
       "  </tbody>\n",
       "</table style=\"display:inline\"></td></th>"
      ]
     },
     "metadata": {},
     "output_type": "display_data"
    }
   ],
   "source": [
    "# is exclusion related to baseline variables? Logistic regression\n",
    "baseline_continuous =  ['age_zscore', 'gad0log_zscore', 'phq0log_zscore', 'bdi0log_zscore']\n",
    "baseline_categorical = ['site', 'cis', 'dep', 'education', \\\n",
    "                        'AD_past','sex', 'ethnic', 'fin', 'empstat', 'marstat', 'group']\n",
    "tab_list = []\n",
    "tab_list_reduced = []\n",
    "for i in range(3):\n",
    "    tab = []\n",
    "    for j in baseline_continuous + baseline_categorical:\n",
    "        model = smf.logit('exclusion' + str(i) +' ~ ' + j, data=df_panda).fit(disp=False);\n",
    "        tab.append([j, round(model.params[1],2), round(model.pvalues[1],3)])\n",
    "    tab_list.append(pd.DataFrame(tab, columns=['baseline variable', 'estimate', 'pvalue']))\n",
    "for i in tab_list:\n",
    "    tab_list_reduced.append(i[i['pvalue']<0.05])\n",
    "print('baseline variables related to non-informative task runs?')\n",
    "plotting.display_side_by_side(tab_list_reduced[0],tab_list_reduced[1],tab_list_reduced[2])\n",
    "# print('multiple comparisons: ' + str(round(0.05/(3*len(baseline_continuous + baseline_categorical)),4)))"
   ]
  },
  {
   "cell_type": "markdown",
   "metadata": {},
   "source": [
    "All time points, the more non-informative data:\n",
    "- the older.\n",
    "- the lower highest educational qualification (1=A Level or higher;2=GCSE,standard grade or other;3=no formal qualification)\n",
    "\n",
    "At week 2, the more non-informative data:\n",
    "- the more antidepressants in the past (1=no;2=yes).\n",
    "- the more in sertraline group (0=placebo;1=sertraline).\n",
    "\n",
    "At week 6, the more non-informative data:\n",
    "- the higher GAD-7 score.\n",
    "- the higher CISR-RCIS-R total score (1=0-11, 2=12-19; 3=>=2-49)\n",
    "- the more non-employment status (1=in paid employment;2=not employed)"
   ]
  },
  {
   "cell_type": "code",
   "execution_count": 14,
   "metadata": {},
   "outputs": [
    {
     "name": "stdout",
     "output_type": "stream",
     "text": [
      "education covariate at week 0\n"
     ]
    },
    {
     "data": {
      "text/html": [
       "<div>\n",
       "<style scoped>\n",
       "    .dataframe tbody tr th:only-of-type {\n",
       "        vertical-align: middle;\n",
       "    }\n",
       "\n",
       "    .dataframe tbody tr th {\n",
       "        vertical-align: top;\n",
       "    }\n",
       "\n",
       "    .dataframe thead th {\n",
       "        text-align: right;\n",
       "    }\n",
       "</style>\n",
       "<table border=\"1\" class=\"dataframe\">\n",
       "  <thead>\n",
       "    <tr style=\"text-align: right;\">\n",
       "      <th></th>\n",
       "      <th>non-informative data</th>\n",
       "      <th>informative data</th>\n",
       "      <th>X2</th>\n",
       "      <th>p</th>\n",
       "    </tr>\n",
       "  </thead>\n",
       "  <tbody>\n",
       "    <tr>\n",
       "      <th>A Level&amp;higher</th>\n",
       "      <td>199</td>\n",
       "      <td>234</td>\n",
       "      <td>26.758</td>\n",
       "      <td>0.0</td>\n",
       "    </tr>\n",
       "    <tr>\n",
       "      <th>GCSE, standard grade&amp;other</th>\n",
       "      <td>89</td>\n",
       "      <td>69</td>\n",
       "      <td>26.758</td>\n",
       "      <td>0.0</td>\n",
       "    </tr>\n",
       "    <tr>\n",
       "      <th>no formal qualification</th>\n",
       "      <td>27</td>\n",
       "      <td>2</td>\n",
       "      <td>26.758</td>\n",
       "      <td>0.0</td>\n",
       "    </tr>\n",
       "  </tbody>\n",
       "</table>\n",
       "</div>"
      ],
      "text/plain": [
       "                            non-informative data  informative data      X2   \n",
       "A Level&higher                               199               234  26.758  \\\n",
       "GCSE, standard grade&other                    89                69  26.758   \n",
       "no formal qualification                       27                 2  26.758   \n",
       "\n",
       "                              p  \n",
       "A Level&higher              0.0  \n",
       "GCSE, standard grade&other  0.0  \n",
       "no formal qualification     0.0  "
      ]
     },
     "metadata": {},
     "output_type": "display_data"
    },
    {
     "name": "stdout",
     "output_type": "stream",
     "text": [
      "education covariate at week 2\n"
     ]
    },
    {
     "data": {
      "text/html": [
       "<div>\n",
       "<style scoped>\n",
       "    .dataframe tbody tr th:only-of-type {\n",
       "        vertical-align: middle;\n",
       "    }\n",
       "\n",
       "    .dataframe tbody tr th {\n",
       "        vertical-align: top;\n",
       "    }\n",
       "\n",
       "    .dataframe thead th {\n",
       "        text-align: right;\n",
       "    }\n",
       "</style>\n",
       "<table border=\"1\" class=\"dataframe\">\n",
       "  <thead>\n",
       "    <tr style=\"text-align: right;\">\n",
       "      <th></th>\n",
       "      <th>non-informative data</th>\n",
       "      <th>informative data</th>\n",
       "      <th>X2</th>\n",
       "      <th>p</th>\n",
       "    </tr>\n",
       "  </thead>\n",
       "  <tbody>\n",
       "    <tr>\n",
       "      <th>A Level&amp;higher</th>\n",
       "      <td>134</td>\n",
       "      <td>236</td>\n",
       "      <td>31.738</td>\n",
       "      <td>0.0</td>\n",
       "    </tr>\n",
       "    <tr>\n",
       "      <th>GCSE, standard grade&amp;other</th>\n",
       "      <td>78</td>\n",
       "      <td>58</td>\n",
       "      <td>31.738</td>\n",
       "      <td>0.0</td>\n",
       "    </tr>\n",
       "    <tr>\n",
       "      <th>no formal qualification</th>\n",
       "      <td>18</td>\n",
       "      <td>4</td>\n",
       "      <td>31.738</td>\n",
       "      <td>0.0</td>\n",
       "    </tr>\n",
       "  </tbody>\n",
       "</table>\n",
       "</div>"
      ],
      "text/plain": [
       "                            non-informative data  informative data      X2   \n",
       "A Level&higher                               134               236  31.738  \\\n",
       "GCSE, standard grade&other                    78                58  31.738   \n",
       "no formal qualification                       18                 4  31.738   \n",
       "\n",
       "                              p  \n",
       "A Level&higher              0.0  \n",
       "GCSE, standard grade&other  0.0  \n",
       "no formal qualification     0.0  "
      ]
     },
     "metadata": {},
     "output_type": "display_data"
    },
    {
     "name": "stdout",
     "output_type": "stream",
     "text": [
      "education covariate at week 6\n"
     ]
    },
    {
     "data": {
      "text/html": [
       "<div>\n",
       "<style scoped>\n",
       "    .dataframe tbody tr th:only-of-type {\n",
       "        vertical-align: middle;\n",
       "    }\n",
       "\n",
       "    .dataframe tbody tr th {\n",
       "        vertical-align: top;\n",
       "    }\n",
       "\n",
       "    .dataframe thead th {\n",
       "        text-align: right;\n",
       "    }\n",
       "</style>\n",
       "<table border=\"1\" class=\"dataframe\">\n",
       "  <thead>\n",
       "    <tr style=\"text-align: right;\">\n",
       "      <th></th>\n",
       "      <th>non-informative data</th>\n",
       "      <th>informative data</th>\n",
       "      <th>X2</th>\n",
       "      <th>p</th>\n",
       "    </tr>\n",
       "  </thead>\n",
       "  <tbody>\n",
       "    <tr>\n",
       "      <th>A Level&amp;higher</th>\n",
       "      <td>110</td>\n",
       "      <td>227</td>\n",
       "      <td>43.62</td>\n",
       "      <td>0.0</td>\n",
       "    </tr>\n",
       "    <tr>\n",
       "      <th>GCSE, standard grade&amp;other</th>\n",
       "      <td>72</td>\n",
       "      <td>53</td>\n",
       "      <td>43.62</td>\n",
       "      <td>0.0</td>\n",
       "    </tr>\n",
       "    <tr>\n",
       "      <th>no formal qualification</th>\n",
       "      <td>18</td>\n",
       "      <td>2</td>\n",
       "      <td>43.62</td>\n",
       "      <td>0.0</td>\n",
       "    </tr>\n",
       "  </tbody>\n",
       "</table>\n",
       "</div>"
      ],
      "text/plain": [
       "                            non-informative data  informative data     X2    p\n",
       "A Level&higher                               110               227  43.62  0.0\n",
       "GCSE, standard grade&other                    72                53  43.62  0.0\n",
       "no formal qualification                       18                 2  43.62  0.0"
      ]
     },
     "metadata": {},
     "output_type": "display_data"
    },
    {
     "name": "stdout",
     "output_type": "stream",
     "text": [
      "cisr covariate at week 6\n"
     ]
    },
    {
     "data": {
      "text/html": [
       "<div>\n",
       "<style scoped>\n",
       "    .dataframe tbody tr th:only-of-type {\n",
       "        vertical-align: middle;\n",
       "    }\n",
       "\n",
       "    .dataframe tbody tr th {\n",
       "        vertical-align: top;\n",
       "    }\n",
       "\n",
       "    .dataframe thead th {\n",
       "        text-align: right;\n",
       "    }\n",
       "</style>\n",
       "<table border=\"1\" class=\"dataframe\">\n",
       "  <thead>\n",
       "    <tr style=\"text-align: right;\">\n",
       "      <th></th>\n",
       "      <th>non-informative data</th>\n",
       "      <th>informative data</th>\n",
       "      <th>X2</th>\n",
       "      <th>p</th>\n",
       "    </tr>\n",
       "  </thead>\n",
       "  <tbody>\n",
       "    <tr>\n",
       "      <th>0-11</th>\n",
       "      <td>87</td>\n",
       "      <td>164</td>\n",
       "      <td>10.132</td>\n",
       "      <td>0.006</td>\n",
       "    </tr>\n",
       "    <tr>\n",
       "      <th>12-19</th>\n",
       "      <td>65</td>\n",
       "      <td>66</td>\n",
       "      <td>10.132</td>\n",
       "      <td>0.006</td>\n",
       "    </tr>\n",
       "    <tr>\n",
       "      <th>&gt;=20</th>\n",
       "      <td>48</td>\n",
       "      <td>52</td>\n",
       "      <td>10.132</td>\n",
       "      <td>0.006</td>\n",
       "    </tr>\n",
       "  </tbody>\n",
       "</table>\n",
       "</div>"
      ],
      "text/plain": [
       "       non-informative data  informative data      X2      p\n",
       "0-11                     87               164  10.132  0.006\n",
       "12-19                    65                66  10.132  0.006\n",
       ">=20                     48                52  10.132  0.006"
      ]
     },
     "metadata": {},
     "output_type": "display_data"
    }
   ],
   "source": [
    "for i in range(3):\n",
    "    print('education covariate at week ' + ['0','2','6'][i])\n",
    "    educationtest = gngstats.chi2_test(df_panda['education'], df_panda['exclusion' + str(i)], \\\n",
    "                                  ['non-informative data', 'informative data'])\n",
    "    educationtest.index = ['A Level&higher','GCSE, standard grade&other','no formal qualification']\n",
    "    display(educationtest)\n",
    "\n",
    "i == 2\n",
    "print('cisr covariate at week 6')\n",
    "cistest = gngstats.chi2_test(df_panda['cis'], df_panda['exclusion' + str(i)], \\\n",
    "                                  ['non-informative data', 'informative data'])\n",
    "cistest.index = ['0-11', '12-19', '>=20']\n",
    "display(cistest)"
   ]
  },
  {
   "cell_type": "markdown",
   "metadata": {},
   "source": [
    "Summary:\n",
    "--\n",
    "- more patients not doing the task properly in the sertraline group at week 2 (follow-up 1)\n",
    "- patients not doing the task properly were older, less educated, and were taking antidepressants in the past over all sessions --> control for age, education, and AD in the past\n",
    "- at week 6 exclusion additionally related to baseline gad and employment status"
   ]
  },
  {
   "cell_type": "code",
   "execution_count": 15,
   "metadata": {},
   "outputs": [],
   "source": [
    "# define covariates for further analyses\n",
    "stratification_covariates = '+ site + dep + cis'\n",
    "exclusion_covariates = '+ age + education + AD_past + empstat'\n",
    "missing_covariates = '+ cisscore + gad0log + phq0log + fin + ethnic'"
   ]
  },
  {
   "cell_type": "markdown",
   "metadata": {},
   "source": [
    "---------------------------------------------------------------------------------------------------------------\n",
    "Included sample\n",
    "--"
   ]
  },
  {
   "cell_type": "code",
   "execution_count": 16,
   "metadata": {},
   "outputs": [],
   "source": [
    "# demographics\n",
    "df_panda['ethnic'] = df_panda['ethnic'].replace([2, 3, 4, 5, 6], 2)\n",
    "ex = (df_panda['exclusion0'] == 0) | (df_panda['exclusion1'] == 0) | (df_panda['exclusion2'] == 0)\n",
    "group_label = ['placebo', 'sertraline', 'overall']\n",
    "demographic_variables1 = ['age', 'gad0', 'phq0', 'bdi0', 'cisscore']\n",
    "demographic_variables2 = ['site', 'cis', 'dep', 'education', 'AD_past', 'sex', \\\n",
    "                         'ethnic', 'fin', 'empstat', 'marstat']\n",
    "T = np.empty([100,4], dtype=object)\n",
    "T[0,3] = 'pvalue'\n",
    "                          \n",
    "for dd, d in enumerate(demographic_variables1):\n",
    "    T[dd+1,0] = d\n",
    "    model = smf.logit('group ~ ' + d, data=df_panda[ex]).fit(disp=False);\n",
    "    T[dd+1,3] = round(model.pvalues[1],3)\n",
    "#     T[dd+1,3] = pstats.group_ttest(df_panda[d][ex], df_panda['group'][ex], \\\n",
    "#                                    ['sertraline', 'placebo'])['p'].iloc[0]\n",
    "    for g in range(2):\n",
    "        T[dd+1,g+1] = str(np.round(df_panda[d][(df_panda['group']==g)&ex].mean(),2)) + ' (' + \\\n",
    "                    str(np.round(df_panda[d][(df_panda['group']==g)&ex].std(),2)) + ')'\n",
    "        \n",
    "for g in range(2):\n",
    "    T[0,g+1] = group_label[g] + ' (N = ' + str(sum((df_panda['group']==g)&ex)) + ')'\n",
    "    dd = len(demographic_variables1)+1\n",
    "    for d in demographic_variables2:\n",
    "        for i in range(int(max(df_panda[d][ex]))):\n",
    "            T[dd,0] = d + str(i)\n",
    "            model = smf.logit('group ~ ' + d, data=df_panda[ex]).fit(disp=False);\n",
    "            T[dd,3] = round(model.pvalues[1],3)\n",
    "#             T[dd,3] = pstats.chi2_test(df_panda[d][ex], df_panda['group'][ex], \\\n",
    "#                                        ['sertraline', 'placebo'])['p'].iloc[0]\n",
    "            T[dd,g+1] = str(sum((df_panda[d][ex]==i+1) & (df_panda['group'][ex]==g))) + \\\n",
    "            ' (' + str(round(sum((df_panda[d][ex]==i+1) & (df_panda['group'][ex]==g))/ \\\n",
    "                             sum((df_panda['group'][ex]==g))*100)) + '%)'\n",
    "            dd += 1\n",
    "T = T[~(T == None).all(axis=1),:]"
   ]
  },
  {
   "cell_type": "code",
   "execution_count": 17,
   "metadata": {},
   "outputs": [
    {
     "name": "stdout",
     "output_type": "stream",
     "text": [
      "\\begin{tabular}{lllr}\n",
      "\\hline\n",
      " None       & placebo (N = 221)   & sertraline (N = 214)   &   pvalue \\\\\n",
      "\\hline\n",
      " age        & 36.03 (12.97)       & 36.84 (14.29)          &    0.535 \\\\\n",
      " gad0       & 9.6 (5.11)          & 9.27 (5.19)            &    0.496 \\\\\n",
      " phq0       & 12.47 (5.66)        & 11.71 (5.77)           &    0.171 \\\\\n",
      " bdi0       & 24.19 (9.9)         & 24.06 (10.17)          &    0.889 \\\\\n",
      " cisscore   & 11.0 (4.8)          & 10.4 (4.82)            &    0.201 \\\\\n",
      " site0      & 98 (44\\%)            & 92 (43\\%)               &    0.681 \\\\\n",
      " site1      & 39 (18\\%)            & 37 (17\\%)               &    0.681 \\\\\n",
      " site2      & 48 (22\\%)            & 47 (22\\%)               &    0.681 \\\\\n",
      " site3      & 36 (16\\%)            & 38 (18\\%)               &    0.681 \\\\\n",
      " cis0       & 37 (17\\%)            & 45 (21\\%)               &    0.389 \\\\\n",
      " cis1       & 58 (26\\%)            & 51 (24\\%)               &    0.389 \\\\\n",
      " cis2       & 126 (57\\%)           & 117 (55\\%)              &    0.389 \\\\\n",
      " dep0       & 146 (66\\%)           & 147 (69\\%)              &    0.559 \\\\\n",
      " dep1       & 75 (34\\%)            & 67 (31\\%)               &    0.559 \\\\\n",
      " education0 & 165 (75\\%)           & 160 (75\\%)              &    0.929 \\\\\n",
      " education1 & 53 (24\\%)            & 50 (23\\%)               &    0.929 \\\\\n",
      " education2 & 3 (1\\%)              & 3 (1\\%)                 &    0.929 \\\\\n",
      " AD\\_past0   & 97 (44\\%)            & 100 (47\\%)              &    0.523 \\\\\n",
      " AD\\_past1   & 124 (56\\%)           & 113 (53\\%)              &    0.523 \\\\\n",
      " sex0       & 101 (46\\%)           & 84 (39\\%)               &    0.174 \\\\\n",
      " sex1       & 120 (54\\%)           & 130 (61\\%)              &    0.174 \\\\\n",
      " ethnic0    & 205 (93\\%)           & 198 (93\\%)              &    0.936 \\\\\n",
      " ethnic1    & 16 (7\\%)             & 15 (7\\%)                &    0.936 \\\\\n",
      " fin0       & 130 (59\\%)           & 121 (57\\%)              &    0.663 \\\\\n",
      " fin1       & 66 (30\\%)            & 66 (31\\%)               &    0.663 \\\\\n",
      " fin2       & 25 (11\\%)            & 26 (12\\%)               &    0.663 \\\\\n",
      " empstat0   & 159 (72\\%)           & 146 (68\\%)              &    0.439 \\\\\n",
      " empstat1   & 62 (28\\%)            & 67 (31\\%)               &    0.439 \\\\\n",
      " marstat0   & 86 (39\\%)            & 74 (35\\%)               &    0.218 \\\\\n",
      " marstat1   & 110 (50\\%)           & 107 (50\\%)              &    0.218 \\\\\n",
      " marstat2   & 25 (11\\%)            & 32 (15\\%)               &    0.218 \\\\\n",
      "\\hline\n",
      "\\end{tabular}\n"
     ]
    }
   ],
   "source": [
    "# print demographics table in latex\n",
    "from tabulate import tabulate\n",
    "print(tabulate(T, headers='firstrow', tablefmt='latex'))"
   ]
  },
  {
   "cell_type": "code",
   "execution_count": 18,
   "metadata": {},
   "outputs": [
    {
     "name": "stdout",
     "output_type": "stream",
     "text": [
      "multiple comparison: p < 0.002\n",
      "gad0\n",
      "----------------------------------------------------------------------------------------------------\n",
      "rew_se0: \tbeta: 0.4,\tCI: [-0.18,0.98],\tpvalue: 0.1791\n",
      "loss_se0: \tbeta: -0.25,\tCI: [-0.86,0.36],\tpvalue: 0.425\n",
      "rew_LR0: \tbeta: -0.07,\tCI: [-0.59,0.45],\tpvalue: 0.7906\n",
      "loss_LR0: \tbeta: 0.23,\tCI: [-0.11,0.58],\tpvalue: 0.1839\n",
      "app_Pav0: \tbeta: -0.09,\tCI: [-1.13,0.95],\tpvalue: 0.8642\n",
      "av_Pav0: \tbeta: 0.04,\tCI: [-0.67,0.76],\tpvalue: 0.9056\n",
      "noise0: \tbeta: -0.08,\tCI: [-0.56,0.4],\tpvalue: 0.7501\n",
      "bias0: \tbeta: -0.01,\tCI: [-0.63,0.62],\tpvalue: 0.9876\n",
      "----------------------------------------------------------------------------------------------------\n",
      "phq0\n",
      "----------------------------------------------------------------------------------------------------\n",
      "rew_se0: \tbeta: 0.43,\tCI: [-0.23,1.09],\tpvalue: 0.198\n",
      "loss_se0: \tbeta: -0.23,\tCI: [-0.92,0.47],\tpvalue: 0.5207\n",
      "rew_LR0: \tbeta: -0.11,\tCI: [-0.71,0.48],\tpvalue: 0.7069\n",
      "loss_LR0: \tbeta: 0.25,\tCI: [-0.14,0.64],\tpvalue: 0.2059\n",
      "app_Pav0: \tbeta: -0.11,\tCI: [-1.28,1.07],\tpvalue: 0.8605\n",
      "av_Pav0: \tbeta: -0.04,\tCI: [-0.85,0.77],\tpvalue: 0.9253\n",
      "noise0: \tbeta: 0.02,\tCI: [-0.52,0.57],\tpvalue: 0.9328\n",
      "bias0: \tbeta: -0.27,\tCI: [-0.98,0.44],\tpvalue: 0.4598\n",
      "----------------------------------------------------------------------------------------------------\n",
      "bdi0\n",
      "----------------------------------------------------------------------------------------------------\n",
      "rew_se0: \tbeta: 1.48,\tCI: [0.37,2.6],\tpvalue: 0.0093\n",
      "loss_se0: \tbeta: 0.0,\tCI: [-1.19,1.19],\tpvalue: 0.9992\n",
      "rew_LR0: \tbeta: -0.78,\tCI: [-1.79,0.23],\tpvalue: 0.1318\n",
      "loss_LR0: \tbeta: 0.33,\tCI: [-0.33,1.0],\tpvalue: 0.3263\n",
      "app_Pav0: \tbeta: 0.38,\tCI: [-1.62,2.39],\tpvalue: 0.7091\n",
      "av_Pav0: \tbeta: -0.07,\tCI: [-1.46,1.31],\tpvalue: 0.9157\n",
      "noise0: \tbeta: 0.1,\tCI: [-0.82,1.03],\tpvalue: 0.8246\n",
      "bias0: \tbeta: -0.76,\tCI: [-1.97,0.45],\tpvalue: 0.2195\n",
      "----------------------------------------------------------------------------------------------------\n"
     ]
    }
   ],
   "source": [
    "# Baseline GNG parameters related to psychiatric scores?\n",
    "print('multiple comparison: p < ' + str(np.round(0.05/(8*3),3)))\n",
    "for j in [i + '0' for i in prepdata.psychiatric_questionnaire]:\n",
    "    print(j)\n",
    "    print(100*'-')\n",
    "    for p in prepdata.parameter_labels[:-1]:\n",
    "        gngstats.glm(j + ' ~' + p + '0', df_panda[df_panda['exclusion0'] == 0], \\\n",
    "                       [p + '0'])\n",
    "    print(100*'-')"
   ]
  },
  {
   "cell_type": "markdown",
   "metadata": {},
   "source": [
    "---------------------------------------------------------------------------------------------------------------\n",
    "MIXED EFFECTS MODELLING\n",
    "--------------------------------------------------------------------------------------------------------"
   ]
  },
  {
   "cell_type": "code",
   "execution_count": 19,
   "metadata": {},
   "outputs": [],
   "source": [
    "import warnings\n",
    "from statsmodels.tools.sm_exceptions import ConvergenceWarning\n",
    "warnings.simplefilter('ignore', ConvergenceWarning)\n",
    "warnings.simplefilter(action='ignore', category=pd.errors.PerformanceWarning)"
   ]
  },
  {
   "cell_type": "code",
   "execution_count": 20,
   "metadata": {},
   "outputs": [],
   "source": [
    "# create dataframe for mixed-effects modelling\n",
    "mle_df = prepdata.create_mle_df(df_panda, prepdata.gng_variables + prepdata.parameter_labels, baseline_vars)\n",
    "mle_df['anhlog'] = np.hstack((df_panda['anh0'],df_panda['anh1'],df_panda['anh2']))\n",
    "for i in mle_df.columns:\n",
    "    mle_df[i + '_zscore'] = gngstats.normalize(mle_df[i])\n",
    "    \n",
    "included_subjects = mle_df['exclusion']==0\n",
    "timing = [mle_df['time']<2, (mle_df['time']==0)|(mle_df['time']==2), mle_df['time']<3]\n",
    "timing_label = ['2','6','over time', 'time x group']"
   ]
  },
  {
   "cell_type": "markdown",
   "metadata": {},
   "source": [
    "Preregistered Hypotheses\n",
    "--"
   ]
  },
  {
   "cell_type": "code",
   "execution_count": 21,
   "metadata": {},
   "outputs": [
    {
     "name": "stdout",
     "output_type": "stream",
     "text": [
      "T = 2, placebo: -0.55±0.79, sertraline: -0.71±0.79, group: \tbeta: -0.12,\tCI: [-0.29,0.05],\tpvalue: 0.1662\n",
      "T = 6, placebo: -0.77±0.85, sertraline: -0.7±0.83, group: \tbeta: 0.12,\tCI: [-0.06,0.3],\tpvalue: 0.2058\n",
      "over time, group: \tbeta: -0.01,\tCI: [-0.14,0.12],\tpvalue: 0.8931\n",
      "time x group, group:time: \tbeta: 0.12,\tCI: [-0.05,0.29],\tpvalue: 0.1592\n"
     ]
    }
   ],
   "source": [
    "# H1: aversive Pav related to sertraline?\n",
    "p = 'av_Pav'\n",
    "timing_label = ['2','6','over time', 'time x group']\n",
    "for i in range(2):\n",
    "    print('T = ' + timing_label[i], end = ', ')\n",
    "    tmp = mle_df[timing[i]&included_subjects]\n",
    "    for g in range(2):\n",
    "        print(['placebo', 'sertraline'][g] + ': ' + \\\n",
    "              str(np.round(np.nanmean(tmp[p][(tmp['group']==g)&(tmp['time']==i+1)]),2)) + '±' + \\\n",
    "              str(np.round(np.nanstd(tmp[p][(tmp['group']==g)&(tmp['time']==i+1)]),2)), end=', ')\n",
    "    gngstats.mle(p + ' ~ group + time' + stratification_covariates + exclusion_covariates, tmp, ['group'],[])\n",
    "\n",
    "for i in range(2):\n",
    "    print(timing_label[i+2], end = ', ')\n",
    "    gngstats.mle(p + ' ~ ' + ['group + time', 'group * time'][i] + stratification_covariates + \\\n",
    "                 exclusion_covariates, mle_df[timing[2]&included_subjects], [['group', 'group:time'][i]],[])\n"
   ]
  },
  {
   "cell_type": "code",
   "execution_count": 22,
   "metadata": {},
   "outputs": [
    {
     "name": "stdout",
     "output_type": "stream",
     "text": [
      "-0.5026456524007136 0.8287859100454065\n",
      "-0.5538415294603797 0.7896871772382293\n"
     ]
    }
   ],
   "source": [
    "# Pavlovian bias at baseline\n",
    "p = 'av_Pav'\n",
    "for g in range(2):\n",
    "    print(df_panda[p + '0'][(df_panda['exclusion0']==0)&(df_panda['group']==g)].mean(), \\\n",
    "          df_panda[p + '0'][(df_panda['exclusion0']==0)&(df_panda['group']==g)].std())"
   ]
  },
  {
   "cell_type": "code",
   "execution_count": 23,
   "metadata": {},
   "outputs": [
    {
     "name": "stdout",
     "output_type": "stream",
     "text": [
      "2:\tav_Pav: \tbeta: -0.01,\tCI: [-0.03,0.01],\tpvalue: 0.406\n",
      "6:\tmodel not converged -> random effects removed:\n",
      "av_Pav: \tbeta: -0.02,\tCI: [-0.05,0.01],\tpvalue: 0.125\n",
      "over time:\tav_Pav: \tbeta: -0.02,\tCI: [-0.04,0.0],\tpvalue: 0.0599\n"
     ]
    }
   ],
   "source": [
    "# H2: aversive Pav related to anxiety?\n",
    "p = 'av_Pav'\n",
    "for i in range(3):\n",
    "    tmp = mle_df[timing[i]&included_subjects]\n",
    "    print(timing_label[i] + ':', end='\\t')\n",
    "    gngstats.mle('gadlog ~ ' + p + ' + group + time' + stratification_covariates + exclusion_covariates, \\\n",
    "               tmp, [p], p)"
   ]
  },
  {
   "cell_type": "code",
   "execution_count": 24,
   "metadata": {},
   "outputs": [
    {
     "name": "stdout",
     "output_type": "stream",
     "text": [
      "av_Pav0: \tbeta: -0.02,\tCI: [-0.07,0.03],\tpvalue: 0.4576\n"
     ]
    }
   ],
   "source": [
    "# H4: can baseline aversive Pav predict anxiety at week 12?\n",
    "p = 'av_Pav0'\n",
    "gngstats.glm('gad3log ~ ' + p + ' + gad0log + group ' + stratification_covariates + exclusion_covariates, \\\n",
    "           df_panda[df_panda['exclusion0']==0].astype(float), [p]);"
   ]
  },
  {
   "cell_type": "code",
   "execution_count": 25,
   "metadata": {},
   "outputs": [
    {
     "name": "stdout",
     "output_type": "stream",
     "text": [
      "2:\tapp_Pav: \tbeta: -0.01,\tCI: [-0.04,0.02],\tpvalue: 0.3771\n",
      "6:\t"
     ]
    },
    {
     "name": "stderr",
     "output_type": "stream",
     "text": [
      "/Users/jolandamalamud/opt/miniconda3/envs/pandaenv/lib/python3.9/site-packages/statsmodels/regression/mixed_linear_model.py:1635: UserWarning: Random effects covariance is singular\n",
      "  warnings.warn(msg)\n",
      "/Users/jolandamalamud/opt/miniconda3/envs/pandaenv/lib/python3.9/site-packages/statsmodels/regression/mixed_linear_model.py:1635: UserWarning: Random effects covariance is singular\n",
      "  warnings.warn(msg)\n"
     ]
    },
    {
     "name": "stdout",
     "output_type": "stream",
     "text": [
      "app_Pav: \tbeta: -0.03,\tCI: [-0.07,0.0],\tpvalue: 0.0582\n",
      "over time:\tapp_Pav: \tbeta: -0.03,\tCI: [-0.05,0.0],\tpvalue: 0.0661\n"
     ]
    }
   ],
   "source": [
    "# H5: appetitive Pav related to anxiety?\n",
    "p = 'app_Pav'\n",
    "for i in range(3):\n",
    "    tmp = mle_df[timing[i]&included_subjects]\n",
    "    print(timing_label[i] + ':', end='\\t')\n",
    "    gngstats.mle('phqlog ~ ' + p + ' + group + time' + stratification_covariates + exclusion_covariates, \\\n",
    "               tmp, [p], p)\n",
    "    "
   ]
  },
  {
   "cell_type": "code",
   "execution_count": 26,
   "metadata": {},
   "outputs": [
    {
     "name": "stdout",
     "output_type": "stream",
     "text": [
      "2:\t"
     ]
    },
    {
     "name": "stderr",
     "output_type": "stream",
     "text": [
      "/Users/jolandamalamud/opt/miniconda3/envs/pandaenv/lib/python3.9/site-packages/statsmodels/regression/mixed_linear_model.py:1635: UserWarning: Random effects covariance is singular\n",
      "  warnings.warn(msg)\n"
     ]
    },
    {
     "name": "stdout",
     "output_type": "stream",
     "text": [
      "rew_se: \tbeta: -0.01,\tCI: [-0.08,0.05],\tpvalue: 0.6458\n",
      "6:\trew_se: \tbeta: 0.04,\tCI: [-0.02,0.11],\tpvalue: 0.1918\n",
      "over time:\trew_se: \tbeta: 0.0,\tCI: [-0.05,0.05],\tpvalue: 0.9071\n"
     ]
    }
   ],
   "source": [
    "# H6: reward sensitivity related to anhedonia?\n",
    "p = 'rew_se'\n",
    "for i in range(3):\n",
    "    tmp = mle_df[timing[i]&included_subjects]\n",
    "    print(timing_label[i] + ':', end='\\t')\n",
    "    gngstats.mle('anhlog ~ ' + p + ' + group + time' + stratification_covariates + exclusion_covariates, \\\n",
    "        tmp, [p], p)\n"
   ]
  },
  {
   "cell_type": "markdown",
   "metadata": {},
   "source": [
    "Exploratory Analyses\n",
    "--"
   ]
  },
  {
   "cell_type": "code",
   "execution_count": 27,
   "metadata": {},
   "outputs": [],
   "source": [
    "# Create a longer DF including the week 12 measurment\n",
    "symptom_df = mle_df[['subject','group', 'time', 'exclusion'] + baseline_vars + \\\n",
    "                    [i for i in mle_df if i[:3] in prepdata.psychiatric_questionnaire]]\n",
    "keys = [i + '3log' for i in prepdata.psychiatric_questionnaire]\n",
    "values = [i + 'log' for i in prepdata.psychiatric_questionnaire]\n",
    "result_dict = dict(zip(keys, values))\n",
    "tmp = df_panda[['group'] + baseline_vars + \\\n",
    "               [i + '3log' for i in prepdata.psychiatric_questionnaire]].rename(columns=result_dict)\n",
    "tmp['subject'] = range(len(tmp))\n",
    "tmp['time'] = 3\n",
    "tmp['exclusion'] = 0\n",
    "symptom_df = pd.concat([symptom_df, tmp], ignore_index=True)"
   ]
  },
  {
   "cell_type": "code",
   "execution_count": 28,
   "metadata": {},
   "outputs": [
    {
     "name": "stdout",
     "output_type": "stream",
     "text": [
      "gad -> T = 2: group: \tbeta: 0.0,\tCI: [-0.06,0.06],\tpvalue: 0.9949\n",
      "gad -> T = 6: group: \tbeta: -0.1,\tCI: [-0.17,-0.03],\tpvalue: 0.0042\n",
      "gad -> T = 12: group: \tbeta: -0.12,\tCI: [-0.18,-0.07],\tpvalue: 0.0\n",
      "over time: gad group: \tbeta: -0.08,\tCI: [-0.13,-0.04],\tpvalue: 0.0001\n",
      "group x time: gad group:time: \tbeta: -0.03,\tCI: [-0.06,-0.01],\tpvalue: 0.0147\n",
      "----------------------------------------------------------------------------------------------------\n",
      "phq -> T = 2: group: \tbeta: 0.01,\tCI: [-0.04,0.05],\tpvalue: 0.804\n",
      "phq -> T = 6: group: \tbeta: -0.01,\tCI: [-0.06,0.05],\tpvalue: 0.8255\n",
      "phq -> T = 12: group: \tbeta: -0.07,\tCI: [-0.12,-0.02],\tpvalue: 0.0103\n",
      "over time: phq group: \tbeta: -0.03,\tCI: [-0.06,0.01],\tpvalue: 0.1662\n",
      "group x time: phq group:time: \tbeta: -0.03,\tCI: [-0.06,-0.0],\tpvalue: 0.0193\n",
      "----------------------------------------------------------------------------------------------------\n",
      "bdi -> T = 2: group: \tbeta: 0.01,\tCI: [-0.04,0.06],\tpvalue: 0.5744\n",
      "bdi -> T = 6: group: \tbeta: 0.0,\tCI: [-0.06,0.06],\tpvalue: 0.9805\n",
      "bdi -> T = 12: group: \tbeta: -0.08,\tCI: [-0.13,-0.02],\tpvalue: 0.0079\n",
      "over time: bdi group: \tbeta: -0.04,\tCI: [-0.08,0.01],\tpvalue: 0.0937\n",
      "group x time: bdi group:time: \tbeta: -0.03,\tCI: [-0.05,0.0],\tpvalue: 0.0652\n",
      "----------------------------------------------------------------------------------------------------\n"
     ]
    }
   ],
   "source": [
    "# Effect of sertraline on symptoms in included sample at week 2, 6 and 12 separately and over time\n",
    "for p in prepdata.psychiatric_questionnaire:\n",
    "    for i in range(3):\n",
    "        tmp = symptom_df[(symptom_df['exclusion']==0)&((symptom_df['time']==0)|(symptom_df['time']==i+1))]\n",
    "        print(p + ' -> T = ' + ['2', '6', '12'][i] + ':', end=' ')\n",
    "        gngstats.mle(p + 'log ~ group + time' + stratification_covariates + exclusion_covariates, \\\n",
    "                   tmp, ['group'], 'group')\n",
    "    tmp = symptom_df[symptom_df['exclusion']==0]\n",
    "    print('over time:', end=' ' + p + ' ')\n",
    "    gngstats.mle(p + 'log ~ group + time' + stratification_covariates + exclusion_covariates, \\\n",
    "               tmp, ['group'], 'group')\n",
    "    print('group x time:', end=' ' + p + ' ')\n",
    "    gngstats.mle(p + 'log ~ group * time' + stratification_covariates + exclusion_covariates, \\\n",
    "               tmp, ['group:time'], 'group')\n",
    "    print(100*'-')"
   ]
  },
  {
   "cell_type": "markdown",
   "metadata": {},
   "source": [
    "Sertraline had no effect on depressive symptoms at week 2 and 6 and only small effect at week 12 in the limited sample, but we observed evidence that differences in GAD-7 scores\n",
    "became larger over time (constant to complete sample and original trial paper)"
   ]
  },
  {
   "cell_type": "markdown",
   "metadata": {},
   "source": [
    "Drug effects:\n",
    "--\n",
    "only at 2 weeks:\n",
    "- loss LR HIGHER in sertraline group\n"
   ]
  },
  {
   "cell_type": "code",
   "execution_count": 29,
   "metadata": {},
   "outputs": [
    {
     "name": "stdout",
     "output_type": "stream",
     "text": [
      "correction for multiple comparison: pval < 0.00625\n"
     ]
    }
   ],
   "source": [
    "print('correction for multiple comparison: pval < ' + str(0.05/8))"
   ]
  },
  {
   "cell_type": "code",
   "execution_count": 30,
   "metadata": {},
   "outputs": [
    {
     "name": "stdout",
     "output_type": "stream",
     "text": [
      "rew_se\n",
      "T = 2, group: \tbeta: 0.21,\tCI: [-0.01,0.44],\tpvalue: 0.0666\n",
      "T = 6, group: \tbeta: -0.14,\tCI: [-0.37,0.1],\tpvalue: 0.2568\n",
      "over time, group: \tbeta: 0.01,\tCI: [-0.14,0.17],\tpvalue: 0.8535\n",
      "time x group, group: \tbeta: 0.19,\tCI: [-0.2,0.58],\tpvalue: 0.337\n",
      "----------------------------------------------------------------------------------------------------\n",
      "loss_se\n",
      "T = 2, group: \tbeta: -0.16,\tCI: [-0.37,0.05],\tpvalue: 0.1263\n",
      "T = 6, group: \tbeta: 0.13,\tCI: [-0.09,0.34],\tpvalue: 0.2584\n",
      "over time, group: \tbeta: 0.01,\tCI: [-0.14,0.17],\tpvalue: 0.8523\n",
      "time x group, group: \tbeta: 0.0,\tCI: [-0.34,0.34],\tpvalue: 0.9957\n",
      "----------------------------------------------------------------------------------------------------\n",
      "rew_LR\n",
      "T = 2, group: \tbeta: -0.06,\tCI: [-0.32,0.2],\tpvalue: 0.6752\n",
      "T = 6, group: \tbeta: 0.14,\tCI: [-0.12,0.4],\tpvalue: 0.2919\n",
      "over time, group: \tbeta: 0.08,\tCI: [-0.11,0.26],\tpvalue: 0.4266\n",
      "time x group, group: \tbeta: 0.08,\tCI: [-0.36,0.52],\tpvalue: 0.7233\n",
      "----------------------------------------------------------------------------------------------------\n",
      "loss_LR\n",
      "T = 2, group: \tbeta: 0.56,\tCI: [0.2,0.92],\tpvalue: 0.0022\n",
      "T = 6, group: \tbeta: -0.3,\tCI: [-0.69,0.09],\tpvalue: 0.1316\n",
      "over time, group: \tbeta: 0.09,\tCI: [-0.18,0.36],\tpvalue: 0.5051\n",
      "time x group, group: \tbeta: 0.5,\tCI: [-0.1,1.1],\tpvalue: 0.1023\n",
      "----------------------------------------------------------------------------------------------------\n",
      "app_Pav\n",
      "T = 2, group: \tbeta: 0.06,\tCI: [-0.06,0.18],\tpvalue: 0.3535\n",
      "T = 6, group: \tbeta: -0.05,\tCI: [-0.17,0.08],\tpvalue: 0.4534\n",
      "over time, group: \tbeta: 0.0,\tCI: [-0.09,0.09],\tpvalue: 0.9962\n",
      "time x group, group: \tbeta: 0.09,\tCI: [-0.11,0.28],\tpvalue: 0.3761\n",
      "----------------------------------------------------------------------------------------------------\n",
      "noise\n",
      "T = 2, group: \tbeta: -0.15,\tCI: [-0.41,0.12],\tpvalue: 0.2772\n",
      "T = 6, group: \tbeta: 0.06,\tCI: [-0.2,0.33],\tpvalue: 0.6444\n",
      "over time, group: \tbeta: -0.03,\tCI: [-0.22,0.16],\tpvalue: 0.7352\n",
      "time x group, group: \tbeta: -0.16,\tCI: [-0.58,0.27],\tpvalue: 0.4624\n",
      "----------------------------------------------------------------------------------------------------\n",
      "bias\n",
      "T = 2, group: \tbeta: 0.03,\tCI: [-0.18,0.23],\tpvalue: 0.8071\n",
      "T = 6, group: \tbeta: 0.04,\tCI: [-0.17,0.25],\tpvalue: 0.7281\n",
      "over time, group: \tbeta: 0.08,\tCI: [-0.07,0.23],\tpvalue: 0.3117\n",
      "time x group, group: \tbeta: 0.26,\tCI: [-0.07,0.58],\tpvalue: 0.1248\n",
      "----------------------------------------------------------------------------------------------------\n"
     ]
    }
   ],
   "source": [
    "# Drug effect on parameter\n",
    "timing_label = ['2','6','over time', 'time x group']\n",
    "for p in [i for i in prepdata.parameter_labels[:-1] if i != 'av_Pav']:\n",
    "    print(p)\n",
    "    for i in range(2):\n",
    "        print('T = ' + ['2', '6', '12'][i], end = ', ')\n",
    "        tmp = mle_df[timing[i]&(mle_df['exclusion']==0)]\n",
    "        gngstats.mle(p + ' ~ group + time' + stratification_covariates + exclusion_covariates, tmp, ['group'],[])\n",
    "\n",
    "    for i in range(2):\n",
    "        print(timing_label[i+2], end = ', ')\n",
    "        gngstats.mle(p + ' ~ ' + ['group + time', 'group * time'][i] + stratification_covariates + \\\n",
    "                     exclusion_covariates, mle_df[timing[2]&included_subjects], ['group'],[])\n",
    "    \n",
    "    print(100*'-')"
   ]
  },
  {
   "cell_type": "markdown",
   "metadata": {},
   "source": [
    "Association with symptoms\n",
    "--\n",
    "loss LR is positively related to GAD at week 2, 6, and over all sessions"
   ]
  },
  {
   "cell_type": "code",
   "execution_count": 31,
   "metadata": {},
   "outputs": [
    {
     "name": "stdout",
     "output_type": "stream",
     "text": [
      "correction for multiple comparison: pval < 0.0020833333333333333\n"
     ]
    }
   ],
   "source": [
    "print('correction for multiple comparison: pval < ' + str(0.05/(8*3)))"
   ]
  },
  {
   "cell_type": "code",
   "execution_count": 32,
   "metadata": {},
   "outputs": [
    {
     "name": "stdout",
     "output_type": "stream",
     "text": [
      "gad\n",
      "2:\trew_se_zscore: \tbeta: -0.03,\tCI: [-0.09,0.04],\tpvalue: 0.4348\n",
      "6:\trew_se_zscore: \tbeta: 0.05,\tCI: [-0.03,0.12],\tpvalue: 0.2148\n",
      "over time:\trew_se_zscore: \tbeta: 0.0,\tCI: [-0.05,0.06],\tpvalue: 0.8858\n",
      "----------------------------------------------------------------------------------------------------\n",
      "2:\tmodel not converged -> random effects removed:\n",
      "loss_se_zscore: \tbeta: -0.05,\tCI: [-0.12,0.01],\tpvalue: 0.102\n",
      "6:\tloss_se_zscore: \tbeta: -0.04,\tCI: [-0.12,0.03],\tpvalue: 0.2362\n",
      "over time:\tloss_se_zscore: \tbeta: -0.06,\tCI: [-0.12,0.0],\tpvalue: 0.0505\n",
      "----------------------------------------------------------------------------------------------------\n",
      "2:\trew_LR_zscore: \tbeta: 0.01,\tCI: [-0.05,0.07],\tpvalue: 0.8283\n",
      "6:\trew_LR_zscore: \tbeta: -0.02,\tCI: [-0.09,0.05],\tpvalue: 0.5147\n",
      "over time:\tmodel not converged -> random effects removed:\n",
      "rew_LR_zscore: \tbeta: -0.01,\tCI: [-0.06,0.05],\tpvalue: 0.8133\n",
      "----------------------------------------------------------------------------------------------------\n",
      "2:\tmodel not converged -> random effects removed:\n",
      "loss_LR_zscore: \tbeta: 0.06,\tCI: [0.0,0.12],\tpvalue: 0.0386\n",
      "6:\tmodel not converged -> random effects removed:\n",
      "loss_LR_zscore: \tbeta: 0.08,\tCI: [0.02,0.15],\tpvalue: 0.012\n",
      "over time:\tloss_LR_zscore: \tbeta: 0.09,\tCI: [0.03,0.14],\tpvalue: 0.0012\n",
      "----------------------------------------------------------------------------------------------------\n",
      "2:\tapp_Pav_zscore: \tbeta: 0.01,\tCI: [-0.05,0.06],\tpvalue: 0.8365\n",
      "6:\tapp_Pav_zscore: \tbeta: -0.02,\tCI: [-0.08,0.04],\tpvalue: 0.5424\n",
      "over time:\tmodel not converged -> random effects removed:\n",
      "app_Pav_zscore: \tbeta: 0.0,\tCI: [-0.05,0.05],\tpvalue: 0.9207\n",
      "----------------------------------------------------------------------------------------------------\n",
      "2:\tnoise_zscore: \tbeta: -0.01,\tCI: [-0.09,0.06],\tpvalue: 0.7465\n",
      "6:\tmodel not converged -> random effects removed:\n",
      "noise_zscore: \tbeta: 0.02,\tCI: [-0.07,0.1],\tpvalue: 0.6736\n",
      "over time:\tnoise_zscore: \tbeta: -0.0,\tCI: [-0.07,0.07],\tpvalue: 0.9546\n",
      "----------------------------------------------------------------------------------------------------\n",
      "2:\tbias_zscore: \tbeta: 0.05,\tCI: [-0.04,0.13],\tpvalue: 0.2541\n",
      "6:\tbias_zscore: \tbeta: -0.06,\tCI: [-0.15,0.04],\tpvalue: 0.2444\n",
      "over time:\tbias_zscore: \tbeta: -0.01,\tCI: [-0.09,0.06],\tpvalue: 0.7239\n",
      "----------------------------------------------------------------------------------------------------\n",
      "====================================================================================================\n",
      "phq\n",
      "2:\trew_se_zscore: \tbeta: -0.03,\tCI: [-0.09,0.03],\tpvalue: 0.2844\n",
      "6:\trew_se_zscore: \tbeta: 0.05,\tCI: [-0.03,0.12],\tpvalue: 0.2234\n",
      "over time:\tmodel not converged -> random effects removed:\n",
      "rew_se_zscore: \tbeta: 0.0,\tCI: [-0.05,0.06],\tpvalue: 0.9425\n",
      "----------------------------------------------------------------------------------------------------\n",
      "2:\tloss_se_zscore: \tbeta: -0.06,\tCI: [-0.12,0.0],\tpvalue: 0.0654\n",
      "6:\tloss_se_zscore: \tbeta: -0.04,\tCI: [-0.11,0.04],\tpvalue: 0.3363\n",
      "over time:\tloss_se_zscore: \tbeta: -0.05,\tCI: [-0.11,0.01],\tpvalue: 0.1306\n",
      "----------------------------------------------------------------------------------------------------\n",
      "2:\trew_LR_zscore: \tbeta: 0.01,\tCI: [-0.05,0.06],\tpvalue: 0.856\n",
      "6:\trew_LR_zscore: \tbeta: -0.0,\tCI: [-0.07,0.07],\tpvalue: 0.9695\n",
      "over time:\trew_LR_zscore: \tbeta: -0.0,\tCI: [-0.06,0.05],\tpvalue: 0.9534\n",
      "----------------------------------------------------------------------------------------------------\n",
      "2:\tmodel not converged -> random effects removed:\n",
      "loss_LR_zscore: \tbeta: 0.03,\tCI: [-0.02,0.09],\tpvalue: 0.2079\n",
      "6:\tmodel not converged -> random effects removed:\n",
      "loss_LR_zscore: \tbeta: 0.07,\tCI: [0.0,0.14],\tpvalue: 0.0361\n",
      "over time:\tloss_LR_zscore: \tbeta: 0.05,\tCI: [-0.0,0.11],\tpvalue: 0.0509\n",
      "----------------------------------------------------------------------------------------------------\n",
      "2:\tapp_Pav_zscore: \tbeta: -0.02,\tCI: [-0.07,0.03],\tpvalue: 0.368\n",
      "6:\tmodel not converged -> random effects removed:\n",
      "app_Pav_zscore: \tbeta: -0.06,\tCI: [-0.12,0.0],\tpvalue: 0.0581\n",
      "over time:\tmodel not converged -> random effects removed:\n",
      "app_Pav_zscore: \tbeta: -0.05,\tCI: [-0.09,0.0],\tpvalue: 0.0661\n",
      "----------------------------------------------------------------------------------------------------\n",
      "2:\tnoise_zscore: \tbeta: -0.01,\tCI: [-0.08,0.06],\tpvalue: 0.8494\n",
      "6:\tnoise_zscore: \tbeta: 0.02,\tCI: [-0.07,0.11],\tpvalue: 0.6878\n",
      "over time:\tnoise_zscore: \tbeta: 0.01,\tCI: [-0.06,0.07],\tpvalue: 0.8208\n",
      "----------------------------------------------------------------------------------------------------\n",
      "2:\tbias_zscore: \tbeta: 0.03,\tCI: [-0.04,0.11],\tpvalue: 0.39\n",
      "6:\tbias_zscore: \tbeta: -0.04,\tCI: [-0.14,0.06],\tpvalue: 0.4035\n",
      "over time:\tbias_zscore: \tbeta: 0.02,\tCI: [-0.06,0.09],\tpvalue: 0.6926\n",
      "----------------------------------------------------------------------------------------------------\n",
      "====================================================================================================\n"
     ]
    }
   ],
   "source": [
    "# Parameter related to anxiety?\n",
    "for j in prepdata.psychiatric_questionnaire[:-1]:\n",
    "    print(j)\n",
    "    for p in  [i for i in prepdata.parameter_labels[:-1] if i != 'av_Pav']:\n",
    "        for i in range(3):\n",
    "            tmp = mle_df[timing[i]&(mle_df['exclusion']==0)]\n",
    "            print(timing_label[i] + ':', end='\\t')\n",
    "            gngstats.mle(j + 'log_zscore ~ ' + p + '_zscore + group + time' + stratification_covariates + exclusion_covariates, \\\n",
    "                       tmp, [p + '_zscore'], p + '_zscore')\n",
    "        print(100*'-')\n",
    "    print(100*'=')"
   ]
  },
  {
   "cell_type": "code",
   "execution_count": 33,
   "metadata": {},
   "outputs": [
    {
     "name": "stdout",
     "output_type": "stream",
     "text": [
      "rew_se:\tnone\n",
      "loss_se:\tnone\n",
      "rew_LR:\t"
     ]
    },
    {
     "data": {
      "text/html": [
       "<div>\n",
       "<style scoped>\n",
       "    .dataframe tbody tr th:only-of-type {\n",
       "        vertical-align: middle;\n",
       "    }\n",
       "\n",
       "    .dataframe tbody tr th {\n",
       "        vertical-align: top;\n",
       "    }\n",
       "\n",
       "    .dataframe thead th {\n",
       "        text-align: right;\n",
       "    }\n",
       "</style>\n",
       "<table border=\"1\" class=\"dataframe\">\n",
       "  <thead>\n",
       "    <tr style=\"text-align: right;\">\n",
       "      <th></th>\n",
       "      <th>Coef.</th>\n",
       "      <th>Std.Err.</th>\n",
       "      <th>z</th>\n",
       "      <th>P&gt;|z|</th>\n",
       "      <th>[0.025</th>\n",
       "      <th>0.975]</th>\n",
       "    </tr>\n",
       "  </thead>\n",
       "  <tbody>\n",
       "    <tr>\n",
       "      <th>age</th>\n",
       "      <td>-0.011</td>\n",
       "      <td>0.003</td>\n",
       "      <td>-3.417</td>\n",
       "      <td>0.001</td>\n",
       "      <td>-0.018</td>\n",
       "      <td>-0.005</td>\n",
       "    </tr>\n",
       "  </tbody>\n",
       "</table>\n",
       "</div>"
      ],
      "text/plain": [
       "      Coef. Std.Err.       z  P>|z|  [0.025  0.975]\n",
       "age  -0.011    0.003  -3.417  0.001  -0.018  -0.005"
      ]
     },
     "metadata": {},
     "output_type": "display_data"
    },
    {
     "name": "stdout",
     "output_type": "stream",
     "text": [
      "loss_LR:\tnone\n",
      "app_Pav:\t"
     ]
    },
    {
     "data": {
      "text/html": [
       "<div>\n",
       "<style scoped>\n",
       "    .dataframe tbody tr th:only-of-type {\n",
       "        vertical-align: middle;\n",
       "    }\n",
       "\n",
       "    .dataframe tbody tr th {\n",
       "        vertical-align: top;\n",
       "    }\n",
       "\n",
       "    .dataframe thead th {\n",
       "        text-align: right;\n",
       "    }\n",
       "</style>\n",
       "<table border=\"1\" class=\"dataframe\">\n",
       "  <thead>\n",
       "    <tr style=\"text-align: right;\">\n",
       "      <th></th>\n",
       "      <th>Coef.</th>\n",
       "      <th>Std.Err.</th>\n",
       "      <th>z</th>\n",
       "      <th>P&gt;|z|</th>\n",
       "      <th>[0.025</th>\n",
       "      <th>0.975]</th>\n",
       "    </tr>\n",
       "  </thead>\n",
       "  <tbody>\n",
       "    <tr>\n",
       "      <th>time</th>\n",
       "      <td>-0.082</td>\n",
       "      <td>0.023</td>\n",
       "      <td>-3.594</td>\n",
       "      <td>0.000</td>\n",
       "      <td>-0.127</td>\n",
       "      <td>-0.037</td>\n",
       "    </tr>\n",
       "    <tr>\n",
       "      <th>age</th>\n",
       "      <td>0.011</td>\n",
       "      <td>0.002</td>\n",
       "      <td>6.484</td>\n",
       "      <td>0.000</td>\n",
       "      <td>0.008</td>\n",
       "      <td>0.014</td>\n",
       "    </tr>\n",
       "  </tbody>\n",
       "</table>\n",
       "</div>"
      ],
      "text/plain": [
       "       Coef. Std.Err.       z  P>|z|  [0.025  0.975]\n",
       "time  -0.082    0.023  -3.594  0.000  -0.127  -0.037\n",
       "age    0.011    0.002   6.484  0.000   0.008   0.014"
      ]
     },
     "metadata": {},
     "output_type": "display_data"
    },
    {
     "name": "stdout",
     "output_type": "stream",
     "text": [
      "av_Pav:\t"
     ]
    },
    {
     "data": {
      "text/html": [
       "<div>\n",
       "<style scoped>\n",
       "    .dataframe tbody tr th:only-of-type {\n",
       "        vertical-align: middle;\n",
       "    }\n",
       "\n",
       "    .dataframe tbody tr th {\n",
       "        vertical-align: top;\n",
       "    }\n",
       "\n",
       "    .dataframe thead th {\n",
       "        text-align: right;\n",
       "    }\n",
       "</style>\n",
       "<table border=\"1\" class=\"dataframe\">\n",
       "  <thead>\n",
       "    <tr style=\"text-align: right;\">\n",
       "      <th></th>\n",
       "      <th>Coef.</th>\n",
       "      <th>Std.Err.</th>\n",
       "      <th>z</th>\n",
       "      <th>P&gt;|z|</th>\n",
       "      <th>[0.025</th>\n",
       "      <th>0.975]</th>\n",
       "    </tr>\n",
       "  </thead>\n",
       "  <tbody>\n",
       "    <tr>\n",
       "      <th>time</th>\n",
       "      <td>-0.102</td>\n",
       "      <td>0.032</td>\n",
       "      <td>-3.228</td>\n",
       "      <td>0.001</td>\n",
       "      <td>-0.164</td>\n",
       "      <td>-0.040</td>\n",
       "    </tr>\n",
       "    <tr>\n",
       "      <th>age</th>\n",
       "      <td>0.012</td>\n",
       "      <td>0.003</td>\n",
       "      <td>4.742</td>\n",
       "      <td>0.000</td>\n",
       "      <td>0.007</td>\n",
       "      <td>0.017</td>\n",
       "    </tr>\n",
       "  </tbody>\n",
       "</table>\n",
       "</div>"
      ],
      "text/plain": [
       "       Coef. Std.Err.       z  P>|z|  [0.025  0.975]\n",
       "time  -0.102    0.032  -3.228  0.001  -0.164  -0.040\n",
       "age    0.012    0.003   4.742  0.000   0.007   0.017"
      ]
     },
     "metadata": {},
     "output_type": "display_data"
    },
    {
     "name": "stdout",
     "output_type": "stream",
     "text": [
      "noise:\tnone\n",
      "bias:\t"
     ]
    },
    {
     "data": {
      "text/html": [
       "<div>\n",
       "<style scoped>\n",
       "    .dataframe tbody tr th:only-of-type {\n",
       "        vertical-align: middle;\n",
       "    }\n",
       "\n",
       "    .dataframe tbody tr th {\n",
       "        vertical-align: top;\n",
       "    }\n",
       "\n",
       "    .dataframe thead th {\n",
       "        text-align: right;\n",
       "    }\n",
       "</style>\n",
       "<table border=\"1\" class=\"dataframe\">\n",
       "  <thead>\n",
       "    <tr style=\"text-align: right;\">\n",
       "      <th></th>\n",
       "      <th>Coef.</th>\n",
       "      <th>Std.Err.</th>\n",
       "      <th>z</th>\n",
       "      <th>P&gt;|z|</th>\n",
       "      <th>[0.025</th>\n",
       "      <th>0.975]</th>\n",
       "    </tr>\n",
       "  </thead>\n",
       "  <tbody>\n",
       "    <tr>\n",
       "      <th>time</th>\n",
       "      <td>0.131</td>\n",
       "      <td>0.039</td>\n",
       "      <td>3.371</td>\n",
       "      <td>0.001</td>\n",
       "      <td>0.055</td>\n",
       "      <td>0.208</td>\n",
       "    </tr>\n",
       "    <tr>\n",
       "      <th>age</th>\n",
       "      <td>-0.026</td>\n",
       "      <td>0.003</td>\n",
       "      <td>-8.999</td>\n",
       "      <td>0.000</td>\n",
       "      <td>-0.032</td>\n",
       "      <td>-0.021</td>\n",
       "    </tr>\n",
       "  </tbody>\n",
       "</table>\n",
       "</div>"
      ],
      "text/plain": [
       "       Coef. Std.Err.       z  P>|z|  [0.025  0.975]\n",
       "time   0.131    0.039   3.371  0.001   0.055   0.208\n",
       "age   -0.026    0.003  -8.999  0.000  -0.032  -0.021"
      ]
     },
     "metadata": {},
     "output_type": "display_data"
    }
   ],
   "source": [
    "# Do cognitive parameters relate to baseline variables over all time points?\n",
    "for i in prepdata.parameter_labels[:-1]:\n",
    "    print(i, end=':\\t')\n",
    "    m = gngstats.mle(i + ' ~ group + time' + stratification_covariates + exclusion_covariates, \\\n",
    "                        mle_df[mle_df['exclusion']==0], [], [])\n",
    "    mm = m.summary().tables[1][1:-1]\n",
    "    sig = m.pvalues < 0.05/8\n",
    "    if sig[1:-1].any(): display(mm[sig[1:-1]])\n",
    "    else: print('none')\n",
    "    "
   ]
  },
  {
   "cell_type": "markdown",
   "metadata": {},
   "source": [
    "- app and av Pav decrease over time\n",
    "- Note: reward learning rate, Pavlovian biases, and go bias are related to age!"
   ]
  },
  {
   "cell_type": "code",
   "execution_count": 34,
   "metadata": {},
   "outputs": [
    {
     "name": "stdout",
     "output_type": "stream",
     "text": [
      "loss_LR0: \tbeta: 0.01,\tCI: [-0.0,0.02],\tpvalue: 0.2393\n"
     ]
    },
    {
     "data": {
      "text/plain": [
       "<statsmodels.genmod.generalized_linear_model.GLMResultsWrapper at 0x7f80451d0460>"
      ]
     },
     "execution_count": 34,
     "metadata": {},
     "output_type": "execute_result"
    }
   ],
   "source": [
    "# Association between baseline gad and loss LR?\n",
    "gngstats.glm('gad0log ~ loss_LR0' + stratification_covariates + exclusion_covariates, \\\n",
    "                            df_panda[df_panda['exclusion0']==0], ['loss_LR0'])"
   ]
  },
  {
   "cell_type": "code",
   "execution_count": 35,
   "metadata": {},
   "outputs": [
    {
     "name": "stdout",
     "output_type": "stream",
     "text": [
      "loss_LR1: \tbeta: 0.01,\tCI: [-0.02,0.04],\tpvalue: 0.4726\n"
     ]
    },
    {
     "data": {
      "text/plain": [
       "<statsmodels.genmod.generalized_linear_model.GLMResultsWrapper at 0x7f8045bf9370>"
      ]
     },
     "execution_count": 35,
     "metadata": {},
     "output_type": "execute_result"
    }
   ],
   "source": [
    "# Association between gad at week 6 and loss LR at week 2?\n",
    "gngstats.glm('gad2log ~ loss_LR1' + stratification_covariates + exclusion_covariates, \\\n",
    "                            df_panda[df_panda['exclusion1']==0], ['loss_LR1'])"
   ]
  },
  {
   "cell_type": "markdown",
   "metadata": {},
   "source": [
    "---------------------------------------------------------------------------------------------------------------\n",
    "Change in parameter\n",
    "--"
   ]
  },
  {
   "cell_type": "code",
   "execution_count": 36,
   "metadata": {},
   "outputs": [],
   "source": [
    "# Compute change in parameter estimates\n",
    "df_panda = prepdata.parameter_change(df_panda)"
   ]
  },
  {
   "cell_type": "code",
   "execution_count": 37,
   "metadata": {},
   "outputs": [
    {
     "name": "stdout",
     "output_type": "stream",
     "text": [
      "N = 213\n",
      "N = 206\n"
     ]
    }
   ],
   "source": [
    "# number of patients with early change\n",
    "print('N = ' + str(sum((df_panda['exclusion0']==0)&(df_panda['exclusion1']==0))))\n",
    "print('N = ' + str(sum((df_panda['exclusion1']==0)&(df_panda['exclusion2']==0))))"
   ]
  },
  {
   "cell_type": "code",
   "execution_count": 38,
   "metadata": {},
   "outputs": [
    {
     "name": "stdout",
     "output_type": "stream",
     "text": [
      "av Pav change between baseline and week 2: \tgroup: \tbeta: -0.08,\tCI: [-0.32,0.15],\tpvalue: 0.4846\n",
      "placebo___:\tTtestResult(statistic=-1.5174922148422907, pvalue=0.13181705494817714, df=118)\n",
      "sertraline:\tTtestResult(statistic=-2.042845265728973, pvalue=0.04389787342236844, df=93)\n",
      "av Pav change between week 2 and week 6: \tgroup: \tbeta: 0.1,\tCI: [-0.14,0.35],\tpvalue: 0.4116\n",
      "placebo___:\tTtestResult(statistic=-2.066623802688763, pvalue=0.041034711661585364, df=114)\n",
      "sertraline:\tTtestResult(statistic=-0.5799026681607216, pvalue=0.5634292127487901, df=90)\n"
     ]
    }
   ],
   "source": [
    "# Drug effect on change in aversive Pavlovian bias\n",
    "changes = ['01', '12']\n",
    "change_labels = ['baseline and week 2', 'week 2 and week 6']\n",
    "group_label = ['placebo___','sertraline']\n",
    "p = 'av_Pav'\n",
    "for i in range(len(changes)):\n",
    "    print('av Pav change between ' + change_labels[i] + ': ', end='\\t')\n",
    "    gngstats.glm(p + '_slope' + changes[i] + ' ~ group' + stratification_covariates + exclusion_covariates, \\\n",
    "                            df_panda[(df_panda[['exclusion' + changes[i][0],\\\n",
    "                                                'exclusion' + changes[i][1]]] == 0).all(axis=1)], ['group'])\n",
    "    for g in range(2):\n",
    "        print(group_label[g],end=':\\t')\n",
    "        print(scipy.stats.ttest_1samp(df_panda[p + '_slope' + changes[i]][(df_panda[['exclusion' + changes[i][0], \\\n",
    "                                                                      'exclusion' + changes[i][1]]] == 0).all(axis=1) \\\n",
    "                                                       &(df_panda['group']==g)], popmean=0))"
   ]
  },
  {
   "cell_type": "code",
   "execution_count": 39,
   "metadata": {},
   "outputs": [
    {
     "name": "stdout",
     "output_type": "stream",
     "text": [
      "####################################################################################################\n",
      "gad:\n",
      "av_Pav_slope01: \tbeta: 0.02,\tCI: [-0.03,0.08],\tpvalue: 0.418\n",
      "av_Pav_slope01:group: \tbeta: 0.04,\tCI: [-0.07,0.16],\tpvalue: 0.4581\n",
      "####################################################################################################\n",
      "phq:\n",
      "av_Pav_slope01: \tbeta: 0.06,\tCI: [0.0,0.11],\tpvalue: 0.04\n",
      "av_Pav_slope01:group: \tbeta: 0.07,\tCI: [-0.04,0.19],\tpvalue: 0.1886\n",
      "####################################################################################################\n",
      "bdi:\n",
      "av_Pav_slope01: \tbeta: 0.07,\tCI: [0.01,0.13],\tpvalue: 0.0177\n",
      "av_Pav_slope01:group: \tbeta: 0.13,\tCI: [0.01,0.25],\tpvalue: 0.0313\n",
      "----------------------------------------------------------------------------------------------------\n",
      "placebo___: av_Pav_slope01: \tbeta: 0.01,\tCI: [-0.08,0.09],\tpvalue: 0.8988\n",
      "sertraline: av_Pav_slope01: \tbeta: 0.14,\tCI: [0.05,0.23],\tpvalue: 0.002\n"
     ]
    }
   ],
   "source": [
    "# Early changes in aversive Pav predicting treatment outcome?\n",
    "p = 'av_Pav'\n",
    "for j in prepdata.psychiatric_questionnaire:\n",
    "    print('#' * 100)\n",
    "    print(j + ':')\n",
    "    gngstats.glm(j + '3log ~' + p + '_slope01 + ' + j + '0log + group' + stratification_covariates \\\n",
    "               + exclusion_covariates, df_panda[(df_panda[['exclusion0', 'exclusion1']] == 0).all(axis=1)], \\\n",
    "               [p + '_slope01'])\n",
    "    gngstats.glm(j + '3log ~' + p + '_slope01* group +' +  j + '0log' + stratification_covariates \\\n",
    "               + exclusion_covariates, df_panda[(df_panda[['exclusion0', 'exclusion1']] == 0).all(axis=1)], \\\n",
    "               [p + '_slope01:group'])\n",
    "print('-' * 100)\n",
    "for i in range(2):\n",
    "    print(group_label[i], end=': ')\n",
    "    gngstats.glm(j + '3log ~' + p + '_slope01 +' +  j + '0log' + stratification_covariates \\\n",
    "               + exclusion_covariates, df_panda[(df_panda['group'] == i) & \\\n",
    "                                                (df_panda[['exclusion0', 'exclusion1']] == 0).all(axis=1)], \\\n",
    "               [p + '_slope01'])   "
   ]
  },
  {
   "cell_type": "code",
   "execution_count": 40,
   "metadata": {},
   "outputs": [
    {
     "name": "stdout",
     "output_type": "stream",
     "text": [
      "loss LR change between baseline and week 2: \tgroup: \tbeta: 0.75,\tCI: [0.18,1.31],\tpvalue: 0.0092\n",
      "placebo___:\tTtestResult(statistic=-0.7038282863694532, pvalue=0.4829262849798154, df=118)\n",
      "sertraline:\tTtestResult(statistic=2.739613117919031, pvalue=0.007373976818790651, df=93)\n",
      "loss LR change between week 2 and week 6: \tgroup: \tbeta: -0.72,\tCI: [-1.27,-0.17],\tpvalue: 0.0108\n",
      "placebo___:\tTtestResult(statistic=3.4427276226646897, pvalue=0.0008061888957859322, df=114)\n",
      "sertraline:\tTtestResult(statistic=-0.3191464671381358, pvalue=0.7503550084884072, df=90)\n"
     ]
    }
   ],
   "source": [
    "# Drug effect on change in loss learning rate\n",
    "changes = ['01', '12']\n",
    "change_labels = ['baseline and week 2', 'week 2 and week 6']\n",
    "group_label = ['placebo___','sertraline']\n",
    "p = 'loss_LR'\n",
    "for i in range(len(changes)):\n",
    "    print('loss LR change between ' + change_labels[i] + ': ', end='\\t')\n",
    "    gngstats.glm(p + '_slope' + changes[i] + ' ~ group' + stratification_covariates + exclusion_covariates, \\\n",
    "                            df_panda[(df_panda[['exclusion' + changes[i][0],\\\n",
    "                                                'exclusion' + changes[i][1]]] == 0).all(axis=1)], ['group'])\n",
    "    for g in range(2):\n",
    "        print(group_label[g],end=':\\t')\n",
    "        print(scipy.stats.ttest_1samp(df_panda[p + '_slope' + changes[i]][(df_panda[['exclusion' + changes[i][0], \\\n",
    "                                                                      'exclusion' + changes[i][1]]] == 0).all(axis=1) \\\n",
    "                                                       &(df_panda['group']==g)], popmean=0))"
   ]
  },
  {
   "cell_type": "code",
   "execution_count": 41,
   "metadata": {},
   "outputs": [
    {
     "name": "stdout",
     "output_type": "stream",
     "text": [
      "loss_LR_slope01: \tbeta: 0.0,\tCI: [-0.02,0.03],\tpvalue: 0.7655\n"
     ]
    },
    {
     "data": {
      "text/plain": [
       "<statsmodels.genmod.generalized_linear_model.GLMResultsWrapper at 0x7f8044d654c0>"
      ]
     },
     "execution_count": 41,
     "metadata": {},
     "output_type": "execute_result"
    }
   ],
   "source": [
    "# Association between gad at week 6 and change in loss LR between baseline and week 2?\n",
    "gngstats.glm('gad2log ~ loss_LR_slope01' + stratification_covariates + exclusion_covariates, \\\n",
    "                            df_panda[(df_panda[['exclusion0','exclusion1']]==0).all(axis=1)], ['loss_LR_slope01'])"
   ]
  },
  {
   "cell_type": "markdown",
   "metadata": {},
   "source": [
    "Replicate in whole sample\n",
    "--"
   ]
  },
  {
   "cell_type": "code",
   "execution_count": 42,
   "metadata": {},
   "outputs": [],
   "source": [
    "def convert_stats_table(table):\n",
    "    results_as_html = table.summary().tables[1].as_html()\n",
    "    x = pd.read_html(results_as_html, header=0, index_col=0)[0]\n",
    "    return x.iloc[1].values"
   ]
  },
  {
   "cell_type": "code",
   "execution_count": 62,
   "metadata": {},
   "outputs": [
    {
     "name": "stdout",
     "output_type": "stream",
     "text": [
      "\n",
      "1: drug effect on loss learning rate at week 2\n",
      "group: \tbeta: 0.32,\tCI: [0.03,0.61],\tpvalue: 0.0293\n",
      "\n",
      "2: drug effect on change in loss learning rate between baseline and week 2\n",
      "group: \tbeta: 0.32,\tCI: [-0.05,0.69],\tpvalue: 0.0878\n",
      "\n",
      "3: loss learing rate related to anxiety over time\n",
      "loss_LR: \tbeta: 0.01,\tCI: [0.0,0.02],\tpvalue: 0.0185\n",
      "\n",
      "4: change in aversive Pavlovian bias predicting treatment outcome (at week 12)\n",
      "av_Pav_slope01: \tbeta: 0.05,\tCI: [0.0,0.09],\tpvalue: 0.0312\n",
      "av_Pav_slope01:group: \tbeta: 0.07,\tCI: [-0.02,0.15],\tpvalue: 0.1197\n",
      "----------------------------------------------------------------------------------------------------\n",
      "placebo: av_Pav_slope01: \tbeta: 0.01,\tCI: [-0.05,0.07],\tpvalue: 0.7912\n",
      "sertraline: av_Pav_slope01: \tbeta: 0.08,\tCI: [0.02,0.14],\tpvalue: 0.0089\n"
     ]
    }
   ],
   "source": [
    "whole_sample_df = df_panda.copy()\n",
    "for i in range(3): whole_sample_df['exclusion' + str(i)] = 0\n",
    "whole_sample_mle_df = mle_df.copy()\n",
    "whole_sample_mle_df['exclusion'] = 0\n",
    "\n",
    "gngstats.calculate_exploratory_stats(whole_sample_mle_df, whole_sample_df, np.ones(len(df_panda)), \\\n",
    "                                            stratification_covariates)"
   ]
  },
  {
   "cell_type": "code",
   "execution_count": 63,
   "metadata": {},
   "outputs": [
    {
     "name": "stdout",
     "output_type": "stream",
     "text": [
      "group: \tbeta: 0.32,\tCI: [0.03,0.61],\tpvalue: 0.0293\n",
      "group: \tbeta: 0.32,\tCI: [-0.05,0.69],\tpvalue: 0.0878\n",
      "group: \tbeta: -0.35,\tCI: [-0.74,0.04],\tpvalue: 0.0801\n",
      "loss_LR: \tbeta: 0.01,\tCI: [0.0,0.02],\tpvalue: 0.0237\n",
      "av_Pav_slope01: \tbeta: 0.05,\tCI: [0.0,0.09],\tpvalue: 0.0312\n",
      "av_Pav_slope01:group: \tbeta: 0.07,\tCI: [-0.02,0.15],\tpvalue: 0.1197\n"
     ]
    }
   ],
   "source": [
    "# stats for whole sample\n",
    "whole_sample_results=[]\n",
    "m = gngstats.mle('loss_LR ~ group + time' + stratification_covariates, mle_df[mle_df['time']<2], ['group'],[])\n",
    "whole_sample_results.append(m.summary().tables[1].iloc[1].values)\n",
    "m = gngstats.glm('loss_LR_slope01 ~ group' + stratification_covariates, df_panda, ['group'])\n",
    "whole_sample_results.append(convert_stats_table(m))\n",
    "m = gngstats.glm('loss_LR_slope12 ~ group' + stratification_covariates, df_panda, ['group'])\n",
    "whole_sample_results.append(convert_stats_table(m))\n",
    "m = gngstats.mle('gadlog ~ loss_LR + group + time' + stratification_covariates, mle_df, ['loss_LR'], 'loss_LR')\n",
    "whole_sample_results.append(m.summary().tables[1].iloc[1].values)\n",
    "m = gngstats.glm('bdi3log ~ av_Pav_slope01 + group + bdi0log' + stratification_covariates, \\\n",
    "           df_panda, ['av_Pav_slope01'])\n",
    "whole_sample_results.append(convert_stats_table(m))\n",
    "m = gngstats.glm('bdi3log ~ av_Pav_slope01 * group + bdi0log' + stratification_covariates, \\\n",
    "           df_panda, ['av_Pav_slope01:group'])\n",
    "whole_sample_results.append(convert_stats_table(m))\n"
   ]
  },
  {
   "cell_type": "code",
   "execution_count": 64,
   "metadata": {},
   "outputs": [
    {
     "name": "stdout",
     "output_type": "stream",
     "text": [
      "\\begin{tabular}{lllllll}\n",
      "\\toprule\n",
      " & Coef. & Std.Err. & z & P>|z| & [0.025 & 0.975] \\\\\n",
      "\\midrule\n",
      "drug effect on LR$^{loss}_{t2}$ & 0.320 & 0.147 & 2.180 & 0.029 & 0.032 & 0.607 \\\\\n",
      "drug effect on $\\Delta$LR$^{loss}_{t2-t1}$ & 0.322200 & 0.189000 & 1.707000 & 0.088000 & -0.048000 & 0.692000 \\\\\n",
      "drug effect on $\\Delta$LR$^{loss}_{t3-t2}$ & -0.349700 & 0.200000 & -1.750000 & 0.080000 & -0.741000 & 0.042000 \\\\\n",
      "relation between GAD and LR$_{loss}$ & 0.009 & 0.004 & 2.261 & 0.024 & 0.001 & 0.016 \\\\\n",
      "effect of $\\Delta$Pav$^{aversive}_{t2-t1}$ on BDI$_{t4}$ & 0.045500 & 0.021000 & 2.154000 & 0.031000 & 0.004000 & 0.087000 \\\\\n",
      "interaction effect of $\\Delta$Pav$^{aversive}_{t2-t1}$*drug on BDI$_{t4}$ & 0.013800 & 0.029000 & 0.470000 & 0.639000 & -0.044000 & 0.071000 \\\\\n",
      "\\bottomrule\n",
      "\\end{tabular}\n",
      "\n"
     ]
    }
   ],
   "source": [
    "from pylatex import Document, Package, Section, NoEscape\n",
    "df_whole_sample_results = pd.DataFrame(whole_sample_results, columns = ['Coef.','Std.Err.','z','P>|z|','[0.025','0.975]'], \\\n",
    "             index=['drug effect on LR$^{loss}_{t2}$', 'drug effect on $\\Delta$LR$^{loss}_{t2-t1}$', \\\n",
    "                   'drug effect on $\\Delta$LR$^{loss}_{t3-t2}$', 'relation between GAD and LR$_{loss}$', \\\n",
    "                   'effect of $\\Delta$Pav$^{aversive}_{t2-t1}$ on BDI$_{t4}$', \\\n",
    "                    'interaction effect of $\\Delta$Pav$^{aversive}_{t2-t1}$*drug on BDI$_{t4}$'])\n",
    "print(NoEscape(df_whole_sample_results.to_latex(escape=False)))"
   ]
  },
  {
   "cell_type": "code",
   "execution_count": 48,
   "metadata": {},
   "outputs": [
    {
     "data": {
      "text/html": [
       "<div>\n",
       "<style scoped>\n",
       "    .dataframe tbody tr th:only-of-type {\n",
       "        vertical-align: middle;\n",
       "    }\n",
       "\n",
       "    .dataframe tbody tr th {\n",
       "        vertical-align: top;\n",
       "    }\n",
       "\n",
       "    .dataframe thead th {\n",
       "        text-align: right;\n",
       "    }\n",
       "</style>\n",
       "<table border=\"1\" class=\"dataframe\">\n",
       "  <thead>\n",
       "    <tr style=\"text-align: right;\">\n",
       "      <th></th>\n",
       "      <th>Coef.</th>\n",
       "      <th>Std.Err.</th>\n",
       "      <th>z</th>\n",
       "      <th>P&gt;|z|</th>\n",
       "      <th>[0.025</th>\n",
       "      <th>0.975]</th>\n",
       "    </tr>\n",
       "  </thead>\n",
       "  <tbody>\n",
       "    <tr>\n",
       "      <th>drug effect on LR$^{loss}_{t2}$</th>\n",
       "      <td>0.320</td>\n",
       "      <td>0.147</td>\n",
       "      <td>2.180</td>\n",
       "      <td>0.029</td>\n",
       "      <td>0.032</td>\n",
       "      <td>0.607</td>\n",
       "    </tr>\n",
       "    <tr>\n",
       "      <th>drug effect on $\\Delta$LR$^{loss}_{t2-t1}$</th>\n",
       "      <td>0.3222</td>\n",
       "      <td>0.189</td>\n",
       "      <td>1.707</td>\n",
       "      <td>0.088</td>\n",
       "      <td>-0.048</td>\n",
       "      <td>0.692</td>\n",
       "    </tr>\n",
       "    <tr>\n",
       "      <th>drug effect on $\\Delta$LR$^{loss}_{t3-t2}$</th>\n",
       "      <td>-0.3497</td>\n",
       "      <td>0.2</td>\n",
       "      <td>-1.75</td>\n",
       "      <td>0.08</td>\n",
       "      <td>-0.741</td>\n",
       "      <td>0.042</td>\n",
       "    </tr>\n",
       "    <tr>\n",
       "      <th>relation between GAD and LR$_{loss}$</th>\n",
       "      <td>0.009</td>\n",
       "      <td>0.004</td>\n",
       "      <td>2.261</td>\n",
       "      <td>0.024</td>\n",
       "      <td>0.001</td>\n",
       "      <td>0.016</td>\n",
       "    </tr>\n",
       "    <tr>\n",
       "      <th>effect of $\\Delta$Pav$^{aversive}_{t2-t1}$ on BDI$_{t4}$</th>\n",
       "      <td>0.0455</td>\n",
       "      <td>0.021</td>\n",
       "      <td>2.154</td>\n",
       "      <td>0.031</td>\n",
       "      <td>0.004</td>\n",
       "      <td>0.087</td>\n",
       "    </tr>\n",
       "    <tr>\n",
       "      <th>interaction effect of $\\Delta$Pav$^{aversive}_{t2-t1}$*drug on BDI$_{t4}$</th>\n",
       "      <td>0.0138</td>\n",
       "      <td>0.029</td>\n",
       "      <td>0.47</td>\n",
       "      <td>0.639</td>\n",
       "      <td>-0.044</td>\n",
       "      <td>0.071</td>\n",
       "    </tr>\n",
       "  </tbody>\n",
       "</table>\n",
       "</div>"
      ],
      "text/plain": [
       "                                                     Coef. Std.Err.      z   \n",
       "drug effect on LR$^{loss}_{t2}$                      0.320    0.147  2.180  \\\n",
       "drug effect on $\\Delta$LR$^{loss}_{t2-t1}$          0.3222    0.189  1.707   \n",
       "drug effect on $\\Delta$LR$^{loss}_{t3-t2}$         -0.3497      0.2  -1.75   \n",
       "relation between GAD and LR$_{loss}$                 0.009    0.004  2.261   \n",
       "effect of $\\Delta$Pav$^{aversive}_{t2-t1}$ on B...  0.0455    0.021  2.154   \n",
       "interaction effect of $\\Delta$Pav$^{aversive}_{...  0.0138    0.029   0.47   \n",
       "\n",
       "                                                    P>|z| [0.025 0.975]  \n",
       "drug effect on LR$^{loss}_{t2}$                     0.029  0.032  0.607  \n",
       "drug effect on $\\Delta$LR$^{loss}_{t2-t1}$          0.088 -0.048  0.692  \n",
       "drug effect on $\\Delta$LR$^{loss}_{t3-t2}$           0.08 -0.741  0.042  \n",
       "relation between GAD and LR$_{loss}$                0.024  0.001  0.016  \n",
       "effect of $\\Delta$Pav$^{aversive}_{t2-t1}$ on B...  0.031  0.004  0.087  \n",
       "interaction effect of $\\Delta$Pav$^{aversive}_{...  0.639 -0.044  0.071  "
      ]
     },
     "execution_count": 48,
     "metadata": {},
     "output_type": "execute_result"
    }
   ],
   "source": [
    "df_whole_sample_results"
   ]
  },
  {
   "cell_type": "markdown",
   "metadata": {},
   "source": [
    "Post-hoc testing findings in basic task characteristics:\n",
    "--"
   ]
  },
  {
   "cell_type": "code",
   "execution_count": 49,
   "metadata": {},
   "outputs": [
    {
     "name": "stdout",
     "output_type": "stream",
     "text": [
      "group: \tbeta: 0.21,\tCI: [0.0,0.41],\tpvalue: 0.0482\n"
     ]
    },
    {
     "data": {
      "text/plain": [
       "<statsmodels.regression.mixed_linear_model.MixedLMResultsWrapper at 0x7f8fea18c1f0>"
      ]
     },
     "execution_count": 49,
     "metadata": {},
     "output_type": "execute_result"
    }
   ],
   "source": [
    "# post-hoc analysis checking for switch probability\n",
    "mle_df['switch_avoid'] = mle_df[['switch_g2a', 'switch_ng2a']].mean(axis=1)\n",
    "mle_df['switch_avoid_zscore'] = gngstats.normalize(mle_df['switch_avoid'])\n",
    "gngstats.mle('switch_avoid_zscore ~ group + time' + stratification_covariates + exclusion_covariates, \\\n",
    "           mle_df[(mle_df['time']<2)&(mle_df['exclusion']==0)], ['group'],[])"
   ]
  },
  {
   "cell_type": "code",
   "execution_count": 50,
   "metadata": {},
   "outputs": [
    {
     "name": "stdout",
     "output_type": "stream",
     "text": [
      "switch_avoid_zscore: \tbeta: 0.0,\tCI: [-0.02,0.02],\tpvalue: 0.7371\n"
     ]
    },
    {
     "data": {
      "text/plain": [
       "<statsmodels.regression.mixed_linear_model.MixedLMResultsWrapper at 0x7f8fea1ff0a0>"
      ]
     },
     "execution_count": 50,
     "metadata": {},
     "output_type": "execute_result"
    }
   ],
   "source": [
    "gngstats.mle('gadlog ~ switch_avoid_zscore + group + time' + stratification_covariates + exclusion_covariates, \\\n",
    "           mle_df[mle_df['exclusion']==0], ['switch_avoid_zscore'], 'switch_avoid_zscore')"
   ]
  },
  {
   "cell_type": "code",
   "execution_count": 51,
   "metadata": {},
   "outputs": [
    {
     "name": "stdout",
     "output_type": "stream",
     "text": [
      "####################################################################################################\n",
      "bdi:\n",
      "ng2a_g2a_slope01: \tbeta: 0.11,\tCI: [-0.06,0.28],\tpvalue: 0.2183\n",
      "ng2a_g2a_slope01:group: \tbeta: 0.34,\tCI: [-0.01,0.68],\tpvalue: 0.0563\n",
      "----------------------------------------------------------------------------------------------------\n",
      "placebo___: ng2a_g2a_slope01: \tbeta: -0.0,\tCI: [-0.22,0.22],\tpvalue: 0.9841\n",
      "sertraline: ng2a_g2a_slope01: \tbeta: 0.27,\tCI: [-0.01,0.56],\tpvalue: 0.0606\n"
     ]
    }
   ],
   "source": [
    "p = 'ng2a_g2a'\n",
    "for i in range(3):\n",
    "    df_panda['ng2a_g2a' + str(i)] = df_panda['acc_ng2a' + str(i)] - df_panda['acc_g2a' + str(i)]\n",
    "df_panda['ng2a_g2a_slope01'] = df_panda['ng2a_g2a1'] - df_panda['ng2a_g2a0']\n",
    "\n",
    "j = 'bdi'\n",
    "print('#' * 100)\n",
    "print(j + ':')\n",
    "gngstats.glm(j + '3log ~' + p + '_slope01 + ' + j + '0log + group' + stratification_covariates \\\n",
    "           + exclusion_covariates, df_panda[(df_panda[['exclusion0', 'exclusion1']] == 0).all(axis=1)], \\\n",
    "           [p + '_slope01'])\n",
    "gngstats.glm(j + '3log ~' + p + '_slope01 * group +' +  j + '0log' + stratification_covariates \\\n",
    "           + exclusion_covariates, df_panda[(df_panda[['exclusion0', 'exclusion1']] == 0).all(axis=1)], \\\n",
    "           [p + '_slope01:group'])\n",
    "print('-' * 100)\n",
    "for i in range(2):\n",
    "    print(group_label[i], end=': ')\n",
    "    gngstats.glm(j + '3log ~' + p + '_slope01 +' +  j + '0log' + stratification_covariates \\\n",
    "               + exclusion_covariates, df_panda[(df_panda['group'] == i) & \\\n",
    "                                                (df_panda[['exclusion0', 'exclusion1']] == 0).all(axis=1)], \\\n",
    "               [p + '_slope01'])   "
   ]
  }
 ],
 "metadata": {
  "kernelspec": {
   "display_name": "Python 3 (ipykernel)",
   "language": "python",
   "name": "python3"
  },
  "language_info": {
   "codemirror_mode": {
    "name": "ipython",
    "version": 3
   },
   "file_extension": ".py",
   "mimetype": "text/x-python",
   "name": "python",
   "nbconvert_exporter": "python",
   "pygments_lexer": "ipython3",
   "version": "3.9.16"
  }
 },
 "nbformat": 4,
 "nbformat_minor": 4
}
