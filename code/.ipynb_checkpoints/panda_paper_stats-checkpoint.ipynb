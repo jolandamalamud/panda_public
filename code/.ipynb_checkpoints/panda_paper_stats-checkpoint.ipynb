{
 "cells": [
  {
   "cell_type": "code",
   "execution_count": 1,
   "metadata": {},
   "outputs": [],
   "source": [
    "import numpy as np\n",
    "import pandas as pd\n",
    "from plotting import Plotting\n",
    "from loading_preparing_data import PrepData\n",
    "from gng_statistics import GNGstats\n",
    "import statsmodels.formula.api as smf\n",
    "import scipy"
   ]
  },
  {
   "cell_type": "code",
   "execution_count": 2,
   "metadata": {},
   "outputs": [
    {
     "name": "stderr",
     "output_type": "stream",
     "text": [
      "/Users/jolandamalamud/phd/projects/gng_panda_antler/gng_panda/code/loading_preparing_data.py:63: RuntimeWarning: Mean of empty slice.\n",
      "  data[\"stay\"][ss, sj] = (ass[1:] == ass[0:-1])[rss[0:-1]==outcome[ss]].mean()\n",
      "/opt/anaconda3/lib/python3.8/site-packages/numpy/core/_methods.py:190: RuntimeWarning: invalid value encountered in double_scalars\n",
      "  ret = ret.dtype.type(ret / rcount)\n"
     ]
    }
   ],
   "source": [
    "filepath = '/Users/jolandamalamud/phd/projects/gng_panda_antler/gng_panda/data/'\n",
    "prepdata = PrepData('panda', filepath, ['gad', 'phq', 'bdi'])\n",
    "disp = Plotting()\n",
    "gngstats = GNGstats()\n",
    "# load raw task data\n",
    "D = prepdata.load_data()\n",
    "# prep action choices to plot\n",
    "data = prepdata.extract_data(D)\n",
    "# load modelling data\n",
    "modelling = prepdata.load_modelling_results('modelling_results/', ['ll2b2a2epxb', 'llb'])\n",
    "#transform_params = panda.transform_parameters(modelling['emmap'])\n",
    "random_baseline_model = prepdata.load_modelling_results('modelling_results/', ['llb'])\n",
    "# load rct data\n",
    "dfRCT = prepdata.load_rctdata()"
   ]
  },
  {
   "cell_type": "code",
   "execution_count": 3,
   "metadata": {},
   "outputs": [],
   "source": [
    "# define all variables of interest\n",
    "gng_conditions = ['g2w', 'g2a', 'ng2w', 'ng2a']\n",
    "parameter_labels = ['rew__se', 'loss_se', 'rew__LR', 'loss_LR', 'app_Pav', \\\n",
    "                    'av__Pav', 'noise__', 'bias___', 'rbias__']\n",
    "parameter_labels_transformed = []\n",
    "# for i in parameter_labels[:-2]: parameter_labels_transformed.append(i + '_trans')\n",
    "gng_columns = parameter_labels + ['exclusion', 'iL', 'goprotot', 'acctot'] + \\\n",
    "                ['gopro_' + i for i in gng_conditions] + ['acc_' + i for i in gng_conditions] + \\\n",
    "                ['switch_' + i for i in gng_conditions] + ['stay_' + i for i in gng_conditions]\n",
    "\n",
    "gng_data = np.vstack((modelling['emmap'], random_baseline_model['emmap'], modelling['excluding'], \\\n",
    "                      modelling['iL'], np.nanmean(data['a_go'],axis=(0,1)), \\\n",
    "                      np.nanmean(data['a_correct'],axis=(0,1)), np.nanmean(data['a_go'],axis=0), \\\n",
    "                      np.nanmean(data['a_correct'],axis=0), data['switch'], data['stay'])\n",
    "\n",
    "psychiatric_questionnaires = ['gad', 'phq', 'bdi']\n",
    "flat_list, new_flat_list = prepdata.create_questionnaire_item_list({'gad': 7,'phq': 9, 'bdi': 21}, dfRCT)\n",
    "\n",
    "rct_columns = ['rctid', 'group', 'gad1', 'gad2log', 'gad3log', 'gad4log', 'phq1', 'phq2log', \\\n",
    "               'phq3log', 'phq4log', 'bdi1', 'bdi2log', 'bdi3log', 'bdi4log',\\\n",
    "               'site', 'cis', 'dep', 'age', 'education', 'AD_past', \\\n",
    "               'sex', 'ethnic', 'fin', 'empstat', 'marstat', 'cisscore'] + new_flat_list\n",
    "\n",
    "rct_data = dfRCT[['identifier_n', 'group', 'gadtot', 'log_gadtot_2wk', 'log_gadtot_6wk', 'log_gadtot_12wk', \\\n",
    "                  'phqtot', 'log_phqtot_2wk', 'log_phqtot_6wk', 'log_phqtot_12wk', 'becktot', \\\n",
    "                  'log_becktot_2wk','log_becktot_6wk','log_becktot_12wk','_site_n', \\\n",
    "                  'cistotal_cat', 'depr_dur_2years', 'age', 'edu3', 'antidepressantsinpast', \\\n",
    "                  'sex', 'ethnic', 'fin3', 'empstat2', 'marstat3', 'cisdepscore'] + flat_list]\n",
    "rct_data = rct_data.rename(columns={'identifier_n': 'ID'})"
   ]
  },
  {
   "cell_type": "code",
   "execution_count": 4,
   "metadata": {},
   "outputs": [
    {
     "name": "stdout",
     "output_type": "stream",
     "text": [
      "890 included, 751 excluded\n"
     ]
    }
   ],
   "source": [
    "# exclusion due to modelling\n",
    "print(str(sum(modelling['excluding'] == 0)) + ' included, ' + \\\n",
    "      str(sum(modelling['excluding'] == 1)) + ' excluded')"
   ]
  },
  {
   "cell_type": "code",
   "execution_count": 5,
   "metadata": {},
   "outputs": [],
   "source": [
    "# create dataframe of all variables of interest\n",
    "df_panda = prepdata.create_df(data, gng_columns, gng_data, rct_columns, rct_data)\n",
    "for i in psychiatric_questionnaires:\n",
    "    if i + '1log' in df_panda.columns: rct_columns.append(i + '1log')\n",
    "\n",
    "number_of_sessions = max(data['sess']).astype(int)\n",
    "number_of_subjects = len(df_panda)\n",
    "weeks = [0, 2, 6, 12]"
   ]
  },
  {
   "cell_type": "code",
   "execution_count": 6,
   "metadata": {},
   "outputs": [
    {
     "name": "stdout",
     "output_type": "stream",
     "text": [
      "10025.0 [1.] [False]\n",
      "20001.0 [1.] [False]\n",
      "20227.0 [1.] [ True]\n",
      "20256.0 [1.] [False]\n",
      "30022.0 [1.] [ True]\n",
      "40139.0 [1.] [False]\n"
     ]
    }
   ],
   "source": [
    "# ids in modelling but not in RCT bc never randomized or excluded due to not completing enough baseline measures\n",
    "for i in data['subids']:\n",
    "    if i not in np.array(rct_data['ID']):\n",
    "        print(i, data['sess'][data['subids']==i],modelling['excluding'][data['subids']==i])"
   ]
  },
  {
   "cell_type": "code",
   "execution_count": 7,
   "metadata": {},
   "outputs": [
    {
     "name": "stdout",
     "output_type": "stream",
     "text": [
      "no task data: 25 from that sertraline: 9, placebo: 16\n",
      "-> N = 628 from that sertraline: 315, placebo: 313\n"
     ]
    }
   ],
   "source": [
    "# no task data at all\n",
    "noTask = df_panda[['acctot1','acctot2','acctot3']].isna().all(axis=1)\n",
    "print('no task data: ' + str(sum(noTask)) + ' from that sertraline: '  + \\\n",
    "      str(df_panda['group'][noTask].sum()) + ', placebo: ' + str((df_panda['group'][noTask]==0).sum()))\n",
    "print('-> N = ' + str(len(df_panda)-sum(noTask)) + ' from that sertraline: '  + \\\n",
    "      str(df_panda['group'][~(noTask)].sum()) + ', placebo: ' + str((df_panda['group'][~(noTask)]==0).sum()))\n",
    "\n",
    "# drop participants with no task data\n",
    "df_panda = df_panda[~noTask].reset_index(drop=True)"
   ]
  },
  {
   "cell_type": "markdown",
   "metadata": {},
   "source": [
    "---------------------------------------------------------------------------------------------------------------\n",
    "Exclusion\n",
    "--"
   ]
  },
  {
   "cell_type": "code",
   "execution_count": 8,
   "metadata": {},
   "outputs": [
    {
     "name": "stdout",
     "output_type": "stream",
     "text": [
      "# of excluded subjects at week 0:\t316.0 (0.51%), included: 305.0\n",
      "# of excluded subjects at week 2:\t230.0 (0.43%), included: 299.0\n",
      "# of excluded subjects at week 6:\t201.0 (0.42%), included: 282.0\n",
      "total # of excluded subjects:\t\t747.0 (46%)\n"
     ]
    }
   ],
   "source": [
    "# number of excluded subjects due to not performing the task properly\n",
    "for t in range(1,number_of_sessions+1):\n",
    "    no_data = df_panda['exclusion' + str(t)].isna()\n",
    "    ex = df_panda['exclusion' + str(t)] == 1\n",
    "    df_panda.loc[~no_data, 'exclusiontot' + str(t)] = (ex[~no_data]).astype(int)\n",
    "\n",
    "gng_columns.append('exclusiontot')\n",
    "\n",
    "n_subject = []\n",
    "exclusion = []\n",
    "for t in range(number_of_sessions):\n",
    "    exclusion.append(np.nansum(df_panda['exclusiontot' + str(t+1)]))\n",
    "    n_subject.append(sum(~df_panda['exclusiontot' + str(t+1)].isna()))\n",
    "    print('# of excluded subjects at week ' + str(weeks[t]) + ':\\t' + str(exclusion[t]) + \\\n",
    "      ' (' + str(round(exclusion[t]/n_subject[t],2)) +'%)' + \\\n",
    "         ', included: ' + str(round(n_subject[t]-exclusion[t],2)))\n",
    "print('total # of excluded subjects:\\t\\t' + str(sum(exclusion)) + \\\n",
    "      ' (' + str(round(sum(exclusion)/(sum(n_subject))*100)) +'%)')"
   ]
  },
  {
   "cell_type": "code",
   "execution_count": 9,
   "metadata": {},
   "outputs": [
    {
     "name": "stdout",
     "output_type": "stream",
     "text": [
      "T = 1 group 0: tot=310 in=158 ex=152.0\n",
      "T = 1 group 1: tot=311 in=147 ex=164.0\n",
      "T = 2 group 0: tot=266 in=166 ex=100.0\n",
      "T = 2 group 1: tot=263 in=133 ex=130.0\n",
      "T = 3 group 0: tot=247 in=144 ex=103.0\n",
      "T = 3 group 1: tot=236 in=138 ex=98.0\n"
     ]
    }
   ],
   "source": [
    "for t in range(1,4):\n",
    "    for i in range(2):\n",
    "        print('T = ' + str(t) + ' group ' + str(i) + ': tot=' + \\\n",
    "              str(sum(~df_panda['exclusiontot' + str(t)][df_panda['group']==i].isna())) + \\\n",
    "              ' in=' + str((df_panda['exclusiontot' + str(t)][df_panda['group']==i]==0).sum()) + \\\n",
    "              ' ex=' + str(df_panda['exclusiontot' + str(t)][df_panda['group']==i].sum()))"
   ]
  },
  {
   "cell_type": "code",
   "execution_count": 10,
   "metadata": {},
   "outputs": [
    {
     "data": {
      "text/plain": [
       "0.00625"
      ]
     },
     "execution_count": 10,
     "metadata": {},
     "output_type": "execute_result"
    }
   ],
   "source": [
    "0.05/8"
   ]
  },
  {
   "cell_type": "code",
   "execution_count": 11,
   "metadata": {},
   "outputs": [
    {
     "name": "stdout",
     "output_type": "stream",
     "text": [
      "included task runs: 886\n",
      "435 (66% of those randomised)\n"
     ]
    }
   ],
   "source": [
    "included = df_panda[['exclusiontot1', 'exclusiontot2', 'exclusiontot3']] == 0\n",
    "print('included task runs: ' + str(included.values.sum()))\n",
    "print(str((included.sum(axis=1) > 0).sum()) + ' ('+ str(round((included.sum(axis=1) > 0).sum()/ 655 * 100)) +  '% of those randomised)')"
   ]
  },
  {
   "cell_type": "code",
   "execution_count": 12,
   "metadata": {},
   "outputs": [
    {
     "data": {
      "text/html": [
       "<div>\n",
       "<style scoped>\n",
       "    .dataframe tbody tr th:only-of-type {\n",
       "        vertical-align: middle;\n",
       "    }\n",
       "\n",
       "    .dataframe tbody tr th {\n",
       "        vertical-align: top;\n",
       "    }\n",
       "\n",
       "    .dataframe thead th {\n",
       "        text-align: right;\n",
       "    }\n",
       "</style>\n",
       "<table border=\"1\" class=\"dataframe\">\n",
       "  <thead>\n",
       "    <tr style=\"text-align: right;\">\n",
       "      <th></th>\n",
       "      <th>variable</th>\n",
       "      <th>sertraline</th>\n",
       "      <th>placebo</th>\n",
       "      <th>X2</th>\n",
       "      <th>p</th>\n",
       "    </tr>\n",
       "  </thead>\n",
       "  <tbody>\n",
       "    <tr>\n",
       "      <th>0.0</th>\n",
       "      <td>exclusiontot</td>\n",
       "      <td>133</td>\n",
       "      <td>166</td>\n",
       "      <td>7.064</td>\n",
       "      <td>0.008</td>\n",
       "    </tr>\n",
       "    <tr>\n",
       "      <th>1.0</th>\n",
       "      <td>exclusiontot</td>\n",
       "      <td>130</td>\n",
       "      <td>100</td>\n",
       "      <td>7.064</td>\n",
       "      <td>0.008</td>\n",
       "    </tr>\n",
       "  </tbody>\n",
       "</table>\n",
       "</div>"
      ],
      "text/plain": [
       "         variable  sertraline  placebo     X2      p\n",
       "0.0  exclusiontot         133      166  7.064  0.008\n",
       "1.0  exclusiontot         130      100  7.064  0.008"
      ]
     },
     "metadata": {},
     "output_type": "display_data"
    },
    {
     "name": "stdout",
     "output_type": "stream",
     "text": [
      "excluded at T = 2 (N = 529): 57.0% sertraline, 43.0% placebo\n"
     ]
    },
    {
     "data": {
      "text/html": [
       "<div>\n",
       "<style scoped>\n",
       "    .dataframe tbody tr th:only-of-type {\n",
       "        vertical-align: middle;\n",
       "    }\n",
       "\n",
       "    .dataframe tbody tr th {\n",
       "        vertical-align: top;\n",
       "    }\n",
       "\n",
       "    .dataframe thead th {\n",
       "        text-align: right;\n",
       "    }\n",
       "</style>\n",
       "<table border=\"1\" class=\"dataframe\">\n",
       "  <thead>\n",
       "    <tr style=\"text-align: right;\">\n",
       "      <th></th>\n",
       "      <th>variable</th>\n",
       "      <th>sertraline</th>\n",
       "      <th>placebo</th>\n",
       "      <th>X2</th>\n",
       "      <th>p</th>\n",
       "    </tr>\n",
       "  </thead>\n",
       "  <tbody>\n",
       "    <tr>\n",
       "      <th>0.0</th>\n",
       "      <td>exclusiontot</td>\n",
       "      <td>138</td>\n",
       "      <td>144</td>\n",
       "      <td>0.0</td>\n",
       "      <td>1.0</td>\n",
       "    </tr>\n",
       "    <tr>\n",
       "      <th>1.0</th>\n",
       "      <td>exclusiontot</td>\n",
       "      <td>98</td>\n",
       "      <td>103</td>\n",
       "      <td>0.0</td>\n",
       "      <td>1.0</td>\n",
       "    </tr>\n",
       "  </tbody>\n",
       "</table>\n",
       "</div>"
      ],
      "text/plain": [
       "         variable  sertraline  placebo   X2    p\n",
       "0.0  exclusiontot         138      144  0.0  1.0\n",
       "1.0  exclusiontot          98      103  0.0  1.0"
      ]
     },
     "metadata": {},
     "output_type": "display_data"
    },
    {
     "name": "stdout",
     "output_type": "stream",
     "text": [
      "excluded at T = 3 (N = 483): 49.0% sertraline, 51.0% placebo\n"
     ]
    }
   ],
   "source": [
    "# chi2 pearson test to compare included vs excluded in sertraline vs placebo\n",
    "for t in range(2,number_of_sessions+1):\n",
    "    tmp = gngstats.chi2_test(df_panda['exclusiontot' + str(t)], df_panda['group'], ['sertraline', 'placebo'])\n",
    "    tmp.insert(0, 'variable', 'exclusiontot')\n",
    "    display(tmp)\n",
    "    print('excluded at T = ' + str(t) + ' (N = ' + str(sum(~df_panda['exclusiontot' + str(t)].isna() & ~df_panda['group'].isna())) + \\\n",
    "          '): ' + str(np.round((df_panda['group'][df_panda['exclusiontot' + str(t)]==1] == 1).mean()*100)) \\\n",
    "          + '% sertraline, ' + str(np.round((df_panda['group'][df_panda['exclusiontot' + str(t)]==1] == 0).mean()*100)) \\\n",
    "          + '% placebo')"
   ]
  },
  {
   "cell_type": "code",
   "execution_count": 13,
   "metadata": {},
   "outputs": [
    {
     "name": "stdout",
     "output_type": "stream",
     "text": [
      "baseline variables related to non-informative task runs?\n"
     ]
    },
    {
     "data": {
      "text/html": [
       "<th style=\"text-align:center\"><td style=\"vertical-align:top\"><h2></h2><table style=\"display:inline\" border=\"1\" class=\"dataframe\">\n",
       "  <thead>\n",
       "    <tr style=\"text-align: right;\">\n",
       "      <th></th>\n",
       "      <th>baseline variable</th>\n",
       "      <th>estimate</th>\n",
       "      <th>pvalue</th>\n",
       "    </tr>\n",
       "  </thead>\n",
       "  <tbody>\n",
       "    <tr>\n",
       "      <th>0</th>\n",
       "      <td>age</td>\n",
       "      <td>0.04</td>\n",
       "      <td>0.000</td>\n",
       "    </tr>\n",
       "    <tr>\n",
       "      <th>7</th>\n",
       "      <td>education</td>\n",
       "      <td>0.71</td>\n",
       "      <td>0.000</td>\n",
       "    </tr>\n",
       "    <tr>\n",
       "      <th>8</th>\n",
       "      <td>AD_past</td>\n",
       "      <td>0.55</td>\n",
       "      <td>0.001</td>\n",
       "    </tr>\n",
       "  </tbody>\n",
       "</table style=\"display:inline\"></td></th><th style=\"text-align:center\"><td style=\"vertical-align:top\"><h2></h2><table style=\"display:inline\" border=\"1\" class=\"dataframe\">\n",
       "  <thead>\n",
       "    <tr style=\"text-align: right;\">\n",
       "      <th></th>\n",
       "      <th>baseline variable</th>\n",
       "      <th>estimate</th>\n",
       "      <th>pvalue</th>\n",
       "    </tr>\n",
       "  </thead>\n",
       "  <tbody>\n",
       "    <tr>\n",
       "      <th>0</th>\n",
       "      <td>age</td>\n",
       "      <td>0.06</td>\n",
       "      <td>0.000</td>\n",
       "    </tr>\n",
       "    <tr>\n",
       "      <th>7</th>\n",
       "      <td>education</td>\n",
       "      <td>0.92</td>\n",
       "      <td>0.000</td>\n",
       "    </tr>\n",
       "    <tr>\n",
       "      <th>8</th>\n",
       "      <td>AD_past</td>\n",
       "      <td>0.61</td>\n",
       "      <td>0.001</td>\n",
       "    </tr>\n",
       "    <tr>\n",
       "      <th>14</th>\n",
       "      <td>group</td>\n",
       "      <td>0.48</td>\n",
       "      <td>0.006</td>\n",
       "    </tr>\n",
       "  </tbody>\n",
       "</table style=\"display:inline\"></td></th><th style=\"text-align:center\"><td style=\"vertical-align:top\"><h2></h2><table style=\"display:inline\" border=\"1\" class=\"dataframe\">\n",
       "  <thead>\n",
       "    <tr style=\"text-align: right;\">\n",
       "      <th></th>\n",
       "      <th>baseline variable</th>\n",
       "      <th>estimate</th>\n",
       "      <th>pvalue</th>\n",
       "    </tr>\n",
       "  </thead>\n",
       "  <tbody>\n",
       "    <tr>\n",
       "      <th>0</th>\n",
       "      <td>age</td>\n",
       "      <td>0.06</td>\n",
       "      <td>0.000</td>\n",
       "    </tr>\n",
       "    <tr>\n",
       "      <th>1</th>\n",
       "      <td>gad1log</td>\n",
       "      <td>-0.98</td>\n",
       "      <td>0.005</td>\n",
       "    </tr>\n",
       "    <tr>\n",
       "      <th>5</th>\n",
       "      <td>cis</td>\n",
       "      <td>-0.32</td>\n",
       "      <td>0.006</td>\n",
       "    </tr>\n",
       "    <tr>\n",
       "      <th>7</th>\n",
       "      <td>education</td>\n",
       "      <td>1.15</td>\n",
       "      <td>0.000</td>\n",
       "    </tr>\n",
       "    <tr>\n",
       "      <th>8</th>\n",
       "      <td>AD_past</td>\n",
       "      <td>0.76</td>\n",
       "      <td>0.000</td>\n",
       "    </tr>\n",
       "    <tr>\n",
       "      <th>12</th>\n",
       "      <td>empstat</td>\n",
       "      <td>0.52</td>\n",
       "      <td>0.008</td>\n",
       "    </tr>\n",
       "  </tbody>\n",
       "</table style=\"display:inline\"></td></th>"
      ]
     },
     "metadata": {},
     "output_type": "display_data"
    }
   ],
   "source": [
    "# is exclusion related to baseline variables? Logistic regression\n",
    "baseline_continuous =  ['age', 'gad1log', 'phq1log', 'bdi1log']\n",
    "baseline_categorical = ['site', 'cis', 'dep', 'education', \\\n",
    "                        'AD_past','sex', 'ethnic', 'fin', 'empstat', 'marstat', 'group']\n",
    "tab_list = []\n",
    "tab_list_reduced = []\n",
    "for i in range(1,4):\n",
    "    tab = []\n",
    "    for j in baseline_continuous + baseline_categorical:\n",
    "        model = smf.logit('exclusiontot' + str(i) +' ~ ' + j, data=df_panda).fit(disp=False);\n",
    "        tab.append([j, round(model.params[1],2), round(model.pvalues[1],3)])\n",
    "    tab_list.append(pd.DataFrame(tab, columns=['baseline variable', 'estimate', 'pvalue']))\n",
    "for i in tab_list:\n",
    "    tab_list_reduced.append(i[i['pvalue']<0.05])\n",
    "print('baseline variables related to non-informative task runs?')\n",
    "disp.display_side_by_side(tab_list_reduced[0],tab_list_reduced[1],tab_list_reduced[2])\n",
    "# print('multiple comparisons: ' + str(round(0.05/(3*len(baseline_continuous + baseline_categorical)),4)))"
   ]
  },
  {
   "cell_type": "code",
   "execution_count": 14,
   "metadata": {},
   "outputs": [
    {
     "data": {
      "text/html": [
       "<table class=\"simpletable\">\n",
       "<caption>Generalized Linear Model Regression Results</caption>\n",
       "<tr>\n",
       "  <th>Dep. Variable:</th>        <td>acctot2</td>     <th>  No. Observations:  </th>  <td>   529</td> \n",
       "</tr>\n",
       "<tr>\n",
       "  <th>Model:</th>                  <td>GLM</td>       <th>  Df Residuals:      </th>  <td>   527</td> \n",
       "</tr>\n",
       "<tr>\n",
       "  <th>Model Family:</th>        <td>Gaussian</td>     <th>  Df Model:          </th>  <td>     1</td> \n",
       "</tr>\n",
       "<tr>\n",
       "  <th>Link Function:</th>       <td>identity</td>     <th>  Scale:             </th> <td>0.015901</td>\n",
       "</tr>\n",
       "<tr>\n",
       "  <th>Method:</th>                <td>IRLS</td>       <th>  Log-Likelihood:    </th> <td>  345.77</td>\n",
       "</tr>\n",
       "<tr>\n",
       "  <th>Date:</th>            <td>Thu, 11 May 2023</td> <th>  Deviance:          </th> <td>  8.3799</td>\n",
       "</tr>\n",
       "<tr>\n",
       "  <th>Time:</th>                <td>13:47:08</td>     <th>  Pearson chi2:      </th>  <td>  8.38</td> \n",
       "</tr>\n",
       "<tr>\n",
       "  <th>No. Iterations:</th>          <td>3</td>        <th>  Pseudo R-squ. (CS):</th> <td>0.003203</td>\n",
       "</tr>\n",
       "<tr>\n",
       "  <th>Covariance Type:</th>     <td>nonrobust</td>    <th>                     </th>     <td> </td>   \n",
       "</tr>\n",
       "</table>\n",
       "<table class=\"simpletable\">\n",
       "<tr>\n",
       "      <td></td>         <th>coef</th>     <th>std err</th>      <th>z</th>      <th>P>|z|</th>  <th>[0.025</th>    <th>0.975]</th>  \n",
       "</tr>\n",
       "<tr>\n",
       "  <th>Intercept</th> <td>    0.5930</td> <td>    0.008</td> <td>   76.699</td> <td> 0.000</td> <td>    0.578</td> <td>    0.608</td>\n",
       "</tr>\n",
       "<tr>\n",
       "  <th>group</th>     <td>   -0.0143</td> <td>    0.011</td> <td>   -1.301</td> <td> 0.193</td> <td>   -0.036</td> <td>    0.007</td>\n",
       "</tr>\n",
       "</table>"
      ],
      "text/plain": [
       "<class 'statsmodels.iolib.summary.Summary'>\n",
       "\"\"\"\n",
       "                 Generalized Linear Model Regression Results                  \n",
       "==============================================================================\n",
       "Dep. Variable:                acctot2   No. Observations:                  529\n",
       "Model:                            GLM   Df Residuals:                      527\n",
       "Model Family:                Gaussian   Df Model:                            1\n",
       "Link Function:               identity   Scale:                        0.015901\n",
       "Method:                          IRLS   Log-Likelihood:                 345.77\n",
       "Date:                Thu, 11 May 2023   Deviance:                       8.3799\n",
       "Time:                        13:47:08   Pearson chi2:                     8.38\n",
       "No. Iterations:                     3   Pseudo R-squ. (CS):           0.003203\n",
       "Covariance Type:            nonrobust                                         \n",
       "==============================================================================\n",
       "                 coef    std err          z      P>|z|      [0.025      0.975]\n",
       "------------------------------------------------------------------------------\n",
       "Intercept      0.5930      0.008     76.699      0.000       0.578       0.608\n",
       "group         -0.0143      0.011     -1.301      0.193      -0.036       0.007\n",
       "==============================================================================\n",
       "\"\"\""
      ]
     },
     "execution_count": 14,
     "metadata": {},
     "output_type": "execute_result"
    }
   ],
   "source": [
    "m = gngstats.glm('acctot2 ~ group', df_panda, [])\n",
    "m.summary()"
   ]
  },
  {
   "cell_type": "code",
   "execution_count": 15,
   "metadata": {},
   "outputs": [],
   "source": [
    "# index_names = ['Age (years)', 'GAD-7', 'PHQ-9', 'BDI', 'Site', 'CIS-R total score', \\\n",
    "#                'CIS-R depression duration (years)', 'Highest educational qualification', \\\n",
    "#                'Antidepressants in the past', 'Gender', 'Ethnicity', 'Financial difficulty', \\\n",
    "#                'Employment status', 'Marital status', 'Treatment group allocation']\n",
    "# df_exclusion = pd.DataFrame()\n",
    "# for i in range(3):\n",
    "#     df_exclusion = pd.concat((df_exclusion, tab_list[i][['estimate','pvalue']]), axis=1)\n",
    "# df_exclusion.index = index_names\n",
    "# df_exclusion.columns = [['baseline', 'baseline', '2-week follow-up', '2-week follow-up', \\\n",
    "#                            '6-week follow-up', '6-week follow-up'], 3*['coef','pvalue']]\n",
    "# for i in ['baseline', '2-week follow-up', '6-week follow-up']:\n",
    "#     sig = df_exclusion[i, 'pvalue'] < 0.001\n",
    "#     df_exclusion[i, 'pvalue'][sig] = '$<$0.001'\n",
    "# print(df_exclusion.to_latex(escape=False))"
   ]
  },
  {
   "cell_type": "markdown",
   "metadata": {},
   "source": [
    "Summary:\n",
    "--\n",
    "- more patients not doing the task properly in the sertraline group at week 2 (follow-up 1)\n",
    "- patients not doing the task properly were older, less educated, and were taking antidepressants in the past over all sessions --> control for age, education, and AD in the past\n",
    "- at week 6 exclusion additionally related to baseline gad and employment status"
   ]
  },
  {
   "cell_type": "code",
   "execution_count": 16,
   "metadata": {},
   "outputs": [],
   "source": [
    "# define covariates for further analyses\n",
    "stratification_covariates = '+ site + dep + cis'\n",
    "exclusion_covariates = '+ age + education + AD_past + empstat'\n",
    "missing_covariates = '+ cisscore + gad1log + phq1log + fin + ethnic'"
   ]
  },
  {
   "cell_type": "markdown",
   "metadata": {},
   "source": [
    "---------------------------------------------------------------------------------------------------------------\n",
    "Included sample\n",
    "--"
   ]
  },
  {
   "cell_type": "code",
   "execution_count": 17,
   "metadata": {},
   "outputs": [],
   "source": [
    "# demographics\n",
    "df_panda['ethnic'] = df_panda['ethnic'].replace([2, 3, 4, 5, 6], 2)\n",
    "tmp = (df_panda['exclusiontot1'] == 0) | (df_panda['exclusiontot2'] == 0) | (df_panda['exclusiontot3'] == 0)\n",
    "group_label = ['placebo', 'sertraline', 'overall']\n",
    "demographic_variables1 = ['age', 'gad1', 'phq1', 'bdi1', 'cisscore']\n",
    "demographic_variables2 = ['site', 'cis', 'dep', 'education', 'AD_past', 'sex', \\\n",
    "                         'ethnic', 'fin', 'empstat', 'marstat']\n",
    "T = np.empty([100,4], dtype=object)\n",
    "T[0,3] = group_label[2] + ' (N = ' + str(len(df_panda[tmp])) + ')'\n",
    "                          \n",
    "for dd, d in enumerate(demographic_variables1):\n",
    "    T[dd+1,0] = d\n",
    "    T[dd+1,3] = str(np.round(df_panda[d][tmp].mean(),2)) + ' (' + str(np.round(df_panda[d][tmp].std(),2)) + ')'\n",
    "    for g in range(2):\n",
    "        T[dd+1,g+1] = str(np.round(df_panda[d][(df_panda['group']==g)&tmp].mean(),2)) + ' (' + \\\n",
    "                    str(np.round(df_panda[d][(df_panda['group']==g)&tmp].std(),2)) + ')'\n",
    "\n",
    "for g in range(2):\n",
    "    T[0,g+1] = group_label[g] + ' (N = ' + str(sum((df_panda['group']==g)&tmp)) + ')'\n",
    "    dd = len(demographic_variables1)+1\n",
    "    for d in demographic_variables2:\n",
    "        for i in range(int(max(df_panda[d][tmp]))):\n",
    "            T[dd,0] = d + str(i)\n",
    "            T[dd,3] = str(sum(df_panda[d][tmp]==i+1)) + ' (' + str(round(sum(df_panda[d][tmp]==i+1)/len(df_panda[tmp])*100)) + '%)'\n",
    "            T[dd,g+1] = str(sum((df_panda[d][tmp]==i+1) & (df_panda['group'][tmp]==g))) + ' (' + str(round(sum((df_panda[d][tmp]==i+1) & (df_panda['group'][tmp]==g))/sum((df_panda['group'][tmp]==g))*100)) + '%)'\n",
    "            dd += 1\n",
    "T = T[~(T == None).all(axis=1),:]"
   ]
  },
  {
   "cell_type": "code",
   "execution_count": 18,
   "metadata": {},
   "outputs": [],
   "source": [
    "# demographics\n",
    "df_panda['ethnic'] = df_panda['ethnic'].replace([2, 3, 4, 5, 6], 2)\n",
    "ex = (df_panda['exclusiontot1'] == 0) | (df_panda['exclusiontot2'] == 0) | (df_panda['exclusiontot3'] == 0)\n",
    "group_label = ['placebo', 'sertraline', 'overall']\n",
    "demographic_variables1 = ['age', 'gad1', 'phq1', 'bdi1', 'cisscore']\n",
    "demographic_variables2 = ['site', 'cis', 'dep', 'education', 'AD_past', 'sex', \\\n",
    "                         'ethnic', 'fin', 'empstat', 'marstat']\n",
    "T = np.empty([100,4], dtype=object)\n",
    "T[0,3] = 'pvalue'\n",
    "                          \n",
    "for dd, d in enumerate(demographic_variables1):\n",
    "    T[dd+1,0] = d\n",
    "    model = smf.logit('group ~ ' + d, data=df_panda[ex]).fit(disp=False);\n",
    "    T[dd+1,3] = round(model.pvalues[1],3)\n",
    "#     T[dd+1,3] = pstats.group_ttest(df_panda[d][ex], df_panda['group'][ex], \\\n",
    "#                                    ['sertraline', 'placebo'])['p'].iloc[0]\n",
    "    for g in range(2):\n",
    "        T[dd+1,g+1] = str(np.round(df_panda[d][(df_panda['group']==g)&ex].mean(),2)) + ' (' + \\\n",
    "                    str(np.round(df_panda[d][(df_panda['group']==g)&ex].std(),2)) + ')'\n",
    "        \n",
    "for g in range(2):\n",
    "    T[0,g+1] = group_label[g] + ' (N = ' + str(sum((df_panda['group']==g)&ex)) + ')'\n",
    "    dd = len(demographic_variables1)+1\n",
    "    for d in demographic_variables2:\n",
    "        for i in range(int(max(df_panda[d][ex]))):\n",
    "            T[dd,0] = d + str(i)\n",
    "            model = smf.logit('group ~ ' + d, data=df_panda[ex]).fit(disp=False);\n",
    "            T[dd,3] = round(model.pvalues[1],3)\n",
    "#             T[dd,3] = pstats.chi2_test(df_panda[d][ex], df_panda['group'][ex], \\\n",
    "#                                        ['sertraline', 'placebo'])['p'].iloc[0]\n",
    "            T[dd,g+1] = str(sum((df_panda[d][ex]==i+1) & (df_panda['group'][ex]==g))) + \\\n",
    "            ' (' + str(round(sum((df_panda[d][ex]==i+1) & (df_panda['group'][ex]==g))/ \\\n",
    "                             sum((df_panda['group'][ex]==g))*100)) + '%)'\n",
    "            dd += 1\n",
    "T = T[~(T == None).all(axis=1),:]"
   ]
  },
  {
   "cell_type": "code",
   "execution_count": 19,
   "metadata": {},
   "outputs": [
    {
     "name": "stdout",
     "output_type": "stream",
     "text": [
      "\\begin{tabular}{lllr}\n",
      "\\hline\n",
      " None       & placebo (N = 221)   & sertraline (N = 214)   &   pvalue \\\\\n",
      "\\hline\n",
      " age        & 36.03 (12.97)       & 36.84 (14.29)          &    0.535 \\\\\n",
      " gad1       & 9.6 (5.11)          & 9.27 (5.19)            &    0.496 \\\\\n",
      " phq1       & 12.47 (5.66)        & 11.71 (5.77)           &    0.171 \\\\\n",
      " bdi1       & 24.19 (9.9)         & 24.06 (10.17)          &    0.889 \\\\\n",
      " cisscore   & 11.0 (4.8)          & 10.4 (4.82)            &    0.201 \\\\\n",
      " site0      & 98 (44\\%)            & 92 (43\\%)               &    0.681 \\\\\n",
      " site1      & 39 (18\\%)            & 37 (17\\%)               &    0.681 \\\\\n",
      " site2      & 48 (22\\%)            & 47 (22\\%)               &    0.681 \\\\\n",
      " site3      & 36 (16\\%)            & 38 (18\\%)               &    0.681 \\\\\n",
      " cis0       & 37 (17\\%)            & 45 (21\\%)               &    0.389 \\\\\n",
      " cis1       & 58 (26\\%)            & 51 (24\\%)               &    0.389 \\\\\n",
      " cis2       & 126 (57\\%)           & 117 (55\\%)              &    0.389 \\\\\n",
      " dep0       & 146 (66\\%)           & 147 (69\\%)              &    0.559 \\\\\n",
      " dep1       & 75 (34\\%)            & 67 (31\\%)               &    0.559 \\\\\n",
      " education0 & 165 (75\\%)           & 160 (75\\%)              &    0.929 \\\\\n",
      " education1 & 53 (24\\%)            & 50 (23\\%)               &    0.929 \\\\\n",
      " education2 & 3 (1\\%)              & 3 (1\\%)                 &    0.929 \\\\\n",
      " AD\\_past0   & 97 (44\\%)            & 100 (47\\%)              &    0.523 \\\\\n",
      " AD\\_past1   & 124 (56\\%)           & 113 (53\\%)              &    0.523 \\\\\n",
      " sex0       & 101 (46\\%)           & 84 (39\\%)               &    0.174 \\\\\n",
      " sex1       & 120 (54\\%)           & 130 (61\\%)              &    0.174 \\\\\n",
      " ethnic0    & 205 (93\\%)           & 198 (93\\%)              &    0.936 \\\\\n",
      " ethnic1    & 16 (7\\%)             & 15 (7\\%)                &    0.936 \\\\\n",
      " fin0       & 130 (59\\%)           & 121 (57\\%)              &    0.663 \\\\\n",
      " fin1       & 66 (30\\%)            & 66 (31\\%)               &    0.663 \\\\\n",
      " fin2       & 25 (11\\%)            & 26 (12\\%)               &    0.663 \\\\\n",
      " empstat0   & 159 (72\\%)           & 146 (68\\%)              &    0.439 \\\\\n",
      " empstat1   & 62 (28\\%)            & 67 (31\\%)               &    0.439 \\\\\n",
      " marstat0   & 86 (39\\%)            & 74 (35\\%)               &    0.218 \\\\\n",
      " marstat1   & 110 (50\\%)           & 107 (50\\%)              &    0.218 \\\\\n",
      " marstat2   & 25 (11\\%)            & 32 (15\\%)               &    0.218 \\\\\n",
      "\\hline\n",
      "\\end{tabular}\n"
     ]
    }
   ],
   "source": [
    "# print demographics table in latex\n",
    "from tabulate import tabulate\n",
    "print(tabulate(T, headers='firstrow', tablefmt='latex'))"
   ]
  },
  {
   "cell_type": "markdown",
   "metadata": {},
   "source": [
    "---------------------------------------------------------------------------------------------------------------\n",
    "MIXED EFFECTS MODELLING\n",
    "--------------------------------------------------------------------------------------------------------"
   ]
  },
  {
   "cell_type": "code",
   "execution_count": 20,
   "metadata": {},
   "outputs": [],
   "source": [
    "import warnings\n",
    "from statsmodels.tools.sm_exceptions import ConvergenceWarning\n",
    "warnings.simplefilter('ignore', ConvergenceWarning)\n",
    "warnings.simplefilter(action='ignore', category=pd.errors.PerformanceWarning)"
   ]
  },
  {
   "cell_type": "code",
   "execution_count": 21,
   "metadata": {},
   "outputs": [],
   "source": [
    "# create dataframe for mixed-effects modelling\n",
    "mle_df = prepdata.create_mle_df(df_panda, gng_columns, rct_columns)\n",
    "for i in psychiatric_questionnaires:\n",
    "    mle_df[i + 'log'] = np.hstack((df_panda[i + '1log'],df_panda[i + '2log'],df_panda[i + '3log']))\n",
    "mle_df['anhedonia'] = np.hstack((df_panda['phq1_1'],df_panda['phq1_2'],df_panda['phq1_3']))"
   ]
  },
  {
   "cell_type": "code",
   "execution_count": 24,
   "metadata": {},
   "outputs": [
    {
     "data": {
      "text/plain": [
       "0.0020833333333333333"
      ]
     },
     "execution_count": 24,
     "metadata": {},
     "output_type": "execute_result"
    }
   ],
   "source": [
    "0.05/(8*3)"
   ]
  },
  {
   "cell_type": "code",
   "execution_count": 71,
   "metadata": {},
   "outputs": [],
   "source": [
    "timing = [(mle_df['time']<3)&(mle_df['exclusiontot']==0), \\\n",
    "          ((mle_df['time']==1)|(mle_df['time']==3))&(mle_df['exclusiontot']==0), \\\n",
    "          (mle_df['exclusiontot']==0)]\n",
    "timing_label = ['2','6','over time', 'time x group']"
   ]
  },
  {
   "cell_type": "code",
   "execution_count": 72,
   "metadata": {},
   "outputs": [
    {
     "name": "stdout",
     "output_type": "stream",
     "text": [
      "2:\tgroup: \tbeta: 0.0,\tCI: [-0.06,0.06],\tpvalue: 0.9949\n",
      "6:\tgroup: \tbeta: -0.1,\tCI: [-0.17,-0.03],\tpvalue: 0.0042\n",
      "over time:\tgroup: \tbeta: -0.05,\tCI: [-0.1,-0.0],\tpvalue: 0.049\n"
     ]
    }
   ],
   "source": [
    "# Effect of sertraline on anxiety in included sample\n",
    "for i in range(3):\n",
    "    tmp = mle_df[timing[i]]\n",
    "    print(timing_label[i] + ':', end='\\t')\n",
    "    pstats.mle('gadlog ~ group + time' + stratification_covariates + exclusion_covariates, \\\n",
    "               tmp, ['group'], 'group')"
   ]
  },
  {
   "cell_type": "markdown",
   "metadata": {},
   "source": [
    "Preregistered Hypotheses\n",
    "--"
   ]
  },
  {
   "cell_type": "code",
   "execution_count": 45,
   "metadata": {},
   "outputs": [
    {
     "name": "stdout",
     "output_type": "stream",
     "text": [
      "-0.5026456524007137 0.8287859100454066\n",
      "-0.5538415294603792 0.7896871772382297\n"
     ]
    }
   ],
   "source": [
    "# Effect of sertraline on anxiety in included sample\n",
    "p = 'av__Pav'\n",
    "for g in range(2):\n",
    "    print(df_panda[p + '1'][(df_panda['exclusiontot1']==0)&(df_panda['group']==g)].mean(), \\\n",
    "          df_panda[p + '1'][(df_panda['exclusiontot1']==0)&(df_panda['group']==g)].std())"
   ]
  },
  {
   "cell_type": "code",
   "execution_count": 47,
   "metadata": {},
   "outputs": [
    {
     "name": "stdout",
     "output_type": "stream",
     "text": [
      "T = 0, -0.53(0.81)\n",
      "T = 2, sert: -0.71(0.79) placebo: -0.55(0.79)\tgroup: \tbeta: -0.12,\tCI: [-0.29,0.05],\tpvalue: 0.1662\n",
      "T = 6, sert: -0.7(0.83) placebo: -0.77(0.85)\tgroup: \tbeta: 0.12,\tCI: [-0.06,0.3],\tpvalue: 0.2058\n",
      "over time\t\t\t\t\tgroup: \tbeta: -0.01,\tCI: [-0.14,0.12],\tpvalue: 0.8931\n",
      "time group interaction\t\t\t\tgroup: \tbeta: -0.3,\tCI: [-0.72,0.12],\tpvalue: 0.167\n"
     ]
    }
   ],
   "source": [
    "# H1: aversive Pav related to sertraline?\n",
    "p = 'av__Pav'\n",
    "timing = [(mle_df['time']<3)&(mle_df['exclusiontot']==0), \\\n",
    "          ((mle_df['time']==1)|(mle_df['time']==3))&(mle_df['exclusiontot']==0), \\\n",
    "          (mle_df['exclusiontot']==0)]\n",
    "timing_label = ['2','6','over time', 'time x group']\n",
    "print('T = 0, ' + str(np.round(mle_df[p][(mle_df['exclusiontot']==0)&(mle_df['time']==1)].mean(),2)) + '(' \\\n",
    "      + str(np.round(mle_df[p][(mle_df['exclusiontot']==0)&(mle_df['time']==1)].std(),2)) +')')\n",
    "for i in range(2):\n",
    "    tmp = mle_df[timing[i]]\n",
    "    print('T = '+timing_label[i]+', sert: ' + str(np.round(tmp[p][(tmp['group']==1)&(tmp['time']==i+2)].mean(),2)) + '(' \\\n",
    "      + str(np.round(tmp[p][(tmp['group']==1)&(tmp['time']==i+2)].std(),2)) + ') placebo: ' \\\n",
    "      + str(np.round(tmp[p][(tmp['group']==0)&(tmp['time']==i+2)].mean(),2)) + '(' \\\n",
    "      + str(np.round(tmp[p][(tmp['group']==0)&(tmp['time']==i+2)].std(),2)) +')', end='\\t')\n",
    "    pstats.mle(p + ' ~ group + time' + stratification_covariates + exclusion_covariates, tmp, ['group'],[])\n",
    "print('over time', end='\\t\\t\\t\\t\\t')\n",
    "pstats.mle(p + ' ~ group + time' + stratification_covariates + exclusion_covariates, \\\n",
    "           mle_df[timing[2]], ['group'],[])\n",
    "print('time group interaction', end='\\t\\t\\t\\t')\n",
    "pstats.mle(p + ' ~ group * time' + stratification_covariates + exclusion_covariates, \\\n",
    "           mle_df[timing[2]], ['group'],[]);\n"
   ]
  },
  {
   "cell_type": "code",
   "execution_count": 48,
   "metadata": {},
   "outputs": [
    {
     "name": "stdout",
     "output_type": "stream",
     "text": [
      "2:\tav__Pav: \tbeta: -0.01,\tCI: [-0.03,0.01],\tpvalue: 0.406\n",
      "6:\tmodel not converged -> random effects removed:\n",
      "av__Pav: \tbeta: -0.02,\tCI: [-0.05,0.01],\tpvalue: 0.125\n",
      "over time:\tmodel not converged -> random effects removed:\n",
      "av__Pav: \tbeta: -0.02,\tCI: [-0.04,0.0],\tpvalue: 0.0581\n"
     ]
    }
   ],
   "source": [
    "# H2: aversive Pav related to anxiety?\n",
    "p = 'av__Pav'\n",
    "for i in range(3):\n",
    "    tmp = mle_df[timing[i]]\n",
    "    print(timing_label[i] + ':', end='\\t')\n",
    "    pstats.mle('gadlog ~ ' + p + ' + group + time' + stratification_covariates + exclusion_covariates, \\\n",
    "               tmp, [p], p)\n",
    "    "
   ]
  },
  {
   "cell_type": "code",
   "execution_count": 49,
   "metadata": {},
   "outputs": [
    {
     "name": "stdout",
     "output_type": "stream",
     "text": [
      "av__Pav1: \tbeta: -0.02,\tCI: [-0.07,0.03],\tpvalue: 0.4576\n"
     ]
    }
   ],
   "source": [
    "# H4: can baseline aversive Pav predict anxiety at week 12?\n",
    "p = 'av__Pav1'\n",
    "pstats.glm('gad4log ~ ' + p + ' + gad1log + group ' + stratification_covariates + exclusion_covariates, \\\n",
    "           df_panda[df_panda['exclusiontot1']==0].astype(float), [p]);"
   ]
  },
  {
   "cell_type": "code",
   "execution_count": 50,
   "metadata": {},
   "outputs": [
    {
     "name": "stdout",
     "output_type": "stream",
     "text": [
      "2:\tapp_Pav: \tbeta: -0.01,\tCI: [-0.04,0.02],\tpvalue: 0.3771\n",
      "6:\t"
     ]
    },
    {
     "name": "stderr",
     "output_type": "stream",
     "text": [
      "/Users/jolandamalamud/opt/miniconda3/lib/python3.9/site-packages/statsmodels/regression/mixed_linear_model.py:1634: UserWarning: Random effects covariance is singular\n",
      "  warnings.warn(msg)\n",
      "/Users/jolandamalamud/opt/miniconda3/lib/python3.9/site-packages/statsmodels/regression/mixed_linear_model.py:1634: UserWarning: Random effects covariance is singular\n",
      "  warnings.warn(msg)\n"
     ]
    },
    {
     "name": "stdout",
     "output_type": "stream",
     "text": [
      "app_Pav: \tbeta: -0.03,\tCI: [-0.07,0.0],\tpvalue: 0.0582\n",
      "over time:\tapp_Pav: \tbeta: -0.03,\tCI: [-0.05,0.0],\tpvalue: 0.0661\n"
     ]
    }
   ],
   "source": [
    "# H5: appetitive Pav related to anxiety?\n",
    "p = 'app_Pav'\n",
    "for i in range(3):\n",
    "    tmp = mle_df[timing[i]]\n",
    "    print(timing_label[i] + ':', end='\\t')\n",
    "    pstats.mle('phqlog ~ ' + p + ' + group + time' + stratification_covariates + exclusion_covariates, \\\n",
    "               tmp, [p], p)\n",
    "    "
   ]
  },
  {
   "cell_type": "code",
   "execution_count": 24,
   "metadata": {},
   "outputs": [
    {
     "name": "stdout",
     "output_type": "stream",
     "text": [
      "2:\t"
     ]
    },
    {
     "name": "stderr",
     "output_type": "stream",
     "text": [
      "/Users/jolandamalamud/opt/miniconda3/lib/python3.9/site-packages/statsmodels/regression/mixed_linear_model.py:1634: UserWarning: Random effects covariance is singular\n",
      "  warnings.warn(msg)\n"
     ]
    },
    {
     "name": "stdout",
     "output_type": "stream",
     "text": [
      "rew__se: \tbeta: -0.01,\tCI: [-0.08,0.05],\tpvalue: 0.6458\n",
      "6:\trew__se: \tbeta: 0.04,\tCI: [-0.02,0.11],\tpvalue: 0.1918\n",
      "over time:\trew__se: \tbeta: 0.0,\tCI: [-0.05,0.05],\tpvalue: 0.9071\n"
     ]
    }
   ],
   "source": [
    "# H6: reward sensitivity related to anhedonia?\n",
    "p = 'rew__se'\n",
    "for i in range(3):\n",
    "    tmp = mle_df[timing[i]]\n",
    "    print(timing_label[i] + ':', end='\\t')\n",
    "    pstats.mle('anhedonia ~ ' + p + ' + group + time' + stratification_covariates + exclusion_covariates, \\\n",
    "        tmp, [p], p)\n"
   ]
  },
  {
   "cell_type": "markdown",
   "metadata": {},
   "source": [
    "Exploratory Analyses\n",
    "--"
   ]
  },
  {
   "cell_type": "code",
   "execution_count": 20,
   "metadata": {},
   "outputs": [
    {
     "name": "stdout",
     "output_type": "stream",
     "text": [
      "###############################################################################################\n",
      "gad:\n",
      "T = 2\t:\tgroup:exclusiontot: \tbeta: -0.05,\tCI: [-0.11,0.0],\tpvalue: 0.0683\n",
      "T = 6\t:\tgroup:exclusiontot: \tbeta: -0.03,\tCI: [-0.1,0.05],\tpvalue: 0.4777\n",
      "over time:\tgroup:exclusiontot: \tbeta: -0.03,\tCI: [-0.08,0.02],\tpvalue: 0.2892\n",
      "###############################################################################################\n",
      "phq:\n",
      "T = 2\t:\tgroup:exclusiontot: \tbeta: -0.05,\tCI: [-0.1,-0.0],\tpvalue: 0.039\n",
      "T = 6\t:\tgroup:exclusiontot: \tbeta: -0.02,\tCI: [-0.09,0.04],\tpvalue: 0.4729\n",
      "over time:\tgroup:exclusiontot: \tbeta: -0.04,\tCI: [-0.09,0.0],\tpvalue: 0.0775\n",
      "###############################################################################################\n",
      "bdi:\n",
      "T = 2\t:\tgroup:exclusiontot: \tbeta: -0.05,\tCI: [-0.1,0.0],\tpvalue: 0.058\n",
      "T = 6\t:\tgroup:exclusiontot: \tbeta: -0.04,\tCI: [-0.11,0.03],\tpvalue: 0.313\n",
      "over time:\tgroup:exclusiontot: \tbeta: -0.05,\tCI: [-0.1,0.0],\tpvalue: 0.0527\n"
     ]
    }
   ],
   "source": [
    "# does exlusion criteria have an effect on the effect of sertraline on anxiety overall?\n",
    "timing = [mle_df['time']<3,((mle_df['time']==1)|(mle_df['time']==3)), mle_df['time']!=0]\n",
    "timing_label = ['T = 2\\t','T = 6\\t','over time']\n",
    "for j in psychiatric_questionnaires:\n",
    "    print('###############################################################################################')\n",
    "    print(j + ':')\n",
    "    for i in range(3):\n",
    "        tmp = mle_df[timing[i]]\n",
    "        print(timing_label[i] + ':', end='\\t')\n",
    "        pstats.mle(j + 'log ~ group * exclusiontot + time' + stratification_covariates, tmp, ['group:exclusiontot'], [])"
   ]
  },
  {
   "cell_type": "markdown",
   "metadata": {},
   "source": [
    "There is a trend towards the exlusion group is improving at week 2 whereas the included group is not!\n",
    "\n",
    "---------------------------------------------------------------------------------------------------------------"
   ]
  },
  {
   "cell_type": "code",
   "execution_count": 21,
   "metadata": {},
   "outputs": [
    {
     "name": "stdout",
     "output_type": "stream",
     "text": [
      "correction for multiple comparison: pval < 0.00625\n"
     ]
    }
   ],
   "source": [
    "print('correction for multiple comparison: pval < ' + str(0.05/8))"
   ]
  },
  {
   "cell_type": "code",
   "execution_count": 27,
   "metadata": {},
   "outputs": [
    {
     "name": "stdout",
     "output_type": "stream",
     "text": [
      "rew__se:\tnone\n",
      "loss_se:\tnone\n",
      "rew__LR:\t"
     ]
    },
    {
     "data": {
      "text/html": [
       "<div>\n",
       "<style scoped>\n",
       "    .dataframe tbody tr th:only-of-type {\n",
       "        vertical-align: middle;\n",
       "    }\n",
       "\n",
       "    .dataframe tbody tr th {\n",
       "        vertical-align: top;\n",
       "    }\n",
       "\n",
       "    .dataframe thead th {\n",
       "        text-align: right;\n",
       "    }\n",
       "</style>\n",
       "<table border=\"1\" class=\"dataframe\">\n",
       "  <thead>\n",
       "    <tr style=\"text-align: right;\">\n",
       "      <th></th>\n",
       "      <th>Coef.</th>\n",
       "      <th>Std.Err.</th>\n",
       "      <th>z</th>\n",
       "      <th>P&gt;|z|</th>\n",
       "      <th>[0.025</th>\n",
       "      <th>0.975]</th>\n",
       "    </tr>\n",
       "  </thead>\n",
       "  <tbody>\n",
       "    <tr>\n",
       "      <th>age</th>\n",
       "      <td>-0.011</td>\n",
       "      <td>0.003</td>\n",
       "      <td>-3.417</td>\n",
       "      <td>0.001</td>\n",
       "      <td>-0.018</td>\n",
       "      <td>-0.005</td>\n",
       "    </tr>\n",
       "  </tbody>\n",
       "</table>\n",
       "</div>"
      ],
      "text/plain": [
       "      Coef. Std.Err.       z  P>|z|  [0.025  0.975]\n",
       "age  -0.011    0.003  -3.417  0.001  -0.018  -0.005"
      ]
     },
     "metadata": {},
     "output_type": "display_data"
    },
    {
     "name": "stdout",
     "output_type": "stream",
     "text": [
      "loss_LR:\tnone\n",
      "app_Pav:\t"
     ]
    },
    {
     "data": {
      "text/html": [
       "<div>\n",
       "<style scoped>\n",
       "    .dataframe tbody tr th:only-of-type {\n",
       "        vertical-align: middle;\n",
       "    }\n",
       "\n",
       "    .dataframe tbody tr th {\n",
       "        vertical-align: top;\n",
       "    }\n",
       "\n",
       "    .dataframe thead th {\n",
       "        text-align: right;\n",
       "    }\n",
       "</style>\n",
       "<table border=\"1\" class=\"dataframe\">\n",
       "  <thead>\n",
       "    <tr style=\"text-align: right;\">\n",
       "      <th></th>\n",
       "      <th>Coef.</th>\n",
       "      <th>Std.Err.</th>\n",
       "      <th>z</th>\n",
       "      <th>P&gt;|z|</th>\n",
       "      <th>[0.025</th>\n",
       "      <th>0.975]</th>\n",
       "    </tr>\n",
       "  </thead>\n",
       "  <tbody>\n",
       "    <tr>\n",
       "      <th>time</th>\n",
       "      <td>-0.082</td>\n",
       "      <td>0.023</td>\n",
       "      <td>-3.594</td>\n",
       "      <td>0.000</td>\n",
       "      <td>-0.127</td>\n",
       "      <td>-0.037</td>\n",
       "    </tr>\n",
       "    <tr>\n",
       "      <th>age</th>\n",
       "      <td>0.011</td>\n",
       "      <td>0.002</td>\n",
       "      <td>6.484</td>\n",
       "      <td>0.000</td>\n",
       "      <td>0.008</td>\n",
       "      <td>0.014</td>\n",
       "    </tr>\n",
       "  </tbody>\n",
       "</table>\n",
       "</div>"
      ],
      "text/plain": [
       "       Coef. Std.Err.       z  P>|z|  [0.025  0.975]\n",
       "time  -0.082    0.023  -3.594  0.000  -0.127  -0.037\n",
       "age    0.011    0.002   6.484  0.000   0.008   0.014"
      ]
     },
     "metadata": {},
     "output_type": "display_data"
    },
    {
     "name": "stdout",
     "output_type": "stream",
     "text": [
      "av__Pav:\t"
     ]
    },
    {
     "data": {
      "text/html": [
       "<div>\n",
       "<style scoped>\n",
       "    .dataframe tbody tr th:only-of-type {\n",
       "        vertical-align: middle;\n",
       "    }\n",
       "\n",
       "    .dataframe tbody tr th {\n",
       "        vertical-align: top;\n",
       "    }\n",
       "\n",
       "    .dataframe thead th {\n",
       "        text-align: right;\n",
       "    }\n",
       "</style>\n",
       "<table border=\"1\" class=\"dataframe\">\n",
       "  <thead>\n",
       "    <tr style=\"text-align: right;\">\n",
       "      <th></th>\n",
       "      <th>Coef.</th>\n",
       "      <th>Std.Err.</th>\n",
       "      <th>z</th>\n",
       "      <th>P&gt;|z|</th>\n",
       "      <th>[0.025</th>\n",
       "      <th>0.975]</th>\n",
       "    </tr>\n",
       "  </thead>\n",
       "  <tbody>\n",
       "    <tr>\n",
       "      <th>time</th>\n",
       "      <td>-0.102</td>\n",
       "      <td>0.032</td>\n",
       "      <td>-3.228</td>\n",
       "      <td>0.001</td>\n",
       "      <td>-0.164</td>\n",
       "      <td>-0.040</td>\n",
       "    </tr>\n",
       "    <tr>\n",
       "      <th>age</th>\n",
       "      <td>0.012</td>\n",
       "      <td>0.003</td>\n",
       "      <td>4.742</td>\n",
       "      <td>0.000</td>\n",
       "      <td>0.007</td>\n",
       "      <td>0.017</td>\n",
       "    </tr>\n",
       "  </tbody>\n",
       "</table>\n",
       "</div>"
      ],
      "text/plain": [
       "       Coef. Std.Err.       z  P>|z|  [0.025  0.975]\n",
       "time  -0.102    0.032  -3.228  0.001  -0.164  -0.040\n",
       "age    0.012    0.003   4.742  0.000   0.007   0.017"
      ]
     },
     "metadata": {},
     "output_type": "display_data"
    },
    {
     "name": "stdout",
     "output_type": "stream",
     "text": [
      "noise__:\tnone\n",
      "bias___:\t"
     ]
    },
    {
     "data": {
      "text/html": [
       "<div>\n",
       "<style scoped>\n",
       "    .dataframe tbody tr th:only-of-type {\n",
       "        vertical-align: middle;\n",
       "    }\n",
       "\n",
       "    .dataframe tbody tr th {\n",
       "        vertical-align: top;\n",
       "    }\n",
       "\n",
       "    .dataframe thead th {\n",
       "        text-align: right;\n",
       "    }\n",
       "</style>\n",
       "<table border=\"1\" class=\"dataframe\">\n",
       "  <thead>\n",
       "    <tr style=\"text-align: right;\">\n",
       "      <th></th>\n",
       "      <th>Coef.</th>\n",
       "      <th>Std.Err.</th>\n",
       "      <th>z</th>\n",
       "      <th>P&gt;|z|</th>\n",
       "      <th>[0.025</th>\n",
       "      <th>0.975]</th>\n",
       "    </tr>\n",
       "  </thead>\n",
       "  <tbody>\n",
       "    <tr>\n",
       "      <th>time</th>\n",
       "      <td>0.131</td>\n",
       "      <td>0.039</td>\n",
       "      <td>3.371</td>\n",
       "      <td>0.001</td>\n",
       "      <td>0.055</td>\n",
       "      <td>0.208</td>\n",
       "    </tr>\n",
       "    <tr>\n",
       "      <th>age</th>\n",
       "      <td>-0.026</td>\n",
       "      <td>0.003</td>\n",
       "      <td>-8.999</td>\n",
       "      <td>0.000</td>\n",
       "      <td>-0.032</td>\n",
       "      <td>-0.021</td>\n",
       "    </tr>\n",
       "  </tbody>\n",
       "</table>\n",
       "</div>"
      ],
      "text/plain": [
       "       Coef. Std.Err.       z  P>|z|  [0.025  0.975]\n",
       "time   0.131    0.039   3.371  0.001   0.055   0.208\n",
       "age   -0.026    0.003  -8.999  0.000  -0.032  -0.021"
      ]
     },
     "metadata": {},
     "output_type": "display_data"
    }
   ],
   "source": [
    "# do cognitive parameters differ between drug group (included group)?\n",
    "for i in parameter_labels[:-1]:\n",
    "    print(i, end=':\\t')\n",
    "    m = pstats.mle(i + ' ~ group + time' + stratification_covariates + exclusion_covariates, \\\n",
    "                        mle_df[mle_df['exclusiontot']==0], [], [])\n",
    "    mm = m.summary().tables[1][1:-1]\n",
    "    sig = m.pvalues < 0.05/8\n",
    "    if sig[1:-1].any(): display(mm[sig[1:-1]])\n",
    "    else: print('none')\n",
    "    "
   ]
  },
  {
   "cell_type": "markdown",
   "metadata": {},
   "source": [
    "- app and av Pav decrease over time\n",
    "- Note: reward learning rate, Pavlovian biases, and go bias are related to age!"
   ]
  },
  {
   "cell_type": "code",
   "execution_count": 28,
   "metadata": {},
   "outputs": [
    {
     "name": "stdout",
     "output_type": "stream",
     "text": [
      "rew__se\tgroup:time: \tbeta: -0.13,\tCI: [-0.38,0.13],\tpvalue: 0.3331\n",
      "loss_se\tgroup:time: \tbeta: 0.01,\tCI: [-0.21,0.23],\tpvalue: 0.9287\n",
      "rew__LR\tgroup:time: \tbeta: -0.0,\tCI: [-0.29,0.28],\tpvalue: 0.9825\n",
      "loss_LR\tgroup:time: \tbeta: -0.3,\tCI: [-0.69,0.09],\tpvalue: 0.1354\n",
      "app_Pav\tgroup:time: \tbeta: -0.06,\tCI: [-0.19,0.06],\tpvalue: 0.3209\n",
      "av__Pav\tgroup:time: \tbeta: 0.12,\tCI: [-0.05,0.29],\tpvalue: 0.1592\n",
      "noise__\tgroup:time: \tbeta: 0.09,\tCI: [-0.18,0.37],\tpvalue: 0.5139\n",
      "bias___\tgroup:time: \tbeta: -0.13,\tCI: [-0.34,0.08],\tpvalue: 0.2289\n"
     ]
    }
   ],
   "source": [
    "# do cognitive parameters differ time x group interaction (included group)?\n",
    "for i in parameter_labels[:-1]:\n",
    "    print(i, end = '\\t');\n",
    "    pstats.mle(i + ' ~ group * time' + stratification_covariates + exclusion_covariates, \\\n",
    "               mle_df[(mle_df['exclusiontot']==0)], ['group:time'], [])"
   ]
  },
  {
   "cell_type": "code",
   "execution_count": 29,
   "metadata": {},
   "outputs": [
    {
     "name": "stdout",
     "output_type": "stream",
     "text": [
      "rew__se\tgroup: \tbeta: 0.21,\tCI: [-0.01,0.44],\tpvalue: 0.0666\n",
      "loss_se\tgroup: \tbeta: -0.16,\tCI: [-0.37,0.05],\tpvalue: 0.1263\n",
      "rew__LR\tgroup: \tbeta: -0.06,\tCI: [-0.32,0.2],\tpvalue: 0.6752\n",
      "loss_LR\tgroup: \tbeta: 0.56,\tCI: [0.2,0.92],\tpvalue: 0.0022\n",
      "app_Pav\tgroup: \tbeta: 0.06,\tCI: [-0.06,0.18],\tpvalue: 0.3535\n",
      "av__Pav\tgroup: \tbeta: -0.12,\tCI: [-0.29,0.05],\tpvalue: 0.1662\n",
      "noise__\tgroup: \tbeta: -0.15,\tCI: [-0.41,0.12],\tpvalue: 0.2772\n",
      "bias___\tgroup: \tbeta: 0.03,\tCI: [-0.18,0.23],\tpvalue: 0.8071\n"
     ]
    }
   ],
   "source": [
    "# do cognitive parameters differ between drug group at session 2 (included group)?\n",
    "for i in parameter_labels[:-1]:\n",
    "    print(i, end = '\\t');\n",
    "    pstats.mle(i + ' ~ group + time' + stratification_covariates + exclusion_covariates, \\\n",
    "               mle_df[(mle_df['time']<3)&(mle_df['exclusiontot']==0)], ['group'],[])\n",
    "    "
   ]
  },
  {
   "cell_type": "code",
   "execution_count": 34,
   "metadata": {},
   "outputs": [
    {
     "name": "stdout",
     "output_type": "stream",
     "text": [
      "rew__se\tgroup: \tbeta: -0.14,\tCI: [-0.37,0.1],\tpvalue: 0.2568\n",
      "loss_se\tgroup: \tbeta: 0.13,\tCI: [-0.09,0.34],\tpvalue: 0.2584\n",
      "rew__LR\tgroup: \tbeta: 0.14,\tCI: [-0.12,0.4],\tpvalue: 0.2919\n",
      "loss_LR\tgroup: \tbeta: -0.3,\tCI: [-0.69,0.09],\tpvalue: 0.1316\n",
      "app_Pav\tgroup: \tbeta: -0.05,\tCI: [-0.17,0.08],\tpvalue: 0.4534\n",
      "av__Pav\tgroup: \tbeta: 0.12,\tCI: [-0.06,0.3],\tpvalue: 0.2058\n",
      "noise__\tgroup: \tbeta: 0.06,\tCI: [-0.2,0.33],\tpvalue: 0.6444\n",
      "bias___\tgroup: \tbeta: 0.04,\tCI: [-0.17,0.25],\tpvalue: 0.7281\n"
     ]
    }
   ],
   "source": [
    "# do cognitive parameters differ between drug group at session 3 (included group)?\n",
    "for i in parameter_labels[:-1]:\n",
    "    print(i, end = '\\t');\n",
    "    pstats.mle(i + ' ~ group + time' + stratification_covariates + exclusion_covariates, \\\n",
    "               mle_df[((mle_df['time']==1)|(mle_df['time']==3))&(mle_df['exclusiontot']==0)], ['group'], [])\n",
    "    "
   ]
  },
  {
   "cell_type": "markdown",
   "metadata": {},
   "source": [
    "Results\n",
    "--\n",
    "Drug effects:\n",
    "- at 2 weeks:\n",
    "    - trend towards reward sensitivity HIGHER in sertraline group\n",
    "    - loss LR HIGHER in sertraline group\n"
   ]
  },
  {
   "cell_type": "code",
   "execution_count": 22,
   "metadata": {},
   "outputs": [
    {
     "name": "stdout",
     "output_type": "stream",
     "text": [
      "correction for multiple comparison: pval < 0.002\n"
     ]
    }
   ],
   "source": [
    "print('correction for multiple comparison: pval < ' + str(round(0.05/(3*8),3)))"
   ]
  },
  {
   "cell_type": "code",
   "execution_count": 27,
   "metadata": {},
   "outputs": [
    {
     "name": "stdout",
     "output_type": "stream",
     "text": [
      "loss_LR: \tbeta: 0.01,\tCI: [-0.0,0.02],\tpvalue: 0.2393\n"
     ]
    },
    {
     "data": {
      "text/plain": [
       "<statsmodels.genmod.generalized_linear_model.GLMResultsWrapper at 0x7fe254b9d520>"
      ]
     },
     "execution_count": 27,
     "metadata": {},
     "output_type": "execute_result"
    }
   ],
   "source": [
    "pstats.glm('gadlog ~ loss_LR' + stratification_covariates + exclusion_covariates, \\\n",
    "                            mle_df[(mle_df['time']==1) &(mle_df['exclusiontot']==0)], ['loss_LR'])"
   ]
  },
  {
   "cell_type": "code",
   "execution_count": 39,
   "metadata": {},
   "outputs": [
    {
     "name": "stdout",
     "output_type": "stream",
     "text": [
      "loss_LR:group: \tbeta: 0.02,\tCI: [-0.0,0.04],\tpvalue: 0.1082\n"
     ]
    },
    {
     "data": {
      "text/plain": [
       "<statsmodels.regression.mixed_linear_model.MixedLMResultsWrapper at 0x7fe2389364c0>"
      ]
     },
     "execution_count": 39,
     "metadata": {},
     "output_type": "execute_result"
    }
   ],
   "source": [
    "pstats.mle('gadlog ~ loss_LR*group + time' + stratification_covariates + exclusion_covariates, \\\n",
    "                            mle_df[(mle_df['exclusiontot']==0)],['loss_LR:group'], [])"
   ]
  },
  {
   "cell_type": "code",
   "execution_count": 28,
   "metadata": {},
   "outputs": [
    {
     "name": "stdout",
     "output_type": "stream",
     "text": [
      "###############################################################################################\n",
      "gad:\n",
      "rew__se: \tbeta: 0.0,\tCI: [-0.02,0.02],\tpvalue: 0.8751\n",
      "loss_se: \tbeta: -0.02,\tCI: [-0.04,0.0],\tpvalue: 0.0539\n",
      "model not converged -> random effects removed:\n",
      "rew__LR: \tbeta: -0.0,\tCI: [-0.02,0.01],\tpvalue: 0.8133\n",
      "loss_LR: \tbeta: 0.02,\tCI: [0.01,0.03],\tpvalue: 0.0011\n",
      "app_Pav: \tbeta: 0.0,\tCI: [-0.03,0.03],\tpvalue: 0.921\n",
      "av__Pav: \tbeta: -0.02,\tCI: [-0.04,0.0],\tpvalue: 0.0599\n",
      "noise__: \tbeta: -0.0,\tCI: [-0.02,0.01],\tpvalue: 0.9428\n",
      "bias___: \tbeta: -0.0,\tCI: [-0.02,0.02],\tpvalue: 0.7229\n",
      "###############################################################################################\n",
      "phq:\n",
      "rew__se: \tbeta: -0.0,\tCI: [-0.01,0.01],\tpvalue: 0.9415\n",
      "loss_se: \tbeta: -0.01,\tCI: [-0.03,0.0],\tpvalue: 0.1368\n",
      "model not converged -> random effects removed:\n",
      "rew__LR: \tbeta: -0.0,\tCI: [-0.01,0.01],\tpvalue: 0.9705\n",
      "loss_LR: \tbeta: 0.01,\tCI: [-0.0,0.02],\tpvalue: 0.053\n",
      "app_Pav: \tbeta: -0.03,\tCI: [-0.05,0.0],\tpvalue: 0.0661\n",
      "av__Pav: \tbeta: -0.01,\tCI: [-0.03,0.01],\tpvalue: 0.3237\n",
      "model not converged -> random effects removed:\n",
      "noise__: \tbeta: 0.0,\tCI: [-0.01,0.01],\tpvalue: 0.8206\n",
      "bias___: \tbeta: 0.0,\tCI: [-0.01,0.02],\tpvalue: 0.693\n",
      "###############################################################################################\n",
      "bdi:\n",
      "rew__se: \tbeta: 0.01,\tCI: [-0.0,0.03],\tpvalue: 0.1394\n",
      "loss_se: \tbeta: -0.02,\tCI: [-0.04,-0.0],\tpvalue: 0.0273\n",
      "model not converged -> random effects removed:\n",
      "rew__LR: \tbeta: -0.0,\tCI: [-0.02,0.01],\tpvalue: 0.7445\n",
      "loss_LR: \tbeta: 0.01,\tCI: [0.0,0.02],\tpvalue: 0.0084\n",
      "app_Pav: \tbeta: -0.0,\tCI: [-0.03,0.03],\tpvalue: 0.8243\n",
      "av__Pav: \tbeta: -0.01,\tCI: [-0.03,0.01],\tpvalue: 0.3078\n",
      "noise__: \tbeta: -0.01,\tCI: [-0.03,0.0],\tpvalue: 0.0836\n",
      "bias___: \tbeta: 0.0,\tCI: [-0.01,0.02],\tpvalue: 0.654\n"
     ]
    }
   ],
   "source": [
    "# do cognitive parameters have an effect on psychiatric scores over time in the included group controlled drug group?\n",
    "for j in psychiatric_questionnaires:\n",
    "    print('###############################################################################################')\n",
    "    print(j + ':')\n",
    "    for i in parameter_labels[:-1]:\n",
    "        pstats.mle(j + 'log ~ ' + i + ' + group + time' + stratification_covariates + exclusion_covariates, \\\n",
    "                            mle_df[mle_df['exclusiontot']==0], [i], i)\n",
    "#         if m.pvalues[1] < 0.05/(3*8): display(m.summary().tables[1].iloc[1])"
   ]
  },
  {
   "cell_type": "code",
   "execution_count": 24,
   "metadata": {},
   "outputs": [
    {
     "name": "stdout",
     "output_type": "stream",
     "text": [
      "###############################################################################################\n",
      "gad:\n",
      "model not converged -> random effects removed:\n",
      "rew__se: \tbeta: -0.01,\tCI: [-0.03,0.01],\tpvalue: 0.3749\n",
      "loss_se: \tbeta: -0.02,\tCI: [-0.04,0.0],\tpvalue: 0.1018\n",
      "model not converged -> random effects removed:\n",
      "rew__LR: \tbeta: 0.0,\tCI: [-0.01,0.02],\tpvalue: 0.7585\n",
      "loss_LR: \tbeta: 0.01,\tCI: [0.0,0.02],\tpvalue: 0.0393\n",
      "app_Pav: \tbeta: 0.0,\tCI: [-0.03,0.04],\tpvalue: 0.8361\n",
      "model not converged -> random effects removed:\n",
      "av__Pav: \tbeta: -0.01,\tCI: [-0.03,0.01],\tpvalue: 0.4062\n",
      "noise__: \tbeta: -0.0,\tCI: [-0.02,0.01],\tpvalue: 0.6655\n",
      "bias___: \tbeta: 0.01,\tCI: [-0.01,0.04],\tpvalue: 0.2558\n",
      "###############################################################################################\n",
      "phq:\n",
      "rew__se: \tbeta: -0.01,\tCI: [-0.02,0.01],\tpvalue: 0.2746\n",
      "loss_se: \tbeta: -0.02,\tCI: [-0.03,0.0],\tpvalue: 0.0625\n",
      "model not converged -> random effects removed:\n",
      "rew__LR: \tbeta: 0.0,\tCI: [-0.01,0.01],\tpvalue: 0.8528\n",
      "loss_LR: \tbeta: 0.01,\tCI: [-0.0,0.02],\tpvalue: 0.2102\n",
      "app_Pav: \tbeta: -0.01,\tCI: [-0.04,0.02],\tpvalue: 0.3771\n",
      "av__Pav: \tbeta: 0.01,\tCI: [-0.01,0.03],\tpvalue: 0.4966\n",
      "noise__: \tbeta: -0.0,\tCI: [-0.01,0.01],\tpvalue: 0.9802\n",
      "bias___: \tbeta: 0.01,\tCI: [-0.01,0.03],\tpvalue: 0.3904\n",
      "###############################################################################################\n",
      "bdi:\n",
      "rew__se: \tbeta: 0.0,\tCI: [-0.02,0.02],\tpvalue: 0.9002\n",
      "loss_se: \tbeta: -0.02,\tCI: [-0.04,-0.0],\tpvalue: 0.0445\n",
      "rew__LR: \tbeta: -0.01,\tCI: [-0.02,0.01],\tpvalue: 0.3896\n",
      "loss_LR: \tbeta: 0.01,\tCI: [-0.0,0.02],\tpvalue: 0.141\n",
      "app_Pav: \tbeta: 0.01,\tCI: [-0.02,0.04],\tpvalue: 0.5478\n",
      "av__Pav: \tbeta: 0.0,\tCI: [-0.02,0.03],\tpvalue: 0.748\n",
      "noise__: \tbeta: -0.01,\tCI: [-0.02,0.01],\tpvalue: 0.3662\n",
      "bias___: \tbeta: 0.0,\tCI: [-0.02,0.02],\tpvalue: 0.8353\n"
     ]
    }
   ],
   "source": [
    "# do cognitive parameters have an effect on psychiatric scores at 2 weeks in the included group controlled drug group?\n",
    "for j in psychiatric_questionnaires:\n",
    "    print('###############################################################################################')\n",
    "    print(j + ':')\n",
    "    for i in parameter_labels[:-1]:\n",
    "        pstats.mle(j + 'log ~ ' + i + ' + group + time' + stratification_covariates + exclusion_covariates, \\\n",
    "                            mle_df[(mle_df['time']<3)&(mle_df['exclusiontot']==0)], [i], i)"
   ]
  },
  {
   "cell_type": "code",
   "execution_count": 25,
   "metadata": {},
   "outputs": [
    {
     "name": "stdout",
     "output_type": "stream",
     "text": [
      "###############################################################################################\n",
      "gad:\n",
      "rew__se: \tbeta: 0.01,\tCI: [-0.01,0.04],\tpvalue: 0.2152\n",
      "model not converged -> random effects removed:\n",
      "loss_se: \tbeta: -0.01,\tCI: [-0.04,0.01],\tpvalue: 0.2302\n",
      "model not converged -> random effects removed:\n",
      "rew__LR: \tbeta: -0.01,\tCI: [-0.03,0.01],\tpvalue: 0.4965\n",
      "loss_LR: \tbeta: 0.02,\tCI: [0.0,0.03],\tpvalue: 0.0186\n",
      "model not converged -> random effects removed:\n",
      "app_Pav: \tbeta: -0.01,\tCI: [-0.05,0.03],\tpvalue: 0.5309\n",
      "model not converged -> random effects removed:\n",
      "av__Pav: \tbeta: -0.02,\tCI: [-0.05,0.01],\tpvalue: 0.127\n",
      "model not converged -> random effects removed:\n",
      "noise__: \tbeta: 0.0,\tCI: [-0.01,0.02],\tpvalue: 0.6521\n",
      "bias___: \tbeta: -0.02,\tCI: [-0.04,0.01],\tpvalue: 0.2418\n",
      "###############################################################################################\n",
      "phq:\n",
      "model not converged -> random effects removed:\n",
      "rew__se: \tbeta: 0.01,\tCI: [-0.01,0.03],\tpvalue: 0.2221\n",
      "loss_se: \tbeta: -0.01,\tCI: [-0.03,0.01],\tpvalue: 0.3551\n",
      "rew__LR: \tbeta: -0.0,\tCI: [-0.02,0.02],\tpvalue: 0.9136\n",
      "loss_LR: \tbeta: 0.01,\tCI: [-0.0,0.02],\tpvalue: 0.0617\n",
      "app_Pav: \tbeta: -0.03,\tCI: [-0.07,0.0],\tpvalue: 0.0708\n",
      "av__Pav: \tbeta: -0.02,\tCI: [-0.04,0.0],\tpvalue: 0.1087\n",
      "model not converged -> random effects removed:\n",
      "noise__: \tbeta: 0.0,\tCI: [-0.01,0.02],\tpvalue: 0.6543\n",
      "bias___: \tbeta: -0.01,\tCI: [-0.03,0.01],\tpvalue: 0.3949\n",
      "###############################################################################################\n",
      "bdi:\n",
      "rew__se: \tbeta: 0.02,\tCI: [-0.0,0.04],\tpvalue: 0.0571\n",
      "loss_se: \tbeta: -0.02,\tCI: [-0.04,0.01],\tpvalue: 0.1302\n",
      "rew__LR: \tbeta: -0.01,\tCI: [-0.02,0.01],\tpvalue: 0.5139\n",
      "loss_LR: \tbeta: 0.02,\tCI: [0.0,0.03],\tpvalue: 0.0203\n",
      "model not converged -> random effects removed:\n",
      "app_Pav: \tbeta: -0.01,\tCI: [-0.05,0.03],\tpvalue: 0.5692\n",
      "av__Pav: \tbeta: -0.03,\tCI: [-0.05,-0.0],\tpvalue: 0.0488\n",
      "noise__: \tbeta: -0.01,\tCI: [-0.02,0.01],\tpvalue: 0.453\n",
      "bias___: \tbeta: -0.01,\tCI: [-0.04,0.01],\tpvalue: 0.3615\n"
     ]
    }
   ],
   "source": [
    "# do cognitive parameters have an effect on psychiatric scores at 6 weeks in the included group controlled drug group?\n",
    "for j in psychiatric_questionnaires:\n",
    "    print('###############################################################################################')\n",
    "    print(j + ':')\n",
    "    for i in parameter_labels[:-1]:\n",
    "        pstats.mle(j + 'log ~ ' + i + ' + group + time' + stratification_covariates + exclusion_covariates, \\\n",
    "                            mle_df[((mle_df['time']==1)|(mle_df['time']==3))&(mle_df['exclusiontot']==0)], [i], i)"
   ]
  },
  {
   "cell_type": "markdown",
   "metadata": {},
   "source": [
    "Results\n",
    "--\n",
    "loss LR is POSITIVELY related to GAD at week 2, 6, and over all sessions"
   ]
  },
  {
   "cell_type": "markdown",
   "metadata": {},
   "source": [
    "---------------------------------------------------------------------------------------------------------------\n",
    "Change in parameter\n",
    "--\n",
    "early changes in cognitive processing predicting treatment outcome?\n"
   ]
  },
  {
   "cell_type": "code",
   "execution_count": 35,
   "metadata": {},
   "outputs": [],
   "source": [
    "x = np.arange(3)\n",
    "for i in parameter_labels:\n",
    "    df_panda[i + '_slope12'] = df_panda[i + str(2)] - df_panda[i + str(1)]\n",
    "    df_panda[i + '_slope23'] = df_panda[i + str(3)] - df_panda[i + str(2)]\n",
    "    for sj in range(len(df_panda)):\n",
    "        y = df_panda[[i + str(1),i + str(2),i + str(3)]].iloc[sj]\n",
    "        idx = ~y.isna()\n",
    "        if sum(idx) > 1:\n",
    "            df_panda.loc[sj, i + '_slope'] = np.polyfit(x[idx],y[idx],1)[0]"
   ]
  },
  {
   "cell_type": "code",
   "execution_count": 36,
   "metadata": {},
   "outputs": [],
   "source": [
    "df_panda = df_panda.astype(float)"
   ]
  },
  {
   "cell_type": "code",
   "execution_count": 37,
   "metadata": {},
   "outputs": [
    {
     "name": "stdout",
     "output_type": "stream",
     "text": [
      "N = 213\n",
      "N = 206\n"
     ]
    }
   ],
   "source": [
    "# number of patients with early change\n",
    "print('N = ' + str(sum((df_panda['exclusiontot1']==0)&(df_panda['exclusiontot2']==0))))\n",
    "print('N = ' + str(sum((df_panda['exclusiontot2']==0)&(df_panda['exclusiontot3']==0))))"
   ]
  },
  {
   "cell_type": "code",
   "execution_count": 38,
   "metadata": {},
   "outputs": [
    {
     "name": "stdout",
     "output_type": "stream",
     "text": [
      "loss LR change between baseline and week 2: \tgroup: \tbeta: -0.08,\tCI: [-0.32,0.15],\tpvalue: 0.4846\n",
      "placebo___:\tTtest_1sampResult(statistic=-1.5174922148422907, pvalue=0.13181705494817714)\n",
      "sertraline:\tTtest_1sampResult(statistic=-2.042845265728973, pvalue=0.04389787342236844)\n",
      "loss LR change between week 2 and week 6: \tgroup: \tbeta: 0.1,\tCI: [-0.14,0.35],\tpvalue: 0.4116\n",
      "placebo___:\tTtest_1sampResult(statistic=-2.066623802688763, pvalue=0.041034711661585364)\n",
      "sertraline:\tTtest_1sampResult(statistic=-0.5799026681607216, pvalue=0.5634292127487901)\n"
     ]
    }
   ],
   "source": [
    "changes = ['12', '23']\n",
    "change_labels = ['baseline and week 2', 'week 2 and week 6']\n",
    "group_label = ['placebo___','sertraline']\n",
    "p = 'av__Pav'\n",
    "for i in range(len(changes)):\n",
    "    print('loss LR change between ' + change_labels[i] + ': ', end='\\t')\n",
    "    pstats.glm(p + '_slope' + changes[i] + ' ~ group' + stratification_covariates + exclusion_covariates, \\\n",
    "                            df_panda[(df_panda[['exclusiontot' + changes[i][0],\\\n",
    "                                                'exclusiontot' + changes[i][1]]] == 0).all(axis=1)], ['group'])\n",
    "    for g in range(2):\n",
    "        print(group_label[g],end=':\\t')\n",
    "        print(scipy.stats.ttest_1samp(df_panda[p + '_slope' + changes[i]][(df_panda[['exclusiontot' + changes[i][0], \\\n",
    "                                                                      'exclusiontot' + changes[i][1]]] == 0).all(axis=1) \\\n",
    "                                                       &(df_panda['group']==g)], popmean=0))"
   ]
  },
  {
   "cell_type": "code",
   "execution_count": 39,
   "metadata": {},
   "outputs": [
    {
     "name": "stdout",
     "output_type": "stream",
     "text": [
      "####################################################################################################\n",
      "gad:\n",
      "av__Pav_slope12: \tbeta: 0.02,\tCI: [-0.03,0.08],\tpvalue: 0.418\n",
      "av__Pav_slope12:group: \tbeta: 0.04,\tCI: [-0.07,0.16],\tpvalue: 0.4581\n",
      "####################################################################################################\n",
      "phq:\n",
      "av__Pav_slope12: \tbeta: 0.06,\tCI: [0.0,0.11],\tpvalue: 0.04\n",
      "av__Pav_slope12:group: \tbeta: 0.07,\tCI: [-0.04,0.19],\tpvalue: 0.1886\n",
      "####################################################################################################\n",
      "bdi:\n",
      "av__Pav_slope12: \tbeta: 0.07,\tCI: [0.01,0.13],\tpvalue: 0.0177\n",
      "av__Pav_slope12:group: \tbeta: 0.13,\tCI: [0.01,0.25],\tpvalue: 0.0313\n",
      "----------------------------------------------------------------------------------------------------\n",
      "placebo___: av__Pav_slope12: \tbeta: 0.01,\tCI: [-0.08,0.09],\tpvalue: 0.8988\n",
      "sertraline: av__Pav_slope12: \tbeta: 0.14,\tCI: [0.05,0.23],\tpvalue: 0.002\n"
     ]
    }
   ],
   "source": [
    "# early changes in cognitive processing predicting treatment outcome?\n",
    "p = 'av__Pav'\n",
    "for j in psychiatric_questionnaires:\n",
    "    print('#' * 100)\n",
    "    print(j + ':')\n",
    "    pstats.glm(j + '4log ~' + p + '_slope12 + ' + j + '1log + group' + stratification_covariates \\\n",
    "               + exclusion_covariates, df_panda[(df_panda[['exclusiontot1', 'exclusiontot2']] == 0).all(axis=1)], \\\n",
    "               [p + '_slope12'])\n",
    "    pstats.glm(j + '4log ~' + p + '_slope12 * group +' +  j + '1log' + stratification_covariates \\\n",
    "               + exclusion_covariates, df_panda[(df_panda[['exclusiontot1', 'exclusiontot2']] == 0).all(axis=1)], \\\n",
    "               [p + '_slope12:group'])\n",
    "print('-' * 100)\n",
    "for i in range(2):\n",
    "    print(group_label[i], end=': ')\n",
    "    pstats.glm(j + '4log ~' + p + '_slope12 +' +  j + '1log' + stratification_covariates \\\n",
    "               + exclusion_covariates, df_panda[(df_panda['group'] == i) & \\\n",
    "                                                (df_panda[['exclusiontot1', 'exclusiontot2']] == 0).all(axis=1)], \\\n",
    "               [p + '_slope12'])   "
   ]
  },
  {
   "cell_type": "code",
   "execution_count": 40,
   "metadata": {},
   "outputs": [
    {
     "name": "stdout",
     "output_type": "stream",
     "text": [
      "loss LR change between baseline and week 2: \tgroup: \tbeta: 0.75,\tCI: [0.18,1.31],\tpvalue: 0.0092\n",
      "placebo___:\tTtest_1sampResult(statistic=-0.7038282863694532, pvalue=0.4829262849798154)\n",
      "sertraline:\tTtest_1sampResult(statistic=2.739613117919031, pvalue=0.007373976818790651)\n",
      "loss LR change between week 2 and week 6: \tgroup: \tbeta: -0.72,\tCI: [-1.27,-0.17],\tpvalue: 0.0108\n",
      "placebo___:\tTtest_1sampResult(statistic=3.4427276226646897, pvalue=0.0008061888957859322)\n",
      "sertraline:\tTtest_1sampResult(statistic=-0.3191464671381358, pvalue=0.7503550084884072)\n"
     ]
    }
   ],
   "source": [
    "changes = ['12', '23']\n",
    "change_labels = ['baseline and week 2', 'week 2 and week 6']\n",
    "group_label = ['placebo___','sertraline']\n",
    "p = 'loss_LR'\n",
    "for i in range(len(changes)):\n",
    "    print('loss LR change between ' + change_labels[i] + ': ', end='\\t')\n",
    "    pstats.glm(p + '_slope' + changes[i] + ' ~ group' + stratification_covariates + exclusion_covariates, \\\n",
    "                            df_panda[(df_panda[['exclusiontot' + changes[i][0],\\\n",
    "                                                'exclusiontot' + changes[i][1]]] == 0).all(axis=1)], ['group'])\n",
    "    for g in range(2):\n",
    "        print(group_label[g],end=':\\t')\n",
    "        print(scipy.stats.ttest_1samp(df_panda[p + '_slope' + changes[i]][(df_panda[['exclusiontot' + changes[i][0], \\\n",
    "                                                                      'exclusiontot' + changes[i][1]]] == 0).all(axis=1) \\\n",
    "                                                       &(df_panda['group']==g)], popmean=0))"
   ]
  },
  {
   "cell_type": "code",
   "execution_count": 41,
   "metadata": {},
   "outputs": [
    {
     "name": "stdout",
     "output_type": "stream",
     "text": [
      "loss_LR2: \tbeta: 0.01,\tCI: [-0.02,0.03],\tpvalue: 0.6068\n",
      "loss_LR2:group: \tbeta: -0.02,\tCI: [-0.07,0.03],\tpvalue: 0.487\n",
      "loss_LR_slope12: \tbeta: 0.0,\tCI: [-0.02,0.03],\tpvalue: 0.7673\n",
      "loss_LR_slope12:group: \tbeta: -0.03,\tCI: [-0.07,0.01],\tpvalue: 0.1632\n"
     ]
    }
   ],
   "source": [
    "# early changes in cognitive processing predicting treatment outcome?\n",
    "exclusion = [['exclusiontot2'],['exclusiontot1', 'exclusiontot2']]\n",
    "for i,p in enumerate(['loss_LR2', 'loss_LR_slope12']):\n",
    "    pstats.glm('gad3log ~' + p + ' + gad1log + group' + stratification_covariates + exclusion_covariates, \\\n",
    "                df_panda[(df_panda[exclusion[i]] == 0).all(axis=1)], [p])\n",
    "    pstats.glm('gad3log ~' + p + ' *  group + gad1log' + stratification_covariates + exclusion_covariates, \\\n",
    "                df_panda[(df_panda[exclusion[i]] == 0).all(axis=1)], [p+':group'])"
   ]
  },
  {
   "cell_type": "code",
   "execution_count": 34,
   "metadata": {},
   "outputs": [
    {
     "name": "stdout",
     "output_type": "stream",
     "text": [
      "##############################################################################\n",
      "gad:\n",
      "rew__LR_slope12: \tbeta: -0.05,\tCI: [-0.09,-0.02],\tpvalue: 0.0041\n",
      "rew__LR_slope12:group: \tbeta: -0.01,\tCI: [-0.08,0.06],\tpvalue: 0.8325\n",
      "##############################################################################\n",
      "phq:\n",
      "rew__LR_slope12: \tbeta: -0.03,\tCI: [-0.06,0.01],\tpvalue: 0.1202\n",
      "rew__LR_slope12:group: \tbeta: 0.02,\tCI: [-0.05,0.08],\tpvalue: 0.5925\n",
      "##############################################################################\n",
      "bdi:\n",
      "rew__LR_slope12: \tbeta: -0.02,\tCI: [-0.06,0.02],\tpvalue: 0.3264\n",
      "rew__LR_slope12:group: \tbeta: 0.02,\tCI: [-0.05,0.1],\tpvalue: 0.5453\n"
     ]
    }
   ],
   "source": [
    "# early changes in cognitive processing predicting treatment outcome?\n",
    "p = 'rew__LR'\n",
    "for j in psychiatric_questionnaires:\n",
    "    print('##############################################################################')\n",
    "    print(j + ':')\n",
    "    pstats.glm(j + '4log ~' + p + '_slope12 + ' + j + '1log + group' + stratification_covariates \\\n",
    "               + exclusion_covariates, df_panda[(df_panda[['exclusiontot1', 'exclusiontot2']] == 0).all(axis=1)], \\\n",
    "               [p + '_slope12'])\n",
    "    pstats.glm(j + '4log ~' + p + '_slope12 * group +' +  j + '1log' + stratification_covariates \\\n",
    "               + exclusion_covariates, df_panda[(df_panda[['exclusiontot1', 'exclusiontot2']] == 0).all(axis=1)], \\\n",
    "               [p + '_slope12:group'])"
   ]
  },
  {
   "cell_type": "code",
   "execution_count": 109,
   "metadata": {},
   "outputs": [
    {
     "name": "stdout",
     "output_type": "stream",
     "text": [
      "bdi > 10:\n",
      "av_Pav_slope12: \tbeta: 0.07,\tCI: [0.01,0.13],\tpvalue: 0.0263\n",
      "av_Pav_slope12:group: \tbeta: 0.1,\tCI: [-0.02,0.23],\tpvalue: 0.1031\n",
      "bdi > 20:\n",
      "av_Pav_slope12: \tbeta: 0.09,\tCI: [0.02,0.17],\tpvalue: 0.0181\n",
      "av_Pav_slope12:group: \tbeta: 0.07,\tCI: [-0.08,0.23],\tpvalue: 0.3641\n"
     ]
    }
   ],
   "source": [
    "# look only at more severe patients?\n",
    "j = 'bdi'\n",
    "for i in [10,20]:\n",
    "    print('bdi > ' + str(i) + ':')\n",
    "    high_bdi = df_panda[j + '1'] > i\n",
    "    pstats.glm(j + '4log ~ av_Pav_slope12 + group +' +  j + '1log' + \\\n",
    "               stratification_covariates + exclusion_covariates, \\\n",
    "               df_panda[(df_panda['exclusiontot1']==0)&(df_panda['exclusiontot2']==0)&high_bdi], \\\n",
    "               ['av_Pav_slope12'])\n",
    "    pstats.glm(j + '4log ~ av_Pav_slope12 * group +' +  j + '1log' + \\\n",
    "               stratification_covariates + exclusion_covariates, \\\n",
    "               df_panda[(df_panda['exclusiontot1']==0)&(df_panda['exclusiontot2']==0)&high_bdi], \\\n",
    "               ['av_Pav_slope12:group'])\n"
   ]
  },
  {
   "cell_type": "code",
   "execution_count": 55,
   "metadata": {},
   "outputs": [
    {
     "name": "stdout",
     "output_type": "stream",
     "text": [
      "rew__se:\t\tage_zscore: \tbeta: -0.04,\tCI: [-0.11,0.04],\tpvalue: 0.3788\n",
      "loss_se:\t\tage_zscore: \tbeta: -0.08,\tCI: [-0.15,-0.0],\tpvalue: 0.0443\n",
      "rew__LR:\t\tage_zscore: \tbeta: -0.15,\tCI: [-0.24,-0.06],\tpvalue: 0.0016\n",
      "loss_LR:\t\tage_zscore: \tbeta: -0.13,\tCI: [-0.26,0.0],\tpvalue: 0.0502\n",
      "app_Pav:\t\tage_zscore: \tbeta: 0.14,\tCI: [0.1,0.19],\tpvalue: 0.0\n",
      "av__Pav:\t\tage_zscore: \tbeta: 0.16,\tCI: [0.1,0.23],\tpvalue: 0.0\n",
      "noise__:\t\tage_zscore: \tbeta: -0.05,\tCI: [-0.14,0.04],\tpvalue: 0.2729\n",
      "bias___:\t\tage_zscore: \tbeta: -0.37,\tCI: [-0.45,-0.3],\tpvalue: 0.0\n"
     ]
    }
   ],
   "source": [
    "# parameters related to age\n",
    "for i in parameter_labels[:-1]:\n",
    "    print(i, end=':\\t\\t')\n",
    "    mle_df['age_zscore'] = pstats.normalize(mle_df['age'])\n",
    "    pstats.glm(i + ' ~ age_zscore + education + AD_past + empstat', \\\n",
    "               mle_df[(mle_df['exclusiontot']==0)], ['age_zscore'])"
   ]
  },
  {
   "cell_type": "code",
   "execution_count": 71,
   "metadata": {},
   "outputs": [
    {
     "name": "stdout",
     "output_type": "stream",
     "text": [
      "no covariates\n",
      "H1) group: \tbeta: -0.08,\tCI: [-0.19,0.04],\tpvalue: 0.2022\n",
      "group: \tbeta: -0.03,\tCI: [-0.16,0.1],\tpvalue: 0.6101\n",
      "group: \tbeta: -0.04,\tCI: [-0.13,0.05],\tpvalue: 0.3705\n",
      "group: \tbeta: -0.04,\tCI: [-0.33,0.25],\tpvalue: 0.7801\n",
      "H2) av_Pav: \tbeta: -0.01,\tCI: [-0.03,0.02],\tpvalue: 0.5769\n",
      "H5) app_Pav: \tbeta: -0.03,\tCI: [-0.06,-0.0],\tpvalue: 0.0346\n",
      "H6) rew_se: \tbeta: 0.02,\tCI: [-0.03,0.06],\tpvalue: 0.4501\n",
      "loss LRgroup: \tbeta: 0.57,\tCI: [0.21,0.93],\tpvalue: 0.0019\n",
      "loss_LR: \tbeta: 0.02,\tCI: [0.0,0.03],\tpvalue: 0.0067\n",
      "av_Pav_slope12:group: \tbeta: 0.15,\tCI: [0.03,0.27],\tpvalue: 0.0118\n",
      "only stratification covariates\n",
      "H1) group: \tbeta: -0.07,\tCI: [-0.19,0.05],\tpvalue: 0.2337\n",
      "group: \tbeta: -0.03,\tCI: [-0.16,0.1],\tpvalue: 0.6997\n",
      "group: \tbeta: -0.04,\tCI: [-0.13,0.06],\tpvalue: 0.4458\n",
      "group: \tbeta: -0.04,\tCI: [-0.33,0.25],\tpvalue: 0.7889\n",
      "H2) av_Pav: \tbeta: -0.02,\tCI: [-0.04,0.0],\tpvalue: 0.1027\n",
      "H5) "
     ]
    },
    {
     "name": "stderr",
     "output_type": "stream",
     "text": [
      "/opt/anaconda3/lib/python3.8/site-packages/statsmodels/regression/mixed_linear_model.py:1634: UserWarning: Random effects covariance is singular\n",
      "  warnings.warn(msg)\n"
     ]
    },
    {
     "name": "stdout",
     "output_type": "stream",
     "text": [
      "app_Pav: \tbeta: -0.03,\tCI: [-0.06,-0.01],\tpvalue: 0.0172\n",
      "H6) rew_se: \tbeta: 0.01,\tCI: [-0.03,0.05],\tpvalue: 0.7204\n",
      "loss LRgroup: \tbeta: 0.55,\tCI: [0.19,0.91],\tpvalue: 0.0027\n",
      "loss_LR: \tbeta: 0.02,\tCI: [0.01,0.03],\tpvalue: 0.0005\n",
      "av_Pav_slope12:group: \tbeta: 0.14,\tCI: [0.02,0.25],\tpvalue: 0.0236\n",
      "stratification, exclusion and missing data covariates\n",
      "H1) group: \tbeta: -0.08,\tCI: [-0.2,0.03],\tpvalue: 0.1589\n",
      "group: \tbeta: -0.03,\tCI: [-0.16,0.1],\tpvalue: 0.6543\n",
      "group: \tbeta: -0.05,\tCI: [-0.14,0.04],\tpvalue: 0.3208\n",
      "group: \tbeta: -0.05,\tCI: [-0.34,0.23],\tpvalue: 0.7152\n",
      "H2) av_Pav: \tbeta: -0.01,\tCI: [-0.03,0.01],\tpvalue: 0.3193\n",
      "H5) app_Pav: \tbeta: -0.03,\tCI: [-0.05,-0.01],\tpvalue: 0.0132\n",
      "H6) rew_se: \tbeta: 0.01,\tCI: [-0.03,0.05],\tpvalue: 0.7383\n",
      "loss LRgroup: \tbeta: 0.58,\tCI: [0.22,0.94],\tpvalue: 0.0018\n",
      "loss_LR: \tbeta: 0.02,\tCI: [0.0,0.03],\tpvalue: 0.0038\n",
      "av_Pav_slope12:group: \tbeta: 0.14,\tCI: [0.02,0.26],\tpvalue: 0.0237\n"
     ]
    }
   ],
   "source": [
    "# including different covariates:\n",
    "set_of_covariates = ['', stratification_covariates, stratification_covariates+exclusion_covariates+missing_covariates]\n",
    "set_of_cov_label = ['no covariates', 'only stratification covariates', 'stratification, exclusion and missing data covariates']\n",
    "for i,c in enumerate(set_of_covariates):\n",
    "    print(set_of_cov_label[i])\n",
    "    print('H1) ', end='')\n",
    "    for i in range(2):\n",
    "        tmp = mle_df[timing[i]]\n",
    "        pstats.mle('av_Pav ~ group + time' + c, tmp, ['group'],[])\n",
    "    pstats.mle('av_Pav ~ group + time'+ c, mle_df[timing[2]], ['group'],[])\n",
    "    pstats.mle('av_Pav ~ group * time'+ c, mle_df[timing[2]], ['group'],[])\n",
    "    print('H2) ', end='')\n",
    "    pstats.mle('gadlog ~ av_Pav + group + time' + c, tmp, ['av_Pav'], 'av_Pav')\n",
    "    print('H5) ', end='')\n",
    "    pstats.mle('phqlog ~ app_Pav + group + time' + c, tmp, ['app_Pav'], 'app_Pav')\n",
    "    print('H6) ', end='')\n",
    "    pstats.mle('anhedonia ~ rew_se + group + time' + c, tmp, ['rew_se'], 'rew_se')\n",
    "    print('loss LR ', end='')\n",
    "    pstats.mle('loss_LR ~ group + time' + c, \\\n",
    "               mle_df[((mle_df['time']==1)|(mle_df['time']==2))&(mle_df['exclusiontot']==0)], ['group'],[])\n",
    "    pstats.mle('gadlog ~ loss_LR + group + time' + c, \\\n",
    "                            mle_df[mle_df['exclusiontot']==0], ['loss_LR'], 'loss_LR')\n",
    "    pstats.glm('bdi4log ~ av_Pav_slope12 * group + bdi1log' + c, \\\n",
    "                        df_panda[(df_panda['exclusiontot1']==0)&(df_panda['exclusiontot2']==0)], ['av_Pav_slope12:group'])\n"
   ]
  },
  {
   "cell_type": "code",
   "execution_count": 61,
   "metadata": {},
   "outputs": [],
   "source": [
    "def convert_stats_table(table):\n",
    "    results_as_html = table.summary().tables[1].as_html()\n",
    "    x = pd.read_html(results_as_html, header=0, index_col=0)[0]\n",
    "    return x.iloc[1].values"
   ]
  },
  {
   "cell_type": "code",
   "execution_count": 62,
   "metadata": {},
   "outputs": [
    {
     "name": "stdout",
     "output_type": "stream",
     "text": [
      "group: \tbeta: 0.32,\tCI: [0.03,0.61],\tpvalue: 0.0294\n",
      "group: \tbeta: 0.33,\tCI: [-0.04,0.7],\tpvalue: 0.0807\n",
      "group: \tbeta: -0.34,\tCI: [-0.74,0.05],\tpvalue: 0.0866\n",
      "model not converged -> random effects removed:\n",
      "loss_LR: \tbeta: 0.01,\tCI: [0.0,0.02],\tpvalue: 0.0158\n",
      "av__Pav_slope12: \tbeta: 0.05,\tCI: [0.0,0.09],\tpvalue: 0.03\n",
      "av__Pav_slope12:group: \tbeta: 0.07,\tCI: [-0.02,0.15],\tpvalue: 0.1147\n"
     ]
    }
   ],
   "source": [
    "# stats for whole sample\n",
    "whole_sample_results=[]\n",
    "m = pstats.mle('loss_LR ~ group + time' + stratification_covariates, mle_df[mle_df['time']<3], ['group'],[])\n",
    "whole_sample_results.append(m.summary().tables[1].iloc[1].values)\n",
    "m = pstats.glm('loss_LR_slope12 ~ group' + stratification_covariates, df_panda, ['group'])\n",
    "whole_sample_results.append(convert_stats_table(m))\n",
    "m = pstats.glm('loss_LR_slope23 ~ group' + stratification_covariates, df_panda, ['group'])\n",
    "whole_sample_results.append(convert_stats_table(m))\n",
    "m = pstats.mle('gadlog ~ loss_LR + group + time' + stratification_covariates, mle_df, ['loss_LR'], 'loss_LR')\n",
    "whole_sample_results.append(m.summary().tables[1].iloc[1].values)\n",
    "m = pstats.glm('bdi4log ~ av__Pav_slope12 + group + bdi1log' + stratification_covariates, \\\n",
    "           df_panda, ['av__Pav_slope12'])\n",
    "whole_sample_results.append(convert_stats_table(m))\n",
    "m = pstats.glm('bdi4log ~ av__Pav_slope12 * group + bdi1log' + stratification_covariates, \\\n",
    "           df_panda, ['av__Pav_slope12:group'])\n",
    "whole_sample_results.append(convert_stats_table(m))\n"
   ]
  },
  {
   "cell_type": "code",
   "execution_count": 79,
   "metadata": {},
   "outputs": [
    {
     "name": "stdout",
     "output_type": "stream",
     "text": [
      "\\begin{tabular}{lllllll}\n",
      "\\toprule\n",
      "{} &   Coef. & Std.Err. &      z &  P>|z| & [0.025 & 0.975] \\\\\n",
      "\\midrule\n",
      "drug effect on LR$^{loss}_{t2}$                    &   0.320 &    0.147 &  2.178 &  0.029 &  0.032 &  0.608 \\\\\n",
      "drug effect on $\\Delta$LR$^{loss}_{t2-t1}$         &  0.3301 &    0.189 &  1.747 &  0.081 &  -0.04 &    0.7 \\\\\n",
      "drug effect on $\\Delta$LR$^{loss}_{t3-t2}$         &  -0.343 &      0.2 & -1.714 &  0.087 & -0.735 &  0.049 \\\\\n",
      "relation between GAD and LR$_{loss}$               &   0.009 &    0.004 &  2.412 &  0.016 &  0.002 &  0.016 \\\\\n",
      "effect of $\\Delta$Pav$^{aversive}_{t2-t1}$ on B... &  0.0459 &    0.021 &  2.171 &   0.03 &  0.004 &  0.087 \\\\\n",
      "interaction effect of $\\Delta$Pav$^{aversive}_{... &  0.0137 &    0.029 &  0.468 &   0.64 & -0.044 &  0.071 \\\\\n",
      "\\bottomrule\n",
      "\\end{tabular}\n",
      "\n"
     ]
    },
    {
     "name": "stderr",
     "output_type": "stream",
     "text": [
      "<ipython-input-79-fa49c234390e>:7: FutureWarning: In future versions `DataFrame.to_latex` is expected to utilise the base implementation of `Styler.to_latex` for formatting and rendering. The arguments signature may therefore change. It is recommended instead to use `DataFrame.style.to_latex` which also contains additional functionality.\n",
      "  print(NoEscape(df_whole_sample_results.to_latex(escape=False)))\n"
     ]
    }
   ],
   "source": [
    "from pylatex import Document, Package, Section, NoEscape\n",
    "df_whole_sample_results = pd.DataFrame(whole_sample_results, columns = ['Coef.','Std.Err.','z','P>|z|','[0.025','0.975]'], \\\n",
    "             index=['drug effect on LR$^{loss}_{t2}$', 'drug effect on $\\Delta$LR$^{loss}_{t2-t1}$', \\\n",
    "                   'drug effect on $\\Delta$LR$^{loss}_{t3-t2}$', 'relation between GAD and LR$_{loss}$', \\\n",
    "                   'effect of $\\Delta$Pav$^{aversive}_{t2-t1}$ on BDI$_{t4}$', \\\n",
    "                    'interaction effect of $\\Delta$Pav$^{aversive}_{t2-t1}$*drug on BDI$_{t4}$'])\n",
    "print(NoEscape(df_whole_sample_results.to_latex(escape=False)))"
   ]
  },
  {
   "cell_type": "code",
   "execution_count": 80,
   "metadata": {},
   "outputs": [
    {
     "data": {
      "text/html": [
       "<div>\n",
       "<style scoped>\n",
       "    .dataframe tbody tr th:only-of-type {\n",
       "        vertical-align: middle;\n",
       "    }\n",
       "\n",
       "    .dataframe tbody tr th {\n",
       "        vertical-align: top;\n",
       "    }\n",
       "\n",
       "    .dataframe thead th {\n",
       "        text-align: right;\n",
       "    }\n",
       "</style>\n",
       "<table border=\"1\" class=\"dataframe\">\n",
       "  <thead>\n",
       "    <tr style=\"text-align: right;\">\n",
       "      <th></th>\n",
       "      <th>Coef.</th>\n",
       "      <th>Std.Err.</th>\n",
       "      <th>z</th>\n",
       "      <th>P&gt;|z|</th>\n",
       "      <th>[0.025</th>\n",
       "      <th>0.975]</th>\n",
       "    </tr>\n",
       "  </thead>\n",
       "  <tbody>\n",
       "    <tr>\n",
       "      <th>drug effect on LR$^{loss}_{t2}$</th>\n",
       "      <td>0.320</td>\n",
       "      <td>0.147</td>\n",
       "      <td>2.178</td>\n",
       "      <td>0.029</td>\n",
       "      <td>0.032</td>\n",
       "      <td>0.608</td>\n",
       "    </tr>\n",
       "    <tr>\n",
       "      <th>drug effect on $\\Delta$LR$^{loss}_{t2-t1}$</th>\n",
       "      <td>0.3301</td>\n",
       "      <td>0.189</td>\n",
       "      <td>1.747</td>\n",
       "      <td>0.081</td>\n",
       "      <td>-0.04</td>\n",
       "      <td>0.7</td>\n",
       "    </tr>\n",
       "    <tr>\n",
       "      <th>drug effect on $\\Delta$LR$^{loss}_{t3-t2}$</th>\n",
       "      <td>-0.343</td>\n",
       "      <td>0.2</td>\n",
       "      <td>-1.714</td>\n",
       "      <td>0.087</td>\n",
       "      <td>-0.735</td>\n",
       "      <td>0.049</td>\n",
       "    </tr>\n",
       "    <tr>\n",
       "      <th>relation between GAD and LR$_{loss}$</th>\n",
       "      <td>0.009</td>\n",
       "      <td>0.004</td>\n",
       "      <td>2.412</td>\n",
       "      <td>0.016</td>\n",
       "      <td>0.002</td>\n",
       "      <td>0.016</td>\n",
       "    </tr>\n",
       "    <tr>\n",
       "      <th>effect of $\\Delta$Pav$^{aversive}_{t2-t1}$ on BDI$_{t4}$</th>\n",
       "      <td>0.0459</td>\n",
       "      <td>0.021</td>\n",
       "      <td>2.171</td>\n",
       "      <td>0.03</td>\n",
       "      <td>0.004</td>\n",
       "      <td>0.087</td>\n",
       "    </tr>\n",
       "    <tr>\n",
       "      <th>interaction effect of $\\Delta$Pav$^{aversive}_{t2-t1}$*drug on BDI$_{t4}$</th>\n",
       "      <td>0.0137</td>\n",
       "      <td>0.029</td>\n",
       "      <td>0.468</td>\n",
       "      <td>0.64</td>\n",
       "      <td>-0.044</td>\n",
       "      <td>0.071</td>\n",
       "    </tr>\n",
       "  </tbody>\n",
       "</table>\n",
       "</div>"
      ],
      "text/plain": [
       "                                                     Coef. Std.Err.      z  \\\n",
       "drug effect on LR$^{loss}_{t2}$                      0.320    0.147  2.178   \n",
       "drug effect on $\\Delta$LR$^{loss}_{t2-t1}$          0.3301    0.189  1.747   \n",
       "drug effect on $\\Delta$LR$^{loss}_{t3-t2}$          -0.343      0.2 -1.714   \n",
       "relation between GAD and LR$_{loss}$                 0.009    0.004  2.412   \n",
       "effect of $\\Delta$Pav$^{aversive}_{t2-t1}$ on B...  0.0459    0.021  2.171   \n",
       "interaction effect of $\\Delta$Pav$^{aversive}_{...  0.0137    0.029  0.468   \n",
       "\n",
       "                                                    P>|z| [0.025 0.975]  \n",
       "drug effect on LR$^{loss}_{t2}$                     0.029  0.032  0.608  \n",
       "drug effect on $\\Delta$LR$^{loss}_{t2-t1}$          0.081  -0.04    0.7  \n",
       "drug effect on $\\Delta$LR$^{loss}_{t3-t2}$          0.087 -0.735  0.049  \n",
       "relation between GAD and LR$_{loss}$                0.016  0.002  0.016  \n",
       "effect of $\\Delta$Pav$^{aversive}_{t2-t1}$ on B...   0.03  0.004  0.087  \n",
       "interaction effect of $\\Delta$Pav$^{aversive}_{...   0.64 -0.044  0.071  "
      ]
     },
     "execution_count": 80,
     "metadata": {},
     "output_type": "execute_result"
    }
   ],
   "source": [
    "df_whole_sample_results"
   ]
  },
  {
   "cell_type": "code",
   "execution_count": 70,
   "metadata": {},
   "outputs": [
    {
     "name": "stdout",
     "output_type": "stream",
     "text": [
      "model not converged -> random effects removed:\n",
      "loss_LR: \tbeta: 0.01,\tCI: [-0.0,0.01],\tpvalue: 0.1972\n"
     ]
    },
    {
     "data": {
      "text/plain": [
       "<statsmodels.regression.mixed_linear_model.MixedLMResultsWrapper at 0x7facaa777850>"
      ]
     },
     "execution_count": 70,
     "metadata": {},
     "output_type": "execute_result"
    }
   ],
   "source": [
    "pstats.mle('gadlog ~ loss_LR + group + time' + stratification_covariates, mle_df[mle_df['time']<3], ['loss_LR'], 'loss_LR')"
   ]
  },
  {
   "cell_type": "code",
   "execution_count": 73,
   "metadata": {},
   "outputs": [
    {
     "name": "stdout",
     "output_type": "stream",
     "text": [
      "loss_LR1: \tbeta: 0.01,\tCI: [-0.0,0.01],\tpvalue: 0.1708\n",
      "loss_LR2: \tbeta: 0.01,\tCI: [-0.01,0.02],\tpvalue: 0.2368\n",
      "loss_LR3: \tbeta: 0.02,\tCI: [-0.0,0.03],\tpvalue: 0.0601\n"
     ]
    }
   ],
   "source": [
    "for i in range(1,4):\n",
    "    pstats.glm('gad' + str(i) +  'log ~ loss_LR' + str(i) + ' + group' + stratification_covariates, \\\n",
    "           df_panda, ['loss_LR'+ str(i)])"
   ]
  },
  {
   "cell_type": "code",
   "execution_count": 76,
   "metadata": {},
   "outputs": [
    {
     "name": "stdout",
     "output_type": "stream",
     "text": [
      "loss_LR2: \tbeta: 0.02,\tCI: [-0.0,0.04],\tpvalue: 0.068\n",
      "loss_LR3: \tbeta: 0.03,\tCI: [0.0,0.05],\tpvalue: 0.0207\n"
     ]
    }
   ],
   "source": [
    "for i in range(2,4):\n",
    "    pstats.glm('gad' + str(i) +  'log ~ loss_LR' + str(i) + ' + gad1log + group' + stratification_covariates, \\\n",
    "           df_panda[df_panda['exclusiontot' + str(i)] == 0], ['loss_LR'+ str(i)])"
   ]
  },
  {
   "cell_type": "code",
   "execution_count": 27,
   "metadata": {},
   "outputs": [
    {
     "name": "stdout",
     "output_type": "stream",
     "text": [
      "group: \tbeta: 0.01,\tCI: [-0.04,0.06],\tpvalue: 0.673\n"
     ]
    },
    {
     "data": {
      "text/plain": [
       "<statsmodels.regression.mixed_linear_model.MixedLMResultsWrapper at 0x7f8159cd3070>"
      ]
     },
     "execution_count": 27,
     "metadata": {},
     "output_type": "execute_result"
    }
   ],
   "source": [
    "# post-hoc analysis checking for switch analysis\n",
    "gngstats.mle('switch_loss ~ group + time', \\\n",
    "           mle_df[(mle_df['time']<3)&(mle_df['exclusiontot']==0)], ['group'],[])"
   ]
  },
  {
   "cell_type": "code",
   "execution_count": null,
   "metadata": {},
   "outputs": [],
   "source": [
    "mle_df['bias___']"
   ]
  },
  {
   "cell_type": "code",
   "execution_count": 22,
   "metadata": {},
   "outputs": [
    {
     "data": {
      "text/html": [
       "<div>\n",
       "<style scoped>\n",
       "    .dataframe tbody tr th:only-of-type {\n",
       "        vertical-align: middle;\n",
       "    }\n",
       "\n",
       "    .dataframe tbody tr th {\n",
       "        vertical-align: top;\n",
       "    }\n",
       "\n",
       "    .dataframe thead th {\n",
       "        text-align: right;\n",
       "    }\n",
       "</style>\n",
       "<table border=\"1\" class=\"dataframe\">\n",
       "  <thead>\n",
       "    <tr style=\"text-align: right;\">\n",
       "      <th></th>\n",
       "      <th>rew__se</th>\n",
       "      <th>loss_se</th>\n",
       "      <th>rew__LR</th>\n",
       "      <th>loss_LR</th>\n",
       "      <th>app_Pav</th>\n",
       "      <th>av__Pav</th>\n",
       "      <th>noise__</th>\n",
       "      <th>bias___</th>\n",
       "      <th>rbias__</th>\n",
       "      <th>switch_loss</th>\n",
       "      <th>stay_neut</th>\n",
       "    </tr>\n",
       "  </thead>\n",
       "  <tbody>\n",
       "    <tr>\n",
       "      <th>rew__se</th>\n",
       "      <td>1.000000</td>\n",
       "      <td>0.282437</td>\n",
       "      <td>0.145662</td>\n",
       "      <td>0.117696</td>\n",
       "      <td>0.252436</td>\n",
       "      <td>-0.026978</td>\n",
       "      <td>-0.457477</td>\n",
       "      <td>0.163838</td>\n",
       "      <td>0.056169</td>\n",
       "      <td>-0.070000</td>\n",
       "      <td>0.200587</td>\n",
       "    </tr>\n",
       "    <tr>\n",
       "      <th>loss_se</th>\n",
       "      <td>0.282437</td>\n",
       "      <td>1.000000</td>\n",
       "      <td>0.089930</td>\n",
       "      <td>-0.755199</td>\n",
       "      <td>-0.074098</td>\n",
       "      <td>0.347329</td>\n",
       "      <td>0.418710</td>\n",
       "      <td>-0.181535</td>\n",
       "      <td>-0.321126</td>\n",
       "      <td>-0.199165</td>\n",
       "      <td>0.627278</td>\n",
       "    </tr>\n",
       "    <tr>\n",
       "      <th>rew__LR</th>\n",
       "      <td>0.145662</td>\n",
       "      <td>0.089930</td>\n",
       "      <td>1.000000</td>\n",
       "      <td>0.178490</td>\n",
       "      <td>-0.103623</td>\n",
       "      <td>-0.081520</td>\n",
       "      <td>-0.557492</td>\n",
       "      <td>0.495044</td>\n",
       "      <td>0.314257</td>\n",
       "      <td>0.055174</td>\n",
       "      <td>-0.045579</td>\n",
       "    </tr>\n",
       "    <tr>\n",
       "      <th>loss_LR</th>\n",
       "      <td>0.117696</td>\n",
       "      <td>-0.755199</td>\n",
       "      <td>0.178490</td>\n",
       "      <td>1.000000</td>\n",
       "      <td>0.059610</td>\n",
       "      <td>-0.653385</td>\n",
       "      <td>-0.514512</td>\n",
       "      <td>0.336303</td>\n",
       "      <td>0.437911</td>\n",
       "      <td>0.139897</td>\n",
       "      <td>-0.309536</td>\n",
       "    </tr>\n",
       "    <tr>\n",
       "      <th>app_Pav</th>\n",
       "      <td>0.252436</td>\n",
       "      <td>-0.074098</td>\n",
       "      <td>-0.103623</td>\n",
       "      <td>0.059610</td>\n",
       "      <td>1.000000</td>\n",
       "      <td>0.271707</td>\n",
       "      <td>-0.433634</td>\n",
       "      <td>-0.114526</td>\n",
       "      <td>0.063817</td>\n",
       "      <td>-0.002516</td>\n",
       "      <td>-0.084407</td>\n",
       "    </tr>\n",
       "    <tr>\n",
       "      <th>av__Pav</th>\n",
       "      <td>-0.026978</td>\n",
       "      <td>0.347329</td>\n",
       "      <td>-0.081520</td>\n",
       "      <td>-0.653385</td>\n",
       "      <td>0.271707</td>\n",
       "      <td>1.000000</td>\n",
       "      <td>0.133993</td>\n",
       "      <td>-0.338650</td>\n",
       "      <td>-0.460699</td>\n",
       "      <td>-0.237054</td>\n",
       "      <td>0.079379</td>\n",
       "    </tr>\n",
       "    <tr>\n",
       "      <th>noise__</th>\n",
       "      <td>-0.457477</td>\n",
       "      <td>0.418710</td>\n",
       "      <td>-0.557492</td>\n",
       "      <td>-0.514512</td>\n",
       "      <td>-0.433634</td>\n",
       "      <td>0.133993</td>\n",
       "      <td>1.000000</td>\n",
       "      <td>-0.588812</td>\n",
       "      <td>-0.542612</td>\n",
       "      <td>-0.183553</td>\n",
       "      <td>0.427822</td>\n",
       "    </tr>\n",
       "    <tr>\n",
       "      <th>bias___</th>\n",
       "      <td>0.163838</td>\n",
       "      <td>-0.181535</td>\n",
       "      <td>0.495044</td>\n",
       "      <td>0.336303</td>\n",
       "      <td>-0.114526</td>\n",
       "      <td>-0.338650</td>\n",
       "      <td>-0.588812</td>\n",
       "      <td>1.000000</td>\n",
       "      <td>0.849479</td>\n",
       "      <td>0.220273</td>\n",
       "      <td>-0.293312</td>\n",
       "    </tr>\n",
       "    <tr>\n",
       "      <th>rbias__</th>\n",
       "      <td>0.056169</td>\n",
       "      <td>-0.321126</td>\n",
       "      <td>0.314257</td>\n",
       "      <td>0.437911</td>\n",
       "      <td>0.063817</td>\n",
       "      <td>-0.460699</td>\n",
       "      <td>-0.542612</td>\n",
       "      <td>0.849479</td>\n",
       "      <td>1.000000</td>\n",
       "      <td>0.314261</td>\n",
       "      <td>-0.319341</td>\n",
       "    </tr>\n",
       "    <tr>\n",
       "      <th>switch_loss</th>\n",
       "      <td>-0.070000</td>\n",
       "      <td>-0.199165</td>\n",
       "      <td>0.055174</td>\n",
       "      <td>0.139897</td>\n",
       "      <td>-0.002516</td>\n",
       "      <td>-0.237054</td>\n",
       "      <td>-0.183553</td>\n",
       "      <td>0.220273</td>\n",
       "      <td>0.314261</td>\n",
       "      <td>1.000000</td>\n",
       "      <td>-0.352929</td>\n",
       "    </tr>\n",
       "    <tr>\n",
       "      <th>stay_neut</th>\n",
       "      <td>0.200587</td>\n",
       "      <td>0.627278</td>\n",
       "      <td>-0.045579</td>\n",
       "      <td>-0.309536</td>\n",
       "      <td>-0.084407</td>\n",
       "      <td>0.079379</td>\n",
       "      <td>0.427822</td>\n",
       "      <td>-0.293312</td>\n",
       "      <td>-0.319341</td>\n",
       "      <td>-0.352929</td>\n",
       "      <td>1.000000</td>\n",
       "    </tr>\n",
       "  </tbody>\n",
       "</table>\n",
       "</div>"
      ],
      "text/plain": [
       "              rew__se   loss_se   rew__LR   loss_LR   app_Pav   av__Pav  \\\n",
       "rew__se      1.000000  0.282437  0.145662  0.117696  0.252436 -0.026978   \n",
       "loss_se      0.282437  1.000000  0.089930 -0.755199 -0.074098  0.347329   \n",
       "rew__LR      0.145662  0.089930  1.000000  0.178490 -0.103623 -0.081520   \n",
       "loss_LR      0.117696 -0.755199  0.178490  1.000000  0.059610 -0.653385   \n",
       "app_Pav      0.252436 -0.074098 -0.103623  0.059610  1.000000  0.271707   \n",
       "av__Pav     -0.026978  0.347329 -0.081520 -0.653385  0.271707  1.000000   \n",
       "noise__     -0.457477  0.418710 -0.557492 -0.514512 -0.433634  0.133993   \n",
       "bias___      0.163838 -0.181535  0.495044  0.336303 -0.114526 -0.338650   \n",
       "rbias__      0.056169 -0.321126  0.314257  0.437911  0.063817 -0.460699   \n",
       "switch_loss -0.070000 -0.199165  0.055174  0.139897 -0.002516 -0.237054   \n",
       "stay_neut    0.200587  0.627278 -0.045579 -0.309536 -0.084407  0.079379   \n",
       "\n",
       "              noise__   bias___   rbias__  switch_loss  stay_neut  \n",
       "rew__se     -0.457477  0.163838  0.056169    -0.070000   0.200587  \n",
       "loss_se      0.418710 -0.181535 -0.321126    -0.199165   0.627278  \n",
       "rew__LR     -0.557492  0.495044  0.314257     0.055174  -0.045579  \n",
       "loss_LR     -0.514512  0.336303  0.437911     0.139897  -0.309536  \n",
       "app_Pav     -0.433634 -0.114526  0.063817    -0.002516  -0.084407  \n",
       "av__Pav      0.133993 -0.338650 -0.460699    -0.237054   0.079379  \n",
       "noise__      1.000000 -0.588812 -0.542612    -0.183553   0.427822  \n",
       "bias___     -0.588812  1.000000  0.849479     0.220273  -0.293312  \n",
       "rbias__     -0.542612  0.849479  1.000000     0.314261  -0.319341  \n",
       "switch_loss -0.183553  0.220273  0.314261     1.000000  -0.352929  \n",
       "stay_neut    0.427822 -0.293312 -0.319341    -0.352929   1.000000  "
      ]
     },
     "execution_count": 22,
     "metadata": {},
     "output_type": "execute_result"
    }
   ],
   "source": [
    "mle_df[parameter_labels + ['switch_loss','stay_neut']].corr()"
   ]
  },
  {
   "cell_type": "code",
   "execution_count": null,
   "metadata": {},
   "outputs": [],
   "source": []
  }
 ],
 "metadata": {
  "kernelspec": {
   "display_name": "Python 3",
   "language": "python",
   "name": "python3"
  },
  "language_info": {
   "codemirror_mode": {
    "name": "ipython",
    "version": 3
   },
   "file_extension": ".py",
   "mimetype": "text/x-python",
   "name": "python",
   "nbconvert_exporter": "python",
   "pygments_lexer": "ipython3",
   "version": "3.8.5"
  }
 },
 "nbformat": 4,
 "nbformat_minor": 4
}
