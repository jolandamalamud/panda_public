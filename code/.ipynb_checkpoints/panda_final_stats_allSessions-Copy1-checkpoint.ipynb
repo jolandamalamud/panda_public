{
 "cells": [
  {
   "cell_type": "code",
   "execution_count": 18,
   "metadata": {},
   "outputs": [],
   "source": [
    "import numpy as np\n",
    "import pandas as pd\n",
    "from plotting import Plotting\n",
    "from loading_preparing_data import Panda\n",
    "from panda_statistics import PandaStats\n",
    "import statsmodels.formula.api as smf\n",
    "import scipy"
   ]
  },
  {
   "cell_type": "code",
   "execution_count": 19,
   "metadata": {},
   "outputs": [],
   "source": [
    "filepath = '/Users/jolandamalamud/phd/projects/gng_panda_antler/gng_panda/data/'\n",
    "panda = Panda(filepath, ['gad', 'phq', 'bdi'])\n",
    "disp = Plotting()\n",
    "pstats = PandaStats()\n",
    "# load raw task data\n",
    "D = panda.load_data()\n",
    "# prep action choices to plot\n",
    "data = panda.extract_data(D)\n",
    "# load modelling data\n",
    "modelling = panda.load_modelling_results('modelling_results/', ['ll2b2a2epxb', 'llb'])\n",
    "#transform_params = panda.transform_parameters(modelling['emmap'])\n",
    "random_baseline_model = panda.load_modelling_results('modelling_results/', ['llb'])\n",
    "# load rct data\n",
    "dfRCT = panda.load_rctdata()"
   ]
  },
  {
   "cell_type": "code",
   "execution_count": 20,
   "metadata": {},
   "outputs": [],
   "source": [
    "# define all variables of interest\n",
    "parameter_labels = ['rew_se', 'loss_se', 'rew_LR', 'loss_LR', 'app_Pav', 'av_Pav', 'noise', 'bias', 'rbias']\n",
    "parameter_labels_transformed = []\n",
    "# for i in parameter_labels[:-2]: parameter_labels_transformed.append(i + '_trans')\n",
    "gng_columns = parameter_labels + \\\n",
    "                ['exclusion', 'goprotot', 'gopro_g2w', 'gopro_g2a', 'gopro_ng2w', \\\n",
    "                 'gopro_ng2a', 'acctot', 'acc_g2w', 'acc_g2a', 'acc_ng2w', 'acc_ng2a','iL']\n",
    "\n",
    "gng_data = np.vstack((modelling['emmap'], random_baseline_model['emmap'], modelling['excluding'], \\\n",
    "                       np.nanmean(data['a_go'],axis=(0,1)), np.nanmean(data['a_go'],axis=0), \\\n",
    "                       np.nanmean(data['a_correct'],axis=(0,1)), np.nanmean(data['a_correct'],axis=0), \\\n",
    "                       modelling['iL']))\n",
    "\n",
    "psychiatric_questionnaires = ['gad', 'phq', 'bdi']\n",
    "flat_list, new_flat_list = panda.create_questionnaire_item_list({'gad': 7,'phq': 9, 'bdi': 21}, dfRCT)\n",
    "\n",
    "rct_columns = ['rctid', 'group', 'gad1', 'gad2log', 'gad3log', 'gad4log', 'phq1', 'phq2log', \\\n",
    "               'phq3log', 'phq4log', 'bdi1', 'bdi2log', 'bdi3log', 'bdi4log',\\\n",
    "               'site', 'cis', 'dep', 'age', 'education', 'AD_past', \\\n",
    "               'sex', 'ethnic', 'fin', 'empstat', 'marstat', 'cisscore'] + new_flat_list\n",
    "\n",
    "rct_data = dfRCT[['identifier_n', 'group', 'gadtot', 'log_gadtot_2wk', 'log_gadtot_6wk', 'log_gadtot_12wk', \\\n",
    "                  'phqtot', 'log_phqtot_2wk', 'log_phqtot_6wk', 'log_phqtot_12wk', 'becktot', \\\n",
    "                  'log_becktot_2wk','log_becktot_6wk','log_becktot_12wk','_site_n', \\\n",
    "                  'cistotal_cat', 'depr_dur_2years', 'age', 'edu3', 'antidepressantsinpast', \\\n",
    "                  'sex', 'ethnic', 'fin3', 'empstat2', 'marstat3', 'cisdepscore'] + flat_list]"
   ]
  },
  {
   "cell_type": "code",
   "execution_count": 21,
   "metadata": {},
   "outputs": [],
   "source": [
    "# create dataframe of all variables of interest\n",
    "df_panda = panda.create_panda_df(data, gng_columns, gng_data, rct_columns, rct_data)\n",
    "for i in psychiatric_questionnaires:\n",
    "    if i + '1log' in df_panda.columns: rct_columns.append(i + '1log')\n",
    "\n",
    "number_of_sessions = max(data['sess']).astype(int)\n",
    "number_of_subjects = len(df_panda)\n",
    "weeks = [0, 2, 6, 12]"
   ]
  },
  {
   "cell_type": "code",
   "execution_count": 22,
   "metadata": {},
   "outputs": [
    {
     "data": {
      "text/html": [
       "<div>\n",
       "<style scoped>\n",
       "    .dataframe tbody tr th:only-of-type {\n",
       "        vertical-align: middle;\n",
       "    }\n",
       "\n",
       "    .dataframe tbody tr th {\n",
       "        vertical-align: top;\n",
       "    }\n",
       "\n",
       "    .dataframe thead th {\n",
       "        text-align: right;\n",
       "    }\n",
       "</style>\n",
       "<table border=\"1\" class=\"dataframe\">\n",
       "  <thead>\n",
       "    <tr style=\"text-align: right;\">\n",
       "      <th></th>\n",
       "      <th>bdi1log</th>\n",
       "      <th>phq1log</th>\n",
       "      <th>gad1log</th>\n",
       "    </tr>\n",
       "  </thead>\n",
       "  <tbody>\n",
       "    <tr>\n",
       "      <th>bdi1log</th>\n",
       "      <td>1.000000</td>\n",
       "      <td>0.791180</td>\n",
       "      <td>0.664799</td>\n",
       "    </tr>\n",
       "    <tr>\n",
       "      <th>phq1log</th>\n",
       "      <td>0.791180</td>\n",
       "      <td>1.000000</td>\n",
       "      <td>0.708296</td>\n",
       "    </tr>\n",
       "    <tr>\n",
       "      <th>gad1log</th>\n",
       "      <td>0.664799</td>\n",
       "      <td>0.708296</td>\n",
       "      <td>1.000000</td>\n",
       "    </tr>\n",
       "  </tbody>\n",
       "</table>\n",
       "</div>"
      ],
      "text/plain": [
       "          bdi1log   phq1log   gad1log\n",
       "bdi1log  1.000000  0.791180  0.664799\n",
       "phq1log  0.791180  1.000000  0.708296\n",
       "gad1log  0.664799  0.708296  1.000000"
      ]
     },
     "execution_count": 22,
     "metadata": {},
     "output_type": "execute_result"
    }
   ],
   "source": [
    "df_panda[['bdi1log','phq1log', 'gad1log']].corr()"
   ]
  },
  {
   "cell_type": "code",
   "execution_count": 23,
   "metadata": {},
   "outputs": [
    {
     "data": {
      "text/plain": [
       "751"
      ]
     },
     "execution_count": 23,
     "metadata": {},
     "output_type": "execute_result"
    }
   ],
   "source": [
    "# number of non-informative data from all task runs\n",
    "modelling['excluding'].sum()"
   ]
  },
  {
   "cell_type": "markdown",
   "metadata": {},
   "source": [
    "---------------------------------------------------------------------------------------------------------------\n",
    "Exclusion\n",
    "--"
   ]
  },
  {
   "cell_type": "code",
   "execution_count": 24,
   "metadata": {},
   "outputs": [
    {
     "name": "stdout",
     "output_type": "stream",
     "text": [
      "# of excluded subjects at week 0:\t315.0 (0.51%)\n",
      "# of excluded subjects at week 2:\t229.0 (0.43%)\n",
      "# of excluded subjects at week 6:\t201.0 (0.42%)\n",
      "total # of excluded subjects:\t\t745.0 (46%)\n"
     ]
    }
   ],
   "source": [
    "# number of excluded subjects due to not performing the task properly\n",
    "for t in range(1,number_of_sessions+1):\n",
    "    no_data = df_panda['exclusion' + str(t)].isna()\n",
    "    ex1 = df_panda['exclusion' + str(t)] == 1\n",
    "    ex2 = df_panda['acctot' + str(t)] < 0.5\n",
    "    #df_panda.loc[~no_data, 'exclusiontot' + str(t)] = (ex1[~no_data] | ex2[~no_data]).astype(int)\n",
    "    df_panda.loc[~no_data, 'exclusiontot' + str(t)] = (ex1[~no_data]).astype(int)\n",
    "\n",
    "gng_columns.append('exclusiontot')\n",
    "\n",
    "n_subject = []\n",
    "exclusion = []\n",
    "for t in range(number_of_sessions):\n",
    "    exclusion.append(np.nansum(df_panda['exclusiontot' + str(t+1)]))\n",
    "    n_subject.append(sum(~df_panda['exclusiontot' + str(t+1)].isna()))\n",
    "    print('# of excluded subjects at week ' + str(weeks[t]) + ':\\t' + str(exclusion[t]) + \\\n",
    "      ' (' + str(round(exclusion[t]/n_subject[t],2)) +'%)')\n",
    "print('total # of excluded subjects:\\t\\t' + str(sum(exclusion)) + \\\n",
    "      ' (' + str(round(sum(exclusion)/(sum(n_subject))*100)) +'%)')"
   ]
  },
  {
   "cell_type": "code",
   "execution_count": 25,
   "metadata": {},
   "outputs": [
    {
     "name": "stdout",
     "output_type": "stream",
     "text": [
      "included task runs: 885\n",
      "434 (66% of those randomised)\n"
     ]
    }
   ],
   "source": [
    "included = df_panda[['exclusiontot1', 'exclusiontot2', 'exclusiontot3']] == 0\n",
    "print('included task runs: ' + str(included.values.sum()))\n",
    "print(str((included.sum(axis=1) > 0).sum()) + ' ('+ str(round((included.sum(axis=1) > 0).sum()/ len(df_panda) * 100)) +  '% of those randomised)')"
   ]
  },
  {
   "cell_type": "code",
   "execution_count": 26,
   "metadata": {},
   "outputs": [
    {
     "data": {
      "text/html": [
       "<div>\n",
       "<style scoped>\n",
       "    .dataframe tbody tr th:only-of-type {\n",
       "        vertical-align: middle;\n",
       "    }\n",
       "\n",
       "    .dataframe tbody tr th {\n",
       "        vertical-align: top;\n",
       "    }\n",
       "\n",
       "    .dataframe thead th {\n",
       "        text-align: right;\n",
       "    }\n",
       "</style>\n",
       "<table border=\"1\" class=\"dataframe\">\n",
       "  <thead>\n",
       "    <tr style=\"text-align: right;\">\n",
       "      <th></th>\n",
       "      <th>variable</th>\n",
       "      <th>sertraline</th>\n",
       "      <th>placebo</th>\n",
       "      <th>X2</th>\n",
       "      <th>p</th>\n",
       "    </tr>\n",
       "  </thead>\n",
       "  <tbody>\n",
       "    <tr>\n",
       "      <th>0.0</th>\n",
       "      <td>exclusiontot</td>\n",
       "      <td>133</td>\n",
       "      <td>166</td>\n",
       "      <td>6.818</td>\n",
       "      <td>0.009</td>\n",
       "    </tr>\n",
       "    <tr>\n",
       "      <th>1.0</th>\n",
       "      <td>exclusiontot</td>\n",
       "      <td>129</td>\n",
       "      <td>100</td>\n",
       "      <td>6.818</td>\n",
       "      <td>0.009</td>\n",
       "    </tr>\n",
       "  </tbody>\n",
       "</table>\n",
       "</div>"
      ],
      "text/plain": [
       "         variable  sertraline  placebo     X2      p\n",
       "0.0  exclusiontot         133      166  6.818  0.009\n",
       "1.0  exclusiontot         129      100  6.818  0.009"
      ]
     },
     "metadata": {},
     "output_type": "display_data"
    },
    {
     "name": "stdout",
     "output_type": "stream",
     "text": [
      "excluded at T = 2 (N = 528): 56.0% sertraline, 44.0% placebo\n"
     ]
    },
    {
     "data": {
      "text/html": [
       "<div>\n",
       "<style scoped>\n",
       "    .dataframe tbody tr th:only-of-type {\n",
       "        vertical-align: middle;\n",
       "    }\n",
       "\n",
       "    .dataframe tbody tr th {\n",
       "        vertical-align: top;\n",
       "    }\n",
       "\n",
       "    .dataframe thead th {\n",
       "        text-align: right;\n",
       "    }\n",
       "</style>\n",
       "<table border=\"1\" class=\"dataframe\">\n",
       "  <thead>\n",
       "    <tr style=\"text-align: right;\">\n",
       "      <th></th>\n",
       "      <th>variable</th>\n",
       "      <th>sertraline</th>\n",
       "      <th>placebo</th>\n",
       "      <th>X2</th>\n",
       "      <th>p</th>\n",
       "    </tr>\n",
       "  </thead>\n",
       "  <tbody>\n",
       "    <tr>\n",
       "      <th>0.0</th>\n",
       "      <td>exclusiontot</td>\n",
       "      <td>137</td>\n",
       "      <td>144</td>\n",
       "      <td>0.0</td>\n",
       "      <td>1.0</td>\n",
       "    </tr>\n",
       "    <tr>\n",
       "      <th>1.0</th>\n",
       "      <td>exclusiontot</td>\n",
       "      <td>98</td>\n",
       "      <td>103</td>\n",
       "      <td>0.0</td>\n",
       "      <td>1.0</td>\n",
       "    </tr>\n",
       "  </tbody>\n",
       "</table>\n",
       "</div>"
      ],
      "text/plain": [
       "         variable  sertraline  placebo   X2    p\n",
       "0.0  exclusiontot         137      144  0.0  1.0\n",
       "1.0  exclusiontot          98      103  0.0  1.0"
      ]
     },
     "metadata": {},
     "output_type": "display_data"
    },
    {
     "name": "stdout",
     "output_type": "stream",
     "text": [
      "excluded at T = 3 (N = 482): 49.0% sertraline, 51.0% placebo\n"
     ]
    }
   ],
   "source": [
    "# chi2 pearson test to compare included vs excluded in sertraline vs placebo\n",
    "for t in range(2,number_of_sessions+1):\n",
    "    tmp = pstats.chi2_test(df_panda['exclusiontot' + str(t)], df_panda['group'], ['sertraline', 'placebo'])\n",
    "    tmp.insert(0, 'variable', 'exclusiontot')\n",
    "    display(tmp)\n",
    "    print('excluded at T = ' + str(t) + ' (N = ' + str(sum(~df_panda['exclusiontot' + str(t)].isna() & ~df_panda['group'].isna())) + \\\n",
    "          '): ' + str(np.round((df_panda['group'][df_panda['exclusiontot' + str(t)]==1] == 1).mean()*100)) \\\n",
    "          + '% sertraline, ' + str(np.round((df_panda['group'][df_panda['exclusiontot' + str(t)]==1] == 0).mean()*100)) \\\n",
    "          + '% placebo')"
   ]
  },
  {
   "cell_type": "code",
   "execution_count": 27,
   "metadata": {},
   "outputs": [
    {
     "data": {
      "text/html": [
       "<th style=\"text-align:center\"><td style=\"vertical-align:top\"><h2></h2><table style=\"display:inline\" border=\"1\" class=\"dataframe\">\n",
       "  <thead>\n",
       "    <tr style=\"text-align: right;\">\n",
       "      <th></th>\n",
       "      <th>baseline variable</th>\n",
       "      <th>estimate</th>\n",
       "      <th>pvalue</th>\n",
       "    </tr>\n",
       "  </thead>\n",
       "  <tbody>\n",
       "    <tr>\n",
       "      <th>0</th>\n",
       "      <td>gad1log</td>\n",
       "      <td>-0.136</td>\n",
       "      <td>0.652</td>\n",
       "    </tr>\n",
       "    <tr>\n",
       "      <th>1</th>\n",
       "      <td>phq1log</td>\n",
       "      <td>-0.309</td>\n",
       "      <td>0.355</td>\n",
       "    </tr>\n",
       "    <tr>\n",
       "      <th>2</th>\n",
       "      <td>bdi1log</td>\n",
       "      <td>-0.309</td>\n",
       "      <td>0.422</td>\n",
       "    </tr>\n",
       "    <tr>\n",
       "      <th>3</th>\n",
       "      <td>age</td>\n",
       "      <td>0.045</td>\n",
       "      <td>0.000</td>\n",
       "    </tr>\n",
       "    <tr>\n",
       "      <th>4</th>\n",
       "      <td>cisscore</td>\n",
       "      <td>-0.021</td>\n",
       "      <td>0.201</td>\n",
       "    </tr>\n",
       "    <tr>\n",
       "      <th>5</th>\n",
       "      <td>site</td>\n",
       "      <td>0.088</td>\n",
       "      <td>0.196</td>\n",
       "    </tr>\n",
       "    <tr>\n",
       "      <th>6</th>\n",
       "      <td>cis</td>\n",
       "      <td>-0.006</td>\n",
       "      <td>0.955</td>\n",
       "    </tr>\n",
       "    <tr>\n",
       "      <th>7</th>\n",
       "      <td>dep</td>\n",
       "      <td>-0.107</td>\n",
       "      <td>0.536</td>\n",
       "    </tr>\n",
       "    <tr>\n",
       "      <th>8</th>\n",
       "      <td>education</td>\n",
       "      <td>0.700</td>\n",
       "      <td>0.000</td>\n",
       "    </tr>\n",
       "    <tr>\n",
       "      <th>9</th>\n",
       "      <td>AD_past</td>\n",
       "      <td>0.563</td>\n",
       "      <td>0.001</td>\n",
       "    </tr>\n",
       "    <tr>\n",
       "      <th>10</th>\n",
       "      <td>sex</td>\n",
       "      <td>0.188</td>\n",
       "      <td>0.250</td>\n",
       "    </tr>\n",
       "    <tr>\n",
       "      <th>11</th>\n",
       "      <td>ethnic</td>\n",
       "      <td>0.189</td>\n",
       "      <td>0.080</td>\n",
       "    </tr>\n",
       "    <tr>\n",
       "      <th>12</th>\n",
       "      <td>fin</td>\n",
       "      <td>-0.059</td>\n",
       "      <td>0.606</td>\n",
       "    </tr>\n",
       "    <tr>\n",
       "      <th>13</th>\n",
       "      <td>empstat</td>\n",
       "      <td>0.322</td>\n",
       "      <td>0.060</td>\n",
       "    </tr>\n",
       "    <tr>\n",
       "      <th>14</th>\n",
       "      <td>marstat</td>\n",
       "      <td>-0.085</td>\n",
       "      <td>0.460</td>\n",
       "    </tr>\n",
       "  </tbody>\n",
       "</table style=\"display:inline\"></td></th><th style=\"text-align:center\"><td style=\"vertical-align:top\"><h2></h2><table style=\"display:inline\" border=\"1\" class=\"dataframe\">\n",
       "  <thead>\n",
       "    <tr style=\"text-align: right;\">\n",
       "      <th></th>\n",
       "      <th>baseline variable</th>\n",
       "      <th>estimate</th>\n",
       "      <th>pvalue</th>\n",
       "    </tr>\n",
       "  </thead>\n",
       "  <tbody>\n",
       "    <tr>\n",
       "      <th>0</th>\n",
       "      <td>gad1log</td>\n",
       "      <td>-0.261</td>\n",
       "      <td>0.421</td>\n",
       "    </tr>\n",
       "    <tr>\n",
       "      <th>1</th>\n",
       "      <td>phq1log</td>\n",
       "      <td>-0.305</td>\n",
       "      <td>0.406</td>\n",
       "    </tr>\n",
       "    <tr>\n",
       "      <th>2</th>\n",
       "      <td>bdi1log</td>\n",
       "      <td>-0.568</td>\n",
       "      <td>0.170</td>\n",
       "    </tr>\n",
       "    <tr>\n",
       "      <th>3</th>\n",
       "      <td>age</td>\n",
       "      <td>0.058</td>\n",
       "      <td>0.000</td>\n",
       "    </tr>\n",
       "    <tr>\n",
       "      <th>4</th>\n",
       "      <td>cisscore</td>\n",
       "      <td>-0.025</td>\n",
       "      <td>0.160</td>\n",
       "    </tr>\n",
       "    <tr>\n",
       "      <th>5</th>\n",
       "      <td>site</td>\n",
       "      <td>0.012</td>\n",
       "      <td>0.881</td>\n",
       "    </tr>\n",
       "    <tr>\n",
       "      <th>6</th>\n",
       "      <td>cis</td>\n",
       "      <td>-0.179</td>\n",
       "      <td>0.104</td>\n",
       "    </tr>\n",
       "    <tr>\n",
       "      <th>7</th>\n",
       "      <td>dep</td>\n",
       "      <td>0.056</td>\n",
       "      <td>0.767</td>\n",
       "    </tr>\n",
       "    <tr>\n",
       "      <th>8</th>\n",
       "      <td>education</td>\n",
       "      <td>0.914</td>\n",
       "      <td>0.000</td>\n",
       "    </tr>\n",
       "    <tr>\n",
       "      <th>9</th>\n",
       "      <td>AD_past</td>\n",
       "      <td>0.625</td>\n",
       "      <td>0.001</td>\n",
       "    </tr>\n",
       "    <tr>\n",
       "      <th>10</th>\n",
       "      <td>sex</td>\n",
       "      <td>0.282</td>\n",
       "      <td>0.116</td>\n",
       "    </tr>\n",
       "    <tr>\n",
       "      <th>11</th>\n",
       "      <td>ethnic</td>\n",
       "      <td>-0.047</td>\n",
       "      <td>0.701</td>\n",
       "    </tr>\n",
       "    <tr>\n",
       "      <th>12</th>\n",
       "      <td>fin</td>\n",
       "      <td>0.047</td>\n",
       "      <td>0.711</td>\n",
       "    </tr>\n",
       "    <tr>\n",
       "      <th>13</th>\n",
       "      <td>empstat</td>\n",
       "      <td>0.110</td>\n",
       "      <td>0.556</td>\n",
       "    </tr>\n",
       "    <tr>\n",
       "      <th>14</th>\n",
       "      <td>marstat</td>\n",
       "      <td>-0.019</td>\n",
       "      <td>0.881</td>\n",
       "    </tr>\n",
       "  </tbody>\n",
       "</table style=\"display:inline\"></td></th><th style=\"text-align:center\"><td style=\"vertical-align:top\"><h2></h2><table style=\"display:inline\" border=\"1\" class=\"dataframe\">\n",
       "  <thead>\n",
       "    <tr style=\"text-align: right;\">\n",
       "      <th></th>\n",
       "      <th>baseline variable</th>\n",
       "      <th>estimate</th>\n",
       "      <th>pvalue</th>\n",
       "    </tr>\n",
       "  </thead>\n",
       "  <tbody>\n",
       "    <tr>\n",
       "      <th>0</th>\n",
       "      <td>gad1log</td>\n",
       "      <td>-1.008</td>\n",
       "      <td>0.004</td>\n",
       "    </tr>\n",
       "    <tr>\n",
       "      <th>1</th>\n",
       "      <td>phq1log</td>\n",
       "      <td>-0.637</td>\n",
       "      <td>0.100</td>\n",
       "    </tr>\n",
       "    <tr>\n",
       "      <th>2</th>\n",
       "      <td>bdi1log</td>\n",
       "      <td>-0.723</td>\n",
       "      <td>0.097</td>\n",
       "    </tr>\n",
       "    <tr>\n",
       "      <th>3</th>\n",
       "      <td>age</td>\n",
       "      <td>0.057</td>\n",
       "      <td>0.000</td>\n",
       "    </tr>\n",
       "    <tr>\n",
       "      <th>4</th>\n",
       "      <td>cisscore</td>\n",
       "      <td>-0.029</td>\n",
       "      <td>0.136</td>\n",
       "    </tr>\n",
       "    <tr>\n",
       "      <th>5</th>\n",
       "      <td>site</td>\n",
       "      <td>0.077</td>\n",
       "      <td>0.353</td>\n",
       "    </tr>\n",
       "    <tr>\n",
       "      <th>6</th>\n",
       "      <td>cis</td>\n",
       "      <td>-0.329</td>\n",
       "      <td>0.005</td>\n",
       "    </tr>\n",
       "    <tr>\n",
       "      <th>7</th>\n",
       "      <td>dep</td>\n",
       "      <td>-0.134</td>\n",
       "      <td>0.508</td>\n",
       "    </tr>\n",
       "    <tr>\n",
       "      <th>8</th>\n",
       "      <td>education</td>\n",
       "      <td>1.163</td>\n",
       "      <td>0.000</td>\n",
       "    </tr>\n",
       "    <tr>\n",
       "      <th>9</th>\n",
       "      <td>AD_past</td>\n",
       "      <td>0.750</td>\n",
       "      <td>0.000</td>\n",
       "    </tr>\n",
       "    <tr>\n",
       "      <th>10</th>\n",
       "      <td>sex</td>\n",
       "      <td>0.058</td>\n",
       "      <td>0.757</td>\n",
       "    </tr>\n",
       "    <tr>\n",
       "      <th>11</th>\n",
       "      <td>ethnic</td>\n",
       "      <td>0.001</td>\n",
       "      <td>0.992</td>\n",
       "    </tr>\n",
       "    <tr>\n",
       "      <th>12</th>\n",
       "      <td>fin</td>\n",
       "      <td>-0.129</td>\n",
       "      <td>0.338</td>\n",
       "    </tr>\n",
       "    <tr>\n",
       "      <th>13</th>\n",
       "      <td>empstat</td>\n",
       "      <td>0.530</td>\n",
       "      <td>0.007</td>\n",
       "    </tr>\n",
       "    <tr>\n",
       "      <th>14</th>\n",
       "      <td>marstat</td>\n",
       "      <td>0.106</td>\n",
       "      <td>0.413</td>\n",
       "    </tr>\n",
       "  </tbody>\n",
       "</table style=\"display:inline\"></td></th>"
      ]
     },
     "metadata": {},
     "output_type": "display_data"
    },
    {
     "name": "stdout",
     "output_type": "stream",
     "text": [
      "multiple comparisons: 0.0011\n"
     ]
    }
   ],
   "source": [
    "# is exclusion related to baseline variables? Logistic regression\n",
    "baseline_continuous =  ['gad1log', 'phq1log', 'bdi1log', 'age', 'cisscore']\n",
    "baseline_categorical = ['site', 'cis', 'dep', 'education', \\\n",
    "                        'AD_past','sex', 'ethnic', 'fin', 'empstat', 'marstat']\n",
    "tab_list = []\n",
    "for i in range(1,4):\n",
    "    tab = []\n",
    "    for j in baseline_continuous + baseline_categorical:\n",
    "        model = smf.logit('exclusiontot' + str(i) +' ~ ' + j, data=df_panda).fit(disp=False);\n",
    "        tab.append([j, round(model.params[1],3), round(model.pvalues[1],3)])\n",
    "    tab_list.append(pd.DataFrame(tab, columns=['baseline variable', 'estimate', 'pvalue']))\n",
    "disp.display_side_by_side(tab_list[0],tab_list[1],tab_list[2])\n",
    "print('multiple comparisons: ' + str(round(0.05/(3*len(baseline_continuous + baseline_categorical)),4)))"
   ]
  },
  {
   "cell_type": "code",
   "execution_count": 28,
   "metadata": {},
   "outputs": [
    {
     "name": "stdout",
     "output_type": "stream",
     "text": [
      "#######################################################################\n",
      "gad:\n",
      "exclusiontot1: \tbeta: -0.01,\tCI: [-0.05,0.03],\tpvalue: 0.6521\n",
      "exclusiontot2: \tbeta: -0.01,\tCI: [-0.05,0.03],\tpvalue: 0.6603\n",
      "exclusiontot3: \tbeta: -0.04,\tCI: [-0.1,0.02],\tpvalue: 0.2039\n",
      "#######################################################################\n",
      "phq:\n",
      "exclusiontot1: \tbeta: -0.02,\tCI: [-0.06,0.02],\tpvalue: 0.3548\n",
      "exclusiontot2: \tbeta: -0.02,\tCI: [-0.06,0.02],\tpvalue: 0.3166\n",
      "exclusiontot3: \tbeta: -0.03,\tCI: [-0.08,0.02],\tpvalue: 0.2483\n",
      "#######################################################################\n",
      "bdi:\n",
      "exclusiontot1: \tbeta: -0.01,\tCI: [-0.05,0.02],\tpvalue: 0.422\n",
      "exclusiontot2: \tbeta: -0.01,\tCI: [-0.05,0.03],\tpvalue: 0.7548\n",
      "exclusiontot3: \tbeta: -0.03,\tCI: [-0.08,0.03],\tpvalue: 0.4008\n"
     ]
    }
   ],
   "source": [
    "# is exclusion related to psychiatric scores at specific time point?\n",
    "for i in psychiatric_questionnaires:\n",
    "    print('#######################################################################')\n",
    "    print(i + ':')\n",
    "    pstats.glm((i + '1log ~ exclusiontot1'), df_panda, ['exclusiontot1'])\n",
    "    for t in range(2,number_of_sessions+1):\n",
    "          pstats.glm((i + str(t) + 'log ~ ' + i + '1log + exclusiontot' + str(t)), df_panda, ['exclusiontot' + str(t)])\n",
    "            "
   ]
  },
  {
   "cell_type": "markdown",
   "metadata": {},
   "source": [
    "Summary:\n",
    "--\n",
    "- more patients not doing the task properly in the sertraline group at week 2 (follow-up 1)\n",
    "- patients not doing the task properly were older, less educated, and were taking antidepressants in the past over all sessions --> control for age, education, and AD in the past\n",
    "- at baseline exclusion additionally related to ethnicity\n",
    "- at week 6 exclusion additionally related to baseline gad and employment status"
   ]
  },
  {
   "cell_type": "code",
   "execution_count": 29,
   "metadata": {},
   "outputs": [],
   "source": [
    "# define covariates for further analyses\n",
    "stratification_covariates = '+ site + dep + cis'\n",
    "exclusion_covariates = '+ age + education + AD_past + empstat'\n",
    "missing_covariates = '+ cisscore + phq1log + fin'"
   ]
  },
  {
   "cell_type": "markdown",
   "metadata": {},
   "source": [
    "---------------------------------------------------------------------------------------------------------------\n",
    "Included sample\n",
    "--"
   ]
  },
  {
   "cell_type": "code",
   "execution_count": 30,
   "metadata": {},
   "outputs": [],
   "source": [
    "# demographics\n",
    "df_panda['ethnic'] = df_panda['ethnic'].replace([2, 3, 4, 5, 6], 2)\n",
    "tmp = (df_panda['exclusiontot1'] == 0) | (df_panda['exclusiontot2'] == 0) | (df_panda['exclusiontot3'] == 0)\n",
    "group_label = ['placebo', 'sertraline', 'overall']\n",
    "demographic_variables1 = ['age', 'gad1', 'phq1', 'bdi1', 'cisscore']\n",
    "demographic_variables2 = ['site', 'cis', 'dep', 'education', 'AD_past', 'sex', \\\n",
    "                         'ethnic', 'fin', 'empstat', 'marstat']\n",
    "T = np.empty([100,4], dtype=object)\n",
    "T[0,3] = group_label[2] + ' (N = ' + str(len(df_panda[tmp])) + ')'\n",
    "                          \n",
    "for dd, d in enumerate(demographic_variables1):\n",
    "    T[dd+1,0] = d\n",
    "    T[dd+1,3] = str(np.round(df_panda[d][tmp].mean(),2)) + ' (' + str(np.round(df_panda[d][tmp].std(),2)) + ')'\n",
    "    for g in range(2):\n",
    "        T[dd+1,g+1] = str(np.round(df_panda[d][(df_panda['group']==g)&tmp].mean(),2)) + ' (' + \\\n",
    "                    str(np.round(df_panda[d][(df_panda['group']==g)&tmp].std(),2)) + ')'\n",
    "\n",
    "for g in range(2):\n",
    "    T[0,g+1] = group_label[g] + ' (N = ' + str(sum((df_panda['group']==g)&tmp)) + ')'\n",
    "    dd = len(demographic_variables1)+1\n",
    "    for d in demographic_variables2:\n",
    "        for i in range(int(max(df_panda[d][tmp]))):\n",
    "            T[dd,0] = d + str(i)\n",
    "            T[dd,3] = str(sum(df_panda[d][tmp]==i+1)) + ' (' + str(round(sum(df_panda[d][tmp]==i+1)/number_of_subjects*100)) + '%)'\n",
    "            T[dd,g+1] = str(sum((df_panda[d][tmp]==i+1) & (df_panda['group'][tmp]==g))) + ' (' + str(round(sum((df_panda[d][tmp]==i+1) & (df_panda['group'][tmp]==g))/sum((df_panda['group'][tmp]==g))*100)) + '%)'\n",
    "            dd += 1\n",
    "T = T[~(T == None).all(axis=1),:]"
   ]
  },
  {
   "cell_type": "code",
   "execution_count": 31,
   "metadata": {},
   "outputs": [],
   "source": [
    "# print demographics table in latex\n",
    "from tabulate import tabulate\n",
    "#print(tabulate(T, headers='firstrow', tablefmt='latex'))"
   ]
  },
  {
   "cell_type": "code",
   "execution_count": 32,
   "metadata": {},
   "outputs": [
    {
     "data": {
      "text/html": [
       "<div>\n",
       "<style scoped>\n",
       "    .dataframe tbody tr th:only-of-type {\n",
       "        vertical-align: middle;\n",
       "    }\n",
       "\n",
       "    .dataframe tbody tr th {\n",
       "        vertical-align: top;\n",
       "    }\n",
       "\n",
       "    .dataframe thead th {\n",
       "        text-align: right;\n",
       "    }\n",
       "</style>\n",
       "<table border=\"1\" class=\"dataframe\">\n",
       "  <thead>\n",
       "    <tr style=\"text-align: right;\">\n",
       "      <th></th>\n",
       "      <th>variable</th>\n",
       "      <th>sertraline</th>\n",
       "      <th>placebo</th>\n",
       "      <th>t</th>\n",
       "      <th>p</th>\n",
       "      <th>X2</th>\n",
       "    </tr>\n",
       "  </thead>\n",
       "  <tbody>\n",
       "    <tr>\n",
       "      <th>0.0</th>\n",
       "      <td>age</td>\n",
       "      <td>36.784</td>\n",
       "      <td>36.032</td>\n",
       "      <td>0.574</td>\n",
       "      <td>0.567</td>\n",
       "      <td>NaN</td>\n",
       "    </tr>\n",
       "    <tr>\n",
       "      <th>0.0</th>\n",
       "      <td>phq1</td>\n",
       "      <td>11.742</td>\n",
       "      <td>12.466</td>\n",
       "      <td>-1.320</td>\n",
       "      <td>0.188</td>\n",
       "      <td>NaN</td>\n",
       "    </tr>\n",
       "    <tr>\n",
       "      <th>0.0</th>\n",
       "      <td>bdi1</td>\n",
       "      <td>24.085</td>\n",
       "      <td>24.190</td>\n",
       "      <td>-0.109</td>\n",
       "      <td>0.913</td>\n",
       "      <td>NaN</td>\n",
       "    </tr>\n",
       "    <tr>\n",
       "      <th>0.0</th>\n",
       "      <td>gad1</td>\n",
       "      <td>9.300</td>\n",
       "      <td>9.602</td>\n",
       "      <td>-0.610</td>\n",
       "      <td>0.542</td>\n",
       "      <td>NaN</td>\n",
       "    </tr>\n",
       "    <tr>\n",
       "      <th>0.0</th>\n",
       "      <td>cisscore</td>\n",
       "      <td>10.420</td>\n",
       "      <td>10.995</td>\n",
       "      <td>-1.244</td>\n",
       "      <td>0.214</td>\n",
       "      <td>NaN</td>\n",
       "    </tr>\n",
       "    <tr>\n",
       "      <th>1.0</th>\n",
       "      <td>site</td>\n",
       "      <td>92.000</td>\n",
       "      <td>98.000</td>\n",
       "      <td>NaN</td>\n",
       "      <td>0.979</td>\n",
       "      <td>0.191</td>\n",
       "    </tr>\n",
       "    <tr>\n",
       "      <th>3.0</th>\n",
       "      <td>site</td>\n",
       "      <td>46.000</td>\n",
       "      <td>48.000</td>\n",
       "      <td>NaN</td>\n",
       "      <td>0.979</td>\n",
       "      <td>0.191</td>\n",
       "    </tr>\n",
       "    <tr>\n",
       "      <th>4.0</th>\n",
       "      <td>site</td>\n",
       "      <td>38.000</td>\n",
       "      <td>36.000</td>\n",
       "      <td>NaN</td>\n",
       "      <td>0.979</td>\n",
       "      <td>0.191</td>\n",
       "    </tr>\n",
       "    <tr>\n",
       "      <th>2.0</th>\n",
       "      <td>site</td>\n",
       "      <td>37.000</td>\n",
       "      <td>39.000</td>\n",
       "      <td>NaN</td>\n",
       "      <td>0.979</td>\n",
       "      <td>0.191</td>\n",
       "    </tr>\n",
       "    <tr>\n",
       "      <th>3.0</th>\n",
       "      <td>cis</td>\n",
       "      <td>117.000</td>\n",
       "      <td>126.000</td>\n",
       "      <td>NaN</td>\n",
       "      <td>0.548</td>\n",
       "      <td>1.201</td>\n",
       "    </tr>\n",
       "    <tr>\n",
       "      <th>2.0</th>\n",
       "      <td>cis</td>\n",
       "      <td>51.000</td>\n",
       "      <td>58.000</td>\n",
       "      <td>NaN</td>\n",
       "      <td>0.548</td>\n",
       "      <td>1.201</td>\n",
       "    </tr>\n",
       "    <tr>\n",
       "      <th>1.0</th>\n",
       "      <td>cis</td>\n",
       "      <td>44.000</td>\n",
       "      <td>37.000</td>\n",
       "      <td>NaN</td>\n",
       "      <td>0.548</td>\n",
       "      <td>1.201</td>\n",
       "    </tr>\n",
       "    <tr>\n",
       "      <th>1.0</th>\n",
       "      <td>dep</td>\n",
       "      <td>147.000</td>\n",
       "      <td>146.000</td>\n",
       "      <td>NaN</td>\n",
       "      <td>0.580</td>\n",
       "      <td>0.307</td>\n",
       "    </tr>\n",
       "    <tr>\n",
       "      <th>2.0</th>\n",
       "      <td>dep</td>\n",
       "      <td>66.000</td>\n",
       "      <td>75.000</td>\n",
       "      <td>NaN</td>\n",
       "      <td>0.580</td>\n",
       "      <td>0.307</td>\n",
       "    </tr>\n",
       "    <tr>\n",
       "      <th>1.0</th>\n",
       "      <td>education</td>\n",
       "      <td>160.000</td>\n",
       "      <td>165.000</td>\n",
       "      <td>NaN</td>\n",
       "      <td>0.977</td>\n",
       "      <td>0.047</td>\n",
       "    </tr>\n",
       "    <tr>\n",
       "      <th>2.0</th>\n",
       "      <td>education</td>\n",
       "      <td>49.000</td>\n",
       "      <td>53.000</td>\n",
       "      <td>NaN</td>\n",
       "      <td>0.977</td>\n",
       "      <td>0.047</td>\n",
       "    </tr>\n",
       "    <tr>\n",
       "      <th>3.0</th>\n",
       "      <td>education</td>\n",
       "      <td>3.000</td>\n",
       "      <td>3.000</td>\n",
       "      <td>NaN</td>\n",
       "      <td>0.977</td>\n",
       "      <td>0.047</td>\n",
       "    </tr>\n",
       "    <tr>\n",
       "      <th>2.0</th>\n",
       "      <td>AD_past</td>\n",
       "      <td>113.000</td>\n",
       "      <td>124.000</td>\n",
       "      <td>NaN</td>\n",
       "      <td>0.624</td>\n",
       "      <td>0.240</td>\n",
       "    </tr>\n",
       "    <tr>\n",
       "      <th>1.0</th>\n",
       "      <td>AD_past</td>\n",
       "      <td>99.000</td>\n",
       "      <td>97.000</td>\n",
       "      <td>NaN</td>\n",
       "      <td>0.624</td>\n",
       "      <td>0.240</td>\n",
       "    </tr>\n",
       "    <tr>\n",
       "      <th>2.0</th>\n",
       "      <td>sex</td>\n",
       "      <td>129.000</td>\n",
       "      <td>120.000</td>\n",
       "      <td>NaN</td>\n",
       "      <td>0.222</td>\n",
       "      <td>1.494</td>\n",
       "    </tr>\n",
       "    <tr>\n",
       "      <th>1.0</th>\n",
       "      <td>sex</td>\n",
       "      <td>84.000</td>\n",
       "      <td>101.000</td>\n",
       "      <td>NaN</td>\n",
       "      <td>0.222</td>\n",
       "      <td>1.494</td>\n",
       "    </tr>\n",
       "    <tr>\n",
       "      <th>1.0</th>\n",
       "      <td>ethnic</td>\n",
       "      <td>197.000</td>\n",
       "      <td>205.000</td>\n",
       "      <td>NaN</td>\n",
       "      <td>1.000</td>\n",
       "      <td>0.000</td>\n",
       "    </tr>\n",
       "    <tr>\n",
       "      <th>2.0</th>\n",
       "      <td>ethnic</td>\n",
       "      <td>15.000</td>\n",
       "      <td>16.000</td>\n",
       "      <td>NaN</td>\n",
       "      <td>1.000</td>\n",
       "      <td>0.000</td>\n",
       "    </tr>\n",
       "    <tr>\n",
       "      <th>1.0</th>\n",
       "      <td>fin</td>\n",
       "      <td>121.000</td>\n",
       "      <td>130.000</td>\n",
       "      <td>NaN</td>\n",
       "      <td>0.922</td>\n",
       "      <td>0.163</td>\n",
       "    </tr>\n",
       "    <tr>\n",
       "      <th>2.0</th>\n",
       "      <td>fin</td>\n",
       "      <td>65.000</td>\n",
       "      <td>66.000</td>\n",
       "      <td>NaN</td>\n",
       "      <td>0.922</td>\n",
       "      <td>0.163</td>\n",
       "    </tr>\n",
       "    <tr>\n",
       "      <th>3.0</th>\n",
       "      <td>fin</td>\n",
       "      <td>26.000</td>\n",
       "      <td>25.000</td>\n",
       "      <td>NaN</td>\n",
       "      <td>0.922</td>\n",
       "      <td>0.163</td>\n",
       "    </tr>\n",
       "    <tr>\n",
       "      <th>1.0</th>\n",
       "      <td>empstat</td>\n",
       "      <td>146.000</td>\n",
       "      <td>159.000</td>\n",
       "      <td>NaN</td>\n",
       "      <td>0.551</td>\n",
       "      <td>0.356</td>\n",
       "    </tr>\n",
       "    <tr>\n",
       "      <th>2.0</th>\n",
       "      <td>empstat</td>\n",
       "      <td>66.000</td>\n",
       "      <td>62.000</td>\n",
       "      <td>NaN</td>\n",
       "      <td>0.551</td>\n",
       "      <td>0.356</td>\n",
       "    </tr>\n",
       "    <tr>\n",
       "      <th>2.0</th>\n",
       "      <td>marstat</td>\n",
       "      <td>107.000</td>\n",
       "      <td>110.000</td>\n",
       "      <td>NaN</td>\n",
       "      <td>0.497</td>\n",
       "      <td>1.398</td>\n",
       "    </tr>\n",
       "    <tr>\n",
       "      <th>1.0</th>\n",
       "      <td>marstat</td>\n",
       "      <td>74.000</td>\n",
       "      <td>86.000</td>\n",
       "      <td>NaN</td>\n",
       "      <td>0.497</td>\n",
       "      <td>1.398</td>\n",
       "    </tr>\n",
       "    <tr>\n",
       "      <th>3.0</th>\n",
       "      <td>marstat</td>\n",
       "      <td>31.000</td>\n",
       "      <td>25.000</td>\n",
       "      <td>NaN</td>\n",
       "      <td>0.497</td>\n",
       "      <td>1.398</td>\n",
       "    </tr>\n",
       "  </tbody>\n",
       "</table>\n",
       "</div>"
      ],
      "text/plain": [
       "      variable  sertraline  placebo      t      p     X2\n",
       "0.0        age      36.784   36.032  0.574  0.567    NaN\n",
       "0.0       phq1      11.742   12.466 -1.320  0.188    NaN\n",
       "0.0       bdi1      24.085   24.190 -0.109  0.913    NaN\n",
       "0.0       gad1       9.300    9.602 -0.610  0.542    NaN\n",
       "0.0   cisscore      10.420   10.995 -1.244  0.214    NaN\n",
       "1.0       site      92.000   98.000    NaN  0.979  0.191\n",
       "3.0       site      46.000   48.000    NaN  0.979  0.191\n",
       "4.0       site      38.000   36.000    NaN  0.979  0.191\n",
       "2.0       site      37.000   39.000    NaN  0.979  0.191\n",
       "3.0        cis     117.000  126.000    NaN  0.548  1.201\n",
       "2.0        cis      51.000   58.000    NaN  0.548  1.201\n",
       "1.0        cis      44.000   37.000    NaN  0.548  1.201\n",
       "1.0        dep     147.000  146.000    NaN  0.580  0.307\n",
       "2.0        dep      66.000   75.000    NaN  0.580  0.307\n",
       "1.0  education     160.000  165.000    NaN  0.977  0.047\n",
       "2.0  education      49.000   53.000    NaN  0.977  0.047\n",
       "3.0  education       3.000    3.000    NaN  0.977  0.047\n",
       "2.0    AD_past     113.000  124.000    NaN  0.624  0.240\n",
       "1.0    AD_past      99.000   97.000    NaN  0.624  0.240\n",
       "2.0        sex     129.000  120.000    NaN  0.222  1.494\n",
       "1.0        sex      84.000  101.000    NaN  0.222  1.494\n",
       "1.0     ethnic     197.000  205.000    NaN  1.000  0.000\n",
       "2.0     ethnic      15.000   16.000    NaN  1.000  0.000\n",
       "1.0        fin     121.000  130.000    NaN  0.922  0.163\n",
       "2.0        fin      65.000   66.000    NaN  0.922  0.163\n",
       "3.0        fin      26.000   25.000    NaN  0.922  0.163\n",
       "1.0    empstat     146.000  159.000    NaN  0.551  0.356\n",
       "2.0    empstat      66.000   62.000    NaN  0.551  0.356\n",
       "2.0    marstat     107.000  110.000    NaN  0.497  1.398\n",
       "1.0    marstat      74.000   86.000    NaN  0.497  1.398\n",
       "3.0    marstat      31.000   25.000    NaN  0.497  1.398"
      ]
     },
     "metadata": {},
     "output_type": "display_data"
    }
   ],
   "source": [
    "# do baseline measures differ between groups in included sample?\n",
    "ex = (df_panda['exclusiontot1'] == 0) | (df_panda['exclusiontot2'] == 0) | (df_panda['exclusiontot3'] == 0)\n",
    "demographic_variables1 = ['age', 'phq1', 'bdi1', 'gad1', 'cisscore']\n",
    "demographic_variables2 = ['site', 'cis', 'dep', 'education', 'AD_past', 'sex', \\\n",
    "                         'ethnic', 'fin', 'empstat', 'marstat']\n",
    "\n",
    "tab = pd.DataFrame()\n",
    "for i in demographic_variables1:\n",
    "    tmp = pstats.group_ttest(df_panda[i][ex], df_panda['group'][ex], ['sertraline', 'placebo'])\n",
    "    tmp.insert(0, 'variable', i)\n",
    "    tab = pd.concat((tab, tmp))\n",
    "for i in demographic_variables2:\n",
    "    tmp = pstats.chi2_test(df_panda[i][ex], df_panda['group'][ex], ['sertraline', 'placebo'])\n",
    "    tmp.insert(0, 'variable', i)\n",
    "    tab = pd.concat((tab, tmp))\n",
    "display(tab)"
   ]
  },
  {
   "cell_type": "code",
   "execution_count": 33,
   "metadata": {},
   "outputs": [
    {
     "data": {
      "text/html": [
       "<div>\n",
       "<style scoped>\n",
       "    .dataframe tbody tr th:only-of-type {\n",
       "        vertical-align: middle;\n",
       "    }\n",
       "\n",
       "    .dataframe tbody tr th {\n",
       "        vertical-align: top;\n",
       "    }\n",
       "\n",
       "    .dataframe thead th {\n",
       "        text-align: right;\n",
       "    }\n",
       "</style>\n",
       "<table border=\"1\" class=\"dataframe\">\n",
       "  <thead>\n",
       "    <tr style=\"text-align: right;\">\n",
       "      <th></th>\n",
       "      <th>go to win</th>\n",
       "      <th>go to avoid</th>\n",
       "      <th>nogo to win</th>\n",
       "      <th>nogo to avoid</th>\n",
       "    </tr>\n",
       "  </thead>\n",
       "  <tbody>\n",
       "    <tr>\n",
       "      <th>baseline</th>\n",
       "      <td>0.78±0.26</td>\n",
       "      <td>0.52±0.24</td>\n",
       "      <td>0.43±0.33</td>\n",
       "      <td>0.73±0.17</td>\n",
       "    </tr>\n",
       "    <tr>\n",
       "      <th>T=2</th>\n",
       "      <td>0.83±0.24</td>\n",
       "      <td>0.59±0.25</td>\n",
       "      <td>0.44±0.34</td>\n",
       "      <td>0.74±0.16</td>\n",
       "    </tr>\n",
       "    <tr>\n",
       "      <th>T=6</th>\n",
       "      <td>0.82±0.27</td>\n",
       "      <td>0.61±0.27</td>\n",
       "      <td>0.47±0.36</td>\n",
       "      <td>0.75±0.17</td>\n",
       "    </tr>\n",
       "  </tbody>\n",
       "</table>\n",
       "</div>"
      ],
      "text/plain": [
       "          go to win go to avoid nogo to win nogo to avoid\n",
       "baseline  0.78±0.26   0.52±0.24   0.43±0.33     0.73±0.17\n",
       "T=2       0.83±0.24   0.59±0.25   0.44±0.34     0.74±0.16\n",
       "T=6       0.82±0.27   0.61±0.27   0.47±0.36     0.75±0.17"
      ]
     },
     "execution_count": 33,
     "metadata": {},
     "output_type": "execute_result"
    }
   ],
   "source": [
    "# average performance in included sample\n",
    "tablist = []\n",
    "for i in range(1,4):\n",
    "    tab = []\n",
    "    x = [x + str(i) for x in gng_columns if 'acc_' in x]\n",
    "    for j in x:\n",
    "        tab.append(str(np.round(df_panda[j][df_panda['exclusiontot'+str(i)]==0].mean(),2)) \\\n",
    "                   + '±' +  str(np.round(df_panda[j][df_panda['exclusiontot'+str(i)]==0].std(),2)))\n",
    "    tablist.append(tab)\n",
    "pd.DataFrame(tablist, columns=['go to win', 'go to avoid', 'nogo to win', 'nogo to avoid'], index=['baseline','T=2','T=6'])"
   ]
  },
  {
   "cell_type": "code",
   "execution_count": 34,
   "metadata": {},
   "outputs": [
    {
     "name": "stdout",
     "output_type": "stream",
     "text": [
      "#######################################################################\n",
      "gad:\n",
      "acctot1: \tbeta: -0.06,\tCI: [-0.23,0.11],\tpvalue: 0.4953\n",
      "acc_g2w1: \tbeta: -0.02,\tCI: [-0.1,0.07],\tpvalue: 0.6878\n",
      "acc_g2a1: \tbeta: -0.02,\tCI: [-0.11,0.07],\tpvalue: 0.6376\n",
      "acc_ng2w1: \tbeta: 0.01,\tCI: [-0.06,0.07],\tpvalue: 0.8442\n",
      "acc_ng2a1: \tbeta: -0.07,\tCI: [-0.19,0.05],\tpvalue: 0.246\n",
      "#######################################################################\n",
      "phq:\n",
      "acctot1: \tbeta: 0.02,\tCI: [-0.14,0.17],\tpvalue: 0.826\n",
      "acc_g2w1: \tbeta: -0.03,\tCI: [-0.1,0.05],\tpvalue: 0.467\n",
      "acc_g2a1: \tbeta: 0.01,\tCI: [-0.07,0.09],\tpvalue: 0.771\n",
      "acc_ng2w1: \tbeta: 0.03,\tCI: [-0.03,0.08],\tpvalue: 0.3924\n",
      "acc_ng2a1: \tbeta: -0.0,\tCI: [-0.11,0.11],\tpvalue: 0.9465\n",
      "#######################################################################\n",
      "bdi:\n",
      "acctot1: \tbeta: -0.07,\tCI: [-0.21,0.07],\tpvalue: 0.3218\n",
      "acc_g2w1: \tbeta: -0.06,\tCI: [-0.13,0.01],\tpvalue: 0.0981\n",
      "acc_g2a1: \tbeta: -0.02,\tCI: [-0.09,0.06],\tpvalue: 0.6585\n",
      "acc_ng2w1: \tbeta: -0.01,\tCI: [-0.06,0.05],\tpvalue: 0.8462\n",
      "acc_ng2a1: \tbeta: 0.03,\tCI: [-0.07,0.13],\tpvalue: 0.533\n"
     ]
    }
   ],
   "source": [
    "# Baseline psychiatric score related to task?\n",
    "for j in psychiatric_questionnaires:\n",
    "    print('#######################################################################')\n",
    "    print(j + ':')\n",
    "    x = [x for x in gng_columns if 'acc' in x]\n",
    "    for i in x:\n",
    "        df_panda[i+'1'] = pd.to_numeric(df_panda[i+'1'])\n",
    "        pstats.glm(j + '1log ~ '+i+'1' + stratification_covariates + exclusion_covariates, df_panda[df_panda['exclusiontot1']==0], [i+'1'])\n",
    "        "
   ]
  },
  {
   "cell_type": "code",
   "execution_count": 35,
   "metadata": {},
   "outputs": [
    {
     "name": "stdout",
     "output_type": "stream",
     "text": [
      "#######################################################################\n",
      "gad:\n",
      "rew_se1: \tbeta: 0.01,\tCI: [-0.02,0.03],\tpvalue: 0.5934\n",
      "loss_se1: \tbeta: -0.01,\tCI: [-0.03,0.02],\tpvalue: 0.6054\n",
      "rew_LR1: \tbeta: 0.0,\tCI: [-0.02,0.02],\tpvalue: 0.9317\n",
      "loss_LR1: \tbeta: 0.01,\tCI: [-0.0,0.02],\tpvalue: 0.2393\n",
      "app_Pav1: \tbeta: -0.0,\tCI: [-0.04,0.04],\tpvalue: 0.9338\n",
      "av_Pav1: \tbeta: -0.0,\tCI: [-0.03,0.02],\tpvalue: 0.8733\n",
      "noise1: \tbeta: -0.0,\tCI: [-0.02,0.02],\tpvalue: 0.997\n",
      "bias1: \tbeta: 0.0,\tCI: [-0.02,0.03],\tpvalue: 0.9162\n",
      "#######################################################################\n",
      "phq:\n",
      "rew_se1: \tbeta: -0.0,\tCI: [-0.02,0.02],\tpvalue: 0.7537\n",
      "loss_se1: \tbeta: -0.01,\tCI: [-0.03,0.01],\tpvalue: 0.5185\n",
      "rew_LR1: \tbeta: 0.01,\tCI: [-0.01,0.03],\tpvalue: 0.356\n",
      "loss_LR1: \tbeta: 0.01,\tCI: [-0.0,0.02],\tpvalue: 0.2378\n",
      "app_Pav1: \tbeta: -0.01,\tCI: [-0.05,0.02],\tpvalue: 0.4933\n",
      "av_Pav1: \tbeta: -0.01,\tCI: [-0.03,0.02],\tpvalue: 0.5145\n",
      "noise1: \tbeta: 0.0,\tCI: [-0.01,0.02],\tpvalue: 0.768\n",
      "bias1: \tbeta: -0.01,\tCI: [-0.03,0.01],\tpvalue: 0.3564\n",
      "#######################################################################\n",
      "bdi:\n",
      "rew_se1: \tbeta: 0.01,\tCI: [-0.01,0.03],\tpvalue: 0.1622\n",
      "loss_se1: \tbeta: -0.0,\tCI: [-0.02,0.02],\tpvalue: 0.7224\n",
      "rew_LR1: \tbeta: -0.01,\tCI: [-0.03,0.01],\tpvalue: 0.2273\n",
      "loss_LR1: \tbeta: 0.01,\tCI: [-0.0,0.02],\tpvalue: 0.2006\n",
      "app_Pav1: \tbeta: 0.01,\tCI: [-0.03,0.04],\tpvalue: 0.7542\n",
      "av_Pav1: \tbeta: -0.01,\tCI: [-0.03,0.01],\tpvalue: 0.2639\n",
      "noise1: \tbeta: 0.0,\tCI: [-0.01,0.02],\tpvalue: 0.5595\n",
      "bias1: \tbeta: -0.02,\tCI: [-0.04,-0.0],\tpvalue: 0.0258\n",
      "\n",
      "multiple comparison: 0.002\n"
     ]
    }
   ],
   "source": [
    "# baseline psychiatric scores related to baseline cognitive parameters:\n",
    "for j in psychiatric_questionnaires:\n",
    "    print('#######################################################################')\n",
    "    print(j + ':')\n",
    "    for i in parameter_labels[:-1]:\n",
    "        df_panda[i+'1'] = pd.to_numeric(df_panda[i+'1'])\n",
    "        pstats.glm(j + '1log ~ '+i+'1' + stratification_covariates + exclusion_covariates, df_panda[df_panda['exclusiontot1']==0], [i+'1'])\n",
    "\n",
    "print('\\nmultiple comparison: ' + str(round(0.05/(len(parameter_labels)*len(psychiatric_questionnaires)),3)))"
   ]
  },
  {
   "cell_type": "markdown",
   "metadata": {},
   "source": [
    "Summary:\n",
    "--\n",
    "- Baseline characteristics of the sample were similar between treatment groups.\n",
    "- Trend indicating the higher BDI score the lower go bias."
   ]
  },
  {
   "cell_type": "markdown",
   "metadata": {},
   "source": [
    "---------------------------------------------------------------------------------------------------------------\n",
    "MIXED EFFECTS MODELLING\n",
    "--------------------------------------------------------------------------------------------------------"
   ]
  },
  {
   "cell_type": "code",
   "execution_count": 105,
   "metadata": {},
   "outputs": [],
   "source": [
    "import warnings\n",
    "from statsmodels.tools.sm_exceptions import ConvergenceWarning\n",
    "warnings.simplefilter('ignore', ConvergenceWarning)\n",
    "warnings.simplefilter(action='ignore', category=pd.errors.PerformanceWarning)"
   ]
  },
  {
   "cell_type": "code",
   "execution_count": 106,
   "metadata": {},
   "outputs": [],
   "source": [
    "# create dataframe for mixed-effects modelling\n",
    "mle_df = panda.create_mle_df(df_panda, gng_columns, rct_columns)\n",
    "for i in psychiatric_questionnaires:\n",
    "    mle_df[i + 'log'] = np.hstack((df_panda[i + '1log'],df_panda[i + '2log'],df_panda[i + '3log']))\n",
    "mle_df['anhedonia'] = np.hstack((df_panda['phq1_1'],df_panda['phq1_2'],df_panda['phq1_3']))"
   ]
  },
  {
   "cell_type": "code",
   "execution_count": 38,
   "metadata": {},
   "outputs": [],
   "source": [
    "cols = parameter_labels\n",
    "for col in cols:\n",
    "    col_zscore = col + '_zscore'\n",
    "    mle_df[col_zscore] = (mle_df[col] - mle_df[col].mean())/mle_df[col].std(ddof=0)"
   ]
  },
  {
   "cell_type": "markdown",
   "metadata": {},
   "source": [
    "Preregistered Hypotheses\n",
    "--"
   ]
  },
  {
   "cell_type": "code",
   "execution_count": 39,
   "metadata": {},
   "outputs": [
    {
     "name": "stdout",
     "output_type": "stream",
     "text": [
      "T = 0, -0.53(0.81)\n",
      "T = 2, sert: -0.71(0.79) placebo: -0.55(0.79)\tgroup: \tbeta: -0.12,\tCI: [-0.29,0.05],\tpvalue: 0.1662\n",
      "T = 6, sert: -0.7(0.83) placebo: -0.77(0.85)\tgroup: \tbeta: 0.12,\tCI: [-0.06,0.3],\tpvalue: 0.2019\n",
      "over time\t\t\t\t\tgroup: \tbeta: -0.01,\tCI: [-0.14,0.12],\tpvalue: 0.9022\n",
      "time group interaction\t\t\t\tgroup: \tbeta: -0.3,\tCI: [-0.72,0.12],\tpvalue: 0.1629\n"
     ]
    },
    {
     "data": {
      "text/plain": [
       "<statsmodels.regression.mixed_linear_model.MixedLMResultsWrapper at 0x7fbe756a7b50>"
      ]
     },
     "execution_count": 39,
     "metadata": {},
     "output_type": "execute_result"
    }
   ],
   "source": [
    "# H1: aversive Pav related to sertraline?\n",
    "timing = [((mle_df['time']==1)|(mle_df['time']==2))&(mle_df['exclusiontot']==0), \\\n",
    "       ((mle_df['time']==1)|(mle_df['time']==3))&(mle_df['exclusiontot']==0), (mle_df['exclusiontot']==0)]\n",
    "timing_label = ['2','6','over time', 'time x group']\n",
    "print('T = 0, ' + str(np.round(mle_df['av_Pav'][(mle_df['exclusiontot']==0)&(mle_df['time']==1)].mean(),2)) + '(' \\\n",
    "      + str(np.round(mle_df['av_Pav'][(mle_df['exclusiontot']==0)&(mle_df['time']==1)].std(),2)) +')')\n",
    "for i in range(2):\n",
    "    tmp = mle_df[timing[i]]\n",
    "    print('T = '+timing_label[i]+', sert: ' + str(np.round(tmp['av_Pav'][(tmp['group']==1)&(tmp['time']==i+2)].mean(),2)) + '(' \\\n",
    "      + str(np.round(tmp['av_Pav'][(tmp['group']==1)&(tmp['time']==i+2)].std(),2)) + ') placebo: ' \\\n",
    "      + str(np.round(tmp['av_Pav'][(tmp['group']==0)&(tmp['time']==i+2)].mean(),2)) + '(' \\\n",
    "      + str(np.round(tmp['av_Pav'][(tmp['group']==0)&(tmp['time']==i+2)].std(),2)) +')', end='\\t')\n",
    "    pstats.mle('av_Pav ~ group + time' + stratification_covariates + exclusion_covariates, tmp, ['group'],[])\n",
    "print('over time', end='\\t\\t\\t\\t\\t')\n",
    "pstats.mle('av_Pav ~ group + time' + stratification_covariates + exclusion_covariates, mle_df[timing[2]], ['group'],[])\n",
    "print('time group interaction', end='\\t\\t\\t\\t')\n",
    "pstats.mle('av_Pav ~ group * time' + stratification_covariates + exclusion_covariates, mle_df[timing[2]], ['group'],[])\n"
   ]
  },
  {
   "cell_type": "code",
   "execution_count": 40,
   "metadata": {},
   "outputs": [
    {
     "name": "stdout",
     "output_type": "stream",
     "text": [
      "2:\tmodel not converged!\n",
      "av_Pav: \tbeta: -0.01,\tCI: [-0.03,0.01],\tpvalue: 0.406\n",
      "6:\tmodel not converged!\n",
      "av_Pav: \tbeta: -0.02,\tCI: [-0.05,0.01],\tpvalue: 0.2049\n",
      "over time:\tav_Pav: \tbeta: -0.02,\tCI: [-0.04,0.0],\tpvalue: 0.0613\n"
     ]
    }
   ],
   "source": [
    "# H2: aversive Pav related to anxiety?\n",
    "for i in range(3):\n",
    "    tmp = mle_df[timing[i]]\n",
    "    print(timing_label[i] + ':', end='\\t')\n",
    "    pstats.mle('gadlog ~ av_Pav + group + time' + stratification_covariates + exclusion_covariates, \\\n",
    "               tmp, ['av_Pav'], 'av_Pav')\n",
    "    "
   ]
  },
  {
   "cell_type": "code",
   "execution_count": 31,
   "metadata": {},
   "outputs": [
    {
     "name": "stdout",
     "output_type": "stream",
     "text": [
      "2:\tapp_Pav: \tbeta: -0.01,\tCI: [-0.04,0.02],\tpvalue: 0.3742\n",
      "6:\t"
     ]
    },
    {
     "name": "stderr",
     "output_type": "stream",
     "text": [
      "/opt/anaconda3/lib/python3.8/site-packages/statsmodels/regression/mixed_linear_model.py:1634: UserWarning: Random effects covariance is singular\n",
      "  warnings.warn(msg)\n"
     ]
    },
    {
     "name": "stdout",
     "output_type": "stream",
     "text": [
      "app_Pav: \tbeta: -0.03,\tCI: [-0.07,0.0],\tpvalue: 0.0703\n",
      "over time:\tapp_Pav: \tbeta: -0.02,\tCI: [-0.05,0.0],\tpvalue: 0.0757\n"
     ]
    }
   ],
   "source": [
    "# H5: appetitive Pav related to anxiety?\n",
    "for i in range(3):\n",
    "    tmp = mle_df[timing[i]]\n",
    "    print(timing_label[i] + ':', end='\\t')\n",
    "    pstats.mle('phqlog ~ app_Pav + group + time' + stratification_covariates + exclusion_covariates, \\\n",
    "               tmp, ['app_Pav'], 'app_Pav')\n",
    "    "
   ]
  },
  {
   "cell_type": "code",
   "execution_count": 33,
   "metadata": {},
   "outputs": [
    {
     "name": "stdout",
     "output_type": "stream",
     "text": [
      "2:\trew_se: \tbeta: -0.02,\tCI: [-0.08,0.05],\tpvalue: 0.6167\n",
      "6:\trew_se: \tbeta: 0.04,\tCI: [-0.02,0.11],\tpvalue: 0.214\n",
      "over time:\trew_se: \tbeta: 0.0,\tCI: [-0.05,0.05],\tpvalue: 0.9447\n"
     ]
    }
   ],
   "source": [
    "# H6: reward sensitivity related to anhedonia?\n",
    "for i in range(3):\n",
    "    tmp = mle_df[timing[i]]\n",
    "    print(timing_label[i] + ':', end='\\t')\n",
    "    pstats.mle('anhedonia ~ rew_se + group + time' + stratification_covariates + exclusion_covariates, \\\n",
    "        tmp, ['rew_se'], 'rew_se')\n"
   ]
  },
  {
   "cell_type": "markdown",
   "metadata": {},
   "source": [
    "RESULTS\n",
    "---\n",
    "We found NO evidence for any of our pregistered hypotheses!"
   ]
  },
  {
   "cell_type": "code",
   "execution_count": 44,
   "metadata": {},
   "outputs": [],
   "source": [
    "mle_df['diff_LR'] = mle_df['loss_LR'] - mle_df['rew_LR']\n",
    "mle_df['diff_Pav'] = mle_df['av_Pav'] - mle_df['app_Pav']"
   ]
  },
  {
   "cell_type": "code",
   "execution_count": 49,
   "metadata": {},
   "outputs": [
    {
     "name": "stdout",
     "output_type": "stream",
     "text": [
      "1.3886195187667345\n",
      "1.4779556161213847\n",
      "0.8652251566369207\n",
      "1.253475914085776\n",
      "1.6267835439859903\n"
     ]
    }
   ],
   "source": [
    "print(mle_df['diff_LR'][(mle_df['time']==1)&(mle_df['exclusiontot']==0)].mean())\n",
    "print(mle_df['diff_LR'][(mle_df['time']==2)&(mle_df['exclusiontot']==0)&(mle_df['group']==1)].mean())\n",
    "print(mle_df['diff_LR'][(mle_df['time']==2)&(mle_df['exclusiontot']==0)&(mle_df['group']==0)].mean())\n",
    "print(mle_df['diff_LR'][(mle_df['time']==3)&(mle_df['exclusiontot']==0)&(mle_df['group']==1)].mean())\n",
    "print(mle_df['diff_LR'][(mle_df['time']==3)&(mle_df['exclusiontot']==0)&(mle_df['group']==0)].mean())"
   ]
  },
  {
   "cell_type": "code",
   "execution_count": 50,
   "metadata": {},
   "outputs": [
    {
     "name": "stdout",
     "output_type": "stream",
     "text": [
      "-0.2737132129003963\n",
      "-0.38835355144989714\n",
      "-0.1979033905955635\n",
      "-0.2737024748023096\n",
      "-0.38719930396611896\n"
     ]
    }
   ],
   "source": [
    "print(mle_df['diff_Pav'][(mle_df['time']==1)&(mle_df['exclusiontot']==0)].mean())\n",
    "print(mle_df['diff_Pav'][(mle_df['time']==2)&(mle_df['exclusiontot']==0)&(mle_df['group']==1)].mean())\n",
    "print(mle_df['diff_Pav'][(mle_df['time']==2)&(mle_df['exclusiontot']==0)&(mle_df['group']==0)].mean())\n",
    "print(mle_df['diff_Pav'][(mle_df['time']==3)&(mle_df['exclusiontot']==0)&(mle_df['group']==1)].mean())\n",
    "print(mle_df['diff_Pav'][(mle_df['time']==3)&(mle_df['exclusiontot']==0)&(mle_df['group']==0)].mean())"
   ]
  },
  {
   "cell_type": "code",
   "execution_count": 65,
   "metadata": {},
   "outputs": [],
   "source": [
    "from sklearn.decomposition import PCA\n",
    "pca = PCA(n_components=2)\n",
    "x = pca.fit_transform(mle_df[parameter_labels[:-1]][mle_df['exclusiontot']==0].dropna().values)"
   ]
  },
  {
   "cell_type": "code",
   "execution_count": 66,
   "metadata": {},
   "outputs": [
    {
     "data": {
      "text/plain": [
       "array([-0.09673189,  0.37848388, -0.06254623, -0.83240855,  0.01881408,\n",
       "        0.25557504,  0.28504897, -0.0604267 ])"
      ]
     },
     "execution_count": 66,
     "metadata": {},
     "output_type": "execute_result"
    }
   ],
   "source": [
    "pca.components_[0]"
   ]
  },
  {
   "cell_type": "code",
   "execution_count": 67,
   "metadata": {},
   "outputs": [
    {
     "data": {
      "text/plain": [
       "array([ 0.16665953,  0.16808979,  0.6449089 , -0.17362875, -0.00496139,\n",
       "        0.10691143, -0.53209843,  0.45092414])"
      ]
     },
     "execution_count": 67,
     "metadata": {},
     "output_type": "execute_result"
    }
   ],
   "source": [
    "pca.components_[1]"
   ]
  },
  {
   "cell_type": "code",
   "execution_count": 139,
   "metadata": {},
   "outputs": [],
   "source": [
    "for i in range(2):\n",
    "    mle_df[str(i+1)+'pc'] = np.nan\n",
    "    mle_df.loc[(mle_df['exclusiontot']==0)&~(mle_df[parameter_labels[0]].isna()), str(i+1)+'pc'] = x[:,i]"
   ]
  },
  {
   "cell_type": "code",
   "execution_count": 141,
   "metadata": {},
   "outputs": [
    {
     "data": {
      "text/plain": [
       "885"
      ]
     },
     "execution_count": 141,
     "metadata": {},
     "output_type": "execute_result"
    }
   ],
   "source": [
    "sum(~mle_df['2pc'].isna())"
   ]
  },
  {
   "cell_type": "markdown",
   "metadata": {},
   "source": [
    "Exploratory Analyses\n",
    "--"
   ]
  },
  {
   "cell_type": "code",
   "execution_count": 41,
   "metadata": {},
   "outputs": [
    {
     "name": "stdout",
     "output_type": "stream",
     "text": [
      "###############################################################################################\n",
      "gad:\n",
      "T = 2\t:\tgroup:exclusiontot: \tbeta: -0.05,\tCI: [-0.11,0.0],\tpvalue: 0.0726\n",
      "T = 6\t:\tgroup:exclusiontot: \tbeta: -0.03,\tCI: [-0.1,0.05],\tpvalue: 0.5078\n",
      "over time:\tgroup:exclusiontot: \tbeta: -0.03,\tCI: [-0.08,0.03],\tpvalue: 0.328\n",
      "###############################################################################################\n",
      "phq:\n",
      "T = 2\t:\tgroup:exclusiontot: \tbeta: -0.05,\tCI: [-0.11,-0.0],\tpvalue: 0.0324\n",
      "T = 6\t:\tgroup:exclusiontot: \tbeta: -0.02,\tCI: [-0.09,0.04],\tpvalue: 0.5141\n",
      "over time:\tgroup:exclusiontot: \tbeta: -0.04,\tCI: [-0.09,0.0],\tpvalue: 0.0779\n",
      "###############################################################################################\n",
      "bdi:\n",
      "T = 2\t:\tgroup:exclusiontot: \tbeta: -0.05,\tCI: [-0.11,0.0],\tpvalue: 0.0547\n",
      "T = 6\t:\tgroup:exclusiontot: \tbeta: -0.04,\tCI: [-0.11,0.04],\tpvalue: 0.3362\n",
      "over time:\tgroup:exclusiontot: \tbeta: -0.05,\tCI: [-0.1,0.0],\tpvalue: 0.0541\n"
     ]
    }
   ],
   "source": [
    "# does exlusion criteria have an effect on the effect of sertraline on anxiety overall?\n",
    "timing = [((mle_df['time']==1)|(mle_df['time']==2)),((mle_df['time']==1)|(mle_df['time']==3)), \\\n",
    "          ((mle_df['time']==1)|(mle_df['time']==2)|(mle_df['time']==3))]\n",
    "timing_label = ['T = 2\\t','T = 6\\t','over time']\n",
    "for j in psychiatric_questionnaires:\n",
    "    print('###############################################################################################')\n",
    "    print(j + ':')\n",
    "    for i in range(3):\n",
    "        tmp = mle_df[timing[i]]\n",
    "        print(timing_label[i] + ':', end='\\t')\n",
    "        pstats.mle(j + 'log ~ group * exclusiontot + time' + stratification_covariates, tmp, ['group:exclusiontot'], [])"
   ]
  },
  {
   "cell_type": "code",
   "execution_count": 42,
   "metadata": {},
   "outputs": [
    {
     "name": "stdout",
     "output_type": "stream",
     "text": [
      "###############################################################################################\n",
      "gad:\n",
      "T = 2: exclusion = 0\tgroup: \tbeta: -0.0,\tCI: [-0.05,0.05],\tpvalue: 0.9813\n",
      "T = 2: exclusion = 1\tgroup: \tbeta: -0.11,\tCI: [-0.16,-0.05],\tpvalue: 0.0003\n",
      "###############################################################################################\n",
      "phq:\n",
      "T = 2: exclusion = 0\tgroup: \tbeta: 0.01,\tCI: [-0.03,0.05],\tpvalue: 0.7263\n",
      "T = 2: exclusion = 1\tgroup: \tbeta: -0.06,\tCI: [-0.12,-0.01],\tpvalue: 0.0219\n",
      "###############################################################################################\n",
      "bdi:\n",
      "T = 2: exclusion = 0\tgroup: \tbeta: 0.02,\tCI: [-0.03,0.06],\tpvalue: 0.4124\n",
      "T = 2: exclusion = 1\tgroup: \tbeta: -0.06,\tCI: [-0.12,-0.01],\tpvalue: 0.029\n"
     ]
    }
   ],
   "source": [
    "# posthoc at T = 2\n",
    "for j in psychiatric_questionnaires:\n",
    "    print('###############################################################################################')\n",
    "    print(j + ':')\n",
    "    for i in range(2):\n",
    "        print('T = 2: exclusion = ' + str(i), end='\\t') \n",
    "        pstats.mle(j + 'log ~ group + time' + stratification_covariates, \\\n",
    "                  mle_df[((mle_df['time']==1)|(mle_df['time']==2))&(mle_df['exclusiontot']==i)], ['group'], [])"
   ]
  },
  {
   "cell_type": "markdown",
   "metadata": {},
   "source": [
    "There is a trend towards the exlusion group is improving at week 2 whereas the included group is not!\n",
    "\n",
    "---------------------------------------------------------------------------------------------------------------"
   ]
  },
  {
   "cell_type": "code",
   "execution_count": 84,
   "metadata": {},
   "outputs": [
    {
     "name": "stdout",
     "output_type": "stream",
     "text": [
      "correction for multiple comparison: pval < 0.00625\n"
     ]
    }
   ],
   "source": [
    "print('correction for multiple comparison: pval < ' + str(0.05/8))"
   ]
  },
  {
   "cell_type": "code",
   "execution_count": 43,
   "metadata": {},
   "outputs": [
    {
     "name": "stdout",
     "output_type": "stream",
     "text": [
      "rew_se\t         Mixed Linear Model Regression Results\n",
      "========================================================\n",
      "Model:            MixedLM Dependent Variable: rew_se    \n",
      "No. Observations: 884     Method:             REML      \n",
      "No. Groups:       433     Scale:              0.9868    \n",
      "Min. group size:  1       Log-Likelihood:     -1267.0154\n",
      "Max. group size:  3       Converged:          Yes       \n",
      "Mean group size:  2.0                                   \n",
      "--------------------------------------------------------\n",
      "              Coef.  Std.Err.   z    P>|z| [0.025 0.975]\n",
      "--------------------------------------------------------\n",
      "Intercept      2.818    0.299  9.433 0.000  2.233  3.404\n",
      "group          0.016    0.081  0.196 0.844 -0.143  0.175\n",
      "time           0.105    0.046  2.305 0.021  0.016  0.195\n",
      "site          -0.051    0.031 -1.654 0.098 -0.111  0.009\n",
      "dep           -0.084    0.073 -1.147 0.251 -0.228  0.060\n",
      "cis            0.060    0.045  1.356 0.175 -0.027  0.148\n",
      "age           -0.001    0.003 -0.461 0.645 -0.007  0.004\n",
      "education     -0.115    0.079 -1.453 0.146 -0.271  0.040\n",
      "AD_past        0.079    0.069  1.140 0.254 -0.057  0.214\n",
      "empstat        0.078    0.076  1.016 0.309 -0.072  0.227\n",
      "ethnic         0.085    0.131  0.652 0.515 -0.172  0.342\n",
      "subject Var    0.000    0.043                           \n",
      "========================================================\n",
      "\n",
      "loss_se\t         Mixed Linear Model Regression Results\n",
      "========================================================\n",
      "Model:            MixedLM Dependent Variable: loss_se   \n",
      "No. Observations: 884     Method:             REML      \n",
      "No. Groups:       433     Scale:              0.6656    \n",
      "Min. group size:  1       Log-Likelihood:     -1197.1367\n",
      "Max. group size:  3       Converged:          Yes       \n",
      "Mean group size:  2.0                                   \n",
      "--------------------------------------------------------\n",
      "              Coef.  Std.Err.   z    P>|z| [0.025 0.975]\n",
      "--------------------------------------------------------\n",
      "Intercept      1.529    0.312  4.897 0.000  0.917  2.142\n",
      "group          0.014    0.079  0.180 0.857 -0.140  0.168\n",
      "time           0.091    0.040  2.288 0.022  0.013  0.170\n",
      "site           0.001    0.033  0.021 0.983 -0.063  0.065\n",
      "dep            0.107    0.079  1.365 0.172 -0.047  0.261\n",
      "cis            0.004    0.048  0.081 0.936 -0.090  0.098\n",
      "age           -0.005    0.003 -1.635 0.102 -0.011  0.001\n",
      "education     -0.008    0.083 -0.092 0.927 -0.171  0.156\n",
      "AD_past       -0.102    0.075 -1.369 0.171 -0.248  0.044\n",
      "empstat       -0.091    0.082 -1.109 0.268 -0.252  0.070\n",
      "ethnic        -0.069    0.142 -0.489 0.625 -0.347  0.208\n",
      "subject Var    0.210    0.065                           \n",
      "========================================================\n",
      "\n",
      "rew_LR\t         Mixed Linear Model Regression Results\n",
      "========================================================\n",
      "Model:            MixedLM Dependent Variable: rew_LR    \n",
      "No. Observations: 884     Method:             REML      \n",
      "No. Groups:       433     Scale:              1.2060    \n",
      "Min. group size:  1       Log-Likelihood:     -1385.4814\n",
      "Max. group size:  3       Converged:          Yes       \n",
      "Mean group size:  2.0                                   \n",
      "--------------------------------------------------------\n",
      "              Coef.  Std.Err.   z    P>|z| [0.025 0.975]\n",
      "--------------------------------------------------------\n",
      "Intercept     -1.412    0.356 -3.968 0.000 -2.109 -0.714\n",
      "group          0.071    0.095  0.749 0.454 -0.115  0.256\n",
      "time           0.113    0.052  2.200 0.028  0.012  0.215\n",
      "site          -0.003    0.037 -0.074 0.941 -0.075  0.069\n",
      "dep           -0.001    0.088 -0.017 0.987 -0.174  0.171\n",
      "cis           -0.118    0.054 -2.204 0.027 -0.223 -0.013\n",
      "age           -0.011    0.003 -3.433 0.001 -0.018 -0.005\n",
      "education      0.153    0.095  1.619 0.106 -0.032  0.339\n",
      "AD_past       -0.080    0.083 -0.964 0.335 -0.243  0.083\n",
      "empstat       -0.176    0.092 -1.918 0.055 -0.356  0.004\n",
      "ethnic        -0.118    0.158 -0.750 0.453 -0.428  0.191\n",
      "subject Var    0.094    0.054                           \n",
      "========================================================\n",
      "\n",
      "loss_LR\t         Mixed Linear Model Regression Results\n",
      "========================================================\n",
      "Model:            MixedLM Dependent Variable: loss_LR   \n",
      "No. Observations: 884     Method:             REML      \n",
      "No. Groups:       433     Scale:              2.1816    \n",
      "Min. group size:  1       Log-Likelihood:     -1689.1505\n",
      "Max. group size:  3       Converged:          Yes       \n",
      "Mean group size:  2.0                                   \n",
      "--------------------------------------------------------\n",
      "              Coef.  Std.Err.   z    P>|z| [0.025 0.975]\n",
      "--------------------------------------------------------\n",
      "Intercept     -0.761    0.532 -1.431 0.152 -1.804  0.281\n",
      "group          0.096    0.137  0.699 0.484 -0.173  0.364\n",
      "time           0.128    0.071  1.799 0.072 -0.011  0.268\n",
      "site           0.009    0.055  0.161 0.872 -0.100  0.118\n",
      "dep           -0.307    0.133 -2.311 0.021 -0.568 -0.047\n",
      "cis           -0.071    0.081 -0.878 0.380 -0.230  0.088\n",
      "age           -0.010    0.005 -1.963 0.050 -0.020 -0.000\n",
      "education     -0.067    0.142 -0.473 0.636 -0.345  0.211\n",
      "AD_past        0.203    0.126  1.613 0.107 -0.044  0.450\n",
      "empstat        0.127    0.139  0.914 0.361 -0.145  0.400\n",
      "ethnic         0.153    0.240  0.637 0.524 -0.317  0.622\n",
      "subject Var    0.475    0.099                           \n",
      "========================================================\n",
      "\n",
      "app_Pav\t         Mixed Linear Model Regression Results\n",
      "=======================================================\n",
      "Model:            MixedLM Dependent Variable: app_Pav  \n",
      "No. Observations: 884     Method:             REML     \n",
      "No. Groups:       433     Scale:              0.2179   \n",
      "Min. group size:  1       Log-Likelihood:     -709.3941\n",
      "Max. group size:  3       Converged:          Yes      \n",
      "Mean group size:  2.0                                  \n",
      "-------------------------------------------------------\n",
      "             Coef.  Std.Err.   z    P>|z| [0.025 0.975]\n",
      "-------------------------------------------------------\n",
      "Intercept    -0.541    0.179 -3.026 0.002 -0.891 -0.191\n",
      "group         0.002    0.045  0.055 0.956 -0.086  0.091\n",
      "time         -0.081    0.023 -3.557 0.000 -0.126 -0.037\n",
      "site         -0.037    0.019 -1.996 0.046 -0.074 -0.001\n",
      "dep          -0.060    0.045 -1.329 0.184 -0.148  0.028\n",
      "cis           0.051    0.027  1.851 0.064 -0.003  0.104\n",
      "age           0.011    0.002  6.525 0.000  0.008  0.014\n",
      "education     0.026    0.048  0.542 0.588 -0.068  0.119\n",
      "AD_past       0.007    0.043  0.156 0.876 -0.077  0.090\n",
      "empstat       0.001    0.047  0.019 0.985 -0.091  0.093\n",
      "ethnic       -0.006    0.081 -0.078 0.938 -0.165  0.152\n",
      "subject Var   0.068    0.034                           \n",
      "=======================================================\n",
      "\n",
      "av_Pav\t         Mixed Linear Model Regression Results\n",
      "========================================================\n",
      "Model:            MixedLM Dependent Variable: av_Pav    \n",
      "No. Observations: 884     Method:             REML      \n",
      "No. Groups:       433     Scale:              0.3908    \n",
      "Min. group size:  1       Log-Likelihood:     -1027.8063\n",
      "Max. group size:  3       Converged:          Yes       \n",
      "Mean group size:  2.0                                   \n",
      "--------------------------------------------------------\n",
      "              Coef.  Std.Err.   z    P>|z| [0.025 0.975]\n",
      "--------------------------------------------------------\n",
      "Intercept     -1.150    0.277 -4.150 0.000 -1.693 -0.607\n",
      "group         -0.009    0.066 -0.138 0.890 -0.138  0.119\n",
      "time          -0.102    0.032 -3.207 0.001 -0.164 -0.039\n",
      "site          -0.034    0.029 -1.154 0.248 -0.091  0.024\n",
      "dep            0.050    0.070  0.717 0.474 -0.088  0.188\n",
      "cis            0.088    0.043  2.055 0.040  0.004  0.172\n",
      "age            0.012    0.003  4.739 0.000  0.007  0.018\n",
      "education      0.076    0.074  1.022 0.307 -0.069  0.220\n",
      "AD_past        0.021    0.067  0.309 0.757 -0.111  0.152\n",
      "empstat        0.037    0.074  0.496 0.620 -0.108  0.181\n",
      "ethnic        -0.065    0.127 -0.510 0.610 -0.314  0.185\n",
      "subject Var    0.239    0.063                           \n",
      "========================================================\n",
      "\n",
      "noise\t         Mixed Linear Model Regression Results\n",
      "========================================================\n",
      "Model:            MixedLM Dependent Variable: noise     \n",
      "No. Observations: 884     Method:             REML      \n",
      "No. Groups:       433     Scale:              1.0829    \n",
      "Min. group size:  1       Log-Likelihood:     -1380.9088\n",
      "Max. group size:  3       Converged:          Yes       \n",
      "Mean group size:  2.0                                   \n",
      "--------------------------------------------------------\n",
      "              Coef.  Std.Err.   z    P>|z| [0.025 0.975]\n",
      "--------------------------------------------------------\n",
      "Intercept      2.685    0.373  7.193 0.000  1.953  3.416\n",
      "group         -0.029    0.096 -0.303 0.762 -0.217  0.159\n",
      "time           0.060    0.050  1.205 0.228 -0.038  0.159\n",
      "site           0.085    0.039  2.191 0.028  0.009  0.161\n",
      "dep            0.187    0.093  2.003 0.045  0.004  0.369\n",
      "cis            0.005    0.057  0.084 0.933 -0.107  0.116\n",
      "age           -0.004    0.003 -1.248 0.212 -0.011  0.002\n",
      "education     -0.050    0.099 -0.498 0.618 -0.244  0.145\n",
      "AD_past       -0.057    0.088 -0.651 0.515 -0.230  0.116\n",
      "empstat        0.019    0.097  0.194 0.846 -0.172  0.210\n",
      "ethnic         0.057    0.168  0.340 0.734 -0.271  0.385\n",
      "subject Var    0.226    0.074                           \n",
      "========================================================\n",
      "\n"
     ]
    },
    {
     "name": "stdout",
     "output_type": "stream",
     "text": [
      "bias\t         Mixed Linear Model Regression Results\n",
      "========================================================\n",
      "Model:            MixedLM Dependent Variable: bias      \n",
      "No. Observations: 884     Method:             REML      \n",
      "No. Groups:       433     Scale:              0.6249    \n",
      "Min. group size:  1       Log-Likelihood:     -1181.7070\n",
      "Max. group size:  3       Converged:          Yes       \n",
      "Mean group size:  2.0                                   \n",
      "--------------------------------------------------------\n",
      "              Coef.  Std.Err.   z    P>|z| [0.025 0.975]\n",
      "--------------------------------------------------------\n",
      "Intercept      1.349    0.311  4.333 0.000  0.739  1.959\n",
      "group          0.075    0.078  0.963 0.336 -0.077  0.227\n",
      "time           0.133    0.039  3.405 0.001  0.056  0.209\n",
      "site          -0.020    0.033 -0.627 0.531 -0.085  0.044\n",
      "dep           -0.071    0.078 -0.909 0.363 -0.225  0.082\n",
      "cis           -0.090    0.048 -1.890 0.059 -0.184  0.003\n",
      "age           -0.026    0.003 -9.003 0.000 -0.032 -0.021\n",
      "education     -0.055    0.083 -0.663 0.507 -0.218  0.108\n",
      "AD_past        0.082    0.074  1.098 0.272 -0.064  0.228\n",
      "empstat        0.008    0.082  0.102 0.919 -0.152  0.169\n",
      "ethnic        -0.198    0.141 -1.397 0.163 -0.475  0.080\n",
      "subject Var    0.228    0.061                           \n",
      "========================================================\n",
      "\n"
     ]
    }
   ],
   "source": [
    "# do cognitive parameters differ between drug group (included group)?\n",
    "for i in parameter_labels[:-1]:\n",
    "    print(i, end='\\t')\n",
    "    pstats.mle(i + ' ~ group + time' + stratification_covariates + exclusion_covariates, \\\n",
    "                        mle_df[mle_df['exclusiontot']==0], [], [])"
   ]
  },
  {
   "cell_type": "markdown",
   "metadata": {},
   "source": [
    "- rew and loss  sensitivities and LRs and bias increases over time\n",
    "- app and av Pav decrease over time\n",
    "- noise differs between site\n",
    "- Note: learning rates, Pavlovian biases, and go bias are related to age!"
   ]
  },
  {
   "cell_type": "code",
   "execution_count": 144,
   "metadata": {},
   "outputs": [
    {
     "name": "stdout",
     "output_type": "stream",
     "text": [
      "rew_se\tgroup:time: \tbeta: -0.08,\tCI: [-0.44,0.28],\tpvalue: 0.6618\n",
      "loss_se\tgroup:time: \tbeta: 0.01,\tCI: [-0.21,0.23],\tpvalue: 0.9156\n",
      "rew_LR\tgroup:time: \tbeta: -0.01,\tCI: [-0.3,0.28],\tpvalue: 0.9548\n",
      "loss_LR\tgroup:time: \tbeta: -0.29,\tCI: [-0.69,0.1],\tpvalue: 0.1408\n",
      "app_Pav\tgroup:time: \tbeta: -0.06,\tCI: [-0.18,0.07],\tpvalue: 0.3624\n",
      "av_Pav\tgroup:time: \tbeta: 0.12,\tCI: [-0.05,0.3],\tpvalue: 0.154\n",
      "noise\tgroup:time: \tbeta: 0.1,\tCI: [-0.18,0.37],\tpvalue: 0.4886\n",
      "bias\tgroup:time: \tbeta: -0.13,\tCI: [-0.34,0.08],\tpvalue: 0.2282\n",
      "1pc\t"
     ]
    },
    {
     "ename": "SyntaxError",
     "evalue": "invalid syntax (<unknown>, line 1)",
     "output_type": "error",
     "traceback": [
      "Traceback \u001b[0;36m(most recent call last)\u001b[0m:\n",
      "  File \u001b[1;32m\"/opt/anaconda3/lib/python3.8/site-packages/IPython/core/interactiveshell.py\"\u001b[0m, line \u001b[1;32m3418\u001b[0m, in \u001b[1;35mrun_code\u001b[0m\n    exec(code_obj, self.user_global_ns, self.user_ns)\n",
      "  File \u001b[1;32m\"<ipython-input-144-8ff8e2a401e7>\"\u001b[0m, line \u001b[1;32m4\u001b[0m, in \u001b[1;35m<module>\u001b[0m\n    pstats.mle(i + ' ~ group * time' + stratification_covariates + exclusion_covariates, \\\n",
      "  File \u001b[1;32m\"/Users/jolandamalamud/phd/projects/gng_panda_antler/gng_panda/code/panda_statistics.py\"\u001b[0m, line \u001b[1;32m76\u001b[0m, in \u001b[1;35mmle\u001b[0m\n    model = smf.mixedlm(formula, data, groups='subject', missing='drop').fit()\n",
      "  File \u001b[1;32m\"/opt/anaconda3/lib/python3.8/site-packages/statsmodels/regression/mixed_linear_model.py\"\u001b[0m, line \u001b[1;32m1046\u001b[0m, in \u001b[1;35mfrom_formula\u001b[0m\n    mod = super(MixedLM, cls).from_formula(\n",
      "  File \u001b[1;32m\"/opt/anaconda3/lib/python3.8/site-packages/statsmodels/base/model.py\"\u001b[0m, line \u001b[1;32m200\u001b[0m, in \u001b[1;35mfrom_formula\u001b[0m\n    tmp = handle_formula_data(data, None, formula, depth=eval_env,\n",
      "  File \u001b[1;32m\"/opt/anaconda3/lib/python3.8/site-packages/statsmodels/formula/formulatools.py\"\u001b[0m, line \u001b[1;32m63\u001b[0m, in \u001b[1;35mhandle_formula_data\u001b[0m\n    result = dmatrices(formula, Y, depth, return_type='dataframe',\n",
      "  File \u001b[1;32m\"/opt/anaconda3/lib/python3.8/site-packages/patsy/highlevel.py\"\u001b[0m, line \u001b[1;32m309\u001b[0m, in \u001b[1;35mdmatrices\u001b[0m\n    (lhs, rhs) = _do_highlevel_design(formula_like, data, eval_env,\n",
      "  File \u001b[1;32m\"/opt/anaconda3/lib/python3.8/site-packages/patsy/highlevel.py\"\u001b[0m, line \u001b[1;32m164\u001b[0m, in \u001b[1;35m_do_highlevel_design\u001b[0m\n    design_infos = _try_incr_builders(formula_like, data_iter_maker, eval_env,\n",
      "  File \u001b[1;32m\"/opt/anaconda3/lib/python3.8/site-packages/patsy/highlevel.py\"\u001b[0m, line \u001b[1;32m66\u001b[0m, in \u001b[1;35m_try_incr_builders\u001b[0m\n    return design_matrix_builders([formula_like.lhs_termlist,\n",
      "  File \u001b[1;32m\"/opt/anaconda3/lib/python3.8/site-packages/patsy/build.py\"\u001b[0m, line \u001b[1;32m689\u001b[0m, in \u001b[1;35mdesign_matrix_builders\u001b[0m\n    factor_states = _factors_memorize(all_factors, data_iter_maker, eval_env)\n",
      "  File \u001b[1;32m\"/opt/anaconda3/lib/python3.8/site-packages/patsy/build.py\"\u001b[0m, line \u001b[1;32m354\u001b[0m, in \u001b[1;35m_factors_memorize\u001b[0m\n    which_pass = factor.memorize_passes_needed(state, eval_env)\n",
      "  File \u001b[1;32m\"/opt/anaconda3/lib/python3.8/site-packages/patsy/eval.py\"\u001b[0m, line \u001b[1;32m474\u001b[0m, in \u001b[1;35mmemorize_passes_needed\u001b[0m\n    subset_names = [name for name in ast_names(self.code)\n",
      "  File \u001b[1;32m\"/opt/anaconda3/lib/python3.8/site-packages/patsy/eval.py\"\u001b[0m, line \u001b[1;32m474\u001b[0m, in \u001b[1;35m<listcomp>\u001b[0m\n    subset_names = [name for name in ast_names(self.code)\n",
      "  File \u001b[1;32m\"/opt/anaconda3/lib/python3.8/site-packages/patsy/eval.py\"\u001b[0m, line \u001b[1;32m105\u001b[0m, in \u001b[1;35mast_names\u001b[0m\n    for node in ast.walk(ast.parse(code)):\n",
      "\u001b[0;36m  File \u001b[0;32m\"/opt/anaconda3/lib/python3.8/ast.py\"\u001b[0;36m, line \u001b[0;32m47\u001b[0;36m, in \u001b[0;35mparse\u001b[0;36m\u001b[0m\n\u001b[0;31m    return compile(source, filename, mode, flags,\u001b[0m\n",
      "\u001b[0;36m  File \u001b[0;32m\"<unknown>\"\u001b[0;36m, line \u001b[0;32m1\u001b[0m\n\u001b[0;31m    1 pc\u001b[0m\n\u001b[0m      ^\u001b[0m\n\u001b[0;31mSyntaxError\u001b[0m\u001b[0;31m:\u001b[0m invalid syntax\n"
     ]
    }
   ],
   "source": [
    "# do cognitive parameters differ time x group interaction (included group)?\n",
    "for i in parameter_labels[:-1] +  ['1pc', '2pc']:\n",
    "    print(i, end = '\\t');\n",
    "    pstats.mle(i + ' ~ group * time' + stratification_covariates + exclusion_covariates, \\\n",
    "               mle_df[(mle_df['exclusiontot']==0)], ['group:time'], [])"
   ]
  },
  {
   "cell_type": "code",
   "execution_count": 45,
   "metadata": {},
   "outputs": [
    {
     "name": "stdout",
     "output_type": "stream",
     "text": [
      "rew_se\tgroup: \tbeta: 0.21,\tCI: [-0.01,0.44],\tpvalue: 0.0666\n",
      "loss_se\tgroup: \tbeta: -0.16,\tCI: [-0.37,0.05],\tpvalue: 0.1263\n",
      "rew_LR\tgroup: \tbeta: -0.06,\tCI: [-0.32,0.2],\tpvalue: 0.6752\n",
      "loss_LR\tgroup: \tbeta: 0.56,\tCI: [0.2,0.92],\tpvalue: 0.0022\n",
      "app_Pav\tgroup: \tbeta: 0.06,\tCI: [-0.06,0.18],\tpvalue: 0.3535\n",
      "av_Pav\tgroup: \tbeta: -0.12,\tCI: [-0.29,0.05],\tpvalue: 0.1662\n",
      "noise\tgroup: \tbeta: -0.15,\tCI: [-0.41,0.12],\tpvalue: 0.2772\n",
      "bias\tgroup: \tbeta: 0.03,\tCI: [-0.18,0.23],\tpvalue: 0.8071\n",
      "diff_LR\tgroup: \tbeta: 0.62,\tCI: [0.18,1.06],\tpvalue: 0.0059\n",
      "diff_Pav\tgroup: \tbeta: -0.19,\tCI: [-0.37,-0.02],\tpvalue: 0.0322\n"
     ]
    }
   ],
   "source": [
    "# do cognitive parameters differ between drug group at session 2 (included group)?\n",
    "for i in parameter_labels[:-1] + ['diff_LR', 'diff_Pav']:\n",
    "    print(i, end = '\\t');\n",
    "    m = pstats.mle(i + ' ~ group + time' + stratification_covariates + exclusion_covariates, \\\n",
    "               mle_df[((mle_df['time']==1)|(mle_df['time']==2))&(mle_df['exclusiontot']==0)], ['group'],[])\n",
    "    "
   ]
  },
  {
   "cell_type": "code",
   "execution_count": 46,
   "metadata": {},
   "outputs": [
    {
     "name": "stdout",
     "output_type": "stream",
     "text": [
      "rew_se\tgroup: \tbeta: -0.14,\tCI: [-0.37,0.1],\tpvalue: 0.2495\n",
      "loss_se\tgroup: \tbeta: 0.13,\tCI: [-0.09,0.35],\tpvalue: 0.2531\n",
      "rew_LR\tgroup: \tbeta: 0.14,\tCI: [-0.13,0.4],\tpvalue: 0.3104\n",
      "loss_LR\tgroup: \tbeta: -0.29,\tCI: [-0.68,0.1],\tpvalue: 0.1389\n",
      "app_Pav\tgroup: \tbeta: -0.04,\tCI: [-0.17,0.08],\tpvalue: 0.5081\n",
      "av_Pav\tgroup: \tbeta: 0.12,\tCI: [-0.06,0.3],\tpvalue: 0.2019\n",
      "noise\tgroup: \tbeta: 0.07,\tCI: [-0.2,0.33],\tpvalue: 0.6158\n",
      "bias\tgroup: \tbeta: 0.04,\tCI: [-0.17,0.25],\tpvalue: 0.7324\n",
      "diff_LR\tgroup: \tbeta: -0.41,\tCI: [-0.88,0.06],\tpvalue: 0.0853\n",
      "diff_Pav\tgroup: \tbeta: 0.13,\tCI: [-0.05,0.31],\tpvalue: 0.1589\n"
     ]
    }
   ],
   "source": [
    "# do cognitive parameters differ between drug group at session 3 (included group)?\n",
    "for i in parameter_labels[:-1] + ['diff_LR', 'diff_Pav']:\n",
    "    print(i, end = '\\t');\n",
    "    pstats.mle(i + ' ~ group + time' + stratification_covariates + exclusion_covariates, \\\n",
    "               mle_df[((mle_df['time']==1)|(mle_df['time']==3))&(mle_df['exclusiontot']==0)], ['group'], [])\n",
    "    "
   ]
  },
  {
   "cell_type": "markdown",
   "metadata": {},
   "source": [
    "Excluded task runs:\n",
    "--"
   ]
  },
  {
   "cell_type": "code",
   "execution_count": 47,
   "metadata": {},
   "outputs": [
    {
     "name": "stdout",
     "output_type": "stream",
     "text": [
      "random baseline bias\tgroup: \tbeta: 0.22,\tCI: [-0.01,0.44],\tpvalue: 0.0575\n",
      "random baseline bias\tgroup: \tbeta: 0.13,\tCI: [-0.17,0.44],\tpvalue: 0.3835\n",
      "random baseline bias\tgroup: \tbeta: 0.28,\tCI: [-0.06,0.62],\tpvalue: 0.1043\n"
     ]
    },
    {
     "data": {
      "text/plain": [
       "<statsmodels.regression.mixed_linear_model.MixedLMResultsWrapper at 0x7fcb907eab50>"
      ]
     },
     "execution_count": 47,
     "metadata": {},
     "output_type": "execute_result"
    }
   ],
   "source": [
    "# does the random bias differ between drug group in the excluded group?\n",
    "print('random baseline bias', end = '\\t');\n",
    "pstats.mle('rbias ~ group + time' + stratification_covariates + exclusion_covariates, \\\n",
    "           mle_df[mle_df['exclusiontot']==1], ['group'],[])\n",
    "# does the random bias differ between drug group in the excluded group at session 2?\n",
    "print('random baseline bias', end = '\\t');\n",
    "pstats.mle('rbias ~ group + time' + stratification_covariates + exclusion_covariates, \\\n",
    "                        mle_df[((mle_df['time']==1)|(mle_df['time']==2))&(mle_df['exclusiontot']==1)], ['group'],[])\n",
    "# does the random bias differ between drug group in the excluded group at session 3?\n",
    "print('random baseline bias', end = '\\t');\n",
    "pstats.mle('rbias ~ group + time' + stratification_covariates + exclusion_covariates, \\\n",
    "                        mle_df[((mle_df['time']==1)|(mle_df['time']==3))&(mle_df['exclusiontot']==1)], ['group'],[])"
   ]
  },
  {
   "cell_type": "markdown",
   "metadata": {},
   "source": [
    "Interim Results\n",
    "--\n",
    "Drug effects:\n",
    "- at 2 weeks:\n",
    "    - trend towards reward sensitivity HIGHER in sertraline group\n",
    "    - loss LR HIGHER in sertraline group\n"
   ]
  },
  {
   "cell_type": "code",
   "execution_count": 49,
   "metadata": {},
   "outputs": [
    {
     "name": "stdout",
     "output_type": "stream",
     "text": [
      "###############################################################################################\n",
      "gad:\n",
      "rew_se: \tbeta: 0.0,\tCI: [-0.02,0.02],\tpvalue: 0.91\n",
      "loss_se: \tbeta: -0.02,\tCI: [-0.04,0.0],\tpvalue: 0.0561\n",
      "model not converged!\n",
      "rew_LR: \tbeta: -0.0,\tCI: [-0.02,0.01],\tpvalue: 0.9066\n",
      "loss_LR: \tbeta: 0.02,\tCI: [0.01,0.03],\tpvalue: 0.0011\n",
      "app_Pav: \tbeta: 0.0,\tCI: [-0.03,0.03],\tpvalue: 0.8763\n",
      "av_Pav: \tbeta: -0.02,\tCI: [-0.04,0.0],\tpvalue: 0.0674\n",
      "noise: \tbeta: -0.0,\tCI: [-0.02,0.01],\tpvalue: 0.9461\n",
      "bias: \tbeta: -0.0,\tCI: [-0.02,0.02],\tpvalue: 0.7757\n",
      "###############################################################################################\n",
      "phq:\n",
      "rew_se: \tbeta: -0.0,\tCI: [-0.01,0.01],\tpvalue: 0.909\n",
      "loss_se: \tbeta: -0.01,\tCI: [-0.03,0.0],\tpvalue: 0.1396\n",
      "model not converged!\n",
      "rew_LR: \tbeta: -0.0,\tCI: [-0.01,0.01],\tpvalue: 0.9743\n",
      "loss_LR: \tbeta: 0.01,\tCI: [-0.0,0.02],\tpvalue: 0.0537\n",
      "app_Pav: \tbeta: -0.02,\tCI: [-0.05,0.0],\tpvalue: 0.0757\n",
      "av_Pav: \tbeta: -0.01,\tCI: [-0.03,0.01],\tpvalue: 0.3522\n",
      "noise: \tbeta: 0.0,\tCI: [-0.01,0.01],\tpvalue: 0.8024\n",
      "bias: \tbeta: 0.0,\tCI: [-0.01,0.02],\tpvalue: 0.6406\n",
      "###############################################################################################\n",
      "bdi:\n",
      "rew_se: \tbeta: 0.01,\tCI: [-0.0,0.03],\tpvalue: 0.145\n",
      "loss_se: \tbeta: -0.02,\tCI: [-0.04,-0.0],\tpvalue: 0.0282\n",
      "model not converged!\n",
      "rew_LR: \tbeta: -0.0,\tCI: [-0.02,0.01],\tpvalue: 0.7956\n",
      "loss_LR: \tbeta: 0.01,\tCI: [0.0,0.02],\tpvalue: 0.0087\n",
      "model not converged!\n",
      "app_Pav: \tbeta: -0.0,\tCI: [-0.03,0.03],\tpvalue: 0.867\n",
      "av_Pav: \tbeta: -0.01,\tCI: [-0.03,0.01],\tpvalue: 0.3298\n",
      "noise: \tbeta: -0.01,\tCI: [-0.03,0.0],\tpvalue: 0.0852\n",
      "bias: \tbeta: 0.0,\tCI: [-0.01,0.02],\tpvalue: 0.6174\n"
     ]
    }
   ],
   "source": [
    "# do cognitive parameters have an effect on psychiatric scores over time in the included group controlled drug group?\n",
    "for j in psychiatric_questionnaires:\n",
    "    print('###############################################################################################')\n",
    "    print(j + ':')\n",
    "    for i in parameter_labels[:-1]:\n",
    "        pstats.mle(j + 'log ~ ' + i + ' + group + time' + stratification_covariates + exclusion_covariates, \\\n",
    "                            mle_df[mle_df['exclusiontot']==0], [i], i)"
   ]
  },
  {
   "cell_type": "code",
   "execution_count": 50,
   "metadata": {},
   "outputs": [
    {
     "name": "stdout",
     "output_type": "stream",
     "text": [
      "###############################################################################################\n",
      "gad:\n",
      "rew_se: \tbeta: -0.01,\tCI: [-0.03,0.01],\tpvalue: 0.3638\n",
      "loss_se: \tbeta: -0.02,\tCI: [-0.04,0.0],\tpvalue: 0.1156\n",
      "model not converged!\n",
      "rew_LR: \tbeta: 0.01,\tCI: [-0.01,0.02],\tpvalue: 0.5291\n",
      "loss_LR: \tbeta: 0.01,\tCI: [0.0,0.02],\tpvalue: 0.0468\n",
      "app_Pav: \tbeta: 0.0,\tCI: [-0.03,0.04],\tpvalue: 0.8363\n",
      "av_Pav: \tbeta: -0.01,\tCI: [-0.03,0.01],\tpvalue: 0.4265\n",
      "model not converged!\n",
      "noise: \tbeta: -0.0,\tCI: [-0.02,0.01],\tpvalue: 0.6603\n",
      "bias: \tbeta: 0.01,\tCI: [-0.01,0.04],\tpvalue: 0.2216\n",
      "###############################################################################################\n",
      "phq:\n",
      "rew_se: \tbeta: -0.01,\tCI: [-0.02,0.01],\tpvalue: 0.2619\n",
      "loss_se: \tbeta: -0.02,\tCI: [-0.03,0.0],\tpvalue: 0.0733\n",
      "model not converged!\n",
      "rew_LR: \tbeta: 0.0,\tCI: [-0.01,0.01],\tpvalue: 0.8816\n",
      "loss_LR: \tbeta: 0.01,\tCI: [-0.0,0.01],\tpvalue: 0.2404\n",
      "app_Pav: \tbeta: -0.01,\tCI: [-0.04,0.02],\tpvalue: 0.3742\n",
      "av_Pav: \tbeta: 0.01,\tCI: [-0.01,0.03],\tpvalue: 0.4743\n",
      "model not converged!\n",
      "noise: \tbeta: -0.0,\tCI: [-0.01,0.01],\tpvalue: 0.9775\n",
      "bias: \tbeta: 0.01,\tCI: [-0.01,0.03],\tpvalue: 0.3466\n",
      "###############################################################################################\n",
      "bdi:\n",
      "rew_se: \tbeta: 0.0,\tCI: [-0.02,0.02],\tpvalue: 0.9156\n",
      "loss_se: \tbeta: -0.02,\tCI: [-0.04,0.0],\tpvalue: 0.0551\n",
      "model not converged!\n",
      "rew_LR: \tbeta: -0.01,\tCI: [-0.02,0.01],\tpvalue: 0.4143\n",
      "loss_LR: \tbeta: 0.01,\tCI: [-0.0,0.02],\tpvalue: 0.1698\n",
      "app_Pav: \tbeta: 0.01,\tCI: [-0.02,0.04],\tpvalue: 0.5476\n",
      "av_Pav: \tbeta: 0.0,\tCI: [-0.02,0.03],\tpvalue: 0.7155\n",
      "noise: \tbeta: -0.01,\tCI: [-0.02,0.01],\tpvalue: 0.3625\n",
      "bias: \tbeta: 0.0,\tCI: [-0.02,0.02],\tpvalue: 0.7601\n"
     ]
    }
   ],
   "source": [
    "# do cognitive parameters have an effect on psychiatric scores at 2 weeks in the included group controlled drug group?\n",
    "for j in psychiatric_questionnaires:\n",
    "    print('###############################################################################################')\n",
    "    print(j + ':')\n",
    "    for i in parameter_labels[:-1]:\n",
    "        pstats.mle(j + 'log ~ ' + i + ' + group + time' + stratification_covariates + exclusion_covariates, \\\n",
    "                            mle_df[((mle_df['time']==1)|(mle_df['time']==2))&(mle_df['exclusiontot']==0)], [i], i)"
   ]
  },
  {
   "cell_type": "code",
   "execution_count": 66,
   "metadata": {},
   "outputs": [
    {
     "name": "stdout",
     "output_type": "stream",
     "text": [
      "loss_LR1: \tbeta: 0.01,\tCI: [-0.0,0.02],\tpvalue: 0.2298\n",
      "loss_LR2: \tbeta: 0.02,\tCI: [-0.0,0.04],\tpvalue: 0.1128\n",
      "loss_LR3: \tbeta: 0.02,\tCI: [0.0,0.05],\tpvalue: 0.0366\n"
     ]
    }
   ],
   "source": [
    "for i in range(1,4):\n",
    "    pstats.glm('gad'+str(i)+'log ~ loss_LR'+str(i)+' + group' + stratification_covariates + exclusion_covariates, \\\n",
    "                    df_panda[(df_panda['exclusiontot'+str(i)]==0)], ['loss_LR'+str(i)])"
   ]
  },
  {
   "cell_type": "code",
   "execution_count": 54,
   "metadata": {},
   "outputs": [
    {
     "name": "stdout",
     "output_type": "stream",
     "text": [
      "###############################################################################################\n",
      "gad:\n",
      "rew_se: \tbeta: 0.01,\tCI: [-0.01,0.04],\tpvalue: 0.2079\n",
      "model not converged!\n",
      "loss_se: \tbeta: -0.01,\tCI: [-0.04,0.01],\tpvalue: 0.2043\n",
      "model not converged!\n",
      "rew_LR: \tbeta: -0.01,\tCI: [-0.03,0.01],\tpvalue: 0.4686\n",
      "loss_LR: \tbeta: 0.02,\tCI: [0.0,0.03],\tpvalue: 0.0157\n",
      "app_Pav: \tbeta: -0.01,\tCI: [-0.05,0.03],\tpvalue: 0.5349\n",
      "av_Pav: \tbeta: -0.02,\tCI: [-0.05,0.01],\tpvalue: 0.2091\n",
      "model not converged!\n",
      "noise: \tbeta: 0.0,\tCI: [-0.02,0.02],\tpvalue: 0.7935\n",
      "bias: \tbeta: -0.02,\tCI: [-0.04,0.01],\tpvalue: 0.2613\n",
      "###############################################################################################\n",
      "phq:\n",
      "model not converged!\n",
      "rew_se: \tbeta: 0.01,\tCI: [-0.01,0.03],\tpvalue: 0.3258\n",
      "loss_se: \tbeta: -0.01,\tCI: [-0.03,0.01],\tpvalue: 0.2768\n",
      "model not converged!\n",
      "rew_LR: \tbeta: -0.0,\tCI: [-0.02,0.02],\tpvalue: 0.8889\n",
      "loss_LR: \tbeta: 0.01,\tCI: [0.0,0.02],\tpvalue: 0.0491\n"
     ]
    },
    {
     "name": "stderr",
     "output_type": "stream",
     "text": [
      "/opt/anaconda3/lib/python3.8/site-packages/statsmodels/regression/mixed_linear_model.py:1634: UserWarning: Random effects covariance is singular\n",
      "  warnings.warn(msg)\n"
     ]
    },
    {
     "name": "stdout",
     "output_type": "stream",
     "text": [
      "app_Pav: \tbeta: -0.03,\tCI: [-0.07,0.0],\tpvalue: 0.0703\n",
      "av_Pav: \tbeta: -0.02,\tCI: [-0.04,0.0],\tpvalue: 0.1048\n",
      "model not converged!\n",
      "noise: \tbeta: 0.0,\tCI: [-0.01,0.02],\tpvalue: 0.7155\n",
      "bias: \tbeta: -0.01,\tCI: [-0.03,0.01],\tpvalue: 0.4291\n",
      "###############################################################################################\n",
      "bdi:\n",
      "model not converged!\n",
      "rew_se: \tbeta: 0.02,\tCI: [-0.0,0.04],\tpvalue: 0.0625\n",
      "loss_se: \tbeta: -0.02,\tCI: [-0.04,0.0],\tpvalue: 0.1047\n",
      "rew_LR: \tbeta: -0.01,\tCI: [-0.02,0.01],\tpvalue: 0.5163\n",
      "model not converged!\n",
      "loss_LR: \tbeta: 0.02,\tCI: [0.0,0.03],\tpvalue: 0.0182\n",
      "model not converged!\n",
      "app_Pav: \tbeta: -0.01,\tCI: [-0.05,0.03],\tpvalue: 0.617\n",
      "av_Pav: \tbeta: -0.03,\tCI: [-0.05,-0.0],\tpvalue: 0.0491\n",
      "model not converged!\n",
      "noise: \tbeta: -0.01,\tCI: [-0.03,0.01],\tpvalue: 0.3193\n",
      "bias: \tbeta: -0.01,\tCI: [-0.04,0.01],\tpvalue: 0.3827\n"
     ]
    }
   ],
   "source": [
    "# do cognitive parameters have an effect on psychiatric scores at 6 weeks in the included group controlled drug group?\n",
    "for j in psychiatric_questionnaires:\n",
    "    print('###############################################################################################')\n",
    "    print(j + ':')\n",
    "    for i in parameter_labels[:-1]:\n",
    "        pstats.mle(j + 'log ~ ' + i + ' + group + time' + stratification_covariates + exclusion_covariates, \\\n",
    "                            mle_df[((mle_df['time']==1)|(mle_df['time']==3))&(mle_df['exclusiontot']==0)], [i], i)"
   ]
  },
  {
   "cell_type": "code",
   "execution_count": 55,
   "metadata": {},
   "outputs": [
    {
     "name": "stdout",
     "output_type": "stream",
     "text": [
      "###############################################################################################\n",
      "gad:\n",
      "model not converged!\n",
      "rbias: \tbeta: 0.0,\tCI: [-0.01,0.02],\tpvalue: 0.6823\n",
      "rbias: \tbeta: -0.01,\tCI: [-0.03,0.0],\tpvalue: 0.111\n",
      "rbias: \tbeta: 0.01,\tCI: [-0.01,0.03],\tpvalue: 0.3991\n",
      "###############################################################################################\n",
      "phq:\n",
      "model not converged!\n",
      "rbias: \tbeta: 0.01,\tCI: [-0.0,0.03],\tpvalue: 0.1557\n",
      "rbias: \tbeta: -0.0,\tCI: [-0.02,0.01],\tpvalue: 0.8413\n",
      "model not converged!\n",
      "rbias: \tbeta: 0.02,\tCI: [-0.0,0.04],\tpvalue: 0.0753\n",
      "###############################################################################################\n",
      "bdi:\n",
      "rbias: \tbeta: 0.02,\tCI: [0.01,0.04],\tpvalue: 0.0063\n",
      "rbias: \tbeta: 0.01,\tCI: [-0.01,0.02],\tpvalue: 0.4829\n",
      "model not converged!\n",
      "rbias: \tbeta: 0.03,\tCI: [0.01,0.05],\tpvalue: 0.0035\n"
     ]
    }
   ],
   "source": [
    "# do rbias have an effect on psychiatric scores over sessions in the excluded group controlled drug group?\n",
    "for j in psychiatric_questionnaires:\n",
    "    print('###############################################################################################')\n",
    "    print(j + ':')\n",
    "    model = pstats.mle(j + 'log ~ rbias + group + time' + stratification_covariates + exclusion_covariates, \\\n",
    "                        mle_df[mle_df['exclusiontot']==1],['rbias'], 'rbias')\n",
    "    # do rbias have an effect on gad at 2 weeks in the excluded group controlled drug group?\n",
    "    model = pstats.mle(j + 'log ~ rbias + group + time' + stratification_covariates + exclusion_covariates, \\\n",
    "                        mle_df[((mle_df['time']==1)|(mle_df['time']==2))&(mle_df['exclusiontot']==1)],['rbias'], 'rbias')\n",
    "    # do rbias have an effect on gad at 6 weeks in the excluded group controlled drug group?\n",
    "    model = pstats.mle(j + 'log ~ rbias + group + time' + stratification_covariates + exclusion_covariates, \\\n",
    "                        mle_df[((mle_df['time']==1)|(mle_df['time']==3))&(mle_df['exclusiontot']==1)],['rbias'], 'rbias')"
   ]
  },
  {
   "cell_type": "markdown",
   "metadata": {},
   "source": [
    "Interim Results\n",
    "--\n",
    "GAD:\n",
    "- at 2 weeks:\n",
    "    - loss LR is POSITIVELY related to GAD over all sessions\n",
    "- at 6 weeks:\n",
    "    - loss LR is POSITIVELY related to GAD over all sessions\n",
    "- over all sessions:\n",
    "    - loss LR is POSITIVELY related to GAD over all sessions"
   ]
  },
  {
   "cell_type": "markdown",
   "metadata": {},
   "source": [
    "---------------------------------------------------------------------------------------------------------------\n",
    "Change in parameter\n",
    "--\n",
    "early changes in cognitive processing predicting treatment outcome?\n"
   ]
  },
  {
   "cell_type": "code",
   "execution_count": 49,
   "metadata": {},
   "outputs": [],
   "source": [
    "x = np.arange(3)\n",
    "for i in parameter_labels:\n",
    "    df_panda[i + '_slope12'] = df_panda[i + str(2)] - df_panda[i + str(1)]\n",
    "    df_panda[i + '_slope23'] = df_panda[i + str(3)] - df_panda[i + str(2)]\n",
    "    df_panda[i + '_slope13'] = df_panda[i + str(3)] - df_panda[i + str(1)]\n",
    "    for sj in range(len(df_panda)):\n",
    "        y = df_panda[[i + str(1),i + str(2),i + str(3)]].iloc[sj].astype('float64')\n",
    "        idx = ~y.isna()\n",
    "        if sum(idx) > 1:\n",
    "            df_panda.loc[sj, i + '_slope'] = np.polyfit(x[idx],y[idx],1)[0]\n",
    "\n",
    "for i in psychiatric_questionnaires:\n",
    "    df_panda[i + 'log_slope'] = df_panda[i + '4log'] - df_panda[i + '1log']"
   ]
  },
  {
   "cell_type": "code",
   "execution_count": 50,
   "metadata": {},
   "outputs": [
    {
     "name": "stdout",
     "output_type": "stream",
     "text": [
      "group: \tbeta: 0.13,\tCI: [-0.25,0.51],\tpvalue: 0.5181\n",
      "group: \tbeta: -0.32,\tCI: [-0.62,-0.02],\tpvalue: 0.0386\n",
      "group: \tbeta: -0.02,\tCI: [-0.45,0.4],\tpvalue: 0.9149\n",
      "group: \tbeta: 0.74,\tCI: [0.19,1.3],\tpvalue: 0.0087\n",
      "group: \tbeta: 0.11,\tCI: [-0.07,0.3],\tpvalue: 0.2321\n",
      "group: \tbeta: -0.08,\tCI: [-0.32,0.15],\tpvalue: 0.4855\n",
      "group: \tbeta: -0.27,\tCI: [-0.66,0.13],\tpvalue: 0.1926\n",
      "group: \tbeta: 0.02,\tCI: [-0.28,0.32],\tpvalue: 0.885\n"
     ]
    }
   ],
   "source": [
    "for i in parameter_labels[:-1]:\n",
    "    df_panda[i + '_slope12'] = pd.to_numeric(df_panda[i + '_slope12'])\n",
    "    pstats.glm(i + '_slope12 ~ group' + stratification_covariates + exclusion_covariates, \\\n",
    "                        df_panda[(df_panda['exclusiontot1']==0)&(df_panda['exclusiontot2']==0)], ['group'])"
   ]
  },
  {
   "cell_type": "code",
   "execution_count": 51,
   "metadata": {},
   "outputs": [
    {
     "name": "stdout",
     "output_type": "stream",
     "text": [
      "group: \tbeta: -0.43,\tCI: [-0.81,-0.04],\tpvalue: 0.0292\n",
      "group: \tbeta: 0.27,\tCI: [-0.04,0.58],\tpvalue: 0.0892\n",
      "group: \tbeta: 0.17,\tCI: [-0.27,0.62],\tpvalue: 0.4384\n",
      "group: \tbeta: -0.74,\tCI: [-1.29,-0.19],\tpvalue: 0.0085\n",
      "group: \tbeta: -0.15,\tCI: [-0.32,0.03],\tpvalue: 0.1106\n",
      "group: \tbeta: 0.1,\tCI: [-0.15,0.35],\tpvalue: 0.4352\n",
      "group: \tbeta: 0.34,\tCI: [-0.06,0.73],\tpvalue: 0.0923\n",
      "group: \tbeta: 0.11,\tCI: [-0.21,0.43],\tpvalue: 0.5019\n"
     ]
    }
   ],
   "source": [
    "for i in parameter_labels[:-1]:\n",
    "    df_panda[i + '_slope23'] = pd.to_numeric(df_panda[i + '_slope23'])\n",
    "    pstats.glm(i + '_slope23 ~ ' + i + '1 + group' + stratification_covariates + exclusion_covariates, \\\n",
    "                        df_panda[(df_panda['exclusiontot2']==0)&(df_panda['exclusiontot3']==0)], ['group'])"
   ]
  },
  {
   "cell_type": "code",
   "execution_count": 52,
   "metadata": {},
   "outputs": [
    {
     "name": "stdout",
     "output_type": "stream",
     "text": [
      "##############################################################################\n",
      "gad:\n",
      "rew_se_slope12: \tbeta: 0.01,\tCI: [-0.02,0.05],\tpvalue: 0.4713\n",
      "loss_se_slope12: \tbeta: 0.03,\tCI: [-0.02,0.07],\tpvalue: 0.285\n",
      "rew_LR_slope12: \tbeta: -0.04,\tCI: [-0.07,-0.01],\tpvalue: 0.0093\n",
      "loss_LR_slope12: \tbeta: -0.02,\tCI: [-0.04,0.01],\tpvalue: 0.164\n",
      "app_Pav_slope12: \tbeta: 0.01,\tCI: [-0.07,0.09],\tpvalue: 0.8265\n",
      "av_Pav_slope12: \tbeta: 0.03,\tCI: [-0.03,0.1],\tpvalue: 0.2616\n",
      "noise_slope12: \tbeta: 0.03,\tCI: [-0.01,0.06],\tpvalue: 0.117\n",
      "bias_slope12: \tbeta: 0.01,\tCI: [-0.03,0.06],\tpvalue: 0.5622\n",
      "##############################################################################\n",
      "phq:\n",
      "rew_se_slope12: \tbeta: 0.0,\tCI: [-0.03,0.04],\tpvalue: 0.87\n",
      "loss_se_slope12: \tbeta: 0.03,\tCI: [-0.01,0.07],\tpvalue: 0.1898\n",
      "rew_LR_slope12: \tbeta: -0.03,\tCI: [-0.06,0.01],\tpvalue: 0.102\n",
      "loss_LR_slope12: \tbeta: -0.02,\tCI: [-0.04,0.01],\tpvalue: 0.1678\n",
      "app_Pav_slope12: \tbeta: -0.04,\tCI: [-0.12,0.03],\tpvalue: 0.2607\n",
      "av_Pav_slope12: \tbeta: 0.06,\tCI: [0.0,0.11],\tpvalue: 0.045\n",
      "noise_slope12: \tbeta: 0.04,\tCI: [0.0,0.07],\tpvalue: 0.0312\n",
      "bias_slope12: \tbeta: 0.01,\tCI: [-0.03,0.05],\tpvalue: 0.6872\n",
      "##############################################################################\n",
      "bdi:\n",
      "rew_se_slope12: \tbeta: -0.01,\tCI: [-0.05,0.03],\tpvalue: 0.547\n",
      "loss_se_slope12: \tbeta: 0.03,\tCI: [-0.02,0.08],\tpvalue: 0.1848\n",
      "rew_LR_slope12: \tbeta: -0.02,\tCI: [-0.05,0.01],\tpvalue: 0.2554\n",
      "loss_LR_slope12: \tbeta: -0.02,\tCI: [-0.05,0.0],\tpvalue: 0.0844\n",
      "app_Pav_slope12: \tbeta: -0.0,\tCI: [-0.08,0.08],\tpvalue: 0.9652\n",
      "av_Pav_slope12: \tbeta: 0.07,\tCI: [0.01,0.13],\tpvalue: 0.0177\n",
      "noise_slope12: \tbeta: 0.03,\tCI: [-0.0,0.07],\tpvalue: 0.0572\n",
      "bias_slope12: \tbeta: -0.0,\tCI: [-0.05,0.04],\tpvalue: 0.9105\n"
     ]
    }
   ],
   "source": [
    "for j in psychiatric_questionnaires:\n",
    "    print('##############################################################################')\n",
    "    print(j + ':')\n",
    "    for i in parameter_labels[:-1]:\n",
    "        pstats.glm(j + 'log_slope ~' + i + '_slope12 + group' + stratification_covariates + exclusion_covariates, \\\n",
    "                        df_panda[(df_panda['exclusiontot1']==0)&(df_panda['exclusiontot2']==0)], [i + '_slope12'])"
   ]
  },
  {
   "cell_type": "code",
   "execution_count": 72,
   "metadata": {},
   "outputs": [
    {
     "name": "stdout",
     "output_type": "stream",
     "text": [
      "loss_LR_slope12: \tbeta: 0.0,\tCI: [-0.01,0.02],\tpvalue: 0.8254\n",
      "loss_LR_slope23: \tbeta: 0.01,\tCI: [-0.01,0.03],\tpvalue: 0.2557\n",
      "loss_LR1: \tbeta: 0.0,\tCI: [-0.02,0.02],\tpvalue: 0.9401\n",
      "loss_LR2: \tbeta: 0.01,\tCI: [-0.02,0.03],\tpvalue: 0.57\n",
      "loss_LR3: \tbeta: 0.02,\tCI: [-0.01,0.04],\tpvalue: 0.1657\n"
     ]
    },
    {
     "data": {
      "text/plain": [
       "<statsmodels.genmod.generalized_linear_model.GLMResultsWrapper at 0x7fba80937490>"
      ]
     },
     "execution_count": 72,
     "metadata": {},
     "output_type": "execute_result"
    }
   ],
   "source": [
    "# early changes in cognitive processing predicting treatment outcome?\n",
    "j = 'gad'\n",
    "i = 'loss_LR'\n",
    "pstats.glm(j + '2log ~' + i + '_slope12 + ' + j + '1log + group' + stratification_covariates + exclusion_covariates, \\\n",
    "            df_panda[(df_panda['exclusiontot1']==0)&(df_panda['exclusiontot2']==0)], [i + '_slope12'])\n",
    "pstats.glm(j + '3log ~' + i + '_slope23 + ' + j + '1log + group' + stratification_covariates + exclusion_covariates, \\\n",
    "            df_panda[(df_panda['exclusiontot2']==0)&(df_panda['exclusiontot3']==0)], [i + '_slope23'])\n",
    "pstats.glm(j + '2log ~' + i + '1 + ' + j + '1log + group' + stratification_covariates + exclusion_covariates, \\\n",
    "            df_panda[(df_panda['exclusiontot1']==0)], [i + '1'])\n",
    "pstats.glm(j + '3log ~' + i + '2 + ' + j + '1log + group' + stratification_covariates + exclusion_covariates, \\\n",
    "            df_panda[(df_panda['exclusiontot2']==0)], [i + '2'])\n",
    "pstats.glm(j + '4log ~' + i + '3 + ' + j + '1log + group' + stratification_covariates + exclusion_covariates, \\\n",
    "            df_panda[(df_panda['exclusiontot3']==0)], [i + '3'])"
   ]
  },
  {
   "cell_type": "code",
   "execution_count": 63,
   "metadata": {},
   "outputs": [
    {
     "name": "stdout",
     "output_type": "stream",
     "text": [
      "##############################################################################\n",
      "gad:\n",
      "rew_se_slope12: \tbeta: 0.01,\tCI: [-0.02,0.04],\tpvalue: 0.6202\n",
      "loss_se_slope12: \tbeta: -0.02,\tCI: [-0.06,0.02],\tpvalue: 0.3736\n",
      "rew_LR_slope12: \tbeta: -0.02,\tCI: [-0.05,0.01],\tpvalue: 0.2166\n",
      "loss_LR_slope12: \tbeta: 0.0,\tCI: [-0.02,0.03],\tpvalue: 0.7094\n",
      "app_Pav_slope12: \tbeta: 0.02,\tCI: [-0.04,0.08],\tpvalue: 0.5466\n",
      "av_Pav_slope12: \tbeta: 0.02,\tCI: [-0.03,0.07],\tpvalue: 0.5142\n",
      "noise_slope12: \tbeta: -0.0,\tCI: [-0.03,0.03],\tpvalue: 0.8094\n",
      "bias_slope12: \tbeta: -0.01,\tCI: [-0.05,0.03],\tpvalue: 0.7193\n",
      "##############################################################################\n",
      "phq:\n",
      "rew_se_slope12: \tbeta: 0.01,\tCI: [-0.02,0.03],\tpvalue: 0.6481\n",
      "loss_se_slope12: \tbeta: 0.01,\tCI: [-0.02,0.04],\tpvalue: 0.5606\n",
      "rew_LR_slope12: \tbeta: 0.0,\tCI: [-0.02,0.02],\tpvalue: 0.9632\n",
      "loss_LR_slope12: \tbeta: -0.01,\tCI: [-0.02,0.01],\tpvalue: 0.5147\n",
      "app_Pav_slope12: \tbeta: -0.03,\tCI: [-0.08,0.03],\tpvalue: 0.3192\n",
      "av_Pav_slope12: \tbeta: 0.02,\tCI: [-0.02,0.06],\tpvalue: 0.3144\n",
      "noise_slope12: \tbeta: 0.0,\tCI: [-0.02,0.03],\tpvalue: 0.7669\n",
      "bias_slope12: \tbeta: 0.01,\tCI: [-0.03,0.04],\tpvalue: 0.7518\n",
      "##############################################################################\n",
      "bdi:\n",
      "rew_se_slope12: \tbeta: 0.0,\tCI: [-0.03,0.03],\tpvalue: 0.8441\n",
      "loss_se_slope12: \tbeta: 0.01,\tCI: [-0.04,0.05],\tpvalue: 0.7693\n",
      "rew_LR_slope12: \tbeta: -0.01,\tCI: [-0.04,0.01],\tpvalue: 0.3203\n",
      "loss_LR_slope12: \tbeta: -0.01,\tCI: [-0.03,0.02],\tpvalue: 0.5899\n",
      "app_Pav_slope12: \tbeta: 0.02,\tCI: [-0.04,0.09],\tpvalue: 0.4498\n",
      "av_Pav_slope12: \tbeta: 0.03,\tCI: [-0.02,0.08],\tpvalue: 0.1938\n",
      "noise_slope12: \tbeta: 0.01,\tCI: [-0.02,0.04],\tpvalue: 0.6213\n",
      "bias_slope12: \tbeta: -0.02,\tCI: [-0.06,0.02],\tpvalue: 0.3544\n"
     ]
    }
   ],
   "source": [
    "# early changes in cognitive processing predicting treatment outcome?\n",
    "for j in psychiatric_questionnaires:\n",
    "    print('##############################################################################')\n",
    "    print(j + ':')\n",
    "    for i in parameter_labels[:-1]:\n",
    "        pstats.glm(j + '3log ~' + i + '_slope12 + ' + j + '1log + group' + stratification_covariates + exclusion_covariates, \\\n",
    "                        df_panda[(df_panda['exclusiontot1']==0)&(df_panda['exclusiontot2']==0)], [i + '_slope12'])"
   ]
  },
  {
   "cell_type": "code",
   "execution_count": 64,
   "metadata": {},
   "outputs": [
    {
     "name": "stdout",
     "output_type": "stream",
     "text": [
      "##############################################################################\n",
      "gad:\n",
      "rew_se_slope12: \tbeta: 0.01,\tCI: [-0.03,0.04],\tpvalue: 0.6887\n",
      "loss_se_slope12: \tbeta: 0.02,\tCI: [-0.02,0.07],\tpvalue: 0.3644\n",
      "rew_LR_slope12: \tbeta: -0.04,\tCI: [-0.07,-0.01],\tpvalue: 0.0071\n",
      "loss_LR_slope12: \tbeta: -0.02,\tCI: [-0.04,0.01],\tpvalue: 0.18\n",
      "app_Pav_slope12: \tbeta: -0.0,\tCI: [-0.08,0.07],\tpvalue: 0.9418\n",
      "av_Pav_slope12: \tbeta: 0.02,\tCI: [-0.03,0.08],\tpvalue: 0.4043\n",
      "noise_slope12: \tbeta: 0.03,\tCI: [-0.0,0.06],\tpvalue: 0.0604\n",
      "bias_slope12: \tbeta: 0.01,\tCI: [-0.03,0.05],\tpvalue: 0.6592\n",
      "##############################################################################\n",
      "phq:\n",
      "rew_se_slope12: \tbeta: -0.0,\tCI: [-0.04,0.03],\tpvalue: 0.8547\n",
      "loss_se_slope12: \tbeta: 0.03,\tCI: [-0.02,0.07],\tpvalue: 0.2273\n",
      "rew_LR_slope12: \tbeta: -0.03,\tCI: [-0.06,0.0],\tpvalue: 0.099\n",
      "loss_LR_slope12: \tbeta: -0.02,\tCI: [-0.04,0.0],\tpvalue: 0.1081\n",
      "app_Pav_slope12: \tbeta: -0.04,\tCI: [-0.11,0.03],\tpvalue: 0.2592\n",
      "av_Pav_slope12: \tbeta: 0.06,\tCI: [0.0,0.11],\tpvalue: 0.0444\n",
      "noise_slope12: \tbeta: 0.04,\tCI: [0.0,0.07],\tpvalue: 0.0268\n",
      "bias_slope12: \tbeta: 0.01,\tCI: [-0.04,0.05],\tpvalue: 0.7289\n",
      "##############################################################################\n",
      "bdi:\n",
      "rew_se_slope12: \tbeta: -0.01,\tCI: [-0.05,0.02],\tpvalue: 0.4865\n",
      "loss_se_slope12: \tbeta: 0.03,\tCI: [-0.02,0.08],\tpvalue: 0.2032\n",
      "rew_LR_slope12: \tbeta: -0.02,\tCI: [-0.05,0.02],\tpvalue: 0.3187\n",
      "loss_LR_slope12: \tbeta: -0.02,\tCI: [-0.05,0.0],\tpvalue: 0.0652\n",
      "app_Pav_slope12: \tbeta: -0.0,\tCI: [-0.08,0.08],\tpvalue: 0.9984\n",
      "av_Pav_slope12: \tbeta: 0.07,\tCI: [0.01,0.13],\tpvalue: 0.0158\n",
      "noise_slope12: \tbeta: 0.03,\tCI: [-0.0,0.07],\tpvalue: 0.0855\n",
      "bias_slope12: \tbeta: 0.0,\tCI: [-0.05,0.05],\tpvalue: 0.9631\n"
     ]
    }
   ],
   "source": [
    "# early changes in cognitive processing predicting treatment outcome?\n",
    "for j in psychiatric_questionnaires:\n",
    "    print('##############################################################################')\n",
    "    print(j + ':')\n",
    "    for i in parameter_labels[:-1]:\n",
    "        pstats.glm(j + '4log ~' + i + '_slope12 + ' + j + '1log + group' + stratification_covariates + exclusion_covariates, \\\n",
    "                        df_panda[(df_panda['exclusiontot1']==0)&(df_panda['exclusiontot2']==0)], [i + '_slope12'])"
   ]
  },
  {
   "cell_type": "code",
   "execution_count": 65,
   "metadata": {},
   "outputs": [
    {
     "name": "stdout",
     "output_type": "stream",
     "text": [
      "##############################################################################\n",
      "gad:\n",
      "rew_se_slope12:group: \tbeta: -0.02,\tCI: [-0.09,0.05],\tpvalue: 0.5177\n",
      "loss_se_slope12:group: \tbeta: -0.05,\tCI: [-0.14,0.04],\tpvalue: 0.273\n",
      "rew_LR_slope12:group: \tbeta: -0.02,\tCI: [-0.08,0.05],\tpvalue: 0.6112\n",
      "loss_LR_slope12:group: \tbeta: 0.0,\tCI: [-0.05,0.05],\tpvalue: 0.9211\n",
      "app_Pav_slope12:group: \tbeta: -0.07,\tCI: [-0.22,0.08],\tpvalue: 0.378\n",
      "av_Pav_slope12:group: \tbeta: 0.05,\tCI: [-0.07,0.17],\tpvalue: 0.4107\n",
      "noise_slope12:group: \tbeta: 0.03,\tCI: [-0.04,0.09],\tpvalue: 0.4199\n",
      "bias_slope12:group: \tbeta: -0.08,\tCI: [-0.17,0.0],\tpvalue: 0.0629\n",
      "##############################################################################\n",
      "phq:\n",
      "rew_se_slope12:group: \tbeta: 0.0,\tCI: [-0.06,0.07],\tpvalue: 0.8875\n",
      "loss_se_slope12:group: \tbeta: -0.05,\tCI: [-0.13,0.04],\tpvalue: 0.298\n",
      "rew_LR_slope12:group: \tbeta: -0.01,\tCI: [-0.07,0.05],\tpvalue: 0.7254\n",
      "loss_LR_slope12:group: \tbeta: 0.0,\tCI: [-0.04,0.05],\tpvalue: 0.8577\n",
      "app_Pav_slope12:group: \tbeta: -0.09,\tCI: [-0.23,0.06],\tpvalue: 0.229\n",
      "av_Pav_slope12:group: \tbeta: 0.07,\tCI: [-0.04,0.18],\tpvalue: 0.2136\n",
      "noise_slope12:group: \tbeta: 0.01,\tCI: [-0.05,0.08],\tpvalue: 0.7036\n",
      "bias_slope12:group: \tbeta: -0.05,\tCI: [-0.14,0.03],\tpvalue: 0.2272\n",
      "##############################################################################\n",
      "bdi:\n",
      "rew_se_slope12:group: \tbeta: -0.03,\tCI: [-0.11,0.04],\tpvalue: 0.3545\n",
      "loss_se_slope12:group: \tbeta: -0.04,\tCI: [-0.14,0.05],\tpvalue: 0.3694\n",
      "rew_LR_slope12:group: \tbeta: 0.0,\tCI: [-0.06,0.07],\tpvalue: 0.898\n",
      "loss_LR_slope12:group: \tbeta: -0.0,\tCI: [-0.05,0.05],\tpvalue: 0.9504\n",
      "app_Pav_slope12:group: \tbeta: -0.1,\tCI: [-0.26,0.05],\tpvalue: 0.203\n",
      "av_Pav_slope12:group: \tbeta: 0.14,\tCI: [0.02,0.26],\tpvalue: 0.0242\n",
      "noise_slope12:group: \tbeta: 0.03,\tCI: [-0.04,0.1],\tpvalue: 0.3852\n",
      "bias_slope12:group: \tbeta: -0.05,\tCI: [-0.14,0.04],\tpvalue: 0.2826\n"
     ]
    }
   ],
   "source": [
    "# early changes in cognitive processing predicting treatment outcome?\n",
    "for j in psychiatric_questionnaires:\n",
    "    print('##############################################################################')\n",
    "    print(j + ':')\n",
    "    for i in parameter_labels[:-1]:\n",
    "        pstats.glm(j + '4log ~' + i + '_slope12 * group +' +  j + '1log' + stratification_covariates + exclusion_covariates, \\\n",
    "                        df_panda[(df_panda['exclusiontot1']==0)&(df_panda['exclusiontot2']==0)], [i + '_slope12:group'])"
   ]
  },
  {
   "cell_type": "code",
   "execution_count": 53,
   "metadata": {},
   "outputs": [
    {
     "name": "stdout",
     "output_type": "stream",
     "text": [
      "av_Pav_slope12: \tbeta: 0.02,\tCI: [-0.03,0.07],\tpvalue: 0.4139\n",
      "av_Pav_slope12: \tbeta: 0.14,\tCI: [0.05,0.23],\tpvalue: 0.0026\n"
     ]
    }
   ],
   "source": [
    "# post-hoc looking at relation for groups separately\n",
    "j = 'bdi'\n",
    "for i in range(2):\n",
    "    print(group_label[j], end=)\n",
    "    pstats.glm(j + '4log ~ av_Pav_slope12 +' +  j + '1log' + stratification_covariates + exclusion_covariates, \\\n",
    "                    df_panda[(df_panda['exclusiontot1']==0)&(df_panda['exclusiontot2']==0)&df_panda['group']==i], ['av_Pav_slope12'])\n"
   ]
  },
  {
   "cell_type": "code",
   "execution_count": 76,
   "metadata": {},
   "outputs": [
    {
     "name": "stdout",
     "output_type": "stream",
     "text": [
      "bdi > 10:\n",
      "av_Pav_slope12: \tbeta: 0.07,\tCI: [0.01,0.14],\tpvalue: 0.0233\n",
      "av_Pav_slope12:group: \tbeta: 0.11,\tCI: [-0.02,0.24],\tpvalue: 0.0842\n",
      "bdi > 20:\n",
      "av_Pav_slope12: \tbeta: 0.09,\tCI: [0.02,0.17],\tpvalue: 0.0178\n",
      "av_Pav_slope12:group: \tbeta: 0.08,\tCI: [-0.08,0.24],\tpvalue: 0.3279\n"
     ]
    }
   ],
   "source": [
    "# look only at more severe patients?\n",
    "j = 'bdi'\n",
    "for i in [10,20]:\n",
    "    print('bdi > ' + str(i) + ':')\n",
    "    high_bdi = df_panda[j + '1'] > i\n",
    "    panda.glm(j + '4log ~ av_Pav_slope12 + group +' +  j + '1log' + stratification_covariates + exclusion_covariates, \\\n",
    "                    df_panda[(df_panda['exclusiontot1']==0)&(df_panda['exclusiontot2']==0)&high_bdi], ['av_Pav_slope12'])\n",
    "    panda.glm(j + '4log ~ av_Pav_slope12 * group +' +  j + '1log' + stratification_covariates + exclusion_covariates, \\\n",
    "                df_panda[(df_panda['exclusiontot1']==0)&(df_panda['exclusiontot2']==0)&high_bdi], ['av_Pav_slope12:group'])\n"
   ]
  },
  {
   "cell_type": "code",
   "execution_count": 72,
   "metadata": {},
   "outputs": [
    {
     "name": "stdout",
     "output_type": "stream",
     "text": [
      "N = 213\n"
     ]
    }
   ],
   "source": [
    "# number of patients with early change\n",
    "print('N = ' + str(sum((df_panda['exclusiontot1']==0)&(df_panda['exclusiontot2']==0))))"
   ]
  },
  {
   "cell_type": "code",
   "execution_count": 105,
   "metadata": {},
   "outputs": [
    {
     "name": "stdout",
     "output_type": "stream",
     "text": [
      "######################################################################\n",
      "T = 1\n",
      "rew_se1: \tbeta: 0.81,\tCI: [-0.5,2.12],\tpvalue: 0.2266\n",
      "loss_se1: \tbeta: -0.05,\tCI: [-1.49,1.38],\tpvalue: 0.9405\n",
      "rew_LR1: \tbeta: -1.25,\tCI: [-2.44,-0.06],\tpvalue: 0.0398\n",
      "loss_LR1: \tbeta: -0.29,\tCI: [-1.14,0.56],\tpvalue: 0.5071\n",
      "app_Pav1: \tbeta: 3.68,\tCI: [1.16,6.2],\tpvalue: 0.0042\n",
      "av_Pav1: \tbeta: 1.59,\tCI: [-0.11,3.28],\tpvalue: 0.0664\n",
      "noise1: \tbeta: 0.24,\tCI: [-0.89,1.37],\tpvalue: 0.6735\n",
      "bias1: \tbeta: -4.66,\tCI: [-6.0,-3.32],\tpvalue: 0.0\n",
      "######################################################################\n",
      "T = 2\n",
      "rew_se2: \tbeta: -0.96,\tCI: [-2.22,0.31],\tpvalue: 0.1386\n",
      "loss_se2: \tbeta: -1.34,\tCI: [-2.82,0.14],\tpvalue: 0.0754\n",
      "rew_LR2: \tbeta: -1.21,\tCI: [-2.3,-0.11],\tpvalue: 0.0313\n",
      "loss_LR2: \tbeta: -1.2,\tCI: [-2.12,-0.27],\tpvalue: 0.0114\n",
      "app_Pav2: \tbeta: 5.73,\tCI: [3.15,8.3],\tpvalue: 0.0\n",
      "av_Pav2: \tbeta: 3.93,\tCI: [2.26,5.59],\tpvalue: 0.0\n",
      "noise2: \tbeta: -0.31,\tCI: [-1.5,0.89],\tpvalue: 0.6149\n",
      "bias2: \tbeta: -3.86,\tCI: [-5.09,-2.64],\tpvalue: 0.0\n",
      "######################################################################\n",
      "T = 3\n",
      "rew_se3: \tbeta: 0.43,\tCI: [-0.94,1.8],\tpvalue: 0.54\n",
      "loss_se3: \tbeta: -0.94,\tCI: [-2.46,0.58],\tpvalue: 0.2246\n",
      "rew_LR3: \tbeta: -1.61,\tCI: [-2.82,-0.4],\tpvalue: 0.0092\n",
      "loss_LR3: \tbeta: -0.79,\tCI: [-1.69,0.1],\tpvalue: 0.0822\n",
      "app_Pav3: \tbeta: 7.45,\tCI: [4.84,10.06],\tpvalue: 0.0\n",
      "av_Pav3: \tbeta: 2.87,\tCI: [1.12,4.63],\tpvalue: 0.0013\n",
      "noise3: \tbeta: -1.44,\tCI: [-2.78,-0.1],\tpvalue: 0.035\n",
      "bias3: \tbeta: -3.29,\tCI: [-4.65,-1.92],\tpvalue: 0.0\n"
     ]
    }
   ],
   "source": [
    "for j in range(1,4):\n",
    "    print('######################################################################')\n",
    "    print('T = ' + str(j))\n",
    "    for i in parameter_labels[:-1]:\n",
    "        panda.glm('age ~' + i + str(j) +' + gad1log + group + site + cis + dep + education + AD_past + marstat', \\\n",
    "                        df_panda[(df_panda['exclusiontot' + str(j)]==0)], [i + str(j)])"
   ]
  },
  {
   "cell_type": "code",
   "execution_count": 70,
   "metadata": {},
   "outputs": [
    {
     "name": "stdout",
     "output_type": "stream",
     "text": [
      "age: \tbeta: -0.0,\tCI: [-0.01,0.0],\tpvalue: 0.6922\n",
      "education: \tbeta: -0.08,\tCI: [-0.23,0.07],\tpvalue: 0.301\n",
      "age: \tbeta: -0.01,\tCI: [-0.01,-0.0],\tpvalue: 0.0106\n",
      "education: \tbeta: -0.01,\tCI: [-0.15,0.14],\tpvalue: 0.9234\n",
      "age: \tbeta: -0.01,\tCI: [-0.02,-0.0],\tpvalue: 0.0006\n",
      "education: \tbeta: 0.13,\tCI: [-0.05,0.3],\tpvalue: 0.1584\n",
      "age: \tbeta: -0.01,\tCI: [-0.02,0.0],\tpvalue: 0.086\n",
      "education: \tbeta: -0.07,\tCI: [-0.32,0.18],\tpvalue: 0.5761\n",
      "age: \tbeta: 0.01,\tCI: [0.01,0.01],\tpvalue: 0.0\n",
      "education: \tbeta: 0.07,\tCI: [-0.02,0.15],\tpvalue: 0.109\n",
      "age: \tbeta: 0.01,\tCI: [0.01,0.02],\tpvalue: 0.0\n",
      "education: \tbeta: 0.11,\tCI: [-0.01,0.24],\tpvalue: 0.0698\n",
      "age: \tbeta: -0.01,\tCI: [-0.01,0.0],\tpvalue: 0.0873\n",
      "education: \tbeta: -0.11,\tCI: [-0.29,0.06],\tpvalue: 0.2129\n",
      "age: \tbeta: -0.03,\tCI: [-0.03,-0.02],\tpvalue: 0.0\n",
      "education: \tbeta: -0.04,\tCI: [-0.18,0.1],\tpvalue: 0.5856\n"
     ]
    }
   ],
   "source": [
    "for i in parameter_labels[:-1]:\n",
    "    mle_df['age'] = pd.to_numeric(mle_df['age'])\n",
    "    mle_df[i] = pd.to_numeric(mle_df[i])\n",
    "    pstats.glm(i + ' ~ age + education + sex + fin + marstat + gad1 + phq1 + bdi1', \\\n",
    "                        mle_df[(mle_df['exclusiontot']==0)], ['age','education'])"
   ]
  },
  {
   "cell_type": "code",
   "execution_count": 80,
   "metadata": {},
   "outputs": [
    {
     "name": "stdout",
     "output_type": "stream",
     "text": [
      "age and rew_se: -0.16361096229282723\n",
      "education and rew_se: -0.14537779029478076\n",
      "age and loss_se: -0.10757356355585355\n",
      "education and loss_se: -0.14577863969457852\n",
      "age and rew_LR: -0.2270696962172857\n",
      "education and rew_LR: -0.014669052989153624\n",
      "age and loss_LR: -0.09800085263169511\n",
      "education and loss_LR: 0.03702457019916734\n",
      "age and app_Pav: 0.13105691484957638\n",
      "education and app_Pav: 0.027584224952653818\n",
      "age and av_Pav: 0.21690111859572186\n",
      "education and av_Pav: 0.03731774716718882\n",
      "age and noise: 0.12335173211126958\n",
      "education and noise: -0.02752881675056336\n",
      "age and bias: -0.3388176157045196\n",
      "education and bias: -0.011927065366496337\n"
     ]
    }
   ],
   "source": [
    "for i in parameter_labels[:-1]:\n",
    "    print('age and ' + i + ': ' +  str(mle_df[['age', i]].corr().iloc[1,0]))\n",
    "    print('education and ' + i + ': ' +  str(mle_df[['education', i]].corr().iloc[1,0]))"
   ]
  },
  {
   "cell_type": "code",
   "execution_count": null,
   "metadata": {},
   "outputs": [],
   "source": []
  },
  {
   "cell_type": "code",
   "execution_count": 71,
   "metadata": {},
   "outputs": [
    {
     "name": "stdout",
     "output_type": "stream",
     "text": [
      "no covariates\n",
      "H1) group: \tbeta: -0.08,\tCI: [-0.19,0.04],\tpvalue: 0.2022\n",
      "group: \tbeta: -0.03,\tCI: [-0.16,0.1],\tpvalue: 0.6101\n",
      "group: \tbeta: -0.04,\tCI: [-0.13,0.05],\tpvalue: 0.3705\n",
      "group: \tbeta: -0.04,\tCI: [-0.33,0.25],\tpvalue: 0.7801\n",
      "H2) av_Pav: \tbeta: -0.01,\tCI: [-0.03,0.02],\tpvalue: 0.5769\n",
      "H5) app_Pav: \tbeta: -0.03,\tCI: [-0.06,-0.0],\tpvalue: 0.0346\n",
      "H6) rew_se: \tbeta: 0.02,\tCI: [-0.03,0.06],\tpvalue: 0.4501\n",
      "loss LRgroup: \tbeta: 0.57,\tCI: [0.21,0.93],\tpvalue: 0.0019\n",
      "loss_LR: \tbeta: 0.02,\tCI: [0.0,0.03],\tpvalue: 0.0067\n",
      "av_Pav_slope12:group: \tbeta: 0.15,\tCI: [0.03,0.27],\tpvalue: 0.0118\n",
      "only stratification covariates\n",
      "H1) group: \tbeta: -0.07,\tCI: [-0.19,0.05],\tpvalue: 0.2337\n",
      "group: \tbeta: -0.03,\tCI: [-0.16,0.1],\tpvalue: 0.6997\n",
      "group: \tbeta: -0.04,\tCI: [-0.13,0.06],\tpvalue: 0.4458\n",
      "group: \tbeta: -0.04,\tCI: [-0.33,0.25],\tpvalue: 0.7889\n",
      "H2) av_Pav: \tbeta: -0.02,\tCI: [-0.04,0.0],\tpvalue: 0.1027\n",
      "H5) "
     ]
    },
    {
     "name": "stderr",
     "output_type": "stream",
     "text": [
      "/opt/anaconda3/lib/python3.8/site-packages/statsmodels/regression/mixed_linear_model.py:1634: UserWarning: Random effects covariance is singular\n",
      "  warnings.warn(msg)\n"
     ]
    },
    {
     "name": "stdout",
     "output_type": "stream",
     "text": [
      "app_Pav: \tbeta: -0.03,\tCI: [-0.06,-0.01],\tpvalue: 0.0172\n",
      "H6) rew_se: \tbeta: 0.01,\tCI: [-0.03,0.05],\tpvalue: 0.7204\n",
      "loss LRgroup: \tbeta: 0.55,\tCI: [0.19,0.91],\tpvalue: 0.0027\n",
      "loss_LR: \tbeta: 0.02,\tCI: [0.01,0.03],\tpvalue: 0.0005\n",
      "av_Pav_slope12:group: \tbeta: 0.14,\tCI: [0.02,0.25],\tpvalue: 0.0236\n",
      "stratification, exclusion and missing data covariates\n",
      "H1) group: \tbeta: -0.08,\tCI: [-0.2,0.03],\tpvalue: 0.1589\n",
      "group: \tbeta: -0.03,\tCI: [-0.16,0.1],\tpvalue: 0.6543\n",
      "group: \tbeta: -0.05,\tCI: [-0.14,0.04],\tpvalue: 0.3208\n",
      "group: \tbeta: -0.05,\tCI: [-0.34,0.23],\tpvalue: 0.7152\n",
      "H2) av_Pav: \tbeta: -0.01,\tCI: [-0.03,0.01],\tpvalue: 0.3193\n",
      "H5) app_Pav: \tbeta: -0.03,\tCI: [-0.05,-0.01],\tpvalue: 0.0132\n",
      "H6) rew_se: \tbeta: 0.01,\tCI: [-0.03,0.05],\tpvalue: 0.7383\n",
      "loss LRgroup: \tbeta: 0.58,\tCI: [0.22,0.94],\tpvalue: 0.0018\n",
      "loss_LR: \tbeta: 0.02,\tCI: [0.0,0.03],\tpvalue: 0.0038\n",
      "av_Pav_slope12:group: \tbeta: 0.14,\tCI: [0.02,0.26],\tpvalue: 0.0237\n"
     ]
    }
   ],
   "source": [
    "# including different covariates:\n",
    "set_of_covariates = ['', stratification_covariates, stratification_covariates+exclusion_covariates+missing_covariates]\n",
    "set_of_cov_label = ['no covariates', 'only stratification covariates', 'stratification, exclusion and missing data covariates']\n",
    "for i,c in enumerate(set_of_covariates):\n",
    "    print(set_of_cov_label[i])\n",
    "    print('H1) ', end='')\n",
    "    for i in range(2):\n",
    "        tmp = mle_df[timing[i]]\n",
    "        pstats.mle('av_Pav ~ group + time' + c, tmp, ['group'],[])\n",
    "    pstats.mle('av_Pav ~ group + time'+ c, mle_df[timing[2]], ['group'],[])\n",
    "    pstats.mle('av_Pav ~ group * time'+ c, mle_df[timing[2]], ['group'],[])\n",
    "    print('H2) ', end='')\n",
    "    pstats.mle('gadlog ~ av_Pav + group + time' + c, tmp, ['av_Pav'], 'av_Pav')\n",
    "    print('H5) ', end='')\n",
    "    pstats.mle('phqlog ~ app_Pav + group + time' + c, tmp, ['app_Pav'], 'app_Pav')\n",
    "    print('H6) ', end='')\n",
    "    pstats.mle('anhedonia ~ rew_se + group + time' + c, tmp, ['rew_se'], 'rew_se')\n",
    "    print('loss LR ', end='')\n",
    "    pstats.mle('loss_LR ~ group + time' + c, \\\n",
    "               mle_df[((mle_df['time']==1)|(mle_df['time']==2))&(mle_df['exclusiontot']==0)], ['group'],[])\n",
    "    pstats.mle('gadlog ~ loss_LR + group + time' + c, \\\n",
    "                            mle_df[mle_df['exclusiontot']==0], ['loss_LR'], 'loss_LR')\n",
    "    pstats.glm('bdi4log ~ av_Pav_slope12 * group + bdi1log' + c, \\\n",
    "                        df_panda[(df_panda['exclusiontot1']==0)&(df_panda['exclusiontot2']==0)], ['av_Pav_slope12:group'])\n"
   ]
  },
  {
   "cell_type": "code",
   "execution_count": 89,
   "metadata": {},
   "outputs": [
    {
     "name": "stdout",
     "output_type": "stream",
     "text": [
      "group: \tbeta: 0.32,\tCI: [0.03,0.61],\tpvalue: 0.0294\n",
      "loss_LR: \tbeta: 0.01,\tCI: [0.0,0.02],\tpvalue: 0.0158\n",
      "group: \tbeta: 0.33,\tCI: [-0.04,0.7],\tpvalue: 0.0807\n",
      "group: \tbeta: -0.35,\tCI: [-0.75,0.05],\tpvalue: 0.0826\n",
      "av_Pav_slope12: \tbeta: 0.05,\tCI: [0.0,0.09],\tpvalue: 0.03\n",
      "av_Pav_slope12:group: \tbeta: 0.07,\tCI: [-0.02,0.15],\tpvalue: 0.1147\n"
     ]
    },
    {
     "data": {
      "text/plain": [
       "<statsmodels.genmod.generalized_linear_model.GLMResultsWrapper at 0x7fcb907b1b80>"
      ]
     },
     "execution_count": 89,
     "metadata": {},
     "output_type": "execute_result"
    }
   ],
   "source": [
    "# stats for whole sample\n",
    "timing = []\n",
    "pstats.mle('loss_LR ~ group + time' + stratification_covariates, \\\n",
    "           mle_df[((mle_df['time']==1)|(mle_df['time']==2))], ['group'],[])\n",
    "pstats.mle('gadlog ~ loss_LR + group + time' + stratification_covariates, \\\n",
    "           mle_df, ['loss_LR'], ['loss_LR'])\n",
    "pstats.glm('loss_LR_slope12 ~ group' + stratification_covariates, df_panda, ['group'])\n",
    "pstats.glm('loss_LR_slope23 ~ loss_LR1 + group' + stratification_covariates, df_panda, ['group'])\n",
    "pstats.glm('bdi4log ~ av_Pav_slope12 + group + bdi1log' + stratification_covariates, \\\n",
    "           df_panda, ['av_Pav_slope12'])\n",
    "pstats.glm('bdi4log ~ av_Pav_slope12 * group + bdi1log' + stratification_covariates, \\\n",
    "           df_panda, ['av_Pav_slope12:group'])\n"
   ]
  }
 ],
 "metadata": {
  "kernelspec": {
   "display_name": "Python 3",
   "language": "python",
   "name": "python3"
  },
  "language_info": {
   "codemirror_mode": {
    "name": "ipython",
    "version": 3
   },
   "file_extension": ".py",
   "mimetype": "text/x-python",
   "name": "python",
   "nbconvert_exporter": "python",
   "pygments_lexer": "ipython3",
   "version": "3.8.5"
  }
 },
 "nbformat": 4,
 "nbformat_minor": 4
}
